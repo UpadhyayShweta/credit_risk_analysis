{
  "cells": [
    {
      "cell_type": "code",
      "execution_count": 53,
      "id": "91fecf11",
      "metadata": {
        "id": "91fecf11"
      },
      "outputs": [],
      "source": [
        "#import the basic libraries\n",
        "import numpy as np\n",
        "import pandas as pd\n",
        "import pickle\n",
        "\n",
        "from sklearn.model_selection import RandomizedSearchCV\n",
        "from sklearn.linear_model import LogisticRegression\n",
        "from sklearn.linear_model import LinearRegression\n",
        "from sklearn.ensemble import RandomForestClassifier\n",
        "from sklearn.tree import DecisionTreeClassifier\n",
        "from sklearn.ensemble import GradientBoostingClassifier\n",
        "from sklearn.model_selection import train_test_split\n",
        "from sklearn import metrics\n",
        "\n",
        "import matplotlib.pyplot as plt\n",
        "import seaborn as sns\n",
        "\n",
        "#import warning\n",
        "import warnings\n",
        "warnings.filterwarnings('ignore')\n",
        "\n"
      ]
    },
    {
      "cell_type": "code",
      "execution_count": 2,
      "id": "d5092023",
      "metadata": {
        "id": "d5092023"
      },
      "outputs": [],
      "source": [
        "pd.options.display.max_rows= None"
      ]
    },
    {
      "cell_type": "code",
      "execution_count": 3,
      "id": "Nt8dvwqQ7o_E",
      "metadata": {
        "colab": {
          "base_uri": "https://localhost:8080/"
        },
        "id": "Nt8dvwqQ7o_E",
        "outputId": "1d82f2c6-8a70-40c6-f36e-8688f41cacfc"
      },
      "outputs": [
        {
          "output_type": "stream",
          "name": "stdout",
          "text": [
            "Mounted at /content/drive/\n"
          ]
        }
      ],
      "source": [
        "from google.colab import drive\n",
        "\n",
        "drive.mount('/content/drive/')"
      ]
    },
    {
      "cell_type": "code",
      "execution_count": 4,
      "id": "FuRqUC0P7y36",
      "metadata": {
        "id": "FuRqUC0P7y36"
      },
      "outputs": [],
      "source": [
        "#load all the datasets we have created previously\n",
        "\n",
        "load_data_inputs_train= pd.read_csv('/content/drive/MyDrive/credit_risk_analysis/Data/loan_data_inputs_train.csv', index_col= 0)\n",
        "load_data_targets_train= pd.read_csv('/content/drive/MyDrive/credit_risk_analysis/Data/loan_data_targets_train.csv',index_col= 0)\n",
        "load_data_inputs_test= pd.read_csv('/content/drive/MyDrive/credit_risk_analysis/Data/loan_data_inputs_test.csv', index_col= 0)\n",
        "load_data_targets_test= pd.read_csv('/content/drive/MyDrive/credit_risk_analysis/Data/loan_data_targets_test.csv', index_col= 0)\n"
      ]
    },
    {
      "cell_type": "code",
      "execution_count": 5,
      "id": "vl1dgag17-JG",
      "metadata": {
        "colab": {
          "base_uri": "https://localhost:8080/",
          "height": 206
        },
        "id": "vl1dgag17-JG",
        "outputId": "957b624f-cd1c-4e04-a20a-89cb2b8109bb"
      },
      "outputs": [
        {
          "output_type": "execute_result",
          "data": {
            "text/plain": [
              "        good_bad\n",
              "403678         1\n",
              "241492         1\n",
              "15864          0\n",
              "320277         1\n",
              "299829         1"
            ],
            "text/html": [
              "\n",
              "  <div id=\"df-aec4008d-cd8a-4baa-bd48-e8def2cc039d\" class=\"colab-df-container\">\n",
              "    <div>\n",
              "<style scoped>\n",
              "    .dataframe tbody tr th:only-of-type {\n",
              "        vertical-align: middle;\n",
              "    }\n",
              "\n",
              "    .dataframe tbody tr th {\n",
              "        vertical-align: top;\n",
              "    }\n",
              "\n",
              "    .dataframe thead th {\n",
              "        text-align: right;\n",
              "    }\n",
              "</style>\n",
              "<table border=\"1\" class=\"dataframe\">\n",
              "  <thead>\n",
              "    <tr style=\"text-align: right;\">\n",
              "      <th></th>\n",
              "      <th>good_bad</th>\n",
              "    </tr>\n",
              "  </thead>\n",
              "  <tbody>\n",
              "    <tr>\n",
              "      <th>403678</th>\n",
              "      <td>1</td>\n",
              "    </tr>\n",
              "    <tr>\n",
              "      <th>241492</th>\n",
              "      <td>1</td>\n",
              "    </tr>\n",
              "    <tr>\n",
              "      <th>15864</th>\n",
              "      <td>0</td>\n",
              "    </tr>\n",
              "    <tr>\n",
              "      <th>320277</th>\n",
              "      <td>1</td>\n",
              "    </tr>\n",
              "    <tr>\n",
              "      <th>299829</th>\n",
              "      <td>1</td>\n",
              "    </tr>\n",
              "  </tbody>\n",
              "</table>\n",
              "</div>\n",
              "    <div class=\"colab-df-buttons\">\n",
              "\n",
              "  <div class=\"colab-df-container\">\n",
              "    <button class=\"colab-df-convert\" onclick=\"convertToInteractive('df-aec4008d-cd8a-4baa-bd48-e8def2cc039d')\"\n",
              "            title=\"Convert this dataframe to an interactive table.\"\n",
              "            style=\"display:none;\">\n",
              "\n",
              "  <svg xmlns=\"http://www.w3.org/2000/svg\" height=\"24px\" viewBox=\"0 -960 960 960\">\n",
              "    <path d=\"M120-120v-720h720v720H120Zm60-500h600v-160H180v160Zm220 220h160v-160H400v160Zm0 220h160v-160H400v160ZM180-400h160v-160H180v160Zm440 0h160v-160H620v160ZM180-180h160v-160H180v160Zm440 0h160v-160H620v160Z\"/>\n",
              "  </svg>\n",
              "    </button>\n",
              "\n",
              "  <style>\n",
              "    .colab-df-container {\n",
              "      display:flex;\n",
              "      gap: 12px;\n",
              "    }\n",
              "\n",
              "    .colab-df-convert {\n",
              "      background-color: #E8F0FE;\n",
              "      border: none;\n",
              "      border-radius: 50%;\n",
              "      cursor: pointer;\n",
              "      display: none;\n",
              "      fill: #1967D2;\n",
              "      height: 32px;\n",
              "      padding: 0 0 0 0;\n",
              "      width: 32px;\n",
              "    }\n",
              "\n",
              "    .colab-df-convert:hover {\n",
              "      background-color: #E2EBFA;\n",
              "      box-shadow: 0px 1px 2px rgba(60, 64, 67, 0.3), 0px 1px 3px 1px rgba(60, 64, 67, 0.15);\n",
              "      fill: #174EA6;\n",
              "    }\n",
              "\n",
              "    .colab-df-buttons div {\n",
              "      margin-bottom: 4px;\n",
              "    }\n",
              "\n",
              "    [theme=dark] .colab-df-convert {\n",
              "      background-color: #3B4455;\n",
              "      fill: #D2E3FC;\n",
              "    }\n",
              "\n",
              "    [theme=dark] .colab-df-convert:hover {\n",
              "      background-color: #434B5C;\n",
              "      box-shadow: 0px 1px 3px 1px rgba(0, 0, 0, 0.15);\n",
              "      filter: drop-shadow(0px 1px 2px rgba(0, 0, 0, 0.3));\n",
              "      fill: #FFFFFF;\n",
              "    }\n",
              "  </style>\n",
              "\n",
              "    <script>\n",
              "      const buttonEl =\n",
              "        document.querySelector('#df-aec4008d-cd8a-4baa-bd48-e8def2cc039d button.colab-df-convert');\n",
              "      buttonEl.style.display =\n",
              "        google.colab.kernel.accessAllowed ? 'block' : 'none';\n",
              "\n",
              "      async function convertToInteractive(key) {\n",
              "        const element = document.querySelector('#df-aec4008d-cd8a-4baa-bd48-e8def2cc039d');\n",
              "        const dataTable =\n",
              "          await google.colab.kernel.invokeFunction('convertToInteractive',\n",
              "                                                    [key], {});\n",
              "        if (!dataTable) return;\n",
              "\n",
              "        const docLinkHtml = 'Like what you see? Visit the ' +\n",
              "          '<a target=\"_blank\" href=https://colab.research.google.com/notebooks/data_table.ipynb>data table notebook</a>'\n",
              "          + ' to learn more about interactive tables.';\n",
              "        element.innerHTML = '';\n",
              "        dataTable['output_type'] = 'display_data';\n",
              "        await google.colab.output.renderOutput(dataTable, element);\n",
              "        const docLink = document.createElement('div');\n",
              "        docLink.innerHTML = docLinkHtml;\n",
              "        element.appendChild(docLink);\n",
              "      }\n",
              "    </script>\n",
              "  </div>\n",
              "\n",
              "\n",
              "<div id=\"df-c990d2d2-16c3-489d-af36-ffca3be78c67\">\n",
              "  <button class=\"colab-df-quickchart\" onclick=\"quickchart('df-c990d2d2-16c3-489d-af36-ffca3be78c67')\"\n",
              "            title=\"Suggest charts.\"\n",
              "            style=\"display:none;\">\n",
              "\n",
              "<svg xmlns=\"http://www.w3.org/2000/svg\" height=\"24px\"viewBox=\"0 0 24 24\"\n",
              "     width=\"24px\">\n",
              "    <g>\n",
              "        <path d=\"M19 3H5c-1.1 0-2 .9-2 2v14c0 1.1.9 2 2 2h14c1.1 0 2-.9 2-2V5c0-1.1-.9-2-2-2zM9 17H7v-7h2v7zm4 0h-2V7h2v10zm4 0h-2v-4h2v4z\"/>\n",
              "    </g>\n",
              "</svg>\n",
              "  </button>\n",
              "\n",
              "<style>\n",
              "  .colab-df-quickchart {\n",
              "    background-color: #E8F0FE;\n",
              "    border: none;\n",
              "    border-radius: 50%;\n",
              "    cursor: pointer;\n",
              "    display: none;\n",
              "    fill: #1967D2;\n",
              "    height: 32px;\n",
              "    padding: 0 0 0 0;\n",
              "    width: 32px;\n",
              "  }\n",
              "\n",
              "  .colab-df-quickchart:hover {\n",
              "    background-color: #E2EBFA;\n",
              "    box-shadow: 0px 1px 2px rgba(60, 64, 67, 0.3), 0px 1px 3px 1px rgba(60, 64, 67, 0.15);\n",
              "    fill: #174EA6;\n",
              "  }\n",
              "\n",
              "  [theme=dark] .colab-df-quickchart {\n",
              "    background-color: #3B4455;\n",
              "    fill: #D2E3FC;\n",
              "  }\n",
              "\n",
              "  [theme=dark] .colab-df-quickchart:hover {\n",
              "    background-color: #434B5C;\n",
              "    box-shadow: 0px 1px 3px 1px rgba(0, 0, 0, 0.15);\n",
              "    filter: drop-shadow(0px 1px 2px rgba(0, 0, 0, 0.3));\n",
              "    fill: #FFFFFF;\n",
              "  }\n",
              "</style>\n",
              "\n",
              "  <script>\n",
              "    async function quickchart(key) {\n",
              "      const charts = await google.colab.kernel.invokeFunction(\n",
              "          'suggestCharts', [key], {});\n",
              "    }\n",
              "    (() => {\n",
              "      let quickchartButtonEl =\n",
              "        document.querySelector('#df-c990d2d2-16c3-489d-af36-ffca3be78c67 button');\n",
              "      quickchartButtonEl.style.display =\n",
              "        google.colab.kernel.accessAllowed ? 'block' : 'none';\n",
              "    })();\n",
              "  </script>\n",
              "</div>\n",
              "    </div>\n",
              "  </div>\n"
            ]
          },
          "metadata": {},
          "execution_count": 5
        }
      ],
      "source": [
        "#print the head of load_data_targets\n",
        "load_data_targets_train.head()"
      ]
    },
    {
      "cell_type": "code",
      "execution_count": 6,
      "id": "dae4e358",
      "metadata": {
        "colab": {
          "base_uri": "https://localhost:8080/",
          "height": 52
        },
        "id": "dae4e358",
        "outputId": "ad494e16-b1b0-4030-a773-c73706d85c35"
      },
      "outputs": [
        {
          "output_type": "display_data",
          "data": {
            "text/plain": [
              "(373028, 352)"
            ]
          },
          "metadata": {}
        },
        {
          "output_type": "display_data",
          "data": {
            "text/plain": [
              "(93257, 352)"
            ]
          },
          "metadata": {}
        }
      ],
      "source": [
        "#view the shape of train & test inputs dataframe\n",
        "display(load_data_inputs_train.shape)\n",
        "display(load_data_inputs_test.shape)"
      ]
    },
    {
      "cell_type": "code",
      "execution_count": 7,
      "id": "6f5d54ae",
      "metadata": {
        "id": "6f5d54ae",
        "outputId": "4298570a-f285-4957-ef24-8b382ce2d18b",
        "colab": {
          "base_uri": "https://localhost:8080/",
          "height": 52
        }
      },
      "outputs": [
        {
          "output_type": "display_data",
          "data": {
            "text/plain": [
              "(373028, 1)"
            ]
          },
          "metadata": {}
        },
        {
          "output_type": "display_data",
          "data": {
            "text/plain": [
              "(93257, 1)"
            ]
          },
          "metadata": {}
        }
      ],
      "source": [
        "#view the shape of train & test targets dataframe\n",
        "display(load_data_targets_train.shape)\n",
        "display(load_data_targets_test.shape)"
      ]
    },
    {
      "cell_type": "code",
      "execution_count": 8,
      "id": "c1a35b69",
      "metadata": {
        "id": "c1a35b69"
      },
      "outputs": [],
      "source": [
        "#create a new column outcome(0 or 1) in load_data_inputs_train\n",
        "load_data_inputs_train['outcome'] = load_data_targets_train"
      ]
    },
    {
      "cell_type": "code",
      "execution_count": 9,
      "id": "c0f49ca5",
      "metadata": {
        "colab": {
          "base_uri": "https://localhost:8080/"
        },
        "id": "c0f49ca5",
        "outputId": "4559077d-821e-47ea-d353-37ecc777df80"
      },
      "outputs": [
        {
          "output_type": "execute_result",
          "data": {
            "text/plain": [
              "1    332338\n",
              "0     40690\n",
              "Name: outcome, dtype: int64"
            ]
          },
          "metadata": {},
          "execution_count": 9
        }
      ],
      "source": [
        "#check the value_counts of outcome\n",
        "load_data_inputs_train['outcome'].value_counts()"
      ]
    },
    {
      "cell_type": "code",
      "execution_count": 10,
      "id": "796cb993",
      "metadata": {
        "id": "796cb993",
        "outputId": "c7ec0e28-5c9d-4f53-e811-daf61f5b576f",
        "colab": {
          "base_uri": "https://localhost:8080/",
          "height": 360
        }
      },
      "outputs": [
        {
          "output_type": "execute_result",
          "data": {
            "text/plain": [
              "              id  member_id  loan_amnt  funded_amnt  funded_amnt_inv  \\\n",
              "403678  14560583   16622883      24000        24000          24000.0   \n",
              "241492  34303344   36966688      30000        30000          30000.0   \n",
              "15864     737124     934233       2400         2400           2400.0   \n",
              "320277  25326009   27668971      12000        12000          12000.0   \n",
              "299829  28633305   31166460       5000         5000           5000.0   \n",
              "\n",
              "              term  int_rate  installment grade sub_grade  ... dti:30-35  \\\n",
              "403678   60 months     11.99       533.75     B        B3  ...         0   \n",
              "241492   60 months     12.39       673.27     C        C1  ...         0   \n",
              "15864    36 months     13.49        81.44     C        C2  ...         0   \n",
              "320277   36 months     13.98       410.02     C        C3  ...         0   \n",
              "299829   36 months     11.67       165.29     B        B4  ...         0   \n",
              "\n",
              "       dti:35-40 dti:>40  mths_since_last_record_factor  \\\n",
              "403678         0       0                            NaN   \n",
              "241492         0       0                            NaN   \n",
              "15864          0       0                            NaN   \n",
              "320277         0       0                            NaN   \n",
              "299829         0       0                 (79.98, 82.56]   \n",
              "\n",
              "       mths_since_last_record:Missing mths_since_last_record:0-3  \\\n",
              "403678                              1                          0   \n",
              "241492                              1                          0   \n",
              "15864                               1                          0   \n",
              "320277                              1                          0   \n",
              "299829                              0                          0   \n",
              "\n",
              "       mths_since_last_record:3-85 mths_since_last_record:85-120  \\\n",
              "403678                           0                             0   \n",
              "241492                           0                             0   \n",
              "15864                            0                             0   \n",
              "320277                           0                             0   \n",
              "299829                           1                             0   \n",
              "\n",
              "       mths_since_last_record:>=120 outcome  \n",
              "403678                            0       1  \n",
              "241492                            0       1  \n",
              "15864                             0       0  \n",
              "320277                            0       1  \n",
              "299829                            0       1  \n",
              "\n",
              "[5 rows x 353 columns]"
            ],
            "text/html": [
              "\n",
              "  <div id=\"df-0f56a370-5321-4fdb-9303-c4b07d01c20a\" class=\"colab-df-container\">\n",
              "    <div>\n",
              "<style scoped>\n",
              "    .dataframe tbody tr th:only-of-type {\n",
              "        vertical-align: middle;\n",
              "    }\n",
              "\n",
              "    .dataframe tbody tr th {\n",
              "        vertical-align: top;\n",
              "    }\n",
              "\n",
              "    .dataframe thead th {\n",
              "        text-align: right;\n",
              "    }\n",
              "</style>\n",
              "<table border=\"1\" class=\"dataframe\">\n",
              "  <thead>\n",
              "    <tr style=\"text-align: right;\">\n",
              "      <th></th>\n",
              "      <th>id</th>\n",
              "      <th>member_id</th>\n",
              "      <th>loan_amnt</th>\n",
              "      <th>funded_amnt</th>\n",
              "      <th>funded_amnt_inv</th>\n",
              "      <th>term</th>\n",
              "      <th>int_rate</th>\n",
              "      <th>installment</th>\n",
              "      <th>grade</th>\n",
              "      <th>sub_grade</th>\n",
              "      <th>...</th>\n",
              "      <th>dti:30-35</th>\n",
              "      <th>dti:35-40</th>\n",
              "      <th>dti:&gt;40</th>\n",
              "      <th>mths_since_last_record_factor</th>\n",
              "      <th>mths_since_last_record:Missing</th>\n",
              "      <th>mths_since_last_record:0-3</th>\n",
              "      <th>mths_since_last_record:3-85</th>\n",
              "      <th>mths_since_last_record:85-120</th>\n",
              "      <th>mths_since_last_record:&gt;=120</th>\n",
              "      <th>outcome</th>\n",
              "    </tr>\n",
              "  </thead>\n",
              "  <tbody>\n",
              "    <tr>\n",
              "      <th>403678</th>\n",
              "      <td>14560583</td>\n",
              "      <td>16622883</td>\n",
              "      <td>24000</td>\n",
              "      <td>24000</td>\n",
              "      <td>24000.0</td>\n",
              "      <td>60 months</td>\n",
              "      <td>11.99</td>\n",
              "      <td>533.75</td>\n",
              "      <td>B</td>\n",
              "      <td>B3</td>\n",
              "      <td>...</td>\n",
              "      <td>0</td>\n",
              "      <td>0</td>\n",
              "      <td>0</td>\n",
              "      <td>NaN</td>\n",
              "      <td>1</td>\n",
              "      <td>0</td>\n",
              "      <td>0</td>\n",
              "      <td>0</td>\n",
              "      <td>0</td>\n",
              "      <td>1</td>\n",
              "    </tr>\n",
              "    <tr>\n",
              "      <th>241492</th>\n",
              "      <td>34303344</td>\n",
              "      <td>36966688</td>\n",
              "      <td>30000</td>\n",
              "      <td>30000</td>\n",
              "      <td>30000.0</td>\n",
              "      <td>60 months</td>\n",
              "      <td>12.39</td>\n",
              "      <td>673.27</td>\n",
              "      <td>C</td>\n",
              "      <td>C1</td>\n",
              "      <td>...</td>\n",
              "      <td>0</td>\n",
              "      <td>0</td>\n",
              "      <td>0</td>\n",
              "      <td>NaN</td>\n",
              "      <td>1</td>\n",
              "      <td>0</td>\n",
              "      <td>0</td>\n",
              "      <td>0</td>\n",
              "      <td>0</td>\n",
              "      <td>1</td>\n",
              "    </tr>\n",
              "    <tr>\n",
              "      <th>15864</th>\n",
              "      <td>737124</td>\n",
              "      <td>934233</td>\n",
              "      <td>2400</td>\n",
              "      <td>2400</td>\n",
              "      <td>2400.0</td>\n",
              "      <td>36 months</td>\n",
              "      <td>13.49</td>\n",
              "      <td>81.44</td>\n",
              "      <td>C</td>\n",
              "      <td>C2</td>\n",
              "      <td>...</td>\n",
              "      <td>0</td>\n",
              "      <td>0</td>\n",
              "      <td>0</td>\n",
              "      <td>NaN</td>\n",
              "      <td>1</td>\n",
              "      <td>0</td>\n",
              "      <td>0</td>\n",
              "      <td>0</td>\n",
              "      <td>0</td>\n",
              "      <td>0</td>\n",
              "    </tr>\n",
              "    <tr>\n",
              "      <th>320277</th>\n",
              "      <td>25326009</td>\n",
              "      <td>27668971</td>\n",
              "      <td>12000</td>\n",
              "      <td>12000</td>\n",
              "      <td>12000.0</td>\n",
              "      <td>36 months</td>\n",
              "      <td>13.98</td>\n",
              "      <td>410.02</td>\n",
              "      <td>C</td>\n",
              "      <td>C3</td>\n",
              "      <td>...</td>\n",
              "      <td>0</td>\n",
              "      <td>0</td>\n",
              "      <td>0</td>\n",
              "      <td>NaN</td>\n",
              "      <td>1</td>\n",
              "      <td>0</td>\n",
              "      <td>0</td>\n",
              "      <td>0</td>\n",
              "      <td>0</td>\n",
              "      <td>1</td>\n",
              "    </tr>\n",
              "    <tr>\n",
              "      <th>299829</th>\n",
              "      <td>28633305</td>\n",
              "      <td>31166460</td>\n",
              "      <td>5000</td>\n",
              "      <td>5000</td>\n",
              "      <td>5000.0</td>\n",
              "      <td>36 months</td>\n",
              "      <td>11.67</td>\n",
              "      <td>165.29</td>\n",
              "      <td>B</td>\n",
              "      <td>B4</td>\n",
              "      <td>...</td>\n",
              "      <td>0</td>\n",
              "      <td>0</td>\n",
              "      <td>0</td>\n",
              "      <td>(79.98, 82.56]</td>\n",
              "      <td>0</td>\n",
              "      <td>0</td>\n",
              "      <td>1</td>\n",
              "      <td>0</td>\n",
              "      <td>0</td>\n",
              "      <td>1</td>\n",
              "    </tr>\n",
              "  </tbody>\n",
              "</table>\n",
              "<p>5 rows × 353 columns</p>\n",
              "</div>\n",
              "    <div class=\"colab-df-buttons\">\n",
              "\n",
              "  <div class=\"colab-df-container\">\n",
              "    <button class=\"colab-df-convert\" onclick=\"convertToInteractive('df-0f56a370-5321-4fdb-9303-c4b07d01c20a')\"\n",
              "            title=\"Convert this dataframe to an interactive table.\"\n",
              "            style=\"display:none;\">\n",
              "\n",
              "  <svg xmlns=\"http://www.w3.org/2000/svg\" height=\"24px\" viewBox=\"0 -960 960 960\">\n",
              "    <path d=\"M120-120v-720h720v720H120Zm60-500h600v-160H180v160Zm220 220h160v-160H400v160Zm0 220h160v-160H400v160ZM180-400h160v-160H180v160Zm440 0h160v-160H620v160ZM180-180h160v-160H180v160Zm440 0h160v-160H620v160Z\"/>\n",
              "  </svg>\n",
              "    </button>\n",
              "\n",
              "  <style>\n",
              "    .colab-df-container {\n",
              "      display:flex;\n",
              "      gap: 12px;\n",
              "    }\n",
              "\n",
              "    .colab-df-convert {\n",
              "      background-color: #E8F0FE;\n",
              "      border: none;\n",
              "      border-radius: 50%;\n",
              "      cursor: pointer;\n",
              "      display: none;\n",
              "      fill: #1967D2;\n",
              "      height: 32px;\n",
              "      padding: 0 0 0 0;\n",
              "      width: 32px;\n",
              "    }\n",
              "\n",
              "    .colab-df-convert:hover {\n",
              "      background-color: #E2EBFA;\n",
              "      box-shadow: 0px 1px 2px rgba(60, 64, 67, 0.3), 0px 1px 3px 1px rgba(60, 64, 67, 0.15);\n",
              "      fill: #174EA6;\n",
              "    }\n",
              "\n",
              "    .colab-df-buttons div {\n",
              "      margin-bottom: 4px;\n",
              "    }\n",
              "\n",
              "    [theme=dark] .colab-df-convert {\n",
              "      background-color: #3B4455;\n",
              "      fill: #D2E3FC;\n",
              "    }\n",
              "\n",
              "    [theme=dark] .colab-df-convert:hover {\n",
              "      background-color: #434B5C;\n",
              "      box-shadow: 0px 1px 3px 1px rgba(0, 0, 0, 0.15);\n",
              "      filter: drop-shadow(0px 1px 2px rgba(0, 0, 0, 0.3));\n",
              "      fill: #FFFFFF;\n",
              "    }\n",
              "  </style>\n",
              "\n",
              "    <script>\n",
              "      const buttonEl =\n",
              "        document.querySelector('#df-0f56a370-5321-4fdb-9303-c4b07d01c20a button.colab-df-convert');\n",
              "      buttonEl.style.display =\n",
              "        google.colab.kernel.accessAllowed ? 'block' : 'none';\n",
              "\n",
              "      async function convertToInteractive(key) {\n",
              "        const element = document.querySelector('#df-0f56a370-5321-4fdb-9303-c4b07d01c20a');\n",
              "        const dataTable =\n",
              "          await google.colab.kernel.invokeFunction('convertToInteractive',\n",
              "                                                    [key], {});\n",
              "        if (!dataTable) return;\n",
              "\n",
              "        const docLinkHtml = 'Like what you see? Visit the ' +\n",
              "          '<a target=\"_blank\" href=https://colab.research.google.com/notebooks/data_table.ipynb>data table notebook</a>'\n",
              "          + ' to learn more about interactive tables.';\n",
              "        element.innerHTML = '';\n",
              "        dataTable['output_type'] = 'display_data';\n",
              "        await google.colab.output.renderOutput(dataTable, element);\n",
              "        const docLink = document.createElement('div');\n",
              "        docLink.innerHTML = docLinkHtml;\n",
              "        element.appendChild(docLink);\n",
              "      }\n",
              "    </script>\n",
              "  </div>\n",
              "\n",
              "\n",
              "<div id=\"df-437ffcf8-e852-4511-a8a0-508bdfd8b02d\">\n",
              "  <button class=\"colab-df-quickchart\" onclick=\"quickchart('df-437ffcf8-e852-4511-a8a0-508bdfd8b02d')\"\n",
              "            title=\"Suggest charts.\"\n",
              "            style=\"display:none;\">\n",
              "\n",
              "<svg xmlns=\"http://www.w3.org/2000/svg\" height=\"24px\"viewBox=\"0 0 24 24\"\n",
              "     width=\"24px\">\n",
              "    <g>\n",
              "        <path d=\"M19 3H5c-1.1 0-2 .9-2 2v14c0 1.1.9 2 2 2h14c1.1 0 2-.9 2-2V5c0-1.1-.9-2-2-2zM9 17H7v-7h2v7zm4 0h-2V7h2v10zm4 0h-2v-4h2v4z\"/>\n",
              "    </g>\n",
              "</svg>\n",
              "  </button>\n",
              "\n",
              "<style>\n",
              "  .colab-df-quickchart {\n",
              "    background-color: #E8F0FE;\n",
              "    border: none;\n",
              "    border-radius: 50%;\n",
              "    cursor: pointer;\n",
              "    display: none;\n",
              "    fill: #1967D2;\n",
              "    height: 32px;\n",
              "    padding: 0 0 0 0;\n",
              "    width: 32px;\n",
              "  }\n",
              "\n",
              "  .colab-df-quickchart:hover {\n",
              "    background-color: #E2EBFA;\n",
              "    box-shadow: 0px 1px 2px rgba(60, 64, 67, 0.3), 0px 1px 3px 1px rgba(60, 64, 67, 0.15);\n",
              "    fill: #174EA6;\n",
              "  }\n",
              "\n",
              "  [theme=dark] .colab-df-quickchart {\n",
              "    background-color: #3B4455;\n",
              "    fill: #D2E3FC;\n",
              "  }\n",
              "\n",
              "  [theme=dark] .colab-df-quickchart:hover {\n",
              "    background-color: #434B5C;\n",
              "    box-shadow: 0px 1px 3px 1px rgba(0, 0, 0, 0.15);\n",
              "    filter: drop-shadow(0px 1px 2px rgba(0, 0, 0, 0.3));\n",
              "    fill: #FFFFFF;\n",
              "  }\n",
              "</style>\n",
              "\n",
              "  <script>\n",
              "    async function quickchart(key) {\n",
              "      const charts = await google.colab.kernel.invokeFunction(\n",
              "          'suggestCharts', [key], {});\n",
              "    }\n",
              "    (() => {\n",
              "      let quickchartButtonEl =\n",
              "        document.querySelector('#df-437ffcf8-e852-4511-a8a0-508bdfd8b02d button');\n",
              "      quickchartButtonEl.style.display =\n",
              "        google.colab.kernel.accessAllowed ? 'block' : 'none';\n",
              "    })();\n",
              "  </script>\n",
              "</div>\n",
              "    </div>\n",
              "  </div>\n"
            ]
          },
          "metadata": {},
          "execution_count": 10
        }
      ],
      "source": [
        "#check the head of load_data_inputs_train\n",
        "load_data_inputs_train.head()"
      ]
    },
    {
      "cell_type": "code",
      "execution_count": 11,
      "id": "d2834da9",
      "metadata": {
        "id": "d2834da9"
      },
      "outputs": [],
      "source": [
        "#getting only the default cases where outcome = 0\n",
        "loan_data_defaults = load_data_inputs_train[load_data_inputs_train['outcome'] == 0]                                                                             #taking only defaults"
      ]
    },
    {
      "cell_type": "code",
      "execution_count": 12,
      "id": "2b7cb80f",
      "metadata": {
        "id": "2b7cb80f",
        "outputId": "d5a71ba8-adae-4376-ea01-c9201e38cfbc",
        "colab": {
          "base_uri": "https://localhost:8080/",
          "height": 360
        }
      },
      "outputs": [
        {
          "output_type": "execute_result",
          "data": {
            "text/plain": [
              "              id  member_id  loan_amnt  funded_amnt  funded_amnt_inv  \\\n",
              "15864     737124     934233       2400         2400           2400.0   \n",
              "349448  20682361   22954753      12000        12000          12000.0   \n",
              "282491  30735926   33289102       9675         9675           9675.0   \n",
              "28769     533057     689005      10000        10000          10000.0   \n",
              "435506  12456691   14468816      11200        11200          11200.0   \n",
              "\n",
              "              term  int_rate  installment grade sub_grade  ... dti:30-35  \\\n",
              "15864    36 months     13.49        81.44     C        C2  ...         0   \n",
              "349448   60 months     25.57       356.24     F        F5  ...         0   \n",
              "282491   36 months     20.99       364.46     E        E4  ...         0   \n",
              "28769    60 months     11.49       219.88     B        B4  ...         0   \n",
              "435506   36 months     14.16       383.67     C        C2  ...         0   \n",
              "\n",
              "       dti:35-40 dti:>40  mths_since_last_record_factor  \\\n",
              "15864          0       0                            NaN   \n",
              "349448         0       0                            NaN   \n",
              "282491         0       0                            NaN   \n",
              "28769          0       0                            NaN   \n",
              "435506         0       0                            NaN   \n",
              "\n",
              "       mths_since_last_record:Missing mths_since_last_record:0-3  \\\n",
              "15864                               1                          0   \n",
              "349448                              1                          0   \n",
              "282491                              1                          0   \n",
              "28769                               1                          0   \n",
              "435506                              1                          0   \n",
              "\n",
              "       mths_since_last_record:3-85 mths_since_last_record:85-120  \\\n",
              "15864                            0                             0   \n",
              "349448                           0                             0   \n",
              "282491                           0                             0   \n",
              "28769                            0                             0   \n",
              "435506                           0                             0   \n",
              "\n",
              "       mths_since_last_record:>=120 outcome  \n",
              "15864                             0       0  \n",
              "349448                            0       0  \n",
              "282491                            0       0  \n",
              "28769                             0       0  \n",
              "435506                            0       0  \n",
              "\n",
              "[5 rows x 353 columns]"
            ],
            "text/html": [
              "\n",
              "  <div id=\"df-11807b2f-7c51-460d-acfd-c6e3741c5c06\" class=\"colab-df-container\">\n",
              "    <div>\n",
              "<style scoped>\n",
              "    .dataframe tbody tr th:only-of-type {\n",
              "        vertical-align: middle;\n",
              "    }\n",
              "\n",
              "    .dataframe tbody tr th {\n",
              "        vertical-align: top;\n",
              "    }\n",
              "\n",
              "    .dataframe thead th {\n",
              "        text-align: right;\n",
              "    }\n",
              "</style>\n",
              "<table border=\"1\" class=\"dataframe\">\n",
              "  <thead>\n",
              "    <tr style=\"text-align: right;\">\n",
              "      <th></th>\n",
              "      <th>id</th>\n",
              "      <th>member_id</th>\n",
              "      <th>loan_amnt</th>\n",
              "      <th>funded_amnt</th>\n",
              "      <th>funded_amnt_inv</th>\n",
              "      <th>term</th>\n",
              "      <th>int_rate</th>\n",
              "      <th>installment</th>\n",
              "      <th>grade</th>\n",
              "      <th>sub_grade</th>\n",
              "      <th>...</th>\n",
              "      <th>dti:30-35</th>\n",
              "      <th>dti:35-40</th>\n",
              "      <th>dti:&gt;40</th>\n",
              "      <th>mths_since_last_record_factor</th>\n",
              "      <th>mths_since_last_record:Missing</th>\n",
              "      <th>mths_since_last_record:0-3</th>\n",
              "      <th>mths_since_last_record:3-85</th>\n",
              "      <th>mths_since_last_record:85-120</th>\n",
              "      <th>mths_since_last_record:&gt;=120</th>\n",
              "      <th>outcome</th>\n",
              "    </tr>\n",
              "  </thead>\n",
              "  <tbody>\n",
              "    <tr>\n",
              "      <th>15864</th>\n",
              "      <td>737124</td>\n",
              "      <td>934233</td>\n",
              "      <td>2400</td>\n",
              "      <td>2400</td>\n",
              "      <td>2400.0</td>\n",
              "      <td>36 months</td>\n",
              "      <td>13.49</td>\n",
              "      <td>81.44</td>\n",
              "      <td>C</td>\n",
              "      <td>C2</td>\n",
              "      <td>...</td>\n",
              "      <td>0</td>\n",
              "      <td>0</td>\n",
              "      <td>0</td>\n",
              "      <td>NaN</td>\n",
              "      <td>1</td>\n",
              "      <td>0</td>\n",
              "      <td>0</td>\n",
              "      <td>0</td>\n",
              "      <td>0</td>\n",
              "      <td>0</td>\n",
              "    </tr>\n",
              "    <tr>\n",
              "      <th>349448</th>\n",
              "      <td>20682361</td>\n",
              "      <td>22954753</td>\n",
              "      <td>12000</td>\n",
              "      <td>12000</td>\n",
              "      <td>12000.0</td>\n",
              "      <td>60 months</td>\n",
              "      <td>25.57</td>\n",
              "      <td>356.24</td>\n",
              "      <td>F</td>\n",
              "      <td>F5</td>\n",
              "      <td>...</td>\n",
              "      <td>0</td>\n",
              "      <td>0</td>\n",
              "      <td>0</td>\n",
              "      <td>NaN</td>\n",
              "      <td>1</td>\n",
              "      <td>0</td>\n",
              "      <td>0</td>\n",
              "      <td>0</td>\n",
              "      <td>0</td>\n",
              "      <td>0</td>\n",
              "    </tr>\n",
              "    <tr>\n",
              "      <th>282491</th>\n",
              "      <td>30735926</td>\n",
              "      <td>33289102</td>\n",
              "      <td>9675</td>\n",
              "      <td>9675</td>\n",
              "      <td>9675.0</td>\n",
              "      <td>36 months</td>\n",
              "      <td>20.99</td>\n",
              "      <td>364.46</td>\n",
              "      <td>E</td>\n",
              "      <td>E4</td>\n",
              "      <td>...</td>\n",
              "      <td>0</td>\n",
              "      <td>0</td>\n",
              "      <td>0</td>\n",
              "      <td>NaN</td>\n",
              "      <td>1</td>\n",
              "      <td>0</td>\n",
              "      <td>0</td>\n",
              "      <td>0</td>\n",
              "      <td>0</td>\n",
              "      <td>0</td>\n",
              "    </tr>\n",
              "    <tr>\n",
              "      <th>28769</th>\n",
              "      <td>533057</td>\n",
              "      <td>689005</td>\n",
              "      <td>10000</td>\n",
              "      <td>10000</td>\n",
              "      <td>10000.0</td>\n",
              "      <td>60 months</td>\n",
              "      <td>11.49</td>\n",
              "      <td>219.88</td>\n",
              "      <td>B</td>\n",
              "      <td>B4</td>\n",
              "      <td>...</td>\n",
              "      <td>0</td>\n",
              "      <td>0</td>\n",
              "      <td>0</td>\n",
              "      <td>NaN</td>\n",
              "      <td>1</td>\n",
              "      <td>0</td>\n",
              "      <td>0</td>\n",
              "      <td>0</td>\n",
              "      <td>0</td>\n",
              "      <td>0</td>\n",
              "    </tr>\n",
              "    <tr>\n",
              "      <th>435506</th>\n",
              "      <td>12456691</td>\n",
              "      <td>14468816</td>\n",
              "      <td>11200</td>\n",
              "      <td>11200</td>\n",
              "      <td>11200.0</td>\n",
              "      <td>36 months</td>\n",
              "      <td>14.16</td>\n",
              "      <td>383.67</td>\n",
              "      <td>C</td>\n",
              "      <td>C2</td>\n",
              "      <td>...</td>\n",
              "      <td>0</td>\n",
              "      <td>0</td>\n",
              "      <td>0</td>\n",
              "      <td>NaN</td>\n",
              "      <td>1</td>\n",
              "      <td>0</td>\n",
              "      <td>0</td>\n",
              "      <td>0</td>\n",
              "      <td>0</td>\n",
              "      <td>0</td>\n",
              "    </tr>\n",
              "  </tbody>\n",
              "</table>\n",
              "<p>5 rows × 353 columns</p>\n",
              "</div>\n",
              "    <div class=\"colab-df-buttons\">\n",
              "\n",
              "  <div class=\"colab-df-container\">\n",
              "    <button class=\"colab-df-convert\" onclick=\"convertToInteractive('df-11807b2f-7c51-460d-acfd-c6e3741c5c06')\"\n",
              "            title=\"Convert this dataframe to an interactive table.\"\n",
              "            style=\"display:none;\">\n",
              "\n",
              "  <svg xmlns=\"http://www.w3.org/2000/svg\" height=\"24px\" viewBox=\"0 -960 960 960\">\n",
              "    <path d=\"M120-120v-720h720v720H120Zm60-500h600v-160H180v160Zm220 220h160v-160H400v160Zm0 220h160v-160H400v160ZM180-400h160v-160H180v160Zm440 0h160v-160H620v160ZM180-180h160v-160H180v160Zm440 0h160v-160H620v160Z\"/>\n",
              "  </svg>\n",
              "    </button>\n",
              "\n",
              "  <style>\n",
              "    .colab-df-container {\n",
              "      display:flex;\n",
              "      gap: 12px;\n",
              "    }\n",
              "\n",
              "    .colab-df-convert {\n",
              "      background-color: #E8F0FE;\n",
              "      border: none;\n",
              "      border-radius: 50%;\n",
              "      cursor: pointer;\n",
              "      display: none;\n",
              "      fill: #1967D2;\n",
              "      height: 32px;\n",
              "      padding: 0 0 0 0;\n",
              "      width: 32px;\n",
              "    }\n",
              "\n",
              "    .colab-df-convert:hover {\n",
              "      background-color: #E2EBFA;\n",
              "      box-shadow: 0px 1px 2px rgba(60, 64, 67, 0.3), 0px 1px 3px 1px rgba(60, 64, 67, 0.15);\n",
              "      fill: #174EA6;\n",
              "    }\n",
              "\n",
              "    .colab-df-buttons div {\n",
              "      margin-bottom: 4px;\n",
              "    }\n",
              "\n",
              "    [theme=dark] .colab-df-convert {\n",
              "      background-color: #3B4455;\n",
              "      fill: #D2E3FC;\n",
              "    }\n",
              "\n",
              "    [theme=dark] .colab-df-convert:hover {\n",
              "      background-color: #434B5C;\n",
              "      box-shadow: 0px 1px 3px 1px rgba(0, 0, 0, 0.15);\n",
              "      filter: drop-shadow(0px 1px 2px rgba(0, 0, 0, 0.3));\n",
              "      fill: #FFFFFF;\n",
              "    }\n",
              "  </style>\n",
              "\n",
              "    <script>\n",
              "      const buttonEl =\n",
              "        document.querySelector('#df-11807b2f-7c51-460d-acfd-c6e3741c5c06 button.colab-df-convert');\n",
              "      buttonEl.style.display =\n",
              "        google.colab.kernel.accessAllowed ? 'block' : 'none';\n",
              "\n",
              "      async function convertToInteractive(key) {\n",
              "        const element = document.querySelector('#df-11807b2f-7c51-460d-acfd-c6e3741c5c06');\n",
              "        const dataTable =\n",
              "          await google.colab.kernel.invokeFunction('convertToInteractive',\n",
              "                                                    [key], {});\n",
              "        if (!dataTable) return;\n",
              "\n",
              "        const docLinkHtml = 'Like what you see? Visit the ' +\n",
              "          '<a target=\"_blank\" href=https://colab.research.google.com/notebooks/data_table.ipynb>data table notebook</a>'\n",
              "          + ' to learn more about interactive tables.';\n",
              "        element.innerHTML = '';\n",
              "        dataTable['output_type'] = 'display_data';\n",
              "        await google.colab.output.renderOutput(dataTable, element);\n",
              "        const docLink = document.createElement('div');\n",
              "        docLink.innerHTML = docLinkHtml;\n",
              "        element.appendChild(docLink);\n",
              "      }\n",
              "    </script>\n",
              "  </div>\n",
              "\n",
              "\n",
              "<div id=\"df-7268138c-75d6-462a-971a-4fb486a4d48c\">\n",
              "  <button class=\"colab-df-quickchart\" onclick=\"quickchart('df-7268138c-75d6-462a-971a-4fb486a4d48c')\"\n",
              "            title=\"Suggest charts.\"\n",
              "            style=\"display:none;\">\n",
              "\n",
              "<svg xmlns=\"http://www.w3.org/2000/svg\" height=\"24px\"viewBox=\"0 0 24 24\"\n",
              "     width=\"24px\">\n",
              "    <g>\n",
              "        <path d=\"M19 3H5c-1.1 0-2 .9-2 2v14c0 1.1.9 2 2 2h14c1.1 0 2-.9 2-2V5c0-1.1-.9-2-2-2zM9 17H7v-7h2v7zm4 0h-2V7h2v10zm4 0h-2v-4h2v4z\"/>\n",
              "    </g>\n",
              "</svg>\n",
              "  </button>\n",
              "\n",
              "<style>\n",
              "  .colab-df-quickchart {\n",
              "    background-color: #E8F0FE;\n",
              "    border: none;\n",
              "    border-radius: 50%;\n",
              "    cursor: pointer;\n",
              "    display: none;\n",
              "    fill: #1967D2;\n",
              "    height: 32px;\n",
              "    padding: 0 0 0 0;\n",
              "    width: 32px;\n",
              "  }\n",
              "\n",
              "  .colab-df-quickchart:hover {\n",
              "    background-color: #E2EBFA;\n",
              "    box-shadow: 0px 1px 2px rgba(60, 64, 67, 0.3), 0px 1px 3px 1px rgba(60, 64, 67, 0.15);\n",
              "    fill: #174EA6;\n",
              "  }\n",
              "\n",
              "  [theme=dark] .colab-df-quickchart {\n",
              "    background-color: #3B4455;\n",
              "    fill: #D2E3FC;\n",
              "  }\n",
              "\n",
              "  [theme=dark] .colab-df-quickchart:hover {\n",
              "    background-color: #434B5C;\n",
              "    box-shadow: 0px 1px 3px 1px rgba(0, 0, 0, 0.15);\n",
              "    filter: drop-shadow(0px 1px 2px rgba(0, 0, 0, 0.3));\n",
              "    fill: #FFFFFF;\n",
              "  }\n",
              "</style>\n",
              "\n",
              "  <script>\n",
              "    async function quickchart(key) {\n",
              "      const charts = await google.colab.kernel.invokeFunction(\n",
              "          'suggestCharts', [key], {});\n",
              "    }\n",
              "    (() => {\n",
              "      let quickchartButtonEl =\n",
              "        document.querySelector('#df-7268138c-75d6-462a-971a-4fb486a4d48c button');\n",
              "      quickchartButtonEl.style.display =\n",
              "        google.colab.kernel.accessAllowed ? 'block' : 'none';\n",
              "    })();\n",
              "  </script>\n",
              "</div>\n",
              "    </div>\n",
              "  </div>\n"
            ]
          },
          "metadata": {},
          "execution_count": 12
        }
      ],
      "source": [
        "#check the head of loan_data_defaults\n",
        "loan_data_defaults.head()"
      ]
    },
    {
      "cell_type": "code",
      "execution_count": 13,
      "id": "c100fe4c",
      "metadata": {
        "id": "c100fe4c"
      },
      "outputs": [],
      "source": [
        "#feature selection step where features created in preprocessing steps will be considered(same features we evaluated Probabilty of default model along with recoveries)\n",
        "\n",
        "feature_selection=['loan_amnt',\n",
        "                   'funded_amnt',\n",
        "                   'int_rate',\n",
        "                   'installment',\n",
        "                   'recoveries',\n",
        "                   'total_rec_prncp',\n",
        "                  'grade:A',\n",
        "                  'grade:B',\n",
        "                  'grade:C',\n",
        "                  'grade:D',\n",
        "                  'grade:E',\n",
        "                  'grade:F',\n",
        "                  'grade:G',\n",
        "                  'home_ownership:RENT_OTHER_NONE_ANY',\n",
        "                  'home_ownership:MORTGAGE',\n",
        "                  'home_ownership:OWN',\n",
        "                  'verification_status:Not Verified',\n",
        "                  'verification_status:Source Verified',\n",
        "                  'verification_status:Verified',\n",
        "                  'initial_list_status:f',\n",
        "                  'initial_list_status:w',\n",
        "                  'addr_state_NE',\n",
        "                  'addr_state_ME',\n",
        "                  'addr_state_IA',\n",
        "                  'addr_state_NV',\n",
        "                  'addr_state_HI_FL_AL',\n",
        "                  'addr_state_NY_LA_NM_OK_NC_MO_MD_NJ_VA_CA_AZ_MI_UT_TN_AR_PA_RI_OH_KY_DE_MN_SD_MA_IN_GA',\n",
        "                  'addr_state_WA_WI_OR_TX_IL_CT_MT_CO_SC',\n",
        "                  'addr_state_KS_VT_AK_MS_ID_NH_WV',\n",
        "                  'addr_state_WY',\n",
        "                  'addr_state_DC',\n",
        "                  'purpose:educ_sm_b_ren_en_mov_house_other_med',\n",
        "                  'purpose:vac_wedd_debt_home_imp_major_pur_car_cc',\n",
        "                  'term:36',\n",
        "                  'term:60',\n",
        "                  'emp_length:0',\n",
        "                  'emp_length:1',\n",
        "                  'emp_length:2-4',\n",
        "                  'emp_length:5-6',\n",
        "                  'emp_length:7-9',\n",
        "                  'emp_length:10',\n",
        "                  'mths_since_issued_date:<116',\n",
        "                  'mths_since_issued_date:116-127',\n",
        "                  'mths_since_issued_date:127-138',\n",
        "                  'mths_since_issued_date:138-150',\n",
        "                  'mths_since_issued_date:150-161',\n",
        "                  'mths_since_issued_date:161-172',\n",
        "                  'mths_since_issued_date:172-183',\n",
        "                  'mths_since_issued_date:>183',\n",
        "                  'int_rate:<9.548',\n",
        "                  'int_rate:9.548-12.85',\n",
        "                  'int_rate:12.85-15.74',\n",
        "                  'int_rate:15.74-20.281',\n",
        "                  'int_rate:20.281',\n",
        "                  'mths_since_earliest_cr_line:<140',\n",
        "                  'mths_since_earliest_cr_line:140-239',\n",
        "                  'mths_since_earliest_cr_line:240-339',\n",
        "                  'mths_since_earliest_cr_line:340-439',\n",
        "                  'mths_since_earliest_cr_line:440-539',\n",
        "                  'mths_since_earliest_cr_line:540-600',\n",
        "                  'mths_since_earliest_cr_line:>600',\n",
        "                  #'installment<963.808',\n",
        "                  #'installment>=963.808',\n",
        "                  'delinq_2yrs:0',\n",
        "                  'delinq_2yrs:0-5',\n",
        "                  'delinq_2yrs:5-7',\n",
        "                  'delinq_2yrs:7-9',\n",
        "                  'delinq_2yrs:9-11',\n",
        "                  'delinq_2yrs:11-12',\n",
        "                  'delinq_2yrs:12-18',\n",
        "                  'delinq_2yrs:>18',\n",
        "                  'inq_last_6mths:0',\n",
        "                  'inq_last_6mths:0-4',\n",
        "                  'inq_last_6mths:4-6',\n",
        "                  'inq_last_6mths:6-9',\n",
        "                  'inq_last_6mths:9-11',\n",
        "                  'inq_last_6mths:11-13',\n",
        "                  'inq_last_6mths:>13',\n",
        "                  'open_acc:=0',\n",
        "                  'open_acc:0-4',\n",
        "                  'open_acc:4-26',\n",
        "                  'open_acc:26-28',\n",
        "                  'open_acc:28-33',\n",
        "                  'open_acc:33-39',\n",
        "                  'open_acc:>39',\n",
        "                  'pub_rec:0-6',\n",
        "                  'pub_rec:6-9',\n",
        "                  'pub_rec:9-10',\n",
        "                  'pub_rec>10',\n",
        "                  'total_acc:<=0.0-3.12',\n",
        "                  'total_acc:3.12-15.6',\n",
        "                  'total_acc:15.6-49.92',\n",
        "                  'total_acc:49.92-65.52',\n",
        "                  'total_acc:65.52-81.12',\n",
        "                  'total_acc:81.12-99.84',\n",
        "                  'total_acc:>99.84',\n",
        "                  'acc_now_delinq:0-1',\n",
        "                  'acc_now_delinq:1-2',\n",
        "                  'acc_now_delinq:2-3',\n",
        "                  'acc_now_delinq:>3',\n",
        "                  'total_rev_hi_lim:<6.4k',\n",
        "                  'total_rev_hi_lim:6.4k_12.8k',\n",
        "                  'total_rev_hi_lim:12.8k_20.8k',\n",
        "                  'total_rev_hi_lim:20.8k_30.4k',\n",
        "                  'total_rev_hi_lim:30.4k_35.2k',\n",
        "                  'total_rev_hi_lim:35.2k_46.4k',\n",
        "                  'total_rev_hi_lim:46.4k_56k',\n",
        "                  'total_rev_hi_lim:56k_70.4k',\n",
        "                  'total_rev_hi_lim:70.4k_78.4k',\n",
        "                  'total_rev_hi_lim:>78.4k',\n",
        "                  'annual_inc:<8k',\n",
        "                  'annual_inc:8k-30k',\n",
        "                  'annual_inc:30k-40k',\n",
        "                  'annual_inc:40k-50k',\n",
        "                  'annual_inc:50k-60k',\n",
        "                  'annual_inc:60k-70k',\n",
        "                  'annual_inc:70k-80k',\n",
        "                  'annual_inc:80k-90k',\n",
        "                  'annual_inc:90k-100k',\n",
        "                  'annual_inc:100k-120k',\n",
        "                  'annual_inc:120k-140k',\n",
        "                  'annual_inc:>140k',\n",
        "                  'mths_since_last_delinq:Missing',\n",
        "                  'mths_since_last_delinq:0-3',\n",
        "                  'mths_since_last_delinq:3-80',\n",
        "                  'mths_since_last_delinq:80-90',\n",
        "                  'mths_since_last_delinq:90-105',\n",
        "                  'mths_since_last_delinq:105-116',\n",
        "                  'mths_since_last_delinq:>=116',\n",
        "                  'dti:<2',\n",
        "                  'dti:2-4',\n",
        "                  'dti:4-10',\n",
        "                  'dti:10-15',\n",
        "                  'dti:15-20',\n",
        "                  'dti:20-25',\n",
        "                  'dti:25-30',\n",
        "                  'dti:30-35',\n",
        "                  'dti:35-40',\n",
        "                  'dti:>40',\n",
        "                  'mths_since_last_record:Missing',\n",
        "                  'mths_since_last_record:0-3',\n",
        "                  'mths_since_last_record:3-85',\n",
        "                  'mths_since_last_record:85-120',\n",
        "                  'mths_since_last_record:>=120']\n",
        "\n"
      ]
    },
    {
      "cell_type": "code",
      "execution_count": 14,
      "id": "bcb482ca",
      "metadata": {
        "id": "bcb482ca"
      },
      "outputs": [],
      "source": [
        "#assign them into a inputs_train_with_ref_category with only those columns which are in the list(fetaure selection)\n",
        "loan_data_defaults = loan_data_defaults.reindex(feature_selection, axis='columns')"
      ]
    },
    {
      "cell_type": "code",
      "execution_count": 15,
      "id": "33f7e4e2",
      "metadata": {
        "id": "33f7e4e2",
        "outputId": "3e0b778f-f5c9-46a6-fcc4-cbcce90f48e6",
        "colab": {
          "base_uri": "https://localhost:8080/"
        }
      },
      "outputs": [
        {
          "output_type": "execute_result",
          "data": {
            "text/plain": [
              "loan_amnt                                                                                0\n",
              "funded_amnt                                                                              0\n",
              "int_rate                                                                                 0\n",
              "installment                                                                              0\n",
              "recoveries                                                                               0\n",
              "total_rec_prncp                                                                          0\n",
              "grade:A                                                                                  0\n",
              "grade:B                                                                                  0\n",
              "grade:C                                                                                  0\n",
              "grade:D                                                                                  0\n",
              "grade:E                                                                                  0\n",
              "grade:F                                                                                  0\n",
              "grade:G                                                                                  0\n",
              "home_ownership:RENT_OTHER_NONE_ANY                                                       0\n",
              "home_ownership:MORTGAGE                                                                  0\n",
              "home_ownership:OWN                                                                       0\n",
              "verification_status:Not Verified                                                         0\n",
              "verification_status:Source Verified                                                      0\n",
              "verification_status:Verified                                                             0\n",
              "initial_list_status:f                                                                    0\n",
              "initial_list_status:w                                                                    0\n",
              "addr_state_NE                                                                            0\n",
              "addr_state_ME                                                                            0\n",
              "addr_state_IA                                                                            0\n",
              "addr_state_NV                                                                            0\n",
              "addr_state_HI_FL_AL                                                                      0\n",
              "addr_state_NY_LA_NM_OK_NC_MO_MD_NJ_VA_CA_AZ_MI_UT_TN_AR_PA_RI_OH_KY_DE_MN_SD_MA_IN_GA    0\n",
              "addr_state_WA_WI_OR_TX_IL_CT_MT_CO_SC                                                    0\n",
              "addr_state_KS_VT_AK_MS_ID_NH_WV                                                          0\n",
              "addr_state_WY                                                                            0\n",
              "addr_state_DC                                                                            0\n",
              "purpose:educ_sm_b_ren_en_mov_house_other_med                                             0\n",
              "purpose:vac_wedd_debt_home_imp_major_pur_car_cc                                          0\n",
              "term:36                                                                                  0\n",
              "term:60                                                                                  0\n",
              "emp_length:0                                                                             0\n",
              "emp_length:1                                                                             0\n",
              "emp_length:2-4                                                                           0\n",
              "emp_length:5-6                                                                           0\n",
              "emp_length:7-9                                                                           0\n",
              "emp_length:10                                                                            0\n",
              "mths_since_issued_date:<116                                                              0\n",
              "mths_since_issued_date:116-127                                                           0\n",
              "mths_since_issued_date:127-138                                                           0\n",
              "mths_since_issued_date:138-150                                                           0\n",
              "mths_since_issued_date:150-161                                                           0\n",
              "mths_since_issued_date:161-172                                                           0\n",
              "mths_since_issued_date:172-183                                                           0\n",
              "mths_since_issued_date:>183                                                              0\n",
              "int_rate:<9.548                                                                          0\n",
              "int_rate:9.548-12.85                                                                     0\n",
              "int_rate:12.85-15.74                                                                     0\n",
              "int_rate:15.74-20.281                                                                    0\n",
              "int_rate:20.281                                                                          0\n",
              "mths_since_earliest_cr_line:<140                                                         0\n",
              "mths_since_earliest_cr_line:140-239                                                      0\n",
              "mths_since_earliest_cr_line:240-339                                                      0\n",
              "mths_since_earliest_cr_line:340-439                                                      0\n",
              "mths_since_earliest_cr_line:440-539                                                      0\n",
              "mths_since_earliest_cr_line:540-600                                                      0\n",
              "mths_since_earliest_cr_line:>600                                                         0\n",
              "delinq_2yrs:0                                                                            0\n",
              "delinq_2yrs:0-5                                                                          0\n",
              "delinq_2yrs:5-7                                                                          0\n",
              "delinq_2yrs:7-9                                                                          0\n",
              "delinq_2yrs:9-11                                                                         0\n",
              "delinq_2yrs:11-12                                                                        0\n",
              "delinq_2yrs:12-18                                                                        0\n",
              "delinq_2yrs:>18                                                                          0\n",
              "inq_last_6mths:0                                                                         0\n",
              "inq_last_6mths:0-4                                                                       0\n",
              "inq_last_6mths:4-6                                                                       0\n",
              "inq_last_6mths:6-9                                                                       0\n",
              "inq_last_6mths:9-11                                                                      0\n",
              "inq_last_6mths:11-13                                                                     0\n",
              "inq_last_6mths:>13                                                                       0\n",
              "open_acc:=0                                                                              0\n",
              "open_acc:0-4                                                                             0\n",
              "open_acc:4-26                                                                            0\n",
              "open_acc:26-28                                                                           0\n",
              "open_acc:28-33                                                                           0\n",
              "open_acc:33-39                                                                           0\n",
              "open_acc:>39                                                                             0\n",
              "pub_rec:0-6                                                                              0\n",
              "pub_rec:6-9                                                                              0\n",
              "pub_rec:9-10                                                                             0\n",
              "pub_rec>10                                                                               0\n",
              "total_acc:<=0.0-3.12                                                                     0\n",
              "total_acc:3.12-15.6                                                                      0\n",
              "total_acc:15.6-49.92                                                                     0\n",
              "total_acc:49.92-65.52                                                                    0\n",
              "total_acc:65.52-81.12                                                                    0\n",
              "total_acc:81.12-99.84                                                                    0\n",
              "total_acc:>99.84                                                                         0\n",
              "acc_now_delinq:0-1                                                                       0\n",
              "acc_now_delinq:1-2                                                                       0\n",
              "acc_now_delinq:2-3                                                                       0\n",
              "acc_now_delinq:>3                                                                        0\n",
              "total_rev_hi_lim:<6.4k                                                                   0\n",
              "total_rev_hi_lim:6.4k_12.8k                                                              0\n",
              "total_rev_hi_lim:12.8k_20.8k                                                             0\n",
              "total_rev_hi_lim:20.8k_30.4k                                                             0\n",
              "total_rev_hi_lim:30.4k_35.2k                                                             0\n",
              "total_rev_hi_lim:35.2k_46.4k                                                             0\n",
              "total_rev_hi_lim:46.4k_56k                                                               0\n",
              "total_rev_hi_lim:56k_70.4k                                                               0\n",
              "total_rev_hi_lim:70.4k_78.4k                                                             0\n",
              "total_rev_hi_lim:>78.4k                                                                  0\n",
              "annual_inc:<8k                                                                           0\n",
              "annual_inc:8k-30k                                                                        0\n",
              "annual_inc:30k-40k                                                                       0\n",
              "annual_inc:40k-50k                                                                       0\n",
              "annual_inc:50k-60k                                                                       0\n",
              "annual_inc:60k-70k                                                                       0\n",
              "annual_inc:70k-80k                                                                       0\n",
              "annual_inc:80k-90k                                                                       0\n",
              "annual_inc:90k-100k                                                                      0\n",
              "annual_inc:100k-120k                                                                     0\n",
              "annual_inc:120k-140k                                                                     0\n",
              "annual_inc:>140k                                                                         0\n",
              "mths_since_last_delinq:Missing                                                           0\n",
              "mths_since_last_delinq:0-3                                                               0\n",
              "mths_since_last_delinq:3-80                                                              0\n",
              "mths_since_last_delinq:80-90                                                             0\n",
              "mths_since_last_delinq:90-105                                                            0\n",
              "mths_since_last_delinq:105-116                                                           0\n",
              "mths_since_last_delinq:>=116                                                             0\n",
              "dti:<2                                                                                   0\n",
              "dti:2-4                                                                                  0\n",
              "dti:4-10                                                                                 0\n",
              "dti:10-15                                                                                0\n",
              "dti:15-20                                                                                0\n",
              "dti:20-25                                                                                0\n",
              "dti:25-30                                                                                0\n",
              "dti:30-35                                                                                0\n",
              "dti:35-40                                                                                0\n",
              "dti:>40                                                                                  0\n",
              "mths_since_last_record:Missing                                                           0\n",
              "mths_since_last_record:0-3                                                               0\n",
              "mths_since_last_record:3-85                                                              0\n",
              "mths_since_last_record:85-120                                                            0\n",
              "mths_since_last_record:>=120                                                             0\n",
              "dtype: int64"
            ]
          },
          "metadata": {},
          "execution_count": 15
        }
      ],
      "source": [
        "#check for null values in every feature selected in loan_data_defaults dataset\n",
        "loan_data_defaults.isna().sum()"
      ]
    },
    {
      "cell_type": "markdown",
      "id": "PdaBg0ScL6Uy",
      "metadata": {
        "id": "PdaBg0ScL6Uy"
      },
      "source": [
        "### Recovery Rate:\n",
        "It is the recovered amount divided by the funded amount"
      ]
    },
    {
      "cell_type": "code",
      "execution_count": 16,
      "id": "d69ee3c5",
      "metadata": {
        "id": "d69ee3c5"
      },
      "outputs": [],
      "source": [
        "#evaluation of recovery_rate i.e 'recoveries'/'funded_amnt'\n",
        "loan_data_defaults['recovery_rate'] = loan_data_defaults['recoveries']/loan_data_defaults['funded_amnt']"
      ]
    },
    {
      "cell_type": "code",
      "execution_count": 17,
      "id": "421c6e48",
      "metadata": {
        "id": "421c6e48",
        "outputId": "6509e5c7-f149-48d8-b9bf-d00aec129703",
        "colab": {
          "base_uri": "https://localhost:8080/"
        }
      },
      "outputs": [
        {
          "output_type": "execute_result",
          "data": {
            "text/plain": [
              "count    40690.000000\n",
              "mean         0.051499\n",
              "std          0.085709\n",
              "min          0.000000\n",
              "25%          0.000000\n",
              "50%          0.000000\n",
              "75%          0.101377\n",
              "max          1.220774\n",
              "Name: recovery_rate, dtype: float64"
            ]
          },
          "metadata": {},
          "execution_count": 17
        }
      ],
      "source": [
        "#check the statistics of recovery_rate\n",
        "loan_data_defaults['recovery_rate'].describe()                                                                             #recovery rate has to be from 0 to 1"
      ]
    },
    {
      "cell_type": "code",
      "execution_count": 18,
      "id": "9ac9ad78",
      "metadata": {
        "id": "9ac9ad78"
      },
      "outputs": [],
      "source": [
        "#convert recovery rate in the range of 0 to 1\n",
        "loan_data_defaults['recovery_rate'] = np.where(loan_data_defaults['recovery_rate'] > 1,1,loan_data_defaults['recovery_rate'])\n",
        "loan_data_defaults['recovery_rate'] = np.where(loan_data_defaults['recovery_rate'] < 0,0,loan_data_defaults['recovery_rate'])"
      ]
    },
    {
      "cell_type": "code",
      "execution_count": 19,
      "id": "0f236f9a",
      "metadata": {
        "id": "0f236f9a",
        "outputId": "cfcc01f9-b987-4392-f278-4e22139056fd",
        "colab": {
          "base_uri": "https://localhost:8080/"
        }
      },
      "outputs": [
        {
          "output_type": "execute_result",
          "data": {
            "text/plain": [
              "count    40690.000000\n",
              "mean         0.051466\n",
              "std          0.085320\n",
              "min          0.000000\n",
              "25%          0.000000\n",
              "50%          0.000000\n",
              "75%          0.101377\n",
              "max          1.000000\n",
              "Name: recovery_rate, dtype: float64"
            ]
          },
          "metadata": {},
          "execution_count": 19
        }
      ],
      "source": [
        "#recovery rate 0 to 1\n",
        "loan_data_defaults['recovery_rate'].describe()\n"
      ]
    },
    {
      "cell_type": "markdown",
      "id": "KFMVMhGGM1a-",
      "metadata": {
        "id": "KFMVMhGGM1a-"
      },
      "source": [
        "### The credit conversion factor (CCF) converts the amount of a free credit line and other off-balance-sheet transactions (with the exception of derivatives) to an EAD (exposure at default) amount."
      ]
    },
    {
      "cell_type": "code",
      "execution_count": 20,
      "id": "4fec09b1",
      "metadata": {
        "id": "4fec09b1"
      },
      "outputs": [],
      "source": [
        "#credit conversion factor(CCF)\n",
        "loan_data_defaults['CCF'] = (loan_data_defaults['funded_amnt'] - loan_data_defaults['total_rec_prncp']) / loan_data_defaults['funded_amnt']"
      ]
    },
    {
      "cell_type": "code",
      "execution_count": 21,
      "id": "2ed64373",
      "metadata": {
        "id": "2ed64373",
        "outputId": "fb5358af-8010-4ae0-c173-8178e56221c7",
        "colab": {
          "base_uri": "https://localhost:8080/"
        }
      },
      "outputs": [
        {
          "output_type": "execute_result",
          "data": {
            "text/plain": [
              "count    40690.000000\n",
              "mean         0.718738\n",
              "std          0.204771\n",
              "min          0.000000\n",
              "25%          0.607902\n",
              "50%          0.769078\n",
              "75%          0.875763\n",
              "max          1.000000\n",
              "Name: CCF, dtype: float64"
            ]
          },
          "metadata": {},
          "execution_count": 21
        }
      ],
      "source": [
        "#CCF has to be in the range of 0 to 1\n",
        "loan_data_defaults['CCF'].describe()"
      ]
    },
    {
      "cell_type": "code",
      "execution_count": 22,
      "id": "b3a9808f",
      "metadata": {
        "id": "b3a9808f"
      },
      "outputs": [],
      "source": [
        "#set  seaborn\n",
        "sns.set()"
      ]
    },
    {
      "cell_type": "code",
      "execution_count": 23,
      "id": "75bc11f1",
      "metadata": {
        "id": "75bc11f1",
        "outputId": "10edb4d0-9f71-44e2-85ac-83e7caef8061",
        "colab": {
          "base_uri": "https://localhost:8080/",
          "height": 434
        }
      },
      "outputs": [
        {
          "output_type": "display_data",
          "data": {
            "text/plain": [
              "<Figure size 640x480 with 1 Axes>"
            ],
            "image/png": "[encoded data removed]"
          },
          "metadata": {}
        }
      ],
      "source": [
        "#plot a histogram of recovery_rate with bins=50\n",
        "plt.hist(loan_data_defaults['recovery_rate'], bins = 50)\n",
        "plt.show()"
      ]
    },
    {
      "cell_type": "markdown",
      "source": [
        "most of the records are concentrated at 0 recovery rate and only few records rae greater than 0"
      ],
      "metadata": {
        "id": "K1EIPevdTFQ8"
      },
      "id": "K1EIPevdTFQ8"
    },
    {
      "cell_type": "code",
      "execution_count": 24,
      "id": "7734f21c",
      "metadata": {
        "id": "7734f21c",
        "outputId": "1bacf35f-1406-4878-c6a0-c5445bab5779",
        "colab": {
          "base_uri": "https://localhost:8080/",
          "height": 434
        }
      },
      "outputs": [
        {
          "output_type": "display_data",
          "data": {
            "text/plain": [
              "<Figure size 640x480 with 1 Axes>"
            ],
            "image/png": "[encoded data removed]"
          },
          "metadata": {}
        }
      ],
      "source": [
        "#plot a histogram of CCF with 50 bins\n",
        "plt.hist(loan_data_defaults['CCF'], bins = 50)\n",
        "plt.show()\n"
      ]
    },
    {
      "cell_type": "code",
      "execution_count": 25,
      "id": "5130300e",
      "metadata": {
        "id": "5130300e"
      },
      "outputs": [],
      "source": [
        "#cronverting recovery_rate column into binary column recovery_rate_0_1 where if the recovery_rate is 0 then insert 0 and 1 if it is greater than 0\n",
        "loan_data_defaults['recovery_rate_0_1']  = np.where(loan_data_defaults['recovery_rate'] == 0,0,1)"
      ]
    },
    {
      "cell_type": "code",
      "execution_count": 26,
      "id": "99220aa4",
      "metadata": {
        "id": "99220aa4",
        "outputId": "9ff2ef92-b8b1-4bdb-f735-0ce2a9325eca",
        "colab": {
          "base_uri": "https://localhost:8080/"
        }
      },
      "outputs": [
        {
          "output_type": "execute_result",
          "data": {
            "text/plain": [
              "0    21329\n",
              "1    19361\n",
              "Name: recovery_rate_0_1, dtype: int64"
            ]
          },
          "metadata": {},
          "execution_count": 26
        }
      ],
      "source": [
        "#value_counts of recovery_rate_0_1\n",
        "loan_data_defaults['recovery_rate_0_1'].value_counts()"
      ]
    },
    {
      "cell_type": "markdown",
      "id": "0036c75f",
      "metadata": {
        "id": "0036c75f"
      },
      "source": [
        "# LGD_Model"
      ]
    },
    {
      "cell_type": "markdown",
      "id": "sZ1H6zADN_t7",
      "metadata": {
        "id": "sZ1H6zADN_t7"
      },
      "source": [
        "In LGD(Loss Given Default) model we will basically create 2 models for determining the recovery rate if the recovery rate is 0 or greater than 0:\n",
        "\n",
        "1.we will create a logistic regression model for determining whether the recovery rate is 0 or 1.\n",
        "\n",
        "2.For all the recovery rate greater than 0 we will create a linear regression model to determine how much greater than 0 the value of recovery rate is."
      ]
    },
    {
      "cell_type": "markdown",
      "id": "Z4Fbg_saRdNx",
      "metadata": {
        "id": "Z4Fbg_saRdNx"
      },
      "source": [
        "#### Step_1: creating a logistic regression model for determining whether the recovery rate is 0 or 1"
      ]
    },
    {
      "cell_type": "code",
      "execution_count": 27,
      "id": "89d0127a",
      "metadata": {
        "id": "89d0127a",
        "outputId": "b800583a-4419-4e59-e4a4-c38f0722f833",
        "colab": {
          "base_uri": "https://localhost:8080/"
        }
      },
      "outputs": [
        {
          "output_type": "execute_result",
          "data": {
            "text/plain": [
              "Index(['loan_amnt', 'funded_amnt', 'int_rate', 'installment', 'recoveries',\n",
              "       'total_rec_prncp', 'grade:A', 'grade:B', 'grade:C', 'grade:D',\n",
              "       ...\n",
              "       'dti:35-40', 'dti:>40', 'mths_since_last_record:Missing',\n",
              "       'mths_since_last_record:0-3', 'mths_since_last_record:3-85',\n",
              "       'mths_since_last_record:85-120', 'mths_since_last_record:>=120',\n",
              "       'recovery_rate', 'CCF', 'recovery_rate_0_1'],\n",
              "      dtype='object', length=145)"
            ]
          },
          "metadata": {},
          "execution_count": 27
        }
      ],
      "source": [
        "#check the column name of loan_data_defaults\n",
        "loan_data_defaults.columns"
      ]
    },
    {
      "cell_type": "code",
      "execution_count": 28,
      "id": "f8786dad",
      "metadata": {
        "id": "f8786dad"
      },
      "outputs": [],
      "source": [
        "#Train Test split of loan_data_defaults\n",
        "lgd_X_train,lgd_X_test,lgd_y_train,lgd_y_test = train_test_split(loan_data_defaults.drop(['recoveries','recovery_rate','recovery_rate_0_1','CCF'],axis=1),loan_data_defaults['recovery_rate_0_1'],test_size=0.2,random_state=42)"
      ]
    },
    {
      "cell_type": "code",
      "execution_count": 29,
      "id": "07bf4ca4",
      "metadata": {
        "id": "07bf4ca4"
      },
      "outputs": [],
      "source": [
        "#create a list of reference category column selecting only one column from each parent column\n",
        "ref_category_col = ['grade:G',\n",
        "               'home_ownership:RENT_OTHER_NONE_ANY',\n",
        "               'addr_state_NE',\n",
        "               'verification_status:Verified',\n",
        "                'purpose:educ_sm_b_ren_en_mov_house_other_med',\n",
        "                'initial_list_status:f',\n",
        "                'term:60',\n",
        "                'emp_length:0',\n",
        "                'mths_since_issued_date:<116',\n",
        "                'int_rate:20.281',\n",
        "                'mths_since_earliest_cr_line:<140',\n",
        "                'delinq_2yrs:>18',\n",
        "                'inq_last_6mths:0',\n",
        "                'open_acc:=0',\n",
        "                'pub_rec:0-6',\n",
        "                'total_acc:>99.84',\n",
        "                'acc_now_delinq:>3',\n",
        "                'total_rev_hi_lim:<6.4k',\n",
        "                'annual_inc:<8k',\n",
        "                'dti:<2',\n",
        "                'mths_since_last_delinq:Missing',\n",
        "                'mths_since_last_record:Missing',\n",
        "               ]"
      ]
    },
    {
      "cell_type": "code",
      "execution_count": 30,
      "id": "bc31ae31",
      "metadata": {
        "id": "bc31ae31"
      },
      "outputs": [],
      "source": [
        "#drop the reference categories from lgd_X_train\n",
        "lgd_X_train = lgd_X_train.drop(ref_category_col, axis = 1)"
      ]
    },
    {
      "cell_type": "code",
      "source": [
        "#drop the reference categories from lgd_X_test\n",
        "lgd_X_test = lgd_X_test.drop(ref_category_col, axis = 1)"
      ],
      "metadata": {
        "id": "fAdiCEuSZDQw"
      },
      "id": "fAdiCEuSZDQw",
      "execution_count": 31,
      "outputs": []
    },
    {
      "cell_type": "code",
      "execution_count": 32,
      "id": "31821abb",
      "metadata": {
        "id": "31821abb"
      },
      "outputs": [],
      "source": [
        "#create an object of logistic regression with max_iter=200\n",
        "lr_model = LogisticRegression()"
      ]
    },
    {
      "cell_type": "code",
      "execution_count": 33,
      "id": "6d251d95",
      "metadata": {
        "id": "6d251d95",
        "outputId": "a3f61fd5-8f64-4a3a-bb42-29dc5b068a43",
        "colab": {
          "base_uri": "https://localhost:8080/"
        }
      },
      "outputs": [
        {
          "output_type": "execute_result",
          "data": {
            "text/plain": [
              "(32552, 119)"
            ]
          },
          "metadata": {},
          "execution_count": 33
        }
      ],
      "source": [
        "#check the shape of lgd_X_train\n",
        "lgd_X_train.shape"
      ]
    },
    {
      "cell_type": "code",
      "execution_count": 34,
      "id": "be265679",
      "metadata": {
        "id": "be265679",
        "outputId": "e5cf9595-51c6-44df-e3ed-936576d598a3",
        "colab": {
          "base_uri": "https://localhost:8080/"
        }
      },
      "outputs": [
        {
          "output_type": "execute_result",
          "data": {
            "text/plain": [
              "(32552,)"
            ]
          },
          "metadata": {},
          "execution_count": 34
        }
      ],
      "source": [
        "#check the shape of lgd_y_train\n",
        "lgd_y_train.shape"
      ]
    },
    {
      "cell_type": "code",
      "execution_count": 35,
      "id": "bf47d93e",
      "metadata": {
        "id": "bf47d93e",
        "outputId": "c2a9a9c4-68d5-44c0-b6fc-c6d6345761ae",
        "colab": {
          "base_uri": "https://localhost:8080/",
          "height": 75
        }
      },
      "outputs": [
        {
          "output_type": "execute_result",
          "data": {
            "text/plain": [
              "LogisticRegression()"
            ],
            "text/html": [
              "<style>#sk-container-id-1 {color: black;background-color: white;}#sk-container-id-1 pre{padding: 0;}#sk-container-id-1 div.sk-toggleable {background-color: white;}#sk-container-id-1 label.sk-toggleable__label {cursor: pointer;display: block;width: 100%;margin-bottom: 0;padding: 0.3em;box-sizing: border-box;text-align: center;}#sk-container-id-1 label.sk-toggleable__label-arrow:before {content: \"▸\";float: left;margin-right: 0.25em;color: #696969;}#sk-container-id-1 label.sk-toggleable__label-arrow:hover:before {color: black;}#sk-container-id-1 div.sk-estimator:hover label.sk-toggleable__label-arrow:before {color: black;}#sk-container-id-1 div.sk-toggleable__content {max-height: 0;max-width: 0;overflow: hidden;text-align: left;background-color: #f0f8ff;}#sk-container-id-1 div.sk-toggleable__content pre {margin: 0.2em;color: black;border-radius: 0.25em;background-color: #f0f8ff;}#sk-container-id-1 input.sk-toggleable__control:checked~div.sk-toggleable__content {max-height: 200px;max-width: 100%;overflow: auto;}#sk-container-id-1 input.sk-toggleable__control:checked~label.sk-toggleable__label-arrow:before {content: \"▾\";}#sk-container-id-1 div.sk-estimator input.sk-toggleable__control:checked~label.sk-toggleable__label {background-color: #d4ebff;}#sk-container-id-1 div.sk-label input.sk-toggleable__control:checked~label.sk-toggleable__label {background-color: #d4ebff;}#sk-container-id-1 input.sk-hidden--visually {border: 0;clip: rect(1px 1px 1px 1px);clip: rect(1px, 1px, 1px, 1px);height: 1px;margin: -1px;overflow: hidden;padding: 0;position: absolute;width: 1px;}#sk-container-id-1 div.sk-estimator {font-family: monospace;background-color: #f0f8ff;border: 1px dotted black;border-radius: 0.25em;box-sizing: border-box;margin-bottom: 0.5em;}#sk-container-id-1 div.sk-estimator:hover {background-color: #d4ebff;}#sk-container-id-1 div.sk-parallel-item::after {content: \"\";width: 100%;border-bottom: 1px solid gray;flex-grow: 1;}#sk-container-id-1 div.sk-label:hover label.sk-toggleable__label {background-color: #d4ebff;}#sk-container-id-1 div.sk-serial::before {content: \"\";position: absolute;border-left: 1px solid gray;box-sizing: border-box;top: 0;bottom: 0;left: 50%;z-index: 0;}#sk-container-id-1 div.sk-serial {display: flex;flex-direction: column;align-items: center;background-color: white;padding-right: 0.2em;padding-left: 0.2em;position: relative;}#sk-container-id-1 div.sk-item {position: relative;z-index: 1;}#sk-container-id-1 div.sk-parallel {display: flex;align-items: stretch;justify-content: center;background-color: white;position: relative;}#sk-container-id-1 div.sk-item::before, #sk-container-id-1 div.sk-parallel-item::before {content: \"\";position: absolute;border-left: 1px solid gray;box-sizing: border-box;top: 0;bottom: 0;left: 50%;z-index: -1;}#sk-container-id-1 div.sk-parallel-item {display: flex;flex-direction: column;z-index: 1;position: relative;background-color: white;}#sk-container-id-1 div.sk-parallel-item:first-child::after {align-self: flex-end;width: 50%;}#sk-container-id-1 div.sk-parallel-item:last-child::after {align-self: flex-start;width: 50%;}#sk-container-id-1 div.sk-parallel-item:only-child::after {width: 0;}#sk-container-id-1 div.sk-dashed-wrapped {border: 1px dashed gray;margin: 0 0.4em 0.5em 0.4em;box-sizing: border-box;padding-bottom: 0.4em;background-color: white;}#sk-container-id-1 div.sk-label label {font-family: monospace;font-weight: bold;display: inline-block;line-height: 1.2em;}#sk-container-id-1 div.sk-label-container {text-align: center;}#sk-container-id-1 div.sk-container {/* jupyter's `normalize.less` sets `[hidden] { display: none; }` but bootstrap.min.css set `[hidden] { display: none !important; }` so we also need the `!important` here to be able to override the default hidden behavior on the sphinx rendered scikit-learn.org. See: https://github.com/scikit-learn/scikit-learn/issues/21755 */display: inline-block !important;position: relative;}#sk-container-id-1 div.sk-text-repr-fallback {display: none;}</style><div id=\"sk-container-id-1\" class=\"sk-top-container\"><div class=\"sk-text-repr-fallback\"><pre>LogisticRegression()</pre><b>In a Jupyter environment, please rerun this cell to show the HTML representation or trust the notebook. <br />On GitHub, the HTML representation is unable to render, please try loading this page with nbviewer.org.</b></div><div class=\"sk-container\" hidden><div class=\"sk-item\"><div class=\"sk-estimator sk-toggleable\"><input class=\"sk-toggleable__control sk-hidden--visually\" id=\"sk-estimator-id-1\" type=\"checkbox\" checked><label for=\"sk-estimator-id-1\" class=\"sk-toggleable__label sk-toggleable__label-arrow\">LogisticRegression</label><div class=\"sk-toggleable__content\"><pre>LogisticRegression()</pre></div></div></div></div></div>"
            ]
          },
          "metadata": {},
          "execution_count": 35
        }
      ],
      "source": [
        "#fit the logistic reg model on lgd_inputs_train and lgd_target_train\n",
        "lr_model.fit(lgd_X_train,lgd_y_train)"
      ]
    },
    {
      "cell_type": "code",
      "execution_count": 36,
      "id": "bf0c2e70",
      "metadata": {
        "id": "bf0c2e70",
        "outputId": "68e15578-85dc-4b08-c6c2-21ab1f476e4d",
        "colab": {
          "base_uri": "https://localhost:8080/"
        }
      },
      "outputs": [
        {
          "output_type": "execute_result",
          "data": {
            "text/plain": [
              "(8138, 119)"
            ]
          },
          "metadata": {},
          "execution_count": 36
        }
      ],
      "source": [
        "#check the shape of lgd_X_test\n",
        "lgd_X_test.shape"
      ]
    },
    {
      "cell_type": "code",
      "execution_count": 37,
      "id": "c8b296d0",
      "metadata": {
        "id": "c8b296d0"
      },
      "outputs": [],
      "source": [
        "#predict the results of lgd_X_test\n",
        "pred = lr_model.predict(lgd_X_test)"
      ]
    },
    {
      "cell_type": "code",
      "execution_count": 38,
      "id": "ca35ce9e",
      "metadata": {
        "id": "ca35ce9e"
      },
      "outputs": [],
      "source": [
        "#predict the probabilities for 0 & 1, then extract the probabilities for 1\n",
        "prob_pred = lr_model.predict_proba(lgd_X_test)[:,1]\n"
      ]
    },
    {
      "cell_type": "code",
      "execution_count": 39,
      "id": "5b0edaeb",
      "metadata": {
        "id": "5b0edaeb"
      },
      "outputs": [],
      "source": [
        "#create an empty dataframe that will store the final results\n",
        "df_actual_predicted_probs = pd.DataFrame()"
      ]
    },
    {
      "cell_type": "code",
      "execution_count": 40,
      "id": "a97dc7e2",
      "metadata": {
        "id": "a97dc7e2"
      },
      "outputs": [],
      "source": [
        "#create 2 columns one will store the pred and other will store the prob_pred\n",
        "df_actual_predicted_probs['lgd_test_outcome'] = pred\n",
        "df_actual_predicted_probs['lgd_test_proba'] = prob_pred"
      ]
    },
    {
      "cell_type": "code",
      "execution_count": 41,
      "id": "6707a986",
      "metadata": {
        "id": "6707a986",
        "outputId": "74d2b011-241f-4bab-c425-3d77c94f154c",
        "colab": {
          "base_uri": "https://localhost:8080/",
          "height": 363
        }
      },
      "outputs": [
        {
          "output_type": "execute_result",
          "data": {
            "text/plain": [
              "   lgd_test_outcome  lgd_test_proba\n",
              "0                 1        0.746433\n",
              "1                 1        0.582774\n",
              "2                 0        0.400965\n",
              "3                 1        0.662660\n",
              "4                 1        0.718913\n",
              "5                 0        0.189261\n",
              "6                 0        0.256917\n",
              "7                 1        0.742276\n",
              "8                 1        0.578541\n",
              "9                 1        0.646585"
            ],
            "text/html": [
              "\n",
              "  <div id=\"df-d5dcb0f9-63a6-4e15-a1ae-12946cebfad2\" class=\"colab-df-container\">\n",
              "    <div>\n",
              "<style scoped>\n",
              "    .dataframe tbody tr th:only-of-type {\n",
              "        vertical-align: middle;\n",
              "    }\n",
              "\n",
              "    .dataframe tbody tr th {\n",
              "        vertical-align: top;\n",
              "    }\n",
              "\n",
              "    .dataframe thead th {\n",
              "        text-align: right;\n",
              "    }\n",
              "</style>\n",
              "<table border=\"1\" class=\"dataframe\">\n",
              "  <thead>\n",
              "    <tr style=\"text-align: right;\">\n",
              "      <th></th>\n",
              "      <th>lgd_test_outcome</th>\n",
              "      <th>lgd_test_proba</th>\n",
              "    </tr>\n",
              "  </thead>\n",
              "  <tbody>\n",
              "    <tr>\n",
              "      <th>0</th>\n",
              "      <td>1</td>\n",
              "      <td>0.746433</td>\n",
              "    </tr>\n",
              "    <tr>\n",
              "      <th>1</th>\n",
              "      <td>1</td>\n",
              "      <td>0.582774</td>\n",
              "    </tr>\n",
              "    <tr>\n",
              "      <th>2</th>\n",
              "      <td>0</td>\n",
              "      <td>0.400965</td>\n",
              "    </tr>\n",
              "    <tr>\n",
              "      <th>3</th>\n",
              "      <td>1</td>\n",
              "      <td>0.662660</td>\n",
              "    </tr>\n",
              "    <tr>\n",
              "      <th>4</th>\n",
              "      <td>1</td>\n",
              "      <td>0.718913</td>\n",
              "    </tr>\n",
              "    <tr>\n",
              "      <th>5</th>\n",
              "      <td>0</td>\n",
              "      <td>0.189261</td>\n",
              "    </tr>\n",
              "    <tr>\n",
              "      <th>6</th>\n",
              "      <td>0</td>\n",
              "      <td>0.256917</td>\n",
              "    </tr>\n",
              "    <tr>\n",
              "      <th>7</th>\n",
              "      <td>1</td>\n",
              "      <td>0.742276</td>\n",
              "    </tr>\n",
              "    <tr>\n",
              "      <th>8</th>\n",
              "      <td>1</td>\n",
              "      <td>0.578541</td>\n",
              "    </tr>\n",
              "    <tr>\n",
              "      <th>9</th>\n",
              "      <td>1</td>\n",
              "      <td>0.646585</td>\n",
              "    </tr>\n",
              "  </tbody>\n",
              "</table>\n",
              "</div>\n",
              "    <div class=\"colab-df-buttons\">\n",
              "\n",
              "  <div class=\"colab-df-container\">\n",
              "    <button class=\"colab-df-convert\" onclick=\"convertToInteractive('df-d5dcb0f9-63a6-4e15-a1ae-12946cebfad2')\"\n",
              "            title=\"Convert this dataframe to an interactive table.\"\n",
              "            style=\"display:none;\">\n",
              "\n",
              "  <svg xmlns=\"http://www.w3.org/2000/svg\" height=\"24px\" viewBox=\"0 -960 960 960\">\n",
              "    <path d=\"M120-120v-720h720v720H120Zm60-500h600v-160H180v160Zm220 220h160v-160H400v160Zm0 220h160v-160H400v160ZM180-400h160v-160H180v160Zm440 0h160v-160H620v160ZM180-180h160v-160H180v160Zm440 0h160v-160H620v160Z\"/>\n",
              "  </svg>\n",
              "    </button>\n",
              "\n",
              "  <style>\n",
              "    .colab-df-container {\n",
              "      display:flex;\n",
              "      gap: 12px;\n",
              "    }\n",
              "\n",
              "    .colab-df-convert {\n",
              "      background-color: #E8F0FE;\n",
              "      border: none;\n",
              "      border-radius: 50%;\n",
              "      cursor: pointer;\n",
              "      display: none;\n",
              "      fill: #1967D2;\n",
              "      height: 32px;\n",
              "      padding: 0 0 0 0;\n",
              "      width: 32px;\n",
              "    }\n",
              "\n",
              "    .colab-df-convert:hover {\n",
              "      background-color: #E2EBFA;\n",
              "      box-shadow: 0px 1px 2px rgba(60, 64, 67, 0.3), 0px 1px 3px 1px rgba(60, 64, 67, 0.15);\n",
              "      fill: #174EA6;\n",
              "    }\n",
              "\n",
              "    .colab-df-buttons div {\n",
              "      margin-bottom: 4px;\n",
              "    }\n",
              "\n",
              "    [theme=dark] .colab-df-convert {\n",
              "      background-color: #3B4455;\n",
              "      fill: #D2E3FC;\n",
              "    }\n",
              "\n",
              "    [theme=dark] .colab-df-convert:hover {\n",
              "      background-color: #434B5C;\n",
              "      box-shadow: 0px 1px 3px 1px rgba(0, 0, 0, 0.15);\n",
              "      filter: drop-shadow(0px 1px 2px rgba(0, 0, 0, 0.3));\n",
              "      fill: #FFFFFF;\n",
              "    }\n",
              "  </style>\n",
              "\n",
              "    <script>\n",
              "      const buttonEl =\n",
              "        document.querySelector('#df-d5dcb0f9-63a6-4e15-a1ae-12946cebfad2 button.colab-df-convert');\n",
              "      buttonEl.style.display =\n",
              "        google.colab.kernel.accessAllowed ? 'block' : 'none';\n",
              "\n",
              "      async function convertToInteractive(key) {\n",
              "        const element = document.querySelector('#df-d5dcb0f9-63a6-4e15-a1ae-12946cebfad2');\n",
              "        const dataTable =\n",
              "          await google.colab.kernel.invokeFunction('convertToInteractive',\n",
              "                                                    [key], {});\n",
              "        if (!dataTable) return;\n",
              "\n",
              "        const docLinkHtml = 'Like what you see? Visit the ' +\n",
              "          '<a target=\"_blank\" href=https://colab.research.google.com/notebooks/data_table.ipynb>data table notebook</a>'\n",
              "          + ' to learn more about interactive tables.';\n",
              "        element.innerHTML = '';\n",
              "        dataTable['output_type'] = 'display_data';\n",
              "        await google.colab.output.renderOutput(dataTable, element);\n",
              "        const docLink = document.createElement('div');\n",
              "        docLink.innerHTML = docLinkHtml;\n",
              "        element.appendChild(docLink);\n",
              "      }\n",
              "    </script>\n",
              "  </div>\n",
              "\n",
              "\n",
              "<div id=\"df-89e80f2b-c923-400c-b651-1a94013538d1\">\n",
              "  <button class=\"colab-df-quickchart\" onclick=\"quickchart('df-89e80f2b-c923-400c-b651-1a94013538d1')\"\n",
              "            title=\"Suggest charts.\"\n",
              "            style=\"display:none;\">\n",
              "\n",
              "<svg xmlns=\"http://www.w3.org/2000/svg\" height=\"24px\"viewBox=\"0 0 24 24\"\n",
              "     width=\"24px\">\n",
              "    <g>\n",
              "        <path d=\"M19 3H5c-1.1 0-2 .9-2 2v14c0 1.1.9 2 2 2h14c1.1 0 2-.9 2-2V5c0-1.1-.9-2-2-2zM9 17H7v-7h2v7zm4 0h-2V7h2v10zm4 0h-2v-4h2v4z\"/>\n",
              "    </g>\n",
              "</svg>\n",
              "  </button>\n",
              "\n",
              "<style>\n",
              "  .colab-df-quickchart {\n",
              "    background-color: #E8F0FE;\n",
              "    border: none;\n",
              "    border-radius: 50%;\n",
              "    cursor: pointer;\n",
              "    display: none;\n",
              "    fill: #1967D2;\n",
              "    height: 32px;\n",
              "    padding: 0 0 0 0;\n",
              "    width: 32px;\n",
              "  }\n",
              "\n",
              "  .colab-df-quickchart:hover {\n",
              "    background-color: #E2EBFA;\n",
              "    box-shadow: 0px 1px 2px rgba(60, 64, 67, 0.3), 0px 1px 3px 1px rgba(60, 64, 67, 0.15);\n",
              "    fill: #174EA6;\n",
              "  }\n",
              "\n",
              "  [theme=dark] .colab-df-quickchart {\n",
              "    background-color: #3B4455;\n",
              "    fill: #D2E3FC;\n",
              "  }\n",
              "\n",
              "  [theme=dark] .colab-df-quickchart:hover {\n",
              "    background-color: #434B5C;\n",
              "    box-shadow: 0px 1px 3px 1px rgba(0, 0, 0, 0.15);\n",
              "    filter: drop-shadow(0px 1px 2px rgba(0, 0, 0, 0.3));\n",
              "    fill: #FFFFFF;\n",
              "  }\n",
              "</style>\n",
              "\n",
              "  <script>\n",
              "    async function quickchart(key) {\n",
              "      const charts = await google.colab.kernel.invokeFunction(\n",
              "          'suggestCharts', [key], {});\n",
              "    }\n",
              "    (() => {\n",
              "      let quickchartButtonEl =\n",
              "        document.querySelector('#df-89e80f2b-c923-400c-b651-1a94013538d1 button');\n",
              "      quickchartButtonEl.style.display =\n",
              "        google.colab.kernel.accessAllowed ? 'block' : 'none';\n",
              "    })();\n",
              "  </script>\n",
              "</div>\n",
              "    </div>\n",
              "  </div>\n"
            ]
          },
          "metadata": {},
          "execution_count": 41
        }
      ],
      "source": [
        "#check the head of the dataframe\n",
        "df_actual_predicted_probs.head(10)"
      ]
    },
    {
      "cell_type": "code",
      "execution_count": 42,
      "id": "78839971",
      "metadata": {
        "id": "78839971",
        "outputId": "36c31add-b54e-475f-c892-906fbd7a1f1a",
        "colab": {
          "base_uri": "https://localhost:8080/"
        }
      },
      "outputs": [
        {
          "output_type": "execute_result",
          "data": {
            "text/plain": [
              "(8138, 2)"
            ]
          },
          "metadata": {},
          "execution_count": 42
        }
      ],
      "source": [
        "#check the shape of df_actual_predicted_probs\n",
        "df_actual_predicted_probs.shape"
      ]
    },
    {
      "cell_type": "code",
      "execution_count": 43,
      "id": "28fe5212",
      "metadata": {
        "id": "28fe5212",
        "outputId": "ca0587f5-9a2e-4440-835f-ec00c206cf13",
        "colab": {
          "base_uri": "https://localhost:8080/",
          "height": 143
        }
      },
      "outputs": [
        {
          "output_type": "execute_result",
          "data": {
            "text/plain": [
              "Predicted     0     1\n",
              "Actual               \n",
              "0          2907  1292\n",
              "1          1591  2348"
            ],
            "text/html": [
              "\n",
              "  <div id=\"df-be6f57de-a49c-4f1c-9464-1ab4c1e17763\" class=\"colab-df-container\">\n",
              "    <div>\n",
              "<style scoped>\n",
              "    .dataframe tbody tr th:only-of-type {\n",
              "        vertical-align: middle;\n",
              "    }\n",
              "\n",
              "    .dataframe tbody tr th {\n",
              "        vertical-align: top;\n",
              "    }\n",
              "\n",
              "    .dataframe thead th {\n",
              "        text-align: right;\n",
              "    }\n",
              "</style>\n",
              "<table border=\"1\" class=\"dataframe\">\n",
              "  <thead>\n",
              "    <tr style=\"text-align: right;\">\n",
              "      <th>Predicted</th>\n",
              "      <th>0</th>\n",
              "      <th>1</th>\n",
              "    </tr>\n",
              "    <tr>\n",
              "      <th>Actual</th>\n",
              "      <th></th>\n",
              "      <th></th>\n",
              "    </tr>\n",
              "  </thead>\n",
              "  <tbody>\n",
              "    <tr>\n",
              "      <th>0</th>\n",
              "      <td>2907</td>\n",
              "      <td>1292</td>\n",
              "    </tr>\n",
              "    <tr>\n",
              "      <th>1</th>\n",
              "      <td>1591</td>\n",
              "      <td>2348</td>\n",
              "    </tr>\n",
              "  </tbody>\n",
              "</table>\n",
              "</div>\n",
              "    <div class=\"colab-df-buttons\">\n",
              "\n",
              "  <div class=\"colab-df-container\">\n",
              "    <button class=\"colab-df-convert\" onclick=\"convertToInteractive('df-be6f57de-a49c-4f1c-9464-1ab4c1e17763')\"\n",
              "            title=\"Convert this dataframe to an interactive table.\"\n",
              "            style=\"display:none;\">\n",
              "\n",
              "  <svg xmlns=\"http://www.w3.org/2000/svg\" height=\"24px\" viewBox=\"0 -960 960 960\">\n",
              "    <path d=\"M120-120v-720h720v720H120Zm60-500h600v-160H180v160Zm220 220h160v-160H400v160Zm0 220h160v-160H400v160ZM180-400h160v-160H180v160Zm440 0h160v-160H620v160ZM180-180h160v-160H180v160Zm440 0h160v-160H620v160Z\"/>\n",
              "  </svg>\n",
              "    </button>\n",
              "\n",
              "  <style>\n",
              "    .colab-df-container {\n",
              "      display:flex;\n",
              "      gap: 12px;\n",
              "    }\n",
              "\n",
              "    .colab-df-convert {\n",
              "      background-color: #E8F0FE;\n",
              "      border: none;\n",
              "      border-radius: 50%;\n",
              "      cursor: pointer;\n",
              "      display: none;\n",
              "      fill: #1967D2;\n",
              "      height: 32px;\n",
              "      padding: 0 0 0 0;\n",
              "      width: 32px;\n",
              "    }\n",
              "\n",
              "    .colab-df-convert:hover {\n",
              "      background-color: #E2EBFA;\n",
              "      box-shadow: 0px 1px 2px rgba(60, 64, 67, 0.3), 0px 1px 3px 1px rgba(60, 64, 67, 0.15);\n",
              "      fill: #174EA6;\n",
              "    }\n",
              "\n",
              "    .colab-df-buttons div {\n",
              "      margin-bottom: 4px;\n",
              "    }\n",
              "\n",
              "    [theme=dark] .colab-df-convert {\n",
              "      background-color: #3B4455;\n",
              "      fill: #D2E3FC;\n",
              "    }\n",
              "\n",
              "    [theme=dark] .colab-df-convert:hover {\n",
              "      background-color: #434B5C;\n",
              "      box-shadow: 0px 1px 3px 1px rgba(0, 0, 0, 0.15);\n",
              "      filter: drop-shadow(0px 1px 2px rgba(0, 0, 0, 0.3));\n",
              "      fill: #FFFFFF;\n",
              "    }\n",
              "  </style>\n",
              "\n",
              "    <script>\n",
              "      const buttonEl =\n",
              "        document.querySelector('#df-be6f57de-a49c-4f1c-9464-1ab4c1e17763 button.colab-df-convert');\n",
              "      buttonEl.style.display =\n",
              "        google.colab.kernel.accessAllowed ? 'block' : 'none';\n",
              "\n",
              "      async function convertToInteractive(key) {\n",
              "        const element = document.querySelector('#df-be6f57de-a49c-4f1c-9464-1ab4c1e17763');\n",
              "        const dataTable =\n",
              "          await google.colab.kernel.invokeFunction('convertToInteractive',\n",
              "                                                    [key], {});\n",
              "        if (!dataTable) return;\n",
              "\n",
              "        const docLinkHtml = 'Like what you see? Visit the ' +\n",
              "          '<a target=\"_blank\" href=https://colab.research.google.com/notebooks/data_table.ipynb>data table notebook</a>'\n",
              "          + ' to learn more about interactive tables.';\n",
              "        element.innerHTML = '';\n",
              "        dataTable['output_type'] = 'display_data';\n",
              "        await google.colab.output.renderOutput(dataTable, element);\n",
              "        const docLink = document.createElement('div');\n",
              "        docLink.innerHTML = docLinkHtml;\n",
              "        element.appendChild(docLink);\n",
              "      }\n",
              "    </script>\n",
              "  </div>\n",
              "\n",
              "    </div>\n",
              "  </div>\n"
            ]
          },
          "metadata": {},
          "execution_count": 43
        }
      ],
      "source": [
        "#print the confusion matrix using lgd_target_test and pred\n",
        "pd.crosstab(lgd_y_test, pred, rownames = ['Actual'], colnames = ['Predicted'])\n"
      ]
    },
    {
      "cell_type": "code",
      "source": [
        "metrics.confusion_matrix(lgd_y_test,df_actual_predicted_probs['lgd_test_outcome'])"
      ],
      "metadata": {
        "colab": {
          "base_uri": "https://localhost:8080/"
        },
        "id": "SRDoszfdbobC",
        "outputId": "adbb9cae-884f-4ae0-ccb0-ed515e237c78"
      },
      "id": "SRDoszfdbobC",
      "execution_count": 44,
      "outputs": [
        {
          "output_type": "execute_result",
          "data": {
            "text/plain": [
              "array([[2907, 1292],\n",
              "       [1591, 2348]])"
            ]
          },
          "metadata": {},
          "execution_count": 44
        }
      ]
    },
    {
      "cell_type": "code",
      "execution_count": 45,
      "id": "fc1ce297",
      "metadata": {
        "id": "fc1ce297",
        "outputId": "cb9baeb4-ccd9-4a72-e3fb-6937a84f2c2f",
        "colab": {
          "base_uri": "https://localhost:8080/"
        }
      },
      "outputs": [
        {
          "output_type": "execute_result",
          "data": {
            "text/plain": [
              "0.6457360530842959"
            ]
          },
          "metadata": {},
          "execution_count": 45
        }
      ],
      "source": [
        "#accuracy of model\n",
        "metrics.accuracy_score(lgd_y_test, pred)"
      ]
    },
    {
      "cell_type": "code",
      "execution_count": 46,
      "id": "8782af36",
      "metadata": {
        "id": "8782af36"
      },
      "outputs": [],
      "source": [
        "#save the reg model\n",
        "pickle.dump(lr_model,open('lgd_model.sav','wb'))"
      ]
    },
    {
      "cell_type": "markdown",
      "id": "592bb8b9",
      "metadata": {
        "id": "592bb8b9"
      },
      "source": [
        "stage-2...where >0 linear reg to determine how much >0   for recovery rate"
      ]
    },
    {
      "cell_type": "markdown",
      "id": "TIETFj0vRqMX",
      "metadata": {
        "id": "TIETFj0vRqMX"
      },
      "source": [
        "Stage_2:Take those records where recovery_rate_0_1 is 1 and determine the recovery_rate by Linear REG"
      ]
    },
    {
      "cell_type": "code",
      "execution_count": 51,
      "id": "aec5e471",
      "metadata": {
        "id": "aec5e471"
      },
      "outputs": [],
      "source": [
        "#take all records from loan_data_defaults where recovery_rate_0_1 is 1\n",
        "loan_data_1 = loan_data_defaults[loan_data_defaults['recovery_rate_0_1'] == 1]"
      ]
    },
    {
      "cell_type": "code",
      "execution_count": 52,
      "id": "428d49ae",
      "metadata": {
        "id": "428d49ae",
        "outputId": "c8526276-6bda-4126-cd6f-613957b95aa3",
        "colab": {
          "base_uri": "https://localhost:8080/"
        }
      },
      "outputs": [
        {
          "output_type": "execute_result",
          "data": {
            "text/plain": [
              "(19361, 145)"
            ]
          },
          "metadata": {},
          "execution_count": 52
        }
      ],
      "source": [
        "#check the shape of loan_data_1\n",
        "loan_data_1.shape"
      ]
    },
    {
      "cell_type": "code",
      "execution_count": 63,
      "id": "3f2ed807",
      "metadata": {
        "id": "3f2ed807"
      },
      "outputs": [],
      "source": [
        "#train test split\n",
        "lgd_X_train_1,lgd_X_test_1,lgd_y_train_1,lgd_y_test_1 = train_test_split(loan_data_1.drop(['recoveries','recovery_rate','recovery_rate_0_1','CCF'],axis=1),loan_data_1['recovery_rate'],test_size=0.2,random_state=1)"
      ]
    },
    {
      "cell_type": "code",
      "source": [
        "lgd_y_test_1.head(10)"
      ],
      "metadata": {
        "colab": {
          "base_uri": "https://localhost:8080/"
        },
        "id": "KWDZXfQ3CLOd",
        "outputId": "b2e684a1-f0e5-413b-9f6a-f0dd9493ec4b"
      },
      "id": "KWDZXfQ3CLOd",
      "execution_count": 71,
      "outputs": [
        {
          "output_type": "execute_result",
          "data": {
            "text/plain": [
              "134512    0.126216\n",
              "218197    0.097383\n",
              "14907     0.047393\n",
              "111463    0.108825\n",
              "2883      0.004528\n",
              "184959    0.057848\n",
              "1765      0.655525\n",
              "417166    0.315945\n",
              "109432    0.114658\n",
              "253267    0.169493\n",
              "Name: recovery_rate, dtype: float64"
            ]
          },
          "metadata": {},
          "execution_count": 71
        }
      ]
    },
    {
      "cell_type": "code",
      "execution_count": 94,
      "id": "580c8473",
      "metadata": {
        "id": "580c8473",
        "colab": {
          "base_uri": "https://localhost:8080/"
        },
        "outputId": "27f4b8e0-f11c-4cfd-a141-a5c7135fc320"
      },
      "outputs": [
        {
          "output_type": "execute_result",
          "data": {
            "text/plain": [
              "pandas.core.frame.DataFrame"
            ]
          },
          "metadata": {},
          "execution_count": 94
        }
      ],
      "source": [
        "#drop the refrence categories from lgd_input_train_2\n",
        "lgd_X_train_1 = lgd_X_train_1.drop(ref_category_col, axis = 1)"
      ]
    },
    {
      "cell_type": "code",
      "execution_count": 65,
      "id": "f7e025d7",
      "metadata": {
        "id": "f7e025d7"
      },
      "outputs": [],
      "source": [
        "#drop the refrence categories from lgd_input_test\n",
        "lgd_X_test_1 = lgd_X_test_1.drop(ref_category_col, axis = 1)"
      ]
    },
    {
      "cell_type": "code",
      "execution_count": 66,
      "id": "1c075689",
      "metadata": {
        "id": "1c075689",
        "outputId": "df5d7ca9-1e4a-4ffb-8d15-fa469355fedc",
        "colab": {
          "base_uri": "https://localhost:8080/",
          "height": 52
        }
      },
      "outputs": [
        {
          "output_type": "display_data",
          "data": {
            "text/plain": [
              "(15488, 119)"
            ]
          },
          "metadata": {}
        },
        {
          "output_type": "display_data",
          "data": {
            "text/plain": [
              "(3873, 119)"
            ]
          },
          "metadata": {}
        }
      ],
      "source": [
        "#check the shape of train & test dataset\n",
        "display(lgd_X_train_1.shape)\n",
        "display(lgd_X_test_1.shape)"
      ]
    },
    {
      "cell_type": "code",
      "execution_count": 67,
      "id": "4e22535d",
      "metadata": {
        "id": "4e22535d"
      },
      "outputs": [],
      "source": [
        "#create an object  of linear regression\n",
        "lin_reg = LinearRegression()"
      ]
    },
    {
      "cell_type": "code",
      "execution_count": 68,
      "id": "a9b26776",
      "metadata": {
        "id": "a9b26776",
        "outputId": "2426a799-c372-4a74-aeaa-3d0dd50169ef",
        "colab": {
          "base_uri": "https://localhost:8080/",
          "height": 75
        }
      },
      "outputs": [
        {
          "output_type": "execute_result",
          "data": {
            "text/plain": [
              "LinearRegression()"
            ],
            "text/html": [
              "<style>#sk-container-id-3 {color: black;background-color: white;}#sk-container-id-3 pre{padding: 0;}#sk-container-id-3 div.sk-toggleable {background-color: white;}#sk-container-id-3 label.sk-toggleable__label {cursor: pointer;display: block;width: 100%;margin-bottom: 0;padding: 0.3em;box-sizing: border-box;text-align: center;}#sk-container-id-3 label.sk-toggleable__label-arrow:before {content: \"▸\";float: left;margin-right: 0.25em;color: #696969;}#sk-container-id-3 label.sk-toggleable__label-arrow:hover:before {color: black;}#sk-container-id-3 div.sk-estimator:hover label.sk-toggleable__label-arrow:before {color: black;}#sk-container-id-3 div.sk-toggleable__content {max-height: 0;max-width: 0;overflow: hidden;text-align: left;background-color: #f0f8ff;}#sk-container-id-3 div.sk-toggleable__content pre {margin: 0.2em;color: black;border-radius: 0.25em;background-color: #f0f8ff;}#sk-container-id-3 input.sk-toggleable__control:checked~div.sk-toggleable__content {max-height: 200px;max-width: 100%;overflow: auto;}#sk-container-id-3 input.sk-toggleable__control:checked~label.sk-toggleable__label-arrow:before {content: \"▾\";}#sk-container-id-3 div.sk-estimator input.sk-toggleable__control:checked~label.sk-toggleable__label {background-color: #d4ebff;}#sk-container-id-3 div.sk-label input.sk-toggleable__control:checked~label.sk-toggleable__label {background-color: #d4ebff;}#sk-container-id-3 input.sk-hidden--visually {border: 0;clip: rect(1px 1px 1px 1px);clip: rect(1px, 1px, 1px, 1px);height: 1px;margin: -1px;overflow: hidden;padding: 0;position: absolute;width: 1px;}#sk-container-id-3 div.sk-estimator {font-family: monospace;background-color: #f0f8ff;border: 1px dotted black;border-radius: 0.25em;box-sizing: border-box;margin-bottom: 0.5em;}#sk-container-id-3 div.sk-estimator:hover {background-color: #d4ebff;}#sk-container-id-3 div.sk-parallel-item::after {content: \"\";width: 100%;border-bottom: 1px solid gray;flex-grow: 1;}#sk-container-id-3 div.sk-label:hover label.sk-toggleable__label {background-color: #d4ebff;}#sk-container-id-3 div.sk-serial::before {content: \"\";position: absolute;border-left: 1px solid gray;box-sizing: border-box;top: 0;bottom: 0;left: 50%;z-index: 0;}#sk-container-id-3 div.sk-serial {display: flex;flex-direction: column;align-items: center;background-color: white;padding-right: 0.2em;padding-left: 0.2em;position: relative;}#sk-container-id-3 div.sk-item {position: relative;z-index: 1;}#sk-container-id-3 div.sk-parallel {display: flex;align-items: stretch;justify-content: center;background-color: white;position: relative;}#sk-container-id-3 div.sk-item::before, #sk-container-id-3 div.sk-parallel-item::before {content: \"\";position: absolute;border-left: 1px solid gray;box-sizing: border-box;top: 0;bottom: 0;left: 50%;z-index: -1;}#sk-container-id-3 div.sk-parallel-item {display: flex;flex-direction: column;z-index: 1;position: relative;background-color: white;}#sk-container-id-3 div.sk-parallel-item:first-child::after {align-self: flex-end;width: 50%;}#sk-container-id-3 div.sk-parallel-item:last-child::after {align-self: flex-start;width: 50%;}#sk-container-id-3 div.sk-parallel-item:only-child::after {width: 0;}#sk-container-id-3 div.sk-dashed-wrapped {border: 1px dashed gray;margin: 0 0.4em 0.5em 0.4em;box-sizing: border-box;padding-bottom: 0.4em;background-color: white;}#sk-container-id-3 div.sk-label label {font-family: monospace;font-weight: bold;display: inline-block;line-height: 1.2em;}#sk-container-id-3 div.sk-label-container {text-align: center;}#sk-container-id-3 div.sk-container {/* jupyter's `normalize.less` sets `[hidden] { display: none; }` but bootstrap.min.css set `[hidden] { display: none !important; }` so we also need the `!important` here to be able to override the default hidden behavior on the sphinx rendered scikit-learn.org. See: https://github.com/scikit-learn/scikit-learn/issues/21755 */display: inline-block !important;position: relative;}#sk-container-id-3 div.sk-text-repr-fallback {display: none;}</style><div id=\"sk-container-id-3\" class=\"sk-top-container\"><div class=\"sk-text-repr-fallback\"><pre>LinearRegression()</pre><b>In a Jupyter environment, please rerun this cell to show the HTML representation or trust the notebook. <br />On GitHub, the HTML representation is unable to render, please try loading this page with nbviewer.org.</b></div><div class=\"sk-container\" hidden><div class=\"sk-item\"><div class=\"sk-estimator sk-toggleable\"><input class=\"sk-toggleable__control sk-hidden--visually\" id=\"sk-estimator-id-3\" type=\"checkbox\" checked><label for=\"sk-estimator-id-3\" class=\"sk-toggleable__label sk-toggleable__label-arrow\">LinearRegression</label><div class=\"sk-toggleable__content\"><pre>LinearRegression()</pre></div></div></div></div></div>"
            ]
          },
          "metadata": {},
          "execution_count": 68
        }
      ],
      "source": [
        "#fit the lin_reg on lgd_X_train_1,lgd_y_train_1\n",
        "lin_reg.fit(lgd_X_train_1,lgd_y_train_1)"
      ]
    },
    {
      "cell_type": "code",
      "execution_count": 69,
      "id": "9cafc941",
      "metadata": {
        "id": "9cafc941"
      },
      "outputs": [],
      "source": [
        "#predict the results\n",
        "pred_lin = lin_reg.predict(lgd_X_test_1)"
      ]
    },
    {
      "cell_type": "code",
      "execution_count": 70,
      "id": "b84a4458",
      "metadata": {
        "id": "b84a4458",
        "outputId": "f9847ef2-c287-400c-8209-b83ef82dd71e",
        "colab": {
          "base_uri": "https://localhost:8080/"
        }
      },
      "outputs": [
        {
          "output_type": "execute_result",
          "data": {
            "text/plain": [
              "array([0.11716497, 0.08414165, 0.08778261, ..., 0.037678  , 0.06252613,\n",
              "       0.13603351])"
            ]
          },
          "metadata": {},
          "execution_count": 70
        }
      ],
      "source": [
        "#check the predicted results\n",
        "pred_lin"
      ]
    },
    {
      "cell_type": "code",
      "execution_count": 72,
      "id": "83ad20ad",
      "metadata": {
        "id": "83ad20ad",
        "outputId": "97458111-4c0b-4bf8-f9f2-947bdf7e9b7c",
        "colab": {
          "base_uri": "https://localhost:8080/"
        }
      },
      "outputs": [
        {
          "output_type": "execute_result",
          "data": {
            "text/plain": [
              "0.12312332617688282"
            ]
          },
          "metadata": {},
          "execution_count": 72
        }
      ],
      "source": [
        "#r2_score\n",
        "metrics.r2_score(lgd_y_test_1, pred_lin)"
      ]
    },
    {
      "cell_type": "code",
      "execution_count": 81,
      "id": "78337475",
      "metadata": {
        "id": "78337475",
        "outputId": "1b8cce95-615e-4177-c58e-28086117d4f0",
        "colab": {
          "base_uri": "https://localhost:8080/",
          "height": 463
        }
      },
      "outputs": [
        {
          "output_type": "display_data",
          "data": {
            "text/plain": [
              "<Figure size 640x480 with 1 Axes>"
            ],
            "image/png": "[encoded data removed]"
          },
          "metadata": {}
        }
      ],
      "source": [
        "#plot the distribution plot for lgd_target_test_2-pred_lin\n",
        "sns.distplot(lgd_y_test_1-pred_lin)\n",
        "\n",
        "plt.show()"
      ]
    },
    {
      "cell_type": "code",
      "execution_count": 82,
      "id": "da0f73e3",
      "metadata": {
        "id": "da0f73e3"
      },
      "outputs": [],
      "source": [
        "#save the model using pickle\n",
        "pickle.dump(lin_reg,open('lgd_stage_2.sav','wb'))"
      ]
    },
    {
      "cell_type": "markdown",
      "id": "b61e1b61",
      "metadata": {
        "id": "b61e1b61"
      },
      "source": [
        "# combination of stage1 and stage2"
      ]
    },
    {
      "cell_type": "markdown",
      "id": "KqeA0iaXI5DV",
      "metadata": {
        "id": "KqeA0iaXI5DV"
      },
      "source": [
        "we will multiply the results of stage_1 and stage_2"
      ]
    },
    {
      "cell_type": "code",
      "execution_count": 83,
      "id": "52b38a12",
      "metadata": {
        "id": "52b38a12"
      },
      "outputs": [],
      "source": [
        "#predict the results of stage_1 test i.e lgd_X_test using the ln_reg method\n",
        "pred_stage_2_all = lin_reg.predict(lgd_X_test)"
      ]
    },
    {
      "cell_type": "code",
      "execution_count": 84,
      "id": "7734605c",
      "metadata": {
        "id": "7734605c",
        "outputId": "62412541-4a48-4b2f-c723-8c314ddb8e33",
        "colab": {
          "base_uri": "https://localhost:8080/"
        }
      },
      "outputs": [
        {
          "output_type": "execute_result",
          "data": {
            "text/plain": [
              "array([0.08706991, 0.16170824, 0.11781455, ..., 0.09673476, 0.12492286,\n",
              "       0.11432704])"
            ]
          },
          "metadata": {},
          "execution_count": 84
        }
      ],
      "source": [
        "#print the pred_stage_2_all\n",
        "pred_stage_2_all"
      ]
    },
    {
      "cell_type": "code",
      "execution_count": 85,
      "id": "bd7f8ff4",
      "metadata": {
        "id": "bd7f8ff4",
        "outputId": "b69af8b6-4c0d-4c1c-c3bc-189ab6ddf3e9",
        "colab": {
          "base_uri": "https://localhost:8080/"
        }
      },
      "outputs": [
        {
          "output_type": "stream",
          "name": "stdout",
          "text": [
            "8138 8138\n"
          ]
        }
      ],
      "source": [
        "#make sure that the length of pred and pred_stage_2_all is same becoz we will combine the results by multiplying them\n",
        "print(len(pred),len(pred_stage_2_all))"
      ]
    },
    {
      "cell_type": "code",
      "execution_count": 86,
      "id": "6e76d999",
      "metadata": {
        "id": "6e76d999"
      },
      "outputs": [],
      "source": [
        "#multiply the stage_1 and stage_2 results\n",
        "pred_lgd_final = pred * pred_stage_2_all"
      ]
    },
    {
      "cell_type": "code",
      "execution_count": 87,
      "id": "8bb80168",
      "metadata": {
        "id": "8bb80168",
        "outputId": "51da3420-a775-4e2a-de66-012ce2eba717",
        "colab": {
          "base_uri": "https://localhost:8080/"
        }
      },
      "outputs": [
        {
          "output_type": "execute_result",
          "data": {
            "text/plain": [
              "array([0.08706991, 0.16170824, 0.        , ..., 0.09673476, 0.        ,\n",
              "       0.        ])"
            ]
          },
          "metadata": {},
          "execution_count": 87
        }
      ],
      "source": [
        "#print the pred_lgd_final\n",
        "pred_lgd_final"
      ]
    },
    {
      "cell_type": "code",
      "execution_count": 88,
      "id": "7544f2ad",
      "metadata": {
        "id": "7544f2ad",
        "outputId": "2784fcfe-a017-4ff8-985f-93da3cbb0cf7",
        "colab": {
          "base_uri": "https://localhost:8080/",
          "height": 300
        }
      },
      "outputs": [
        {
          "output_type": "execute_result",
          "data": {
            "text/plain": [
              "                 0\n",
              "count  8138.000000\n",
              "mean      0.047408\n",
              "std       0.056693\n",
              "min       0.000000\n",
              "25%       0.000000\n",
              "50%       0.000000\n",
              "75%       0.098950\n",
              "max       0.279216"
            ],
            "text/html": [
              "\n",
              "  <div id=\"df-287d1eaa-63f2-4c15-9552-e860bbafee39\" class=\"colab-df-container\">\n",
              "    <div>\n",
              "<style scoped>\n",
              "    .dataframe tbody tr th:only-of-type {\n",
              "        vertical-align: middle;\n",
              "    }\n",
              "\n",
              "    .dataframe tbody tr th {\n",
              "        vertical-align: top;\n",
              "    }\n",
              "\n",
              "    .dataframe thead th {\n",
              "        text-align: right;\n",
              "    }\n",
              "</style>\n",
              "<table border=\"1\" class=\"dataframe\">\n",
              "  <thead>\n",
              "    <tr style=\"text-align: right;\">\n",
              "      <th></th>\n",
              "      <th>0</th>\n",
              "    </tr>\n",
              "  </thead>\n",
              "  <tbody>\n",
              "    <tr>\n",
              "      <th>count</th>\n",
              "      <td>8138.000000</td>\n",
              "    </tr>\n",
              "    <tr>\n",
              "      <th>mean</th>\n",
              "      <td>0.047408</td>\n",
              "    </tr>\n",
              "    <tr>\n",
              "      <th>std</th>\n",
              "      <td>0.056693</td>\n",
              "    </tr>\n",
              "    <tr>\n",
              "      <th>min</th>\n",
              "      <td>0.000000</td>\n",
              "    </tr>\n",
              "    <tr>\n",
              "      <th>25%</th>\n",
              "      <td>0.000000</td>\n",
              "    </tr>\n",
              "    <tr>\n",
              "      <th>50%</th>\n",
              "      <td>0.000000</td>\n",
              "    </tr>\n",
              "    <tr>\n",
              "      <th>75%</th>\n",
              "      <td>0.098950</td>\n",
              "    </tr>\n",
              "    <tr>\n",
              "      <th>max</th>\n",
              "      <td>0.279216</td>\n",
              "    </tr>\n",
              "  </tbody>\n",
              "</table>\n",
              "</div>\n",
              "    <div class=\"colab-df-buttons\">\n",
              "\n",
              "  <div class=\"colab-df-container\">\n",
              "    <button class=\"colab-df-convert\" onclick=\"convertToInteractive('df-287d1eaa-63f2-4c15-9552-e860bbafee39')\"\n",
              "            title=\"Convert this dataframe to an interactive table.\"\n",
              "            style=\"display:none;\">\n",
              "\n",
              "  <svg xmlns=\"http://www.w3.org/2000/svg\" height=\"24px\" viewBox=\"0 -960 960 960\">\n",
              "    <path d=\"M120-120v-720h720v720H120Zm60-500h600v-160H180v160Zm220 220h160v-160H400v160Zm0 220h160v-160H400v160ZM180-400h160v-160H180v160Zm440 0h160v-160H620v160ZM180-180h160v-160H180v160Zm440 0h160v-160H620v160Z\"/>\n",
              "  </svg>\n",
              "    </button>\n",
              "\n",
              "  <style>\n",
              "    .colab-df-container {\n",
              "      display:flex;\n",
              "      gap: 12px;\n",
              "    }\n",
              "\n",
              "    .colab-df-convert {\n",
              "      background-color: #E8F0FE;\n",
              "      border: none;\n",
              "      border-radius: 50%;\n",
              "      cursor: pointer;\n",
              "      display: none;\n",
              "      fill: #1967D2;\n",
              "      height: 32px;\n",
              "      padding: 0 0 0 0;\n",
              "      width: 32px;\n",
              "    }\n",
              "\n",
              "    .colab-df-convert:hover {\n",
              "      background-color: #E2EBFA;\n",
              "      box-shadow: 0px 1px 2px rgba(60, 64, 67, 0.3), 0px 1px 3px 1px rgba(60, 64, 67, 0.15);\n",
              "      fill: #174EA6;\n",
              "    }\n",
              "\n",
              "    .colab-df-buttons div {\n",
              "      margin-bottom: 4px;\n",
              "    }\n",
              "\n",
              "    [theme=dark] .colab-df-convert {\n",
              "      background-color: #3B4455;\n",
              "      fill: #D2E3FC;\n",
              "    }\n",
              "\n",
              "    [theme=dark] .colab-df-convert:hover {\n",
              "      background-color: #434B5C;\n",
              "      box-shadow: 0px 1px 3px 1px rgba(0, 0, 0, 0.15);\n",
              "      filter: drop-shadow(0px 1px 2px rgba(0, 0, 0, 0.3));\n",
              "      fill: #FFFFFF;\n",
              "    }\n",
              "  </style>\n",
              "\n",
              "    <script>\n",
              "      const buttonEl =\n",
              "        document.querySelector('#df-287d1eaa-63f2-4c15-9552-e860bbafee39 button.colab-df-convert');\n",
              "      buttonEl.style.display =\n",
              "        google.colab.kernel.accessAllowed ? 'block' : 'none';\n",
              "\n",
              "      async function convertToInteractive(key) {\n",
              "        const element = document.querySelector('#df-287d1eaa-63f2-4c15-9552-e860bbafee39');\n",
              "        const dataTable =\n",
              "          await google.colab.kernel.invokeFunction('convertToInteractive',\n",
              "                                                    [key], {});\n",
              "        if (!dataTable) return;\n",
              "\n",
              "        const docLinkHtml = 'Like what you see? Visit the ' +\n",
              "          '<a target=\"_blank\" href=https://colab.research.google.com/notebooks/data_table.ipynb>data table notebook</a>'\n",
              "          + ' to learn more about interactive tables.';\n",
              "        element.innerHTML = '';\n",
              "        dataTable['output_type'] = 'display_data';\n",
              "        await google.colab.output.renderOutput(dataTable, element);\n",
              "        const docLink = document.createElement('div');\n",
              "        docLink.innerHTML = docLinkHtml;\n",
              "        element.appendChild(docLink);\n",
              "      }\n",
              "    </script>\n",
              "  </div>\n",
              "\n",
              "\n",
              "<div id=\"df-b36cac93-dfca-4f2d-ac93-dfcad47e60aa\">\n",
              "  <button class=\"colab-df-quickchart\" onclick=\"quickchart('df-b36cac93-dfca-4f2d-ac93-dfcad47e60aa')\"\n",
              "            title=\"Suggest charts.\"\n",
              "            style=\"display:none;\">\n",
              "\n",
              "<svg xmlns=\"http://www.w3.org/2000/svg\" height=\"24px\"viewBox=\"0 0 24 24\"\n",
              "     width=\"24px\">\n",
              "    <g>\n",
              "        <path d=\"M19 3H5c-1.1 0-2 .9-2 2v14c0 1.1.9 2 2 2h14c1.1 0 2-.9 2-2V5c0-1.1-.9-2-2-2zM9 17H7v-7h2v7zm4 0h-2V7h2v10zm4 0h-2v-4h2v4z\"/>\n",
              "    </g>\n",
              "</svg>\n",
              "  </button>\n",
              "\n",
              "<style>\n",
              "  .colab-df-quickchart {\n",
              "    background-color: #E8F0FE;\n",
              "    border: none;\n",
              "    border-radius: 50%;\n",
              "    cursor: pointer;\n",
              "    display: none;\n",
              "    fill: #1967D2;\n",
              "    height: 32px;\n",
              "    padding: 0 0 0 0;\n",
              "    width: 32px;\n",
              "  }\n",
              "\n",
              "  .colab-df-quickchart:hover {\n",
              "    background-color: #E2EBFA;\n",
              "    box-shadow: 0px 1px 2px rgba(60, 64, 67, 0.3), 0px 1px 3px 1px rgba(60, 64, 67, 0.15);\n",
              "    fill: #174EA6;\n",
              "  }\n",
              "\n",
              "  [theme=dark] .colab-df-quickchart {\n",
              "    background-color: #3B4455;\n",
              "    fill: #D2E3FC;\n",
              "  }\n",
              "\n",
              "  [theme=dark] .colab-df-quickchart:hover {\n",
              "    background-color: #434B5C;\n",
              "    box-shadow: 0px 1px 3px 1px rgba(0, 0, 0, 0.15);\n",
              "    filter: drop-shadow(0px 1px 2px rgba(0, 0, 0, 0.3));\n",
              "    fill: #FFFFFF;\n",
              "  }\n",
              "</style>\n",
              "\n",
              "  <script>\n",
              "    async function quickchart(key) {\n",
              "      const charts = await google.colab.kernel.invokeFunction(\n",
              "          'suggestCharts', [key], {});\n",
              "    }\n",
              "    (() => {\n",
              "      let quickchartButtonEl =\n",
              "        document.querySelector('#df-b36cac93-dfca-4f2d-ac93-dfcad47e60aa button');\n",
              "      quickchartButtonEl.style.display =\n",
              "        google.colab.kernel.accessAllowed ? 'block' : 'none';\n",
              "    })();\n",
              "  </script>\n",
              "</div>\n",
              "    </div>\n",
              "  </div>\n"
            ]
          },
          "metadata": {},
          "execution_count": 88
        }
      ],
      "source": [
        "#check the basic stats of pred_lgd_final\n",
        "pd.DataFrame(pred_lgd_final).describe()"
      ]
    },
    {
      "cell_type": "markdown",
      "id": "50feeea8",
      "metadata": {
        "id": "50feeea8"
      },
      "source": [
        "# EAD MODEL"
      ]
    },
    {
      "cell_type": "code",
      "execution_count": 89,
      "id": "4d988b97",
      "metadata": {
        "id": "4d988b97",
        "outputId": "7772ecfc-b4f1-447b-8365-4ecdaba4cb31",
        "colab": {
          "base_uri": "https://localhost:8080/"
        }
      },
      "outputs": [
        {
          "output_type": "execute_result",
          "data": {
            "text/plain": [
              "Index(['loan_amnt', 'funded_amnt', 'int_rate', 'installment', 'recoveries',\n",
              "       'total_rec_prncp', 'grade:A', 'grade:B', 'grade:C', 'grade:D',\n",
              "       ...\n",
              "       'dti:35-40', 'dti:>40', 'mths_since_last_record:Missing',\n",
              "       'mths_since_last_record:0-3', 'mths_since_last_record:3-85',\n",
              "       'mths_since_last_record:85-120', 'mths_since_last_record:>=120',\n",
              "       'recovery_rate', 'CCF', 'recovery_rate_0_1'],\n",
              "      dtype='object', length=145)"
            ]
          },
          "metadata": {},
          "execution_count": 89
        }
      ],
      "source": [
        "#check the columns of loan_data_defaults\n",
        "loan_data_defaults.columns"
      ]
    },
    {
      "cell_type": "code",
      "execution_count": 96,
      "id": "31bf23a7",
      "metadata": {
        "id": "31bf23a7"
      },
      "outputs": [],
      "source": [
        "#Train test split using the CCF as output feature\n",
        "ead_X_train, ead_X_test, ead_y_train, ead_y_test = train_test_split(loan_data_defaults.drop(['recoveries','recovery_rate','recovery_rate_0_1','CCF'],axis=1),loan_data_defaults['CCF'],test_size=0.2,random_state=1)"
      ]
    },
    {
      "cell_type": "code",
      "execution_count": 97,
      "id": "a9434967",
      "metadata": {
        "id": "a9434967"
      },
      "outputs": [],
      "source": [
        "#drop the refrence categories\n",
        "ead_X_train= ead_X_train.drop(ref_category_col, axis = 1)"
      ]
    },
    {
      "cell_type": "code",
      "execution_count": 98,
      "id": "6a49000d",
      "metadata": {
        "id": "6a49000d"
      },
      "outputs": [],
      "source": [
        "#drop the refrence categories from ead_X_test\n",
        "ead_X_test = ead_X_test.drop(ref_category_col, axis = 1)"
      ]
    },
    {
      "cell_type": "code",
      "execution_count": 99,
      "id": "767026e5",
      "metadata": {
        "id": "767026e5",
        "outputId": "f59f357e-7fbe-4b98-ffbc-92863af29aca",
        "colab": {
          "base_uri": "https://localhost:8080/",
          "height": 75
        }
      },
      "outputs": [
        {
          "output_type": "execute_result",
          "data": {
            "text/plain": [
              "LinearRegression()"
            ],
            "text/html": [
              "<style>#sk-container-id-4 {color: black;background-color: white;}#sk-container-id-4 pre{padding: 0;}#sk-container-id-4 div.sk-toggleable {background-color: white;}#sk-container-id-4 label.sk-toggleable__label {cursor: pointer;display: block;width: 100%;margin-bottom: 0;padding: 0.3em;box-sizing: border-box;text-align: center;}#sk-container-id-4 label.sk-toggleable__label-arrow:before {content: \"▸\";float: left;margin-right: 0.25em;color: #696969;}#sk-container-id-4 label.sk-toggleable__label-arrow:hover:before {color: black;}#sk-container-id-4 div.sk-estimator:hover label.sk-toggleable__label-arrow:before {color: black;}#sk-container-id-4 div.sk-toggleable__content {max-height: 0;max-width: 0;overflow: hidden;text-align: left;background-color: #f0f8ff;}#sk-container-id-4 div.sk-toggleable__content pre {margin: 0.2em;color: black;border-radius: 0.25em;background-color: #f0f8ff;}#sk-container-id-4 input.sk-toggleable__control:checked~div.sk-toggleable__content {max-height: 200px;max-width: 100%;overflow: auto;}#sk-container-id-4 input.sk-toggleable__control:checked~label.sk-toggleable__label-arrow:before {content: \"▾\";}#sk-container-id-4 div.sk-estimator input.sk-toggleable__control:checked~label.sk-toggleable__label {background-color: #d4ebff;}#sk-container-id-4 div.sk-label input.sk-toggleable__control:checked~label.sk-toggleable__label {background-color: #d4ebff;}#sk-container-id-4 input.sk-hidden--visually {border: 0;clip: rect(1px 1px 1px 1px);clip: rect(1px, 1px, 1px, 1px);height: 1px;margin: -1px;overflow: hidden;padding: 0;position: absolute;width: 1px;}#sk-container-id-4 div.sk-estimator {font-family: monospace;background-color: #f0f8ff;border: 1px dotted black;border-radius: 0.25em;box-sizing: border-box;margin-bottom: 0.5em;}#sk-container-id-4 div.sk-estimator:hover {background-color: #d4ebff;}#sk-container-id-4 div.sk-parallel-item::after {content: \"\";width: 100%;border-bottom: 1px solid gray;flex-grow: 1;}#sk-container-id-4 div.sk-label:hover label.sk-toggleable__label {background-color: #d4ebff;}#sk-container-id-4 div.sk-serial::before {content: \"\";position: absolute;border-left: 1px solid gray;box-sizing: border-box;top: 0;bottom: 0;left: 50%;z-index: 0;}#sk-container-id-4 div.sk-serial {display: flex;flex-direction: column;align-items: center;background-color: white;padding-right: 0.2em;padding-left: 0.2em;position: relative;}#sk-container-id-4 div.sk-item {position: relative;z-index: 1;}#sk-container-id-4 div.sk-parallel {display: flex;align-items: stretch;justify-content: center;background-color: white;position: relative;}#sk-container-id-4 div.sk-item::before, #sk-container-id-4 div.sk-parallel-item::before {content: \"\";position: absolute;border-left: 1px solid gray;box-sizing: border-box;top: 0;bottom: 0;left: 50%;z-index: -1;}#sk-container-id-4 div.sk-parallel-item {display: flex;flex-direction: column;z-index: 1;position: relative;background-color: white;}#sk-container-id-4 div.sk-parallel-item:first-child::after {align-self: flex-end;width: 50%;}#sk-container-id-4 div.sk-parallel-item:last-child::after {align-self: flex-start;width: 50%;}#sk-container-id-4 div.sk-parallel-item:only-child::after {width: 0;}#sk-container-id-4 div.sk-dashed-wrapped {border: 1px dashed gray;margin: 0 0.4em 0.5em 0.4em;box-sizing: border-box;padding-bottom: 0.4em;background-color: white;}#sk-container-id-4 div.sk-label label {font-family: monospace;font-weight: bold;display: inline-block;line-height: 1.2em;}#sk-container-id-4 div.sk-label-container {text-align: center;}#sk-container-id-4 div.sk-container {/* jupyter's `normalize.less` sets `[hidden] { display: none; }` but bootstrap.min.css set `[hidden] { display: none !important; }` so we also need the `!important` here to be able to override the default hidden behavior on the sphinx rendered scikit-learn.org. See: https://github.com/scikit-learn/scikit-learn/issues/21755 */display: inline-block !important;position: relative;}#sk-container-id-4 div.sk-text-repr-fallback {display: none;}</style><div id=\"sk-container-id-4\" class=\"sk-top-container\"><div class=\"sk-text-repr-fallback\"><pre>LinearRegression()</pre><b>In a Jupyter environment, please rerun this cell to show the HTML representation or trust the notebook. <br />On GitHub, the HTML representation is unable to render, please try loading this page with nbviewer.org.</b></div><div class=\"sk-container\" hidden><div class=\"sk-item\"><div class=\"sk-estimator sk-toggleable\"><input class=\"sk-toggleable__control sk-hidden--visually\" id=\"sk-estimator-id-4\" type=\"checkbox\" checked><label for=\"sk-estimator-id-4\" class=\"sk-toggleable__label sk-toggleable__label-arrow\">LinearRegression</label><div class=\"sk-toggleable__content\"><pre>LinearRegression()</pre></div></div></div></div></div>"
            ]
          },
          "metadata": {},
          "execution_count": 99
        }
      ],
      "source": [
        "#create linear regression object and fit it on ead_X_train,ead_y_train\n",
        "reg_ead = LinearRegression()\n",
        "reg_ead.fit(ead_X_train,ead_y_train)"
      ]
    },
    {
      "cell_type": "code",
      "execution_count": 100,
      "id": "d42c0adb",
      "metadata": {
        "id": "d42c0adb"
      },
      "outputs": [],
      "source": [
        "#predict the results of ead_inputs_test\n",
        "y_pred_test_ead =reg_ead.predict(ead_X_test)"
      ]
    },
    {
      "cell_type": "code",
      "execution_count": 101,
      "id": "d55201f0",
      "metadata": {
        "id": "d55201f0",
        "outputId": "6c7ee116-3744-47da-ad92-7e03a96c6c1e",
        "colab": {
          "base_uri": "https://localhost:8080/"
        }
      },
      "outputs": [
        {
          "output_type": "execute_result",
          "data": {
            "text/plain": [
              "array([0.79098273, 0.68424087, 0.74974949, ..., 0.70980991, 0.70798213,\n",
              "       0.74629837])"
            ]
          },
          "metadata": {},
          "execution_count": 101
        }
      ],
      "source": [
        "#print the results\n",
        "y_pred_test_ead"
      ]
    },
    {
      "cell_type": "code",
      "execution_count": 102,
      "id": "8932d0a5",
      "metadata": {
        "id": "8932d0a5",
        "outputId": "12edc859-dbe3-462e-b434-ef34ddfd890e",
        "colab": {
          "base_uri": "https://localhost:8080/",
          "height": 475
        }
      },
      "outputs": [
        {
          "output_type": "execute_result",
          "data": {
            "text/plain": [
              "<Axes: xlabel='CCF', ylabel='Density'>"
            ]
          },
          "metadata": {},
          "execution_count": 102
        },
        {
          "output_type": "display_data",
          "data": {
            "text/plain": [
              "<Figure size 640x480 with 1 Axes>"
            ],
            "image/png": "[encoded data removed]"
          },
          "metadata": {}
        }
      ],
      "source": [
        "#plot the distribution plot of ead_targets_test-y_pred_test_ead\n",
        "sns.distplot(ead_y_test-y_pred_test_ead)"
      ]
    },
    {
      "cell_type": "code",
      "execution_count": 103,
      "id": "33ec4798",
      "metadata": {
        "id": "33ec4798",
        "outputId": "2eb7c503-a25e-408b-b25a-dda5b9fa0b0f",
        "colab": {
          "base_uri": "https://localhost:8080/",
          "height": 300
        }
      },
      "outputs": [
        {
          "output_type": "execute_result",
          "data": {
            "text/plain": [
              "                 0\n",
              "count  8138.000000\n",
              "mean      0.719685\n",
              "std       0.178817\n",
              "min      -0.545071\n",
              "25%       0.630831\n",
              "50%       0.728718\n",
              "75%       0.836255\n",
              "max       1.259043"
            ],
            "text/html": [
              "\n",
              "  <div id=\"df-d1c673ac-10cc-4c53-b0aa-21affbc7cf0b\" class=\"colab-df-container\">\n",
              "    <div>\n",
              "<style scoped>\n",
              "    .dataframe tbody tr th:only-of-type {\n",
              "        vertical-align: middle;\n",
              "    }\n",
              "\n",
              "    .dataframe tbody tr th {\n",
              "        vertical-align: top;\n",
              "    }\n",
              "\n",
              "    .dataframe thead th {\n",
              "        text-align: right;\n",
              "    }\n",
              "</style>\n",
              "<table border=\"1\" class=\"dataframe\">\n",
              "  <thead>\n",
              "    <tr style=\"text-align: right;\">\n",
              "      <th></th>\n",
              "      <th>0</th>\n",
              "    </tr>\n",
              "  </thead>\n",
              "  <tbody>\n",
              "    <tr>\n",
              "      <th>count</th>\n",
              "      <td>8138.000000</td>\n",
              "    </tr>\n",
              "    <tr>\n",
              "      <th>mean</th>\n",
              "      <td>0.719685</td>\n",
              "    </tr>\n",
              "    <tr>\n",
              "      <th>std</th>\n",
              "      <td>0.178817</td>\n",
              "    </tr>\n",
              "    <tr>\n",
              "      <th>min</th>\n",
              "      <td>-0.545071</td>\n",
              "    </tr>\n",
              "    <tr>\n",
              "      <th>25%</th>\n",
              "      <td>0.630831</td>\n",
              "    </tr>\n",
              "    <tr>\n",
              "      <th>50%</th>\n",
              "      <td>0.728718</td>\n",
              "    </tr>\n",
              "    <tr>\n",
              "      <th>75%</th>\n",
              "      <td>0.836255</td>\n",
              "    </tr>\n",
              "    <tr>\n",
              "      <th>max</th>\n",
              "      <td>1.259043</td>\n",
              "    </tr>\n",
              "  </tbody>\n",
              "</table>\n",
              "</div>\n",
              "    <div class=\"colab-df-buttons\">\n",
              "\n",
              "  <div class=\"colab-df-container\">\n",
              "    <button class=\"colab-df-convert\" onclick=\"convertToInteractive('df-d1c673ac-10cc-4c53-b0aa-21affbc7cf0b')\"\n",
              "            title=\"Convert this dataframe to an interactive table.\"\n",
              "            style=\"display:none;\">\n",
              "\n",
              "  <svg xmlns=\"http://www.w3.org/2000/svg\" height=\"24px\" viewBox=\"0 -960 960 960\">\n",
              "    <path d=\"M120-120v-720h720v720H120Zm60-500h600v-160H180v160Zm220 220h160v-160H400v160Zm0 220h160v-160H400v160ZM180-400h160v-160H180v160Zm440 0h160v-160H620v160ZM180-180h160v-160H180v160Zm440 0h160v-160H620v160Z\"/>\n",
              "  </svg>\n",
              "    </button>\n",
              "\n",
              "  <style>\n",
              "    .colab-df-container {\n",
              "      display:flex;\n",
              "      gap: 12px;\n",
              "    }\n",
              "\n",
              "    .colab-df-convert {\n",
              "      background-color: #E8F0FE;\n",
              "      border: none;\n",
              "      border-radius: 50%;\n",
              "      cursor: pointer;\n",
              "      display: none;\n",
              "      fill: #1967D2;\n",
              "      height: 32px;\n",
              "      padding: 0 0 0 0;\n",
              "      width: 32px;\n",
              "    }\n",
              "\n",
              "    .colab-df-convert:hover {\n",
              "      background-color: #E2EBFA;\n",
              "      box-shadow: 0px 1px 2px rgba(60, 64, 67, 0.3), 0px 1px 3px 1px rgba(60, 64, 67, 0.15);\n",
              "      fill: #174EA6;\n",
              "    }\n",
              "\n",
              "    .colab-df-buttons div {\n",
              "      margin-bottom: 4px;\n",
              "    }\n",
              "\n",
              "    [theme=dark] .colab-df-convert {\n",
              "      background-color: #3B4455;\n",
              "      fill: #D2E3FC;\n",
              "    }\n",
              "\n",
              "    [theme=dark] .colab-df-convert:hover {\n",
              "      background-color: #434B5C;\n",
              "      box-shadow: 0px 1px 3px 1px rgba(0, 0, 0, 0.15);\n",
              "      filter: drop-shadow(0px 1px 2px rgba(0, 0, 0, 0.3));\n",
              "      fill: #FFFFFF;\n",
              "    }\n",
              "  </style>\n",
              "\n",
              "    <script>\n",
              "      const buttonEl =\n",
              "        document.querySelector('#df-d1c673ac-10cc-4c53-b0aa-21affbc7cf0b button.colab-df-convert');\n",
              "      buttonEl.style.display =\n",
              "        google.colab.kernel.accessAllowed ? 'block' : 'none';\n",
              "\n",
              "      async function convertToInteractive(key) {\n",
              "        const element = document.querySelector('#df-d1c673ac-10cc-4c53-b0aa-21affbc7cf0b');\n",
              "        const dataTable =\n",
              "          await google.colab.kernel.invokeFunction('convertToInteractive',\n",
              "                                                    [key], {});\n",
              "        if (!dataTable) return;\n",
              "\n",
              "        const docLinkHtml = 'Like what you see? Visit the ' +\n",
              "          '<a target=\"_blank\" href=https://colab.research.google.com/notebooks/data_table.ipynb>data table notebook</a>'\n",
              "          + ' to learn more about interactive tables.';\n",
              "        element.innerHTML = '';\n",
              "        dataTable['output_type'] = 'display_data';\n",
              "        await google.colab.output.renderOutput(dataTable, element);\n",
              "        const docLink = document.createElement('div');\n",
              "        docLink.innerHTML = docLinkHtml;\n",
              "        element.appendChild(docLink);\n",
              "      }\n",
              "    </script>\n",
              "  </div>\n",
              "\n",
              "\n",
              "<div id=\"df-57aa1dd9-68df-4ca4-8f3f-5383a05b1f9c\">\n",
              "  <button class=\"colab-df-quickchart\" onclick=\"quickchart('df-57aa1dd9-68df-4ca4-8f3f-5383a05b1f9c')\"\n",
              "            title=\"Suggest charts.\"\n",
              "            style=\"display:none;\">\n",
              "\n",
              "<svg xmlns=\"http://www.w3.org/2000/svg\" height=\"24px\"viewBox=\"0 0 24 24\"\n",
              "     width=\"24px\">\n",
              "    <g>\n",
              "        <path d=\"M19 3H5c-1.1 0-2 .9-2 2v14c0 1.1.9 2 2 2h14c1.1 0 2-.9 2-2V5c0-1.1-.9-2-2-2zM9 17H7v-7h2v7zm4 0h-2V7h2v10zm4 0h-2v-4h2v4z\"/>\n",
              "    </g>\n",
              "</svg>\n",
              "  </button>\n",
              "\n",
              "<style>\n",
              "  .colab-df-quickchart {\n",
              "    background-color: #E8F0FE;\n",
              "    border: none;\n",
              "    border-radius: 50%;\n",
              "    cursor: pointer;\n",
              "    display: none;\n",
              "    fill: #1967D2;\n",
              "    height: 32px;\n",
              "    padding: 0 0 0 0;\n",
              "    width: 32px;\n",
              "  }\n",
              "\n",
              "  .colab-df-quickchart:hover {\n",
              "    background-color: #E2EBFA;\n",
              "    box-shadow: 0px 1px 2px rgba(60, 64, 67, 0.3), 0px 1px 3px 1px rgba(60, 64, 67, 0.15);\n",
              "    fill: #174EA6;\n",
              "  }\n",
              "\n",
              "  [theme=dark] .colab-df-quickchart {\n",
              "    background-color: #3B4455;\n",
              "    fill: #D2E3FC;\n",
              "  }\n",
              "\n",
              "  [theme=dark] .colab-df-quickchart:hover {\n",
              "    background-color: #434B5C;\n",
              "    box-shadow: 0px 1px 3px 1px rgba(0, 0, 0, 0.15);\n",
              "    filter: drop-shadow(0px 1px 2px rgba(0, 0, 0, 0.3));\n",
              "    fill: #FFFFFF;\n",
              "  }\n",
              "</style>\n",
              "\n",
              "  <script>\n",
              "    async function quickchart(key) {\n",
              "      const charts = await google.colab.kernel.invokeFunction(\n",
              "          'suggestCharts', [key], {});\n",
              "    }\n",
              "    (() => {\n",
              "      let quickchartButtonEl =\n",
              "        document.querySelector('#df-57aa1dd9-68df-4ca4-8f3f-5383a05b1f9c button');\n",
              "      quickchartButtonEl.style.display =\n",
              "        google.colab.kernel.accessAllowed ? 'block' : 'none';\n",
              "    })();\n",
              "  </script>\n",
              "</div>\n",
              "    </div>\n",
              "  </div>\n"
            ]
          },
          "metadata": {},
          "execution_count": 103
        }
      ],
      "source": [
        "#chekc the basic stats of y_pred_test_ead\n",
        "pd.DataFrame(y_pred_test_ead).describe()"
      ]
    },
    {
      "cell_type": "markdown",
      "id": "M0HRodUPKXT2",
      "metadata": {
        "id": "M0HRodUPKXT2"
      },
      "source": [
        "We see that some values are negitive and this predicted value is of CCF...so it can't be negitive"
      ]
    },
    {
      "cell_type": "code",
      "execution_count": 105,
      "id": "43d3d0d2",
      "metadata": {
        "id": "43d3d0d2"
      },
      "outputs": [],
      "source": [
        "#replace all the negitive values with 0 and all values which are greater than 1 with 1\n",
        "y_pred_test_ead = np.where(y_pred_test_ead < 0,0,y_pred_test_ead)\n",
        "y_pred_test_ead = np.where(y_pred_test_ead > 1,1,y_pred_test_ead)"
      ]
    },
    {
      "cell_type": "code",
      "execution_count": 106,
      "id": "ae19a353",
      "metadata": {
        "id": "ae19a353"
      },
      "outputs": [],
      "source": [
        "#save the EAD model\n",
        "pickle.dump(reg_ead,open('ead_model.sav','wb'))"
      ]
    },
    {
      "cell_type": "code",
      "execution_count": 107,
      "id": "22d7e0e7",
      "metadata": {
        "id": "22d7e0e7",
        "outputId": "ee7e497d-ca7d-41b5-8c9a-609544350692",
        "colab": {
          "base_uri": "https://localhost:8080/",
          "height": 300
        }
      },
      "outputs": [
        {
          "output_type": "execute_result",
          "data": {
            "text/plain": [
              "                 0\n",
              "count  8138.000000\n",
              "mean      0.718231\n",
              "std       0.171187\n",
              "min       0.000000\n",
              "25%       0.630831\n",
              "50%       0.728718\n",
              "75%       0.836255\n",
              "max       1.000000"
            ],
            "text/html": [
              "\n",
              "  <div id=\"df-b1d5ab10-e21e-419b-a89e-3dc793f65ed3\" class=\"colab-df-container\">\n",
              "    <div>\n",
              "<style scoped>\n",
              "    .dataframe tbody tr th:only-of-type {\n",
              "        vertical-align: middle;\n",
              "    }\n",
              "\n",
              "    .dataframe tbody tr th {\n",
              "        vertical-align: top;\n",
              "    }\n",
              "\n",
              "    .dataframe thead th {\n",
              "        text-align: right;\n",
              "    }\n",
              "</style>\n",
              "<table border=\"1\" class=\"dataframe\">\n",
              "  <thead>\n",
              "    <tr style=\"text-align: right;\">\n",
              "      <th></th>\n",
              "      <th>0</th>\n",
              "    </tr>\n",
              "  </thead>\n",
              "  <tbody>\n",
              "    <tr>\n",
              "      <th>count</th>\n",
              "      <td>8138.000000</td>\n",
              "    </tr>\n",
              "    <tr>\n",
              "      <th>mean</th>\n",
              "      <td>0.718231</td>\n",
              "    </tr>\n",
              "    <tr>\n",
              "      <th>std</th>\n",
              "      <td>0.171187</td>\n",
              "    </tr>\n",
              "    <tr>\n",
              "      <th>min</th>\n",
              "      <td>0.000000</td>\n",
              "    </tr>\n",
              "    <tr>\n",
              "      <th>25%</th>\n",
              "      <td>0.630831</td>\n",
              "    </tr>\n",
              "    <tr>\n",
              "      <th>50%</th>\n",
              "      <td>0.728718</td>\n",
              "    </tr>\n",
              "    <tr>\n",
              "      <th>75%</th>\n",
              "      <td>0.836255</td>\n",
              "    </tr>\n",
              "    <tr>\n",
              "      <th>max</th>\n",
              "      <td>1.000000</td>\n",
              "    </tr>\n",
              "  </tbody>\n",
              "</table>\n",
              "</div>\n",
              "    <div class=\"colab-df-buttons\">\n",
              "\n",
              "  <div class=\"colab-df-container\">\n",
              "    <button class=\"colab-df-convert\" onclick=\"convertToInteractive('df-b1d5ab10-e21e-419b-a89e-3dc793f65ed3')\"\n",
              "            title=\"Convert this dataframe to an interactive table.\"\n",
              "            style=\"display:none;\">\n",
              "\n",
              "  <svg xmlns=\"http://www.w3.org/2000/svg\" height=\"24px\" viewBox=\"0 -960 960 960\">\n",
              "    <path d=\"M120-120v-720h720v720H120Zm60-500h600v-160H180v160Zm220 220h160v-160H400v160Zm0 220h160v-160H400v160ZM180-400h160v-160H180v160Zm440 0h160v-160H620v160ZM180-180h160v-160H180v160Zm440 0h160v-160H620v160Z\"/>\n",
              "  </svg>\n",
              "    </button>\n",
              "\n",
              "  <style>\n",
              "    .colab-df-container {\n",
              "      display:flex;\n",
              "      gap: 12px;\n",
              "    }\n",
              "\n",
              "    .colab-df-convert {\n",
              "      background-color: #E8F0FE;\n",
              "      border: none;\n",
              "      border-radius: 50%;\n",
              "      cursor: pointer;\n",
              "      display: none;\n",
              "      fill: #1967D2;\n",
              "      height: 32px;\n",
              "      padding: 0 0 0 0;\n",
              "      width: 32px;\n",
              "    }\n",
              "\n",
              "    .colab-df-convert:hover {\n",
              "      background-color: #E2EBFA;\n",
              "      box-shadow: 0px 1px 2px rgba(60, 64, 67, 0.3), 0px 1px 3px 1px rgba(60, 64, 67, 0.15);\n",
              "      fill: #174EA6;\n",
              "    }\n",
              "\n",
              "    .colab-df-buttons div {\n",
              "      margin-bottom: 4px;\n",
              "    }\n",
              "\n",
              "    [theme=dark] .colab-df-convert {\n",
              "      background-color: #3B4455;\n",
              "      fill: #D2E3FC;\n",
              "    }\n",
              "\n",
              "    [theme=dark] .colab-df-convert:hover {\n",
              "      background-color: #434B5C;\n",
              "      box-shadow: 0px 1px 3px 1px rgba(0, 0, 0, 0.15);\n",
              "      filter: drop-shadow(0px 1px 2px rgba(0, 0, 0, 0.3));\n",
              "      fill: #FFFFFF;\n",
              "    }\n",
              "  </style>\n",
              "\n",
              "    <script>\n",
              "      const buttonEl =\n",
              "        document.querySelector('#df-b1d5ab10-e21e-419b-a89e-3dc793f65ed3 button.colab-df-convert');\n",
              "      buttonEl.style.display =\n",
              "        google.colab.kernel.accessAllowed ? 'block' : 'none';\n",
              "\n",
              "      async function convertToInteractive(key) {\n",
              "        const element = document.querySelector('#df-b1d5ab10-e21e-419b-a89e-3dc793f65ed3');\n",
              "        const dataTable =\n",
              "          await google.colab.kernel.invokeFunction('convertToInteractive',\n",
              "                                                    [key], {});\n",
              "        if (!dataTable) return;\n",
              "\n",
              "        const docLinkHtml = 'Like what you see? Visit the ' +\n",
              "          '<a target=\"_blank\" href=https://colab.research.google.com/notebooks/data_table.ipynb>data table notebook</a>'\n",
              "          + ' to learn more about interactive tables.';\n",
              "        element.innerHTML = '';\n",
              "        dataTable['output_type'] = 'display_data';\n",
              "        await google.colab.output.renderOutput(dataTable, element);\n",
              "        const docLink = document.createElement('div');\n",
              "        docLink.innerHTML = docLinkHtml;\n",
              "        element.appendChild(docLink);\n",
              "      }\n",
              "    </script>\n",
              "  </div>\n",
              "\n",
              "\n",
              "<div id=\"df-3cf1ba67-dcf7-43fe-90f3-80923cd5d9a5\">\n",
              "  <button class=\"colab-df-quickchart\" onclick=\"quickchart('df-3cf1ba67-dcf7-43fe-90f3-80923cd5d9a5')\"\n",
              "            title=\"Suggest charts.\"\n",
              "            style=\"display:none;\">\n",
              "\n",
              "<svg xmlns=\"http://www.w3.org/2000/svg\" height=\"24px\"viewBox=\"0 0 24 24\"\n",
              "     width=\"24px\">\n",
              "    <g>\n",
              "        <path d=\"M19 3H5c-1.1 0-2 .9-2 2v14c0 1.1.9 2 2 2h14c1.1 0 2-.9 2-2V5c0-1.1-.9-2-2-2zM9 17H7v-7h2v7zm4 0h-2V7h2v10zm4 0h-2v-4h2v4z\"/>\n",
              "    </g>\n",
              "</svg>\n",
              "  </button>\n",
              "\n",
              "<style>\n",
              "  .colab-df-quickchart {\n",
              "    background-color: #E8F0FE;\n",
              "    border: none;\n",
              "    border-radius: 50%;\n",
              "    cursor: pointer;\n",
              "    display: none;\n",
              "    fill: #1967D2;\n",
              "    height: 32px;\n",
              "    padding: 0 0 0 0;\n",
              "    width: 32px;\n",
              "  }\n",
              "\n",
              "  .colab-df-quickchart:hover {\n",
              "    background-color: #E2EBFA;\n",
              "    box-shadow: 0px 1px 2px rgba(60, 64, 67, 0.3), 0px 1px 3px 1px rgba(60, 64, 67, 0.15);\n",
              "    fill: #174EA6;\n",
              "  }\n",
              "\n",
              "  [theme=dark] .colab-df-quickchart {\n",
              "    background-color: #3B4455;\n",
              "    fill: #D2E3FC;\n",
              "  }\n",
              "\n",
              "  [theme=dark] .colab-df-quickchart:hover {\n",
              "    background-color: #434B5C;\n",
              "    box-shadow: 0px 1px 3px 1px rgba(0, 0, 0, 0.15);\n",
              "    filter: drop-shadow(0px 1px 2px rgba(0, 0, 0, 0.3));\n",
              "    fill: #FFFFFF;\n",
              "  }\n",
              "</style>\n",
              "\n",
              "  <script>\n",
              "    async function quickchart(key) {\n",
              "      const charts = await google.colab.kernel.invokeFunction(\n",
              "          'suggestCharts', [key], {});\n",
              "    }\n",
              "    (() => {\n",
              "      let quickchartButtonEl =\n",
              "        document.querySelector('#df-3cf1ba67-dcf7-43fe-90f3-80923cd5d9a5 button');\n",
              "      quickchartButtonEl.style.display =\n",
              "        google.colab.kernel.accessAllowed ? 'block' : 'none';\n",
              "    })();\n",
              "  </script>\n",
              "</div>\n",
              "    </div>\n",
              "  </div>\n"
            ]
          },
          "metadata": {},
          "execution_count": 107
        }
      ],
      "source": [
        "#now again check the basic stats of y_pred_test_ead\n",
        "pd.DataFrame(y_pred_test_ead).describe()"
      ]
    },
    {
      "cell_type": "markdown",
      "id": "ad274483",
      "metadata": {
        "id": "ad274483"
      },
      "source": [
        "# Calculating EL:"
      ]
    },
    {
      "cell_type": "markdown",
      "id": "yjfQev9TK2RQ",
      "metadata": {
        "id": "yjfQev9TK2RQ"
      },
      "source": [
        "### Expected Loss = PD * LGD * EAD"
      ]
    },
    {
      "cell_type": "code",
      "execution_count": 108,
      "id": "db6169a9",
      "metadata": {
        "id": "db6169a9",
        "outputId": "0cc9291d-d2d9-4874-d436-a996464c82cf",
        "colab": {
          "base_uri": "https://localhost:8080/"
        }
      },
      "outputs": [
        {
          "output_type": "execute_result",
          "data": {
            "text/plain": [
              "(8138, 119)"
            ]
          },
          "metadata": {},
          "execution_count": 108
        }
      ],
      "source": [
        "#check the shape of lgd_X_test\n",
        "lgd_X_test.shape"
      ]
    },
    {
      "cell_type": "code",
      "execution_count": 109,
      "id": "50c6418a",
      "metadata": {
        "id": "50c6418a",
        "outputId": "3f0841e6-6aef-43ff-dc0d-243fd32ff196",
        "colab": {
          "base_uri": "https://localhost:8080/"
        }
      },
      "outputs": [
        {
          "output_type": "execute_result",
          "data": {
            "text/plain": [
              "(8138,)"
            ]
          },
          "metadata": {},
          "execution_count": 109
        }
      ],
      "source": [
        "#check the shape of lgd_y_test\n",
        "lgd_y_test.shape"
      ]
    },
    {
      "cell_type": "code",
      "execution_count": 110,
      "id": "d36d1077",
      "metadata": {
        "id": "d36d1077"
      },
      "outputs": [],
      "source": [
        "#Take a testing sample as lgd_input_test and predict the EXPECTED LOSS\n",
        "testing_sample = lgd_X_test"
      ]
    },
    {
      "cell_type": "code",
      "execution_count": 111,
      "id": "2e3671ed",
      "metadata": {
        "id": "2e3671ed",
        "outputId": "bb997cb4-74e7-4974-a474-ca313011cc13",
        "colab": {
          "base_uri": "https://localhost:8080/"
        }
      },
      "outputs": [
        {
          "output_type": "execute_result",
          "data": {
            "text/plain": [
              "(8138, 119)"
            ]
          },
          "metadata": {},
          "execution_count": 111
        }
      ],
      "source": [
        "#check the shape of testing_sample\n",
        "testing_sample.shape"
      ]
    },
    {
      "cell_type": "code",
      "execution_count": 112,
      "id": "c864e211",
      "metadata": {
        "id": "c864e211"
      },
      "outputs": [],
      "source": [
        "#create an empty dataframe that will store the final results\n",
        "testing_outcome = pd.DataFrame()"
      ]
    },
    {
      "cell_type": "code",
      "execution_count": 114,
      "id": "2d89dcb2",
      "metadata": {
        "id": "2d89dcb2"
      },
      "outputs": [],
      "source": [
        "#create columns for prediction of LGD_stage_1 and LGD_stage_2\n",
        "testing_outcome['recovery_rate_stage_1'] = lr_model.predict(testing_sample)\n",
        "testing_outcome['recovery_rate_stage_2'] = lin_reg.predict(testing_sample)"
      ]
    },
    {
      "cell_type": "code",
      "execution_count": 116,
      "id": "2424425a",
      "metadata": {
        "id": "2424425a"
      },
      "outputs": [],
      "source": [
        "#create a new column recovery_rate that will have the fianl results of LGD_Model i.e the combition of stage_1 and stage_2\n",
        "testing_outcome['recovery_rate'] = testing_outcome['recovery_rate_stage_1'] * testing_outcome['recovery_rate_stage_2']"
      ]
    },
    {
      "cell_type": "code",
      "execution_count": 117,
      "id": "3a325855",
      "metadata": {
        "id": "3a325855",
        "outputId": "2790947d-c714-4212-d019-cdcbfc313486",
        "colab": {
          "base_uri": "https://localhost:8080/",
          "height": 363
        }
      },
      "outputs": [
        {
          "output_type": "execute_result",
          "data": {
            "text/plain": [
              "   recovery_rate_stage_1  recovery_rate_stage_2  recovery_rate\n",
              "0                      1               0.087070       0.087070\n",
              "1                      1               0.161708       0.161708\n",
              "2                      0               0.117815       0.000000\n",
              "3                      1               0.156764       0.156764\n",
              "4                      1               0.080229       0.080229\n",
              "5                      0               0.121320       0.000000\n",
              "6                      0               0.073089       0.000000\n",
              "7                      1               0.129711       0.129711\n",
              "8                      1               0.064100       0.064100\n",
              "9                      1               0.088237       0.088237"
            ],
            "text/html": [
              "\n",
              "  <div id=\"df-1dc03bca-ca0e-402c-ad3b-1485dbef9739\" class=\"colab-df-container\">\n",
              "    <div>\n",
              "<style scoped>\n",
              "    .dataframe tbody tr th:only-of-type {\n",
              "        vertical-align: middle;\n",
              "    }\n",
              "\n",
              "    .dataframe tbody tr th {\n",
              "        vertical-align: top;\n",
              "    }\n",
              "\n",
              "    .dataframe thead th {\n",
              "        text-align: right;\n",
              "    }\n",
              "</style>\n",
              "<table border=\"1\" class=\"dataframe\">\n",
              "  <thead>\n",
              "    <tr style=\"text-align: right;\">\n",
              "      <th></th>\n",
              "      <th>recovery_rate_stage_1</th>\n",
              "      <th>recovery_rate_stage_2</th>\n",
              "      <th>recovery_rate</th>\n",
              "    </tr>\n",
              "  </thead>\n",
              "  <tbody>\n",
              "    <tr>\n",
              "      <th>0</th>\n",
              "      <td>1</td>\n",
              "      <td>0.087070</td>\n",
              "      <td>0.087070</td>\n",
              "    </tr>\n",
              "    <tr>\n",
              "      <th>1</th>\n",
              "      <td>1</td>\n",
              "      <td>0.161708</td>\n",
              "      <td>0.161708</td>\n",
              "    </tr>\n",
              "    <tr>\n",
              "      <th>2</th>\n",
              "      <td>0</td>\n",
              "      <td>0.117815</td>\n",
              "      <td>0.000000</td>\n",
              "    </tr>\n",
              "    <tr>\n",
              "      <th>3</th>\n",
              "      <td>1</td>\n",
              "      <td>0.156764</td>\n",
              "      <td>0.156764</td>\n",
              "    </tr>\n",
              "    <tr>\n",
              "      <th>4</th>\n",
              "      <td>1</td>\n",
              "      <td>0.080229</td>\n",
              "      <td>0.080229</td>\n",
              "    </tr>\n",
              "    <tr>\n",
              "      <th>5</th>\n",
              "      <td>0</td>\n",
              "      <td>0.121320</td>\n",
              "      <td>0.000000</td>\n",
              "    </tr>\n",
              "    <tr>\n",
              "      <th>6</th>\n",
              "      <td>0</td>\n",
              "      <td>0.073089</td>\n",
              "      <td>0.000000</td>\n",
              "    </tr>\n",
              "    <tr>\n",
              "      <th>7</th>\n",
              "      <td>1</td>\n",
              "      <td>0.129711</td>\n",
              "      <td>0.129711</td>\n",
              "    </tr>\n",
              "    <tr>\n",
              "      <th>8</th>\n",
              "      <td>1</td>\n",
              "      <td>0.064100</td>\n",
              "      <td>0.064100</td>\n",
              "    </tr>\n",
              "    <tr>\n",
              "      <th>9</th>\n",
              "      <td>1</td>\n",
              "      <td>0.088237</td>\n",
              "      <td>0.088237</td>\n",
              "    </tr>\n",
              "  </tbody>\n",
              "</table>\n",
              "</div>\n",
              "    <div class=\"colab-df-buttons\">\n",
              "\n",
              "  <div class=\"colab-df-container\">\n",
              "    <button class=\"colab-df-convert\" onclick=\"convertToInteractive('df-1dc03bca-ca0e-402c-ad3b-1485dbef9739')\"\n",
              "            title=\"Convert this dataframe to an interactive table.\"\n",
              "            style=\"display:none;\">\n",
              "\n",
              "  <svg xmlns=\"http://www.w3.org/2000/svg\" height=\"24px\" viewBox=\"0 -960 960 960\">\n",
              "    <path d=\"M120-120v-720h720v720H120Zm60-500h600v-160H180v160Zm220 220h160v-160H400v160Zm0 220h160v-160H400v160ZM180-400h160v-160H180v160Zm440 0h160v-160H620v160ZM180-180h160v-160H180v160Zm440 0h160v-160H620v160Z\"/>\n",
              "  </svg>\n",
              "    </button>\n",
              "\n",
              "  <style>\n",
              "    .colab-df-container {\n",
              "      display:flex;\n",
              "      gap: 12px;\n",
              "    }\n",
              "\n",
              "    .colab-df-convert {\n",
              "      background-color: #E8F0FE;\n",
              "      border: none;\n",
              "      border-radius: 50%;\n",
              "      cursor: pointer;\n",
              "      display: none;\n",
              "      fill: #1967D2;\n",
              "      height: 32px;\n",
              "      padding: 0 0 0 0;\n",
              "      width: 32px;\n",
              "    }\n",
              "\n",
              "    .colab-df-convert:hover {\n",
              "      background-color: #E2EBFA;\n",
              "      box-shadow: 0px 1px 2px rgba(60, 64, 67, 0.3), 0px 1px 3px 1px rgba(60, 64, 67, 0.15);\n",
              "      fill: #174EA6;\n",
              "    }\n",
              "\n",
              "    .colab-df-buttons div {\n",
              "      margin-bottom: 4px;\n",
              "    }\n",
              "\n",
              "    [theme=dark] .colab-df-convert {\n",
              "      background-color: #3B4455;\n",
              "      fill: #D2E3FC;\n",
              "    }\n",
              "\n",
              "    [theme=dark] .colab-df-convert:hover {\n",
              "      background-color: #434B5C;\n",
              "      box-shadow: 0px 1px 3px 1px rgba(0, 0, 0, 0.15);\n",
              "      filter: drop-shadow(0px 1px 2px rgba(0, 0, 0, 0.3));\n",
              "      fill: #FFFFFF;\n",
              "    }\n",
              "  </style>\n",
              "\n",
              "    <script>\n",
              "      const buttonEl =\n",
              "        document.querySelector('#df-1dc03bca-ca0e-402c-ad3b-1485dbef9739 button.colab-df-convert');\n",
              "      buttonEl.style.display =\n",
              "        google.colab.kernel.accessAllowed ? 'block' : 'none';\n",
              "\n",
              "      async function convertToInteractive(key) {\n",
              "        const element = document.querySelector('#df-1dc03bca-ca0e-402c-ad3b-1485dbef9739');\n",
              "        const dataTable =\n",
              "          await google.colab.kernel.invokeFunction('convertToInteractive',\n",
              "                                                    [key], {});\n",
              "        if (!dataTable) return;\n",
              "\n",
              "        const docLinkHtml = 'Like what you see? Visit the ' +\n",
              "          '<a target=\"_blank\" href=https://colab.research.google.com/notebooks/data_table.ipynb>data table notebook</a>'\n",
              "          + ' to learn more about interactive tables.';\n",
              "        element.innerHTML = '';\n",
              "        dataTable['output_type'] = 'display_data';\n",
              "        await google.colab.output.renderOutput(dataTable, element);\n",
              "        const docLink = document.createElement('div');\n",
              "        docLink.innerHTML = docLinkHtml;\n",
              "        element.appendChild(docLink);\n",
              "      }\n",
              "    </script>\n",
              "  </div>\n",
              "\n",
              "\n",
              "<div id=\"df-a9e1fd7e-1110-470a-98e0-16fad4a0c5c3\">\n",
              "  <button class=\"colab-df-quickchart\" onclick=\"quickchart('df-a9e1fd7e-1110-470a-98e0-16fad4a0c5c3')\"\n",
              "            title=\"Suggest charts.\"\n",
              "            style=\"display:none;\">\n",
              "\n",
              "<svg xmlns=\"http://www.w3.org/2000/svg\" height=\"24px\"viewBox=\"0 0 24 24\"\n",
              "     width=\"24px\">\n",
              "    <g>\n",
              "        <path d=\"M19 3H5c-1.1 0-2 .9-2 2v14c0 1.1.9 2 2 2h14c1.1 0 2-.9 2-2V5c0-1.1-.9-2-2-2zM9 17H7v-7h2v7zm4 0h-2V7h2v10zm4 0h-2v-4h2v4z\"/>\n",
              "    </g>\n",
              "</svg>\n",
              "  </button>\n",
              "\n",
              "<style>\n",
              "  .colab-df-quickchart {\n",
              "    background-color: #E8F0FE;\n",
              "    border: none;\n",
              "    border-radius: 50%;\n",
              "    cursor: pointer;\n",
              "    display: none;\n",
              "    fill: #1967D2;\n",
              "    height: 32px;\n",
              "    padding: 0 0 0 0;\n",
              "    width: 32px;\n",
              "  }\n",
              "\n",
              "  .colab-df-quickchart:hover {\n",
              "    background-color: #E2EBFA;\n",
              "    box-shadow: 0px 1px 2px rgba(60, 64, 67, 0.3), 0px 1px 3px 1px rgba(60, 64, 67, 0.15);\n",
              "    fill: #174EA6;\n",
              "  }\n",
              "\n",
              "  [theme=dark] .colab-df-quickchart {\n",
              "    background-color: #3B4455;\n",
              "    fill: #D2E3FC;\n",
              "  }\n",
              "\n",
              "  [theme=dark] .colab-df-quickchart:hover {\n",
              "    background-color: #434B5C;\n",
              "    box-shadow: 0px 1px 3px 1px rgba(0, 0, 0, 0.15);\n",
              "    filter: drop-shadow(0px 1px 2px rgba(0, 0, 0, 0.3));\n",
              "    fill: #FFFFFF;\n",
              "  }\n",
              "</style>\n",
              "\n",
              "  <script>\n",
              "    async function quickchart(key) {\n",
              "      const charts = await google.colab.kernel.invokeFunction(\n",
              "          'suggestCharts', [key], {});\n",
              "    }\n",
              "    (() => {\n",
              "      let quickchartButtonEl =\n",
              "        document.querySelector('#df-a9e1fd7e-1110-470a-98e0-16fad4a0c5c3 button');\n",
              "      quickchartButtonEl.style.display =\n",
              "        google.colab.kernel.accessAllowed ? 'block' : 'none';\n",
              "    })();\n",
              "  </script>\n",
              "</div>\n",
              "    </div>\n",
              "  </div>\n"
            ]
          },
          "metadata": {},
          "execution_count": 117
        }
      ],
      "source": [
        "#check the head of testing_outcome\n",
        "testing_outcome.head(10)"
      ]
    },
    {
      "cell_type": "code",
      "execution_count": 124,
      "id": "7e6d622c",
      "metadata": {
        "id": "7e6d622c",
        "colab": {
          "base_uri": "https://localhost:8080/"
        },
        "outputId": "28b5d4ba-4e85-43e7-96f0-bf7444df6c12"
      },
      "outputs": [
        {
          "output_type": "execute_result",
          "data": {
            "text/plain": [
              "count    8138.000000\n",
              "mean        0.047408\n",
              "std         0.056693\n",
              "min         0.000000\n",
              "25%         0.000000\n",
              "50%         0.000000\n",
              "75%         0.098950\n",
              "max         0.279216\n",
              "Name: recovery_rate, dtype: float64"
            ]
          },
          "metadata": {},
          "execution_count": 124
        }
      ],
      "source": [
        "#replace all the negitive values in recovery_rate with 0 and all values which are greater than 1 with 1\n",
        "# testing_outcome['recovery_rate'] =\n",
        "testing_outcome['recovery_rate'].describe()"
      ]
    },
    {
      "cell_type": "code",
      "execution_count": 120,
      "id": "92e71838",
      "metadata": {
        "id": "92e71838",
        "outputId": "d7c84be5-8fde-432b-fba4-936c02db09d1",
        "colab": {
          "base_uri": "https://localhost:8080/",
          "height": 363
        }
      },
      "outputs": [
        {
          "output_type": "execute_result",
          "data": {
            "text/plain": [
              "   recovery_rate_stage_1  recovery_rate_stage_2  recovery_rate       LGD\n",
              "0                      1               0.087070       0.087070  0.912930\n",
              "1                      1               0.161708       0.161708  0.838292\n",
              "2                      0               0.117815       0.000000  1.000000\n",
              "3                      1               0.156764       0.156764  0.843236\n",
              "4                      1               0.080229       0.080229  0.919771\n",
              "5                      0               0.121320       0.000000  1.000000\n",
              "6                      0               0.073089       0.000000  1.000000\n",
              "7                      1               0.129711       0.129711  0.870289\n",
              "8                      1               0.064100       0.064100  0.935900\n",
              "9                      1               0.088237       0.088237  0.911763"
            ],
            "text/html": [
              "\n",
              "  <div id=\"df-87881512-0afe-40ad-99c5-14ce1f6e3840\" class=\"colab-df-container\">\n",
              "    <div>\n",
              "<style scoped>\n",
              "    .dataframe tbody tr th:only-of-type {\n",
              "        vertical-align: middle;\n",
              "    }\n",
              "\n",
              "    .dataframe tbody tr th {\n",
              "        vertical-align: top;\n",
              "    }\n",
              "\n",
              "    .dataframe thead th {\n",
              "        text-align: right;\n",
              "    }\n",
              "</style>\n",
              "<table border=\"1\" class=\"dataframe\">\n",
              "  <thead>\n",
              "    <tr style=\"text-align: right;\">\n",
              "      <th></th>\n",
              "      <th>recovery_rate_stage_1</th>\n",
              "      <th>recovery_rate_stage_2</th>\n",
              "      <th>recovery_rate</th>\n",
              "      <th>LGD</th>\n",
              "    </tr>\n",
              "  </thead>\n",
              "  <tbody>\n",
              "    <tr>\n",
              "      <th>0</th>\n",
              "      <td>1</td>\n",
              "      <td>0.087070</td>\n",
              "      <td>0.087070</td>\n",
              "      <td>0.912930</td>\n",
              "    </tr>\n",
              "    <tr>\n",
              "      <th>1</th>\n",
              "      <td>1</td>\n",
              "      <td>0.161708</td>\n",
              "      <td>0.161708</td>\n",
              "      <td>0.838292</td>\n",
              "    </tr>\n",
              "    <tr>\n",
              "      <th>2</th>\n",
              "      <td>0</td>\n",
              "      <td>0.117815</td>\n",
              "      <td>0.000000</td>\n",
              "      <td>1.000000</td>\n",
              "    </tr>\n",
              "    <tr>\n",
              "      <th>3</th>\n",
              "      <td>1</td>\n",
              "      <td>0.156764</td>\n",
              "      <td>0.156764</td>\n",
              "      <td>0.843236</td>\n",
              "    </tr>\n",
              "    <tr>\n",
              "      <th>4</th>\n",
              "      <td>1</td>\n",
              "      <td>0.080229</td>\n",
              "      <td>0.080229</td>\n",
              "      <td>0.919771</td>\n",
              "    </tr>\n",
              "    <tr>\n",
              "      <th>5</th>\n",
              "      <td>0</td>\n",
              "      <td>0.121320</td>\n",
              "      <td>0.000000</td>\n",
              "      <td>1.000000</td>\n",
              "    </tr>\n",
              "    <tr>\n",
              "      <th>6</th>\n",
              "      <td>0</td>\n",
              "      <td>0.073089</td>\n",
              "      <td>0.000000</td>\n",
              "      <td>1.000000</td>\n",
              "    </tr>\n",
              "    <tr>\n",
              "      <th>7</th>\n",
              "      <td>1</td>\n",
              "      <td>0.129711</td>\n",
              "      <td>0.129711</td>\n",
              "      <td>0.870289</td>\n",
              "    </tr>\n",
              "    <tr>\n",
              "      <th>8</th>\n",
              "      <td>1</td>\n",
              "      <td>0.064100</td>\n",
              "      <td>0.064100</td>\n",
              "      <td>0.935900</td>\n",
              "    </tr>\n",
              "    <tr>\n",
              "      <th>9</th>\n",
              "      <td>1</td>\n",
              "      <td>0.088237</td>\n",
              "      <td>0.088237</td>\n",
              "      <td>0.911763</td>\n",
              "    </tr>\n",
              "  </tbody>\n",
              "</table>\n",
              "</div>\n",
              "    <div class=\"colab-df-buttons\">\n",
              "\n",
              "  <div class=\"colab-df-container\">\n",
              "    <button class=\"colab-df-convert\" onclick=\"convertToInteractive('df-87881512-0afe-40ad-99c5-14ce1f6e3840')\"\n",
              "            title=\"Convert this dataframe to an interactive table.\"\n",
              "            style=\"display:none;\">\n",
              "\n",
              "  <svg xmlns=\"http://www.w3.org/2000/svg\" height=\"24px\" viewBox=\"0 -960 960 960\">\n",
              "    <path d=\"M120-120v-720h720v720H120Zm60-500h600v-160H180v160Zm220 220h160v-160H400v160Zm0 220h160v-160H400v160ZM180-400h160v-160H180v160Zm440 0h160v-160H620v160ZM180-180h160v-160H180v160Zm440 0h160v-160H620v160Z\"/>\n",
              "  </svg>\n",
              "    </button>\n",
              "\n",
              "  <style>\n",
              "    .colab-df-container {\n",
              "      display:flex;\n",
              "      gap: 12px;\n",
              "    }\n",
              "\n",
              "    .colab-df-convert {\n",
              "      background-color: #E8F0FE;\n",
              "      border: none;\n",
              "      border-radius: 50%;\n",
              "      cursor: pointer;\n",
              "      display: none;\n",
              "      fill: #1967D2;\n",
              "      height: 32px;\n",
              "      padding: 0 0 0 0;\n",
              "      width: 32px;\n",
              "    }\n",
              "\n",
              "    .colab-df-convert:hover {\n",
              "      background-color: #E2EBFA;\n",
              "      box-shadow: 0px 1px 2px rgba(60, 64, 67, 0.3), 0px 1px 3px 1px rgba(60, 64, 67, 0.15);\n",
              "      fill: #174EA6;\n",
              "    }\n",
              "\n",
              "    .colab-df-buttons div {\n",
              "      margin-bottom: 4px;\n",
              "    }\n",
              "\n",
              "    [theme=dark] .colab-df-convert {\n",
              "      background-color: #3B4455;\n",
              "      fill: #D2E3FC;\n",
              "    }\n",
              "\n",
              "    [theme=dark] .colab-df-convert:hover {\n",
              "      background-color: #434B5C;\n",
              "      box-shadow: 0px 1px 3px 1px rgba(0, 0, 0, 0.15);\n",
              "      filter: drop-shadow(0px 1px 2px rgba(0, 0, 0, 0.3));\n",
              "      fill: #FFFFFF;\n",
              "    }\n",
              "  </style>\n",
              "\n",
              "    <script>\n",
              "      const buttonEl =\n",
              "        document.querySelector('#df-87881512-0afe-40ad-99c5-14ce1f6e3840 button.colab-df-convert');\n",
              "      buttonEl.style.display =\n",
              "        google.colab.kernel.accessAllowed ? 'block' : 'none';\n",
              "\n",
              "      async function convertToInteractive(key) {\n",
              "        const element = document.querySelector('#df-87881512-0afe-40ad-99c5-14ce1f6e3840');\n",
              "        const dataTable =\n",
              "          await google.colab.kernel.invokeFunction('convertToInteractive',\n",
              "                                                    [key], {});\n",
              "        if (!dataTable) return;\n",
              "\n",
              "        const docLinkHtml = 'Like what you see? Visit the ' +\n",
              "          '<a target=\"_blank\" href=https://colab.research.google.com/notebooks/data_table.ipynb>data table notebook</a>'\n",
              "          + ' to learn more about interactive tables.';\n",
              "        element.innerHTML = '';\n",
              "        dataTable['output_type'] = 'display_data';\n",
              "        await google.colab.output.renderOutput(dataTable, element);\n",
              "        const docLink = document.createElement('div');\n",
              "        docLink.innerHTML = docLinkHtml;\n",
              "        element.appendChild(docLink);\n",
              "      }\n",
              "    </script>\n",
              "  </div>\n",
              "\n",
              "\n",
              "<div id=\"df-a0b3b024-dc98-4a53-8415-d9a0d2917f02\">\n",
              "  <button class=\"colab-df-quickchart\" onclick=\"quickchart('df-a0b3b024-dc98-4a53-8415-d9a0d2917f02')\"\n",
              "            title=\"Suggest charts.\"\n",
              "            style=\"display:none;\">\n",
              "\n",
              "<svg xmlns=\"http://www.w3.org/2000/svg\" height=\"24px\"viewBox=\"0 0 24 24\"\n",
              "     width=\"24px\">\n",
              "    <g>\n",
              "        <path d=\"M19 3H5c-1.1 0-2 .9-2 2v14c0 1.1.9 2 2 2h14c1.1 0 2-.9 2-2V5c0-1.1-.9-2-2-2zM9 17H7v-7h2v7zm4 0h-2V7h2v10zm4 0h-2v-4h2v4z\"/>\n",
              "    </g>\n",
              "</svg>\n",
              "  </button>\n",
              "\n",
              "<style>\n",
              "  .colab-df-quickchart {\n",
              "    background-color: #E8F0FE;\n",
              "    border: none;\n",
              "    border-radius: 50%;\n",
              "    cursor: pointer;\n",
              "    display: none;\n",
              "    fill: #1967D2;\n",
              "    height: 32px;\n",
              "    padding: 0 0 0 0;\n",
              "    width: 32px;\n",
              "  }\n",
              "\n",
              "  .colab-df-quickchart:hover {\n",
              "    background-color: #E2EBFA;\n",
              "    box-shadow: 0px 1px 2px rgba(60, 64, 67, 0.3), 0px 1px 3px 1px rgba(60, 64, 67, 0.15);\n",
              "    fill: #174EA6;\n",
              "  }\n",
              "\n",
              "  [theme=dark] .colab-df-quickchart {\n",
              "    background-color: #3B4455;\n",
              "    fill: #D2E3FC;\n",
              "  }\n",
              "\n",
              "  [theme=dark] .colab-df-quickchart:hover {\n",
              "    background-color: #434B5C;\n",
              "    box-shadow: 0px 1px 3px 1px rgba(0, 0, 0, 0.15);\n",
              "    filter: drop-shadow(0px 1px 2px rgba(0, 0, 0, 0.3));\n",
              "    fill: #FFFFFF;\n",
              "  }\n",
              "</style>\n",
              "\n",
              "  <script>\n",
              "    async function quickchart(key) {\n",
              "      const charts = await google.colab.kernel.invokeFunction(\n",
              "          'suggestCharts', [key], {});\n",
              "    }\n",
              "    (() => {\n",
              "      let quickchartButtonEl =\n",
              "        document.querySelector('#df-a0b3b024-dc98-4a53-8415-d9a0d2917f02 button');\n",
              "      quickchartButtonEl.style.display =\n",
              "        google.colab.kernel.accessAllowed ? 'block' : 'none';\n",
              "    })();\n",
              "  </script>\n",
              "</div>\n",
              "    </div>\n",
              "  </div>\n"
            ]
          },
          "metadata": {},
          "execution_count": 120
        }
      ],
      "source": [
        "#create a new column LGD in testing_outcome i.e (1-recovery_rate)\n",
        "testing_outcome['LGD'] = 1 - testing_outcome['recovery_rate']\n",
        "testing_outcome.head(10)"
      ]
    },
    {
      "cell_type": "code",
      "execution_count": 123,
      "id": "f0319147",
      "metadata": {
        "id": "f0319147",
        "outputId": "443706a7-6384-4dce-ca9f-82853aea19cb",
        "colab": {
          "base_uri": "https://localhost:8080/",
          "height": 300
        }
      },
      "outputs": [
        {
          "output_type": "execute_result",
          "data": {
            "text/plain": [
              "       recovery_rate_stage_1  recovery_rate_stage_2  recovery_rate  \\\n",
              "count            8138.000000            8138.000000    8138.000000   \n",
              "mean                0.447284               0.115445       0.047408   \n",
              "std                 0.497244               0.034075       0.056693   \n",
              "min                 0.000000              -0.030516       0.000000   \n",
              "25%                 0.000000               0.091120       0.000000   \n",
              "50%                 0.000000               0.120407       0.000000   \n",
              "75%                 1.000000               0.140909       0.098950   \n",
              "max                 1.000000               0.297701       0.279216   \n",
              "\n",
              "               LGD  \n",
              "count  8138.000000  \n",
              "mean      0.952592  \n",
              "std       0.056693  \n",
              "min       0.720784  \n",
              "25%       0.901050  \n",
              "50%       1.000000  \n",
              "75%       1.000000  \n",
              "max       1.000000  "
            ],
            "text/html": [
              "\n",
              "  <div id=\"df-8b36c145-0c8d-4bf6-883f-51c0c8170fc8\" class=\"colab-df-container\">\n",
              "    <div>\n",
              "<style scoped>\n",
              "    .dataframe tbody tr th:only-of-type {\n",
              "        vertical-align: middle;\n",
              "    }\n",
              "\n",
              "    .dataframe tbody tr th {\n",
              "        vertical-align: top;\n",
              "    }\n",
              "\n",
              "    .dataframe thead th {\n",
              "        text-align: right;\n",
              "    }\n",
              "</style>\n",
              "<table border=\"1\" class=\"dataframe\">\n",
              "  <thead>\n",
              "    <tr style=\"text-align: right;\">\n",
              "      <th></th>\n",
              "      <th>recovery_rate_stage_1</th>\n",
              "      <th>recovery_rate_stage_2</th>\n",
              "      <th>recovery_rate</th>\n",
              "      <th>LGD</th>\n",
              "    </tr>\n",
              "  </thead>\n",
              "  <tbody>\n",
              "    <tr>\n",
              "      <th>count</th>\n",
              "      <td>8138.000000</td>\n",
              "      <td>8138.000000</td>\n",
              "      <td>8138.000000</td>\n",
              "      <td>8138.000000</td>\n",
              "    </tr>\n",
              "    <tr>\n",
              "      <th>mean</th>\n",
              "      <td>0.447284</td>\n",
              "      <td>0.115445</td>\n",
              "      <td>0.047408</td>\n",
              "      <td>0.952592</td>\n",
              "    </tr>\n",
              "    <tr>\n",
              "      <th>std</th>\n",
              "      <td>0.497244</td>\n",
              "      <td>0.034075</td>\n",
              "      <td>0.056693</td>\n",
              "      <td>0.056693</td>\n",
              "    </tr>\n",
              "    <tr>\n",
              "      <th>min</th>\n",
              "      <td>0.000000</td>\n",
              "      <td>-0.030516</td>\n",
              "      <td>0.000000</td>\n",
              "      <td>0.720784</td>\n",
              "    </tr>\n",
              "    <tr>\n",
              "      <th>25%</th>\n",
              "      <td>0.000000</td>\n",
              "      <td>0.091120</td>\n",
              "      <td>0.000000</td>\n",
              "      <td>0.901050</td>\n",
              "    </tr>\n",
              "    <tr>\n",
              "      <th>50%</th>\n",
              "      <td>0.000000</td>\n",
              "      <td>0.120407</td>\n",
              "      <td>0.000000</td>\n",
              "      <td>1.000000</td>\n",
              "    </tr>\n",
              "    <tr>\n",
              "      <th>75%</th>\n",
              "      <td>1.000000</td>\n",
              "      <td>0.140909</td>\n",
              "      <td>0.098950</td>\n",
              "      <td>1.000000</td>\n",
              "    </tr>\n",
              "    <tr>\n",
              "      <th>max</th>\n",
              "      <td>1.000000</td>\n",
              "      <td>0.297701</td>\n",
              "      <td>0.279216</td>\n",
              "      <td>1.000000</td>\n",
              "    </tr>\n",
              "  </tbody>\n",
              "</table>\n",
              "</div>\n",
              "    <div class=\"colab-df-buttons\">\n",
              "\n",
              "  <div class=\"colab-df-container\">\n",
              "    <button class=\"colab-df-convert\" onclick=\"convertToInteractive('df-8b36c145-0c8d-4bf6-883f-51c0c8170fc8')\"\n",
              "            title=\"Convert this dataframe to an interactive table.\"\n",
              "            style=\"display:none;\">\n",
              "\n",
              "  <svg xmlns=\"http://www.w3.org/2000/svg\" height=\"24px\" viewBox=\"0 -960 960 960\">\n",
              "    <path d=\"M120-120v-720h720v720H120Zm60-500h600v-160H180v160Zm220 220h160v-160H400v160Zm0 220h160v-160H400v160ZM180-400h160v-160H180v160Zm440 0h160v-160H620v160ZM180-180h160v-160H180v160Zm440 0h160v-160H620v160Z\"/>\n",
              "  </svg>\n",
              "    </button>\n",
              "\n",
              "  <style>\n",
              "    .colab-df-container {\n",
              "      display:flex;\n",
              "      gap: 12px;\n",
              "    }\n",
              "\n",
              "    .colab-df-convert {\n",
              "      background-color: #E8F0FE;\n",
              "      border: none;\n",
              "      border-radius: 50%;\n",
              "      cursor: pointer;\n",
              "      display: none;\n",
              "      fill: #1967D2;\n",
              "      height: 32px;\n",
              "      padding: 0 0 0 0;\n",
              "      width: 32px;\n",
              "    }\n",
              "\n",
              "    .colab-df-convert:hover {\n",
              "      background-color: #E2EBFA;\n",
              "      box-shadow: 0px 1px 2px rgba(60, 64, 67, 0.3), 0px 1px 3px 1px rgba(60, 64, 67, 0.15);\n",
              "      fill: #174EA6;\n",
              "    }\n",
              "\n",
              "    .colab-df-buttons div {\n",
              "      margin-bottom: 4px;\n",
              "    }\n",
              "\n",
              "    [theme=dark] .colab-df-convert {\n",
              "      background-color: #3B4455;\n",
              "      fill: #D2E3FC;\n",
              "    }\n",
              "\n",
              "    [theme=dark] .colab-df-convert:hover {\n",
              "      background-color: #434B5C;\n",
              "      box-shadow: 0px 1px 3px 1px rgba(0, 0, 0, 0.15);\n",
              "      filter: drop-shadow(0px 1px 2px rgba(0, 0, 0, 0.3));\n",
              "      fill: #FFFFFF;\n",
              "    }\n",
              "  </style>\n",
              "\n",
              "    <script>\n",
              "      const buttonEl =\n",
              "        document.querySelector('#df-8b36c145-0c8d-4bf6-883f-51c0c8170fc8 button.colab-df-convert');\n",
              "      buttonEl.style.display =\n",
              "        google.colab.kernel.accessAllowed ? 'block' : 'none';\n",
              "\n",
              "      async function convertToInteractive(key) {\n",
              "        const element = document.querySelector('#df-8b36c145-0c8d-4bf6-883f-51c0c8170fc8');\n",
              "        const dataTable =\n",
              "          await google.colab.kernel.invokeFunction('convertToInteractive',\n",
              "                                                    [key], {});\n",
              "        if (!dataTable) return;\n",
              "\n",
              "        const docLinkHtml = 'Like what you see? Visit the ' +\n",
              "          '<a target=\"_blank\" href=https://colab.research.google.com/notebooks/data_table.ipynb>data table notebook</a>'\n",
              "          + ' to learn more about interactive tables.';\n",
              "        element.innerHTML = '';\n",
              "        dataTable['output_type'] = 'display_data';\n",
              "        await google.colab.output.renderOutput(dataTable, element);\n",
              "        const docLink = document.createElement('div');\n",
              "        docLink.innerHTML = docLinkHtml;\n",
              "        element.appendChild(docLink);\n",
              "      }\n",
              "    </script>\n",
              "  </div>\n",
              "\n",
              "\n",
              "<div id=\"df-a8cbadbd-c8b5-4456-9cde-11db0c81399c\">\n",
              "  <button class=\"colab-df-quickchart\" onclick=\"quickchart('df-a8cbadbd-c8b5-4456-9cde-11db0c81399c')\"\n",
              "            title=\"Suggest charts.\"\n",
              "            style=\"display:none;\">\n",
              "\n",
              "<svg xmlns=\"http://www.w3.org/2000/svg\" height=\"24px\"viewBox=\"0 0 24 24\"\n",
              "     width=\"24px\">\n",
              "    <g>\n",
              "        <path d=\"M19 3H5c-1.1 0-2 .9-2 2v14c0 1.1.9 2 2 2h14c1.1 0 2-.9 2-2V5c0-1.1-.9-2-2-2zM9 17H7v-7h2v7zm4 0h-2V7h2v10zm4 0h-2v-4h2v4z\"/>\n",
              "    </g>\n",
              "</svg>\n",
              "  </button>\n",
              "\n",
              "<style>\n",
              "  .colab-df-quickchart {\n",
              "    background-color: #E8F0FE;\n",
              "    border: none;\n",
              "    border-radius: 50%;\n",
              "    cursor: pointer;\n",
              "    display: none;\n",
              "    fill: #1967D2;\n",
              "    height: 32px;\n",
              "    padding: 0 0 0 0;\n",
              "    width: 32px;\n",
              "  }\n",
              "\n",
              "  .colab-df-quickchart:hover {\n",
              "    background-color: #E2EBFA;\n",
              "    box-shadow: 0px 1px 2px rgba(60, 64, 67, 0.3), 0px 1px 3px 1px rgba(60, 64, 67, 0.15);\n",
              "    fill: #174EA6;\n",
              "  }\n",
              "\n",
              "  [theme=dark] .colab-df-quickchart {\n",
              "    background-color: #3B4455;\n",
              "    fill: #D2E3FC;\n",
              "  }\n",
              "\n",
              "  [theme=dark] .colab-df-quickchart:hover {\n",
              "    background-color: #434B5C;\n",
              "    box-shadow: 0px 1px 3px 1px rgba(0, 0, 0, 0.15);\n",
              "    filter: drop-shadow(0px 1px 2px rgba(0, 0, 0, 0.3));\n",
              "    fill: #FFFFFF;\n",
              "  }\n",
              "</style>\n",
              "\n",
              "  <script>\n",
              "    async function quickchart(key) {\n",
              "      const charts = await google.colab.kernel.invokeFunction(\n",
              "          'suggestCharts', [key], {});\n",
              "    }\n",
              "    (() => {\n",
              "      let quickchartButtonEl =\n",
              "        document.querySelector('#df-a8cbadbd-c8b5-4456-9cde-11db0c81399c button');\n",
              "      quickchartButtonEl.style.display =\n",
              "        google.colab.kernel.accessAllowed ? 'block' : 'none';\n",
              "    })();\n",
              "  </script>\n",
              "</div>\n",
              "    </div>\n",
              "  </div>\n"
            ]
          },
          "metadata": {},
          "execution_count": 123
        }
      ],
      "source": [
        "#check the basic stats of LGD\n",
        "testing_outcome.describe()"
      ]
    },
    {
      "cell_type": "code",
      "execution_count": 125,
      "id": "7b6171b3",
      "metadata": {
        "id": "7b6171b3"
      },
      "outputs": [],
      "source": [
        "#create a new column CCF that will store the predicted results of EAD_Model\n",
        "testing_outcome['CCF'] = reg_ead.predict(testing_sample)"
      ]
    },
    {
      "cell_type": "code",
      "execution_count": 126,
      "id": "d19056ff",
      "metadata": {
        "id": "d19056ff",
        "outputId": "319d9101-c63c-4b22-d49f-5dc5c7898193",
        "colab": {
          "base_uri": "https://localhost:8080/"
        }
      },
      "outputs": [
        {
          "output_type": "execute_result",
          "data": {
            "text/plain": [
              "count    8138.000000\n",
              "mean        0.719688\n",
              "std         0.175872\n",
              "min        -0.542444\n",
              "25%         0.636607\n",
              "50%         0.730984\n",
              "75%         0.834634\n",
              "max         1.244123\n",
              "Name: CCF, dtype: float64"
            ]
          },
          "metadata": {},
          "execution_count": 126
        }
      ],
      "source": [
        "#check the basic stats of CCF\n",
        "testing_outcome['CCF'].describe()"
      ]
    },
    {
      "cell_type": "code",
      "execution_count": 127,
      "id": "4dcffce6",
      "metadata": {
        "id": "4dcffce6"
      },
      "outputs": [],
      "source": [
        "#replace all the negitive values in CCF with 0 and all values which are greater than 1 with 1\n",
        "testing_outcome['CCF'] = np.where(testing_outcome['CCF'] < 0,0,testing_outcome['CCF'])\n",
        "testing_outcome['CCF'] = np.where(testing_outcome['CCF'] > 1,1,testing_outcome['CCF'])"
      ]
    },
    {
      "cell_type": "code",
      "execution_count": 128,
      "id": "b42014dc",
      "metadata": {
        "id": "b42014dc",
        "outputId": "3852210a-4d52-4d85-c1a4-73f92c203228",
        "colab": {
          "base_uri": "https://localhost:8080/"
        }
      },
      "outputs": [
        {
          "output_type": "execute_result",
          "data": {
            "text/plain": [
              "count    8138.000000\n",
              "mean        0.718440\n",
              "std         0.168121\n",
              "min         0.000000\n",
              "25%         0.636607\n",
              "50%         0.730984\n",
              "75%         0.834634\n",
              "max         1.000000\n",
              "Name: CCF, dtype: float64"
            ]
          },
          "metadata": {},
          "execution_count": 128
        }
      ],
      "source": [
        "#check the basic stats of CCF\n",
        "testing_outcome['CCF'].describe()"
      ]
    },
    {
      "cell_type": "code",
      "execution_count": 129,
      "id": "463e86b8",
      "metadata": {
        "id": "463e86b8",
        "outputId": "639ffa7c-2e63-4f3b-ad8e-bdde4bae8ca1",
        "colab": {
          "base_uri": "https://localhost:8080/"
        }
      },
      "outputs": [
        {
          "output_type": "execute_result",
          "data": {
            "text/plain": [
              "(8138, 5)"
            ]
          },
          "metadata": {},
          "execution_count": 129
        }
      ],
      "source": [
        "#check the shape of testing_outcome\n",
        "testing_outcome.shape"
      ]
    },
    {
      "cell_type": "code",
      "execution_count": 130,
      "id": "e35fa424",
      "metadata": {
        "id": "e35fa424",
        "outputId": "b92fa6a3-7b88-4073-de43-c4973965870a",
        "colab": {
          "base_uri": "https://localhost:8080/"
        }
      },
      "outputs": [
        {
          "output_type": "execute_result",
          "data": {
            "text/plain": [
              "(8138, 119)"
            ]
          },
          "metadata": {},
          "execution_count": 130
        }
      ],
      "source": [
        "#check the shape of testing_sample\n",
        "testing_sample.shape"
      ]
    },
    {
      "cell_type": "code",
      "execution_count": 132,
      "id": "dcba970c",
      "metadata": {
        "id": "dcba970c"
      },
      "outputs": [],
      "source": [
        "#create a new column EAD i.e (CCF * funded_amt)\n",
        "testing_outcome['EAD'] = testing_outcome['CCF'] * testing_sample['funded_amnt'].values"
      ]
    },
    {
      "cell_type": "code",
      "execution_count": 133,
      "id": "84ef9ef3",
      "metadata": {
        "id": "84ef9ef3",
        "outputId": "64135d98-1903-4b14-a56c-1721bc490547",
        "colab": {
          "base_uri": "https://localhost:8080/",
          "height": 363
        }
      },
      "outputs": [
        {
          "output_type": "execute_result",
          "data": {
            "text/plain": [
              "   recovery_rate_stage_1  recovery_rate_stage_2  recovery_rate       LGD  \\\n",
              "0                      1               0.087070       0.087070  0.912930   \n",
              "1                      1               0.161708       0.161708  0.838292   \n",
              "2                      0               0.117815       0.000000  1.000000   \n",
              "3                      1               0.156764       0.156764  0.843236   \n",
              "4                      1               0.080229       0.080229  0.919771   \n",
              "5                      0               0.121320       0.000000  1.000000   \n",
              "6                      0               0.073089       0.000000  1.000000   \n",
              "7                      1               0.129711       0.129711  0.870289   \n",
              "8                      1               0.064100       0.064100  0.935900   \n",
              "9                      1               0.088237       0.088237  0.911763   \n",
              "\n",
              "        CCF           EAD  \n",
              "0  0.835895  16717.893812  \n",
              "1  0.911426  21874.230520  \n",
              "2  0.713977  12851.586572  \n",
              "3  0.880876   9469.422094  \n",
              "4  0.702601   3513.003677  \n",
              "5  0.589197  10605.547953  \n",
              "6  0.336655   4713.167868  \n",
              "7  0.911554  17866.467023  \n",
              "8  0.608386   2190.188799  \n",
              "9  0.824622  13193.944033  "
            ],
            "text/html": [
              "\n",
              "  <div id=\"df-3d05ac66-6e75-412d-a40a-23f4a77b1fe2\" class=\"colab-df-container\">\n",
              "    <div>\n",
              "<style scoped>\n",
              "    .dataframe tbody tr th:only-of-type {\n",
              "        vertical-align: middle;\n",
              "    }\n",
              "\n",
              "    .dataframe tbody tr th {\n",
              "        vertical-align: top;\n",
              "    }\n",
              "\n",
              "    .dataframe thead th {\n",
              "        text-align: right;\n",
              "    }\n",
              "</style>\n",
              "<table border=\"1\" class=\"dataframe\">\n",
              "  <thead>\n",
              "    <tr style=\"text-align: right;\">\n",
              "      <th></th>\n",
              "      <th>recovery_rate_stage_1</th>\n",
              "      <th>recovery_rate_stage_2</th>\n",
              "      <th>recovery_rate</th>\n",
              "      <th>LGD</th>\n",
              "      <th>CCF</th>\n",
              "      <th>EAD</th>\n",
              "    </tr>\n",
              "  </thead>\n",
              "  <tbody>\n",
              "    <tr>\n",
              "      <th>0</th>\n",
              "      <td>1</td>\n",
              "      <td>0.087070</td>\n",
              "      <td>0.087070</td>\n",
              "      <td>0.912930</td>\n",
              "      <td>0.835895</td>\n",
              "      <td>16717.893812</td>\n",
              "    </tr>\n",
              "    <tr>\n",
              "      <th>1</th>\n",
              "      <td>1</td>\n",
              "      <td>0.161708</td>\n",
              "      <td>0.161708</td>\n",
              "      <td>0.838292</td>\n",
              "      <td>0.911426</td>\n",
              "      <td>21874.230520</td>\n",
              "    </tr>\n",
              "    <tr>\n",
              "      <th>2</th>\n",
              "      <td>0</td>\n",
              "      <td>0.117815</td>\n",
              "      <td>0.000000</td>\n",
              "      <td>1.000000</td>\n",
              "      <td>0.713977</td>\n",
              "      <td>12851.586572</td>\n",
              "    </tr>\n",
              "    <tr>\n",
              "      <th>3</th>\n",
              "      <td>1</td>\n",
              "      <td>0.156764</td>\n",
              "      <td>0.156764</td>\n",
              "      <td>0.843236</td>\n",
              "      <td>0.880876</td>\n",
              "      <td>9469.422094</td>\n",
              "    </tr>\n",
              "    <tr>\n",
              "      <th>4</th>\n",
              "      <td>1</td>\n",
              "      <td>0.080229</td>\n",
              "      <td>0.080229</td>\n",
              "      <td>0.919771</td>\n",
              "      <td>0.702601</td>\n",
              "      <td>3513.003677</td>\n",
              "    </tr>\n",
              "    <tr>\n",
              "      <th>5</th>\n",
              "      <td>0</td>\n",
              "      <td>0.121320</td>\n",
              "      <td>0.000000</td>\n",
              "      <td>1.000000</td>\n",
              "      <td>0.589197</td>\n",
              "      <td>10605.547953</td>\n",
              "    </tr>\n",
              "    <tr>\n",
              "      <th>6</th>\n",
              "      <td>0</td>\n",
              "      <td>0.073089</td>\n",
              "      <td>0.000000</td>\n",
              "      <td>1.000000</td>\n",
              "      <td>0.336655</td>\n",
              "      <td>4713.167868</td>\n",
              "    </tr>\n",
              "    <tr>\n",
              "      <th>7</th>\n",
              "      <td>1</td>\n",
              "      <td>0.129711</td>\n",
              "      <td>0.129711</td>\n",
              "      <td>0.870289</td>\n",
              "      <td>0.911554</td>\n",
              "      <td>17866.467023</td>\n",
              "    </tr>\n",
              "    <tr>\n",
              "      <th>8</th>\n",
              "      <td>1</td>\n",
              "      <td>0.064100</td>\n",
              "      <td>0.064100</td>\n",
              "      <td>0.935900</td>\n",
              "      <td>0.608386</td>\n",
              "      <td>2190.188799</td>\n",
              "    </tr>\n",
              "    <tr>\n",
              "      <th>9</th>\n",
              "      <td>1</td>\n",
              "      <td>0.088237</td>\n",
              "      <td>0.088237</td>\n",
              "      <td>0.911763</td>\n",
              "      <td>0.824622</td>\n",
              "      <td>13193.944033</td>\n",
              "    </tr>\n",
              "  </tbody>\n",
              "</table>\n",
              "</div>\n",
              "    <div class=\"colab-df-buttons\">\n",
              "\n",
              "  <div class=\"colab-df-container\">\n",
              "    <button class=\"colab-df-convert\" onclick=\"convertToInteractive('df-3d05ac66-6e75-412d-a40a-23f4a77b1fe2')\"\n",
              "            title=\"Convert this dataframe to an interactive table.\"\n",
              "            style=\"display:none;\">\n",
              "\n",
              "  <svg xmlns=\"http://www.w3.org/2000/svg\" height=\"24px\" viewBox=\"0 -960 960 960\">\n",
              "    <path d=\"M120-120v-720h720v720H120Zm60-500h600v-160H180v160Zm220 220h160v-160H400v160Zm0 220h160v-160H400v160ZM180-400h160v-160H180v160Zm440 0h160v-160H620v160ZM180-180h160v-160H180v160Zm440 0h160v-160H620v160Z\"/>\n",
              "  </svg>\n",
              "    </button>\n",
              "\n",
              "  <style>\n",
              "    .colab-df-container {\n",
              "      display:flex;\n",
              "      gap: 12px;\n",
              "    }\n",
              "\n",
              "    .colab-df-convert {\n",
              "      background-color: #E8F0FE;\n",
              "      border: none;\n",
              "      border-radius: 50%;\n",
              "      cursor: pointer;\n",
              "      display: none;\n",
              "      fill: #1967D2;\n",
              "      height: 32px;\n",
              "      padding: 0 0 0 0;\n",
              "      width: 32px;\n",
              "    }\n",
              "\n",
              "    .colab-df-convert:hover {\n",
              "      background-color: #E2EBFA;\n",
              "      box-shadow: 0px 1px 2px rgba(60, 64, 67, 0.3), 0px 1px 3px 1px rgba(60, 64, 67, 0.15);\n",
              "      fill: #174EA6;\n",
              "    }\n",
              "\n",
              "    .colab-df-buttons div {\n",
              "      margin-bottom: 4px;\n",
              "    }\n",
              "\n",
              "    [theme=dark] .colab-df-convert {\n",
              "      background-color: #3B4455;\n",
              "      fill: #D2E3FC;\n",
              "    }\n",
              "\n",
              "    [theme=dark] .colab-df-convert:hover {\n",
              "      background-color: #434B5C;\n",
              "      box-shadow: 0px 1px 3px 1px rgba(0, 0, 0, 0.15);\n",
              "      filter: drop-shadow(0px 1px 2px rgba(0, 0, 0, 0.3));\n",
              "      fill: #FFFFFF;\n",
              "    }\n",
              "  </style>\n",
              "\n",
              "    <script>\n",
              "      const buttonEl =\n",
              "        document.querySelector('#df-3d05ac66-6e75-412d-a40a-23f4a77b1fe2 button.colab-df-convert');\n",
              "      buttonEl.style.display =\n",
              "        google.colab.kernel.accessAllowed ? 'block' : 'none';\n",
              "\n",
              "      async function convertToInteractive(key) {\n",
              "        const element = document.querySelector('#df-3d05ac66-6e75-412d-a40a-23f4a77b1fe2');\n",
              "        const dataTable =\n",
              "          await google.colab.kernel.invokeFunction('convertToInteractive',\n",
              "                                                    [key], {});\n",
              "        if (!dataTable) return;\n",
              "\n",
              "        const docLinkHtml = 'Like what you see? Visit the ' +\n",
              "          '<a target=\"_blank\" href=https://colab.research.google.com/notebooks/data_table.ipynb>data table notebook</a>'\n",
              "          + ' to learn more about interactive tables.';\n",
              "        element.innerHTML = '';\n",
              "        dataTable['output_type'] = 'display_data';\n",
              "        await google.colab.output.renderOutput(dataTable, element);\n",
              "        const docLink = document.createElement('div');\n",
              "        docLink.innerHTML = docLinkHtml;\n",
              "        element.appendChild(docLink);\n",
              "      }\n",
              "    </script>\n",
              "  </div>\n",
              "\n",
              "\n",
              "<div id=\"df-66fcf374-5cce-48ae-9723-96628f6d31dc\">\n",
              "  <button class=\"colab-df-quickchart\" onclick=\"quickchart('df-66fcf374-5cce-48ae-9723-96628f6d31dc')\"\n",
              "            title=\"Suggest charts.\"\n",
              "            style=\"display:none;\">\n",
              "\n",
              "<svg xmlns=\"http://www.w3.org/2000/svg\" height=\"24px\"viewBox=\"0 0 24 24\"\n",
              "     width=\"24px\">\n",
              "    <g>\n",
              "        <path d=\"M19 3H5c-1.1 0-2 .9-2 2v14c0 1.1.9 2 2 2h14c1.1 0 2-.9 2-2V5c0-1.1-.9-2-2-2zM9 17H7v-7h2v7zm4 0h-2V7h2v10zm4 0h-2v-4h2v4z\"/>\n",
              "    </g>\n",
              "</svg>\n",
              "  </button>\n",
              "\n",
              "<style>\n",
              "  .colab-df-quickchart {\n",
              "    background-color: #E8F0FE;\n",
              "    border: none;\n",
              "    border-radius: 50%;\n",
              "    cursor: pointer;\n",
              "    display: none;\n",
              "    fill: #1967D2;\n",
              "    height: 32px;\n",
              "    padding: 0 0 0 0;\n",
              "    width: 32px;\n",
              "  }\n",
              "\n",
              "  .colab-df-quickchart:hover {\n",
              "    background-color: #E2EBFA;\n",
              "    box-shadow: 0px 1px 2px rgba(60, 64, 67, 0.3), 0px 1px 3px 1px rgba(60, 64, 67, 0.15);\n",
              "    fill: #174EA6;\n",
              "  }\n",
              "\n",
              "  [theme=dark] .colab-df-quickchart {\n",
              "    background-color: #3B4455;\n",
              "    fill: #D2E3FC;\n",
              "  }\n",
              "\n",
              "  [theme=dark] .colab-df-quickchart:hover {\n",
              "    background-color: #434B5C;\n",
              "    box-shadow: 0px 1px 3px 1px rgba(0, 0, 0, 0.15);\n",
              "    filter: drop-shadow(0px 1px 2px rgba(0, 0, 0, 0.3));\n",
              "    fill: #FFFFFF;\n",
              "  }\n",
              "</style>\n",
              "\n",
              "  <script>\n",
              "    async function quickchart(key) {\n",
              "      const charts = await google.colab.kernel.invokeFunction(\n",
              "          'suggestCharts', [key], {});\n",
              "    }\n",
              "    (() => {\n",
              "      let quickchartButtonEl =\n",
              "        document.querySelector('#df-66fcf374-5cce-48ae-9723-96628f6d31dc button');\n",
              "      quickchartButtonEl.style.display =\n",
              "        google.colab.kernel.accessAllowed ? 'block' : 'none';\n",
              "    })();\n",
              "  </script>\n",
              "</div>\n",
              "    </div>\n",
              "  </div>\n"
            ]
          },
          "metadata": {},
          "execution_count": 133
        }
      ],
      "source": [
        "#check the head of testing_outcome\n",
        "testing_outcome.head(10)"
      ]
    },
    {
      "cell_type": "code",
      "execution_count": 134,
      "id": "f7dc78e2",
      "metadata": {
        "id": "f7dc78e2",
        "outputId": "ef594e5b-15cd-429e-feaa-a7aa0a59f066",
        "colab": {
          "base_uri": "https://localhost:8080/"
        }
      },
      "outputs": [
        {
          "output_type": "execute_result",
          "data": {
            "text/plain": [
              "count     8138.000000\n",
              "mean     10694.303210\n",
              "std       7562.239560\n",
              "min          0.000000\n",
              "25%       4956.812034\n",
              "50%       8607.170310\n",
              "75%      14661.956541\n",
              "max      35000.000000\n",
              "Name: EAD, dtype: float64"
            ]
          },
          "metadata": {},
          "execution_count": 134
        }
      ],
      "source": [
        "#check the basic stats of EAD\n",
        "testing_outcome['EAD'].describe()"
      ]
    },
    {
      "cell_type": "markdown",
      "id": "Pt4fzbYRNcJt",
      "metadata": {
        "id": "Pt4fzbYRNcJt"
      },
      "source": [
        "## Calculate results of PD_Model"
      ]
    },
    {
      "cell_type": "code",
      "execution_count": 136,
      "id": "d88ef8e0",
      "metadata": {
        "id": "d88ef8e0",
        "outputId": "e9ea8959-ae13-421b-94d6-e58b2fa2af63",
        "colab": {
          "base_uri": "https://localhost:8080/"
        }
      },
      "outputs": [
        {
          "output_type": "execute_result",
          "data": {
            "text/plain": [
              "Index(['loan_amnt', 'funded_amnt', 'int_rate', 'installment',\n",
              "       'total_rec_prncp', 'grade:A', 'grade:B', 'grade:C', 'grade:D',\n",
              "       'grade:E',\n",
              "       ...\n",
              "       'dti:15-20', 'dti:20-25', 'dti:25-30', 'dti:30-35', 'dti:35-40',\n",
              "       'dti:>40', 'mths_since_last_record:0-3', 'mths_since_last_record:3-85',\n",
              "       'mths_since_last_record:85-120', 'mths_since_last_record:>=120'],\n",
              "      dtype='object', length=119)"
            ]
          },
          "metadata": {},
          "execution_count": 136
        }
      ],
      "source": [
        "#check the columns of testing_sample\n",
        "testing_sample.columns"
      ]
    },
    {
      "cell_type": "markdown",
      "id": "kKSu0aDWNrye",
      "metadata": {
        "id": "kKSu0aDWNrye"
      },
      "source": [
        "### Make sure you pass only those columns to the PD_Model which you have passed in PD_Model while model training"
      ]
    },
    {
      "cell_type": "code",
      "execution_count": 137,
      "id": "7b1f621d",
      "metadata": {
        "id": "7b1f621d"
      },
      "outputs": [],
      "source": [
        "#Drop total_rec_prncp column as it was not used in PD_Model while model training\n",
        "testing_sample.drop('total_rec_prncp',axis=1,inplace=True)"
      ]
    },
    {
      "cell_type": "code",
      "execution_count": 141,
      "id": "b6f61857",
      "metadata": {
        "id": "b6f61857"
      },
      "outputs": [],
      "source": [
        "#load the PD_model which we have created Earlier\n",
        "reg_pd = pickle.load(open('/content/drive/MyDrive/credit_risk_analysis/Data/pd_model_gradient.sav','rb'))"
      ]
    },
    {
      "cell_type": "code",
      "execution_count": 145,
      "id": "c9a924bf",
      "metadata": {
        "id": "c9a924bf"
      },
      "outputs": [],
      "source": [
        "#predict the predict_proba results of testing_sample using PD_Model and store it in 'PD'\n",
        "testing_outcome['PD'] = reg_pd.predict_proba(testing_sample)[:,0]"
      ]
    },
    {
      "cell_type": "code",
      "execution_count": 146,
      "id": "6ab149a8",
      "metadata": {
        "id": "6ab149a8",
        "outputId": "7f0f2582-7b71-4f33-dbae-450a67ef3781",
        "colab": {
          "base_uri": "https://localhost:8080/",
          "height": 363
        }
      },
      "outputs": [
        {
          "output_type": "execute_result",
          "data": {
            "text/plain": [
              "   recovery_rate_stage_1  recovery_rate_stage_2  recovery_rate       LGD  \\\n",
              "0                      1               0.087070       0.087070  0.912930   \n",
              "1                      1               0.161708       0.161708  0.838292   \n",
              "2                      0               0.117815       0.000000  1.000000   \n",
              "3                      1               0.156764       0.156764  0.843236   \n",
              "4                      1               0.080229       0.080229  0.919771   \n",
              "5                      0               0.121320       0.000000  1.000000   \n",
              "6                      0               0.073089       0.000000  1.000000   \n",
              "7                      1               0.129711       0.129711  0.870289   \n",
              "8                      1               0.064100       0.064100  0.935900   \n",
              "9                      1               0.088237       0.088237  0.911763   \n",
              "\n",
              "        CCF           EAD        PD  \n",
              "0  0.835895  16717.893812  0.094445  \n",
              "1  0.911426  21874.230520  0.134075  \n",
              "2  0.713977  12851.586572  0.127447  \n",
              "3  0.880876   9469.422094  0.134075  \n",
              "4  0.702601   3513.003677  0.102034  \n",
              "5  0.589197  10605.547953  0.094445  \n",
              "6  0.336655   4713.167868  0.094445  \n",
              "7  0.911554  17866.467023  0.134075  \n",
              "8  0.608386   2190.188799  0.094445  \n",
              "9  0.824622  13193.944033  0.134075  "
            ],
            "text/html": [
              "\n",
              "  <div id=\"df-4edfd87b-539b-48b9-9c3e-d9b68a029966\" class=\"colab-df-container\">\n",
              "    <div>\n",
              "<style scoped>\n",
              "    .dataframe tbody tr th:only-of-type {\n",
              "        vertical-align: middle;\n",
              "    }\n",
              "\n",
              "    .dataframe tbody tr th {\n",
              "        vertical-align: top;\n",
              "    }\n",
              "\n",
              "    .dataframe thead th {\n",
              "        text-align: right;\n",
              "    }\n",
              "</style>\n",
              "<table border=\"1\" class=\"dataframe\">\n",
              "  <thead>\n",
              "    <tr style=\"text-align: right;\">\n",
              "      <th></th>\n",
              "      <th>recovery_rate_stage_1</th>\n",
              "      <th>recovery_rate_stage_2</th>\n",
              "      <th>recovery_rate</th>\n",
              "      <th>LGD</th>\n",
              "      <th>CCF</th>\n",
              "      <th>EAD</th>\n",
              "      <th>PD</th>\n",
              "    </tr>\n",
              "  </thead>\n",
              "  <tbody>\n",
              "    <tr>\n",
              "      <th>0</th>\n",
              "      <td>1</td>\n",
              "      <td>0.087070</td>\n",
              "      <td>0.087070</td>\n",
              "      <td>0.912930</td>\n",
              "      <td>0.835895</td>\n",
              "      <td>16717.893812</td>\n",
              "      <td>0.094445</td>\n",
              "    </tr>\n",
              "    <tr>\n",
              "      <th>1</th>\n",
              "      <td>1</td>\n",
              "      <td>0.161708</td>\n",
              "      <td>0.161708</td>\n",
              "      <td>0.838292</td>\n",
              "      <td>0.911426</td>\n",
              "      <td>21874.230520</td>\n",
              "      <td>0.134075</td>\n",
              "    </tr>\n",
              "    <tr>\n",
              "      <th>2</th>\n",
              "      <td>0</td>\n",
              "      <td>0.117815</td>\n",
              "      <td>0.000000</td>\n",
              "      <td>1.000000</td>\n",
              "      <td>0.713977</td>\n",
              "      <td>12851.586572</td>\n",
              "      <td>0.127447</td>\n",
              "    </tr>\n",
              "    <tr>\n",
              "      <th>3</th>\n",
              "      <td>1</td>\n",
              "      <td>0.156764</td>\n",
              "      <td>0.156764</td>\n",
              "      <td>0.843236</td>\n",
              "      <td>0.880876</td>\n",
              "      <td>9469.422094</td>\n",
              "      <td>0.134075</td>\n",
              "    </tr>\n",
              "    <tr>\n",
              "      <th>4</th>\n",
              "      <td>1</td>\n",
              "      <td>0.080229</td>\n",
              "      <td>0.080229</td>\n",
              "      <td>0.919771</td>\n",
              "      <td>0.702601</td>\n",
              "      <td>3513.003677</td>\n",
              "      <td>0.102034</td>\n",
              "    </tr>\n",
              "    <tr>\n",
              "      <th>5</th>\n",
              "      <td>0</td>\n",
              "      <td>0.121320</td>\n",
              "      <td>0.000000</td>\n",
              "      <td>1.000000</td>\n",
              "      <td>0.589197</td>\n",
              "      <td>10605.547953</td>\n",
              "      <td>0.094445</td>\n",
              "    </tr>\n",
              "    <tr>\n",
              "      <th>6</th>\n",
              "      <td>0</td>\n",
              "      <td>0.073089</td>\n",
              "      <td>0.000000</td>\n",
              "      <td>1.000000</td>\n",
              "      <td>0.336655</td>\n",
              "      <td>4713.167868</td>\n",
              "      <td>0.094445</td>\n",
              "    </tr>\n",
              "    <tr>\n",
              "      <th>7</th>\n",
              "      <td>1</td>\n",
              "      <td>0.129711</td>\n",
              "      <td>0.129711</td>\n",
              "      <td>0.870289</td>\n",
              "      <td>0.911554</td>\n",
              "      <td>17866.467023</td>\n",
              "      <td>0.134075</td>\n",
              "    </tr>\n",
              "    <tr>\n",
              "      <th>8</th>\n",
              "      <td>1</td>\n",
              "      <td>0.064100</td>\n",
              "      <td>0.064100</td>\n",
              "      <td>0.935900</td>\n",
              "      <td>0.608386</td>\n",
              "      <td>2190.188799</td>\n",
              "      <td>0.094445</td>\n",
              "    </tr>\n",
              "    <tr>\n",
              "      <th>9</th>\n",
              "      <td>1</td>\n",
              "      <td>0.088237</td>\n",
              "      <td>0.088237</td>\n",
              "      <td>0.911763</td>\n",
              "      <td>0.824622</td>\n",
              "      <td>13193.944033</td>\n",
              "      <td>0.134075</td>\n",
              "    </tr>\n",
              "  </tbody>\n",
              "</table>\n",
              "</div>\n",
              "    <div class=\"colab-df-buttons\">\n",
              "\n",
              "  <div class=\"colab-df-container\">\n",
              "    <button class=\"colab-df-convert\" onclick=\"convertToInteractive('df-4edfd87b-539b-48b9-9c3e-d9b68a029966')\"\n",
              "            title=\"Convert this dataframe to an interactive table.\"\n",
              "            style=\"display:none;\">\n",
              "\n",
              "  <svg xmlns=\"http://www.w3.org/2000/svg\" height=\"24px\" viewBox=\"0 -960 960 960\">\n",
              "    <path d=\"M120-120v-720h720v720H120Zm60-500h600v-160H180v160Zm220 220h160v-160H400v160Zm0 220h160v-160H400v160ZM180-400h160v-160H180v160Zm440 0h160v-160H620v160ZM180-180h160v-160H180v160Zm440 0h160v-160H620v160Z\"/>\n",
              "  </svg>\n",
              "    </button>\n",
              "\n",
              "  <style>\n",
              "    .colab-df-container {\n",
              "      display:flex;\n",
              "      gap: 12px;\n",
              "    }\n",
              "\n",
              "    .colab-df-convert {\n",
              "      background-color: #E8F0FE;\n",
              "      border: none;\n",
              "      border-radius: 50%;\n",
              "      cursor: pointer;\n",
              "      display: none;\n",
              "      fill: #1967D2;\n",
              "      height: 32px;\n",
              "      padding: 0 0 0 0;\n",
              "      width: 32px;\n",
              "    }\n",
              "\n",
              "    .colab-df-convert:hover {\n",
              "      background-color: #E2EBFA;\n",
              "      box-shadow: 0px 1px 2px rgba(60, 64, 67, 0.3), 0px 1px 3px 1px rgba(60, 64, 67, 0.15);\n",
              "      fill: #174EA6;\n",
              "    }\n",
              "\n",
              "    .colab-df-buttons div {\n",
              "      margin-bottom: 4px;\n",
              "    }\n",
              "\n",
              "    [theme=dark] .colab-df-convert {\n",
              "      background-color: #3B4455;\n",
              "      fill: #D2E3FC;\n",
              "    }\n",
              "\n",
              "    [theme=dark] .colab-df-convert:hover {\n",
              "      background-color: #434B5C;\n",
              "      box-shadow: 0px 1px 3px 1px rgba(0, 0, 0, 0.15);\n",
              "      filter: drop-shadow(0px 1px 2px rgba(0, 0, 0, 0.3));\n",
              "      fill: #FFFFFF;\n",
              "    }\n",
              "  </style>\n",
              "\n",
              "    <script>\n",
              "      const buttonEl =\n",
              "        document.querySelector('#df-4edfd87b-539b-48b9-9c3e-d9b68a029966 button.colab-df-convert');\n",
              "      buttonEl.style.display =\n",
              "        google.colab.kernel.accessAllowed ? 'block' : 'none';\n",
              "\n",
              "      async function convertToInteractive(key) {\n",
              "        const element = document.querySelector('#df-4edfd87b-539b-48b9-9c3e-d9b68a029966');\n",
              "        const dataTable =\n",
              "          await google.colab.kernel.invokeFunction('convertToInteractive',\n",
              "                                                    [key], {});\n",
              "        if (!dataTable) return;\n",
              "\n",
              "        const docLinkHtml = 'Like what you see? Visit the ' +\n",
              "          '<a target=\"_blank\" href=https://colab.research.google.com/notebooks/data_table.ipynb>data table notebook</a>'\n",
              "          + ' to learn more about interactive tables.';\n",
              "        element.innerHTML = '';\n",
              "        dataTable['output_type'] = 'display_data';\n",
              "        await google.colab.output.renderOutput(dataTable, element);\n",
              "        const docLink = document.createElement('div');\n",
              "        docLink.innerHTML = docLinkHtml;\n",
              "        element.appendChild(docLink);\n",
              "      }\n",
              "    </script>\n",
              "  </div>\n",
              "\n",
              "\n",
              "<div id=\"df-c0369d49-55e8-4026-94a6-4e149604b2b1\">\n",
              "  <button class=\"colab-df-quickchart\" onclick=\"quickchart('df-c0369d49-55e8-4026-94a6-4e149604b2b1')\"\n",
              "            title=\"Suggest charts.\"\n",
              "            style=\"display:none;\">\n",
              "\n",
              "<svg xmlns=\"http://www.w3.org/2000/svg\" height=\"24px\"viewBox=\"0 0 24 24\"\n",
              "     width=\"24px\">\n",
              "    <g>\n",
              "        <path d=\"M19 3H5c-1.1 0-2 .9-2 2v14c0 1.1.9 2 2 2h14c1.1 0 2-.9 2-2V5c0-1.1-.9-2-2-2zM9 17H7v-7h2v7zm4 0h-2V7h2v10zm4 0h-2v-4h2v4z\"/>\n",
              "    </g>\n",
              "</svg>\n",
              "  </button>\n",
              "\n",
              "<style>\n",
              "  .colab-df-quickchart {\n",
              "    background-color: #E8F0FE;\n",
              "    border: none;\n",
              "    border-radius: 50%;\n",
              "    cursor: pointer;\n",
              "    display: none;\n",
              "    fill: #1967D2;\n",
              "    height: 32px;\n",
              "    padding: 0 0 0 0;\n",
              "    width: 32px;\n",
              "  }\n",
              "\n",
              "  .colab-df-quickchart:hover {\n",
              "    background-color: #E2EBFA;\n",
              "    box-shadow: 0px 1px 2px rgba(60, 64, 67, 0.3), 0px 1px 3px 1px rgba(60, 64, 67, 0.15);\n",
              "    fill: #174EA6;\n",
              "  }\n",
              "\n",
              "  [theme=dark] .colab-df-quickchart {\n",
              "    background-color: #3B4455;\n",
              "    fill: #D2E3FC;\n",
              "  }\n",
              "\n",
              "  [theme=dark] .colab-df-quickchart:hover {\n",
              "    background-color: #434B5C;\n",
              "    box-shadow: 0px 1px 3px 1px rgba(0, 0, 0, 0.15);\n",
              "    filter: drop-shadow(0px 1px 2px rgba(0, 0, 0, 0.3));\n",
              "    fill: #FFFFFF;\n",
              "  }\n",
              "</style>\n",
              "\n",
              "  <script>\n",
              "    async function quickchart(key) {\n",
              "      const charts = await google.colab.kernel.invokeFunction(\n",
              "          'suggestCharts', [key], {});\n",
              "    }\n",
              "    (() => {\n",
              "      let quickchartButtonEl =\n",
              "        document.querySelector('#df-c0369d49-55e8-4026-94a6-4e149604b2b1 button');\n",
              "      quickchartButtonEl.style.display =\n",
              "        google.colab.kernel.accessAllowed ? 'block' : 'none';\n",
              "    })();\n",
              "  </script>\n",
              "</div>\n",
              "    </div>\n",
              "  </div>\n"
            ]
          },
          "metadata": {},
          "execution_count": 146
        }
      ],
      "source": [
        "#check the head of testing_outcome\n",
        "testing_outcome.head(10)"
      ]
    },
    {
      "cell_type": "code",
      "execution_count": 147,
      "id": "2e236d74",
      "metadata": {
        "id": "2e236d74",
        "outputId": "040de269-9cfb-4e08-97c2-0996abbd5b94",
        "colab": {
          "base_uri": "https://localhost:8080/"
        }
      },
      "outputs": [
        {
          "output_type": "execute_result",
          "data": {
            "text/plain": [
              "count    8138.000000\n",
              "mean        0.116818\n",
              "std         0.016595\n",
              "min         0.094445\n",
              "25%         0.102034\n",
              "50%         0.112794\n",
              "75%         0.134075\n",
              "max         0.134075\n",
              "Name: PD, dtype: float64"
            ]
          },
          "metadata": {},
          "execution_count": 147
        }
      ],
      "source": [
        "#check the basic stats of PD\n",
        "testing_outcome['PD'].describe()"
      ]
    },
    {
      "cell_type": "code",
      "execution_count": 148,
      "id": "05ded910",
      "metadata": {
        "id": "05ded910"
      },
      "outputs": [],
      "source": [
        "#create a new column 'EL' i.e Expected_Loss by ('PD' * 'LGD' * 'EAD')\n",
        "testing_outcome['EL'] =testing_outcome['PD'] * testing_outcome['LGD'] * testing_outcome['EAD']"
      ]
    },
    {
      "cell_type": "code",
      "execution_count": 150,
      "id": "c9d1355f",
      "metadata": {
        "id": "c9d1355f"
      },
      "outputs": [],
      "source": [
        "#Add the column 'funded_amnt' from testing_sample to testing_outcome\n",
        "testing_outcome['Funded_amt'] = testing_sample['funded_amnt'].values"
      ]
    },
    {
      "cell_type": "code",
      "execution_count": 151,
      "id": "94f3aace",
      "metadata": {
        "id": "94f3aace",
        "outputId": "5e210f30-bda8-418b-df2b-8d7dda085183",
        "colab": {
          "base_uri": "https://localhost:8080/",
          "height": 383
        }
      },
      "outputs": [
        {
          "output_type": "execute_result",
          "data": {
            "text/plain": [
              "   recovery_rate_stage_1  recovery_rate_stage_2  recovery_rate       LGD  \\\n",
              "0                      1               0.087070       0.087070  0.912930   \n",
              "1                      1               0.161708       0.161708  0.838292   \n",
              "2                      0               0.117815       0.000000  1.000000   \n",
              "3                      1               0.156764       0.156764  0.843236   \n",
              "4                      1               0.080229       0.080229  0.919771   \n",
              "5                      0               0.121320       0.000000  1.000000   \n",
              "6                      0               0.073089       0.000000  1.000000   \n",
              "7                      1               0.129711       0.129711  0.870289   \n",
              "8                      1               0.064100       0.064100  0.935900   \n",
              "9                      1               0.088237       0.088237  0.911763   \n",
              "\n",
              "        CCF           EAD        PD           EL  Funded_amt  \n",
              "0  0.835895  16717.893812  0.094445  1441.446909       20000  \n",
              "1  0.911426  21874.230520  0.134075  2458.527205       24000  \n",
              "2  0.713977  12851.586572  0.127447  1637.892447       18000  \n",
              "3  0.880876   9469.422094  0.134075  1070.581122       10750  \n",
              "4  0.702601   3513.003677  0.102034   329.689720        5000  \n",
              "5  0.589197  10605.547953  0.094445  1001.642346       18000  \n",
              "6  0.336655   4713.167868  0.094445   445.135748       14000  \n",
              "7  0.911554  17866.467023  0.134075  2084.726183       19600  \n",
              "8  0.608386   2190.188799  0.094445   193.593427        3600  \n",
              "9  0.824622  13193.944033  0.134075  1612.885746       16000  "
            ],
            "text/html": [
              "\n",
              "  <div id=\"df-1baa90f1-0443-4008-8cce-69c6b394e7af\" class=\"colab-df-container\">\n",
              "    <div>\n",
              "<style scoped>\n",
              "    .dataframe tbody tr th:only-of-type {\n",
              "        vertical-align: middle;\n",
              "    }\n",
              "\n",
              "    .dataframe tbody tr th {\n",
              "        vertical-align: top;\n",
              "    }\n",
              "\n",
              "    .dataframe thead th {\n",
              "        text-align: right;\n",
              "    }\n",
              "</style>\n",
              "<table border=\"1\" class=\"dataframe\">\n",
              "  <thead>\n",
              "    <tr style=\"text-align: right;\">\n",
              "      <th></th>\n",
              "      <th>recovery_rate_stage_1</th>\n",
              "      <th>recovery_rate_stage_2</th>\n",
              "      <th>recovery_rate</th>\n",
              "      <th>LGD</th>\n",
              "      <th>CCF</th>\n",
              "      <th>EAD</th>\n",
              "      <th>PD</th>\n",
              "      <th>EL</th>\n",
              "      <th>Funded_amt</th>\n",
              "    </tr>\n",
              "  </thead>\n",
              "  <tbody>\n",
              "    <tr>\n",
              "      <th>0</th>\n",
              "      <td>1</td>\n",
              "      <td>0.087070</td>\n",
              "      <td>0.087070</td>\n",
              "      <td>0.912930</td>\n",
              "      <td>0.835895</td>\n",
              "      <td>16717.893812</td>\n",
              "      <td>0.094445</td>\n",
              "      <td>1441.446909</td>\n",
              "      <td>20000</td>\n",
              "    </tr>\n",
              "    <tr>\n",
              "      <th>1</th>\n",
              "      <td>1</td>\n",
              "      <td>0.161708</td>\n",
              "      <td>0.161708</td>\n",
              "      <td>0.838292</td>\n",
              "      <td>0.911426</td>\n",
              "      <td>21874.230520</td>\n",
              "      <td>0.134075</td>\n",
              "      <td>2458.527205</td>\n",
              "      <td>24000</td>\n",
              "    </tr>\n",
              "    <tr>\n",
              "      <th>2</th>\n",
              "      <td>0</td>\n",
              "      <td>0.117815</td>\n",
              "      <td>0.000000</td>\n",
              "      <td>1.000000</td>\n",
              "      <td>0.713977</td>\n",
              "      <td>12851.586572</td>\n",
              "      <td>0.127447</td>\n",
              "      <td>1637.892447</td>\n",
              "      <td>18000</td>\n",
              "    </tr>\n",
              "    <tr>\n",
              "      <th>3</th>\n",
              "      <td>1</td>\n",
              "      <td>0.156764</td>\n",
              "      <td>0.156764</td>\n",
              "      <td>0.843236</td>\n",
              "      <td>0.880876</td>\n",
              "      <td>9469.422094</td>\n",
              "      <td>0.134075</td>\n",
              "      <td>1070.581122</td>\n",
              "      <td>10750</td>\n",
              "    </tr>\n",
              "    <tr>\n",
              "      <th>4</th>\n",
              "      <td>1</td>\n",
              "      <td>0.080229</td>\n",
              "      <td>0.080229</td>\n",
              "      <td>0.919771</td>\n",
              "      <td>0.702601</td>\n",
              "      <td>3513.003677</td>\n",
              "      <td>0.102034</td>\n",
              "      <td>329.689720</td>\n",
              "      <td>5000</td>\n",
              "    </tr>\n",
              "    <tr>\n",
              "      <th>5</th>\n",
              "      <td>0</td>\n",
              "      <td>0.121320</td>\n",
              "      <td>0.000000</td>\n",
              "      <td>1.000000</td>\n",
              "      <td>0.589197</td>\n",
              "      <td>10605.547953</td>\n",
              "      <td>0.094445</td>\n",
              "      <td>1001.642346</td>\n",
              "      <td>18000</td>\n",
              "    </tr>\n",
              "    <tr>\n",
              "      <th>6</th>\n",
              "      <td>0</td>\n",
              "      <td>0.073089</td>\n",
              "      <td>0.000000</td>\n",
              "      <td>1.000000</td>\n",
              "      <td>0.336655</td>\n",
              "      <td>4713.167868</td>\n",
              "      <td>0.094445</td>\n",
              "      <td>445.135748</td>\n",
              "      <td>14000</td>\n",
              "    </tr>\n",
              "    <tr>\n",
              "      <th>7</th>\n",
              "      <td>1</td>\n",
              "      <td>0.129711</td>\n",
              "      <td>0.129711</td>\n",
              "      <td>0.870289</td>\n",
              "      <td>0.911554</td>\n",
              "      <td>17866.467023</td>\n",
              "      <td>0.134075</td>\n",
              "      <td>2084.726183</td>\n",
              "      <td>19600</td>\n",
              "    </tr>\n",
              "    <tr>\n",
              "      <th>8</th>\n",
              "      <td>1</td>\n",
              "      <td>0.064100</td>\n",
              "      <td>0.064100</td>\n",
              "      <td>0.935900</td>\n",
              "      <td>0.608386</td>\n",
              "      <td>2190.188799</td>\n",
              "      <td>0.094445</td>\n",
              "      <td>193.593427</td>\n",
              "      <td>3600</td>\n",
              "    </tr>\n",
              "    <tr>\n",
              "      <th>9</th>\n",
              "      <td>1</td>\n",
              "      <td>0.088237</td>\n",
              "      <td>0.088237</td>\n",
              "      <td>0.911763</td>\n",
              "      <td>0.824622</td>\n",
              "      <td>13193.944033</td>\n",
              "      <td>0.134075</td>\n",
              "      <td>1612.885746</td>\n",
              "      <td>16000</td>\n",
              "    </tr>\n",
              "  </tbody>\n",
              "</table>\n",
              "</div>\n",
              "    <div class=\"colab-df-buttons\">\n",
              "\n",
              "  <div class=\"colab-df-container\">\n",
              "    <button class=\"colab-df-convert\" onclick=\"convertToInteractive('df-1baa90f1-0443-4008-8cce-69c6b394e7af')\"\n",
              "            title=\"Convert this dataframe to an interactive table.\"\n",
              "            style=\"display:none;\">\n",
              "\n",
              "  <svg xmlns=\"http://www.w3.org/2000/svg\" height=\"24px\" viewBox=\"0 -960 960 960\">\n",
              "    <path d=\"M120-120v-720h720v720H120Zm60-500h600v-160H180v160Zm220 220h160v-160H400v160Zm0 220h160v-160H400v160ZM180-400h160v-160H180v160Zm440 0h160v-160H620v160ZM180-180h160v-160H180v160Zm440 0h160v-160H620v160Z\"/>\n",
              "  </svg>\n",
              "    </button>\n",
              "\n",
              "  <style>\n",
              "    .colab-df-container {\n",
              "      display:flex;\n",
              "      gap: 12px;\n",
              "    }\n",
              "\n",
              "    .colab-df-convert {\n",
              "      background-color: #E8F0FE;\n",
              "      border: none;\n",
              "      border-radius: 50%;\n",
              "      cursor: pointer;\n",
              "      display: none;\n",
              "      fill: #1967D2;\n",
              "      height: 32px;\n",
              "      padding: 0 0 0 0;\n",
              "      width: 32px;\n",
              "    }\n",
              "\n",
              "    .colab-df-convert:hover {\n",
              "      background-color: #E2EBFA;\n",
              "      box-shadow: 0px 1px 2px rgba(60, 64, 67, 0.3), 0px 1px 3px 1px rgba(60, 64, 67, 0.15);\n",
              "      fill: #174EA6;\n",
              "    }\n",
              "\n",
              "    .colab-df-buttons div {\n",
              "      margin-bottom: 4px;\n",
              "    }\n",
              "\n",
              "    [theme=dark] .colab-df-convert {\n",
              "      background-color: #3B4455;\n",
              "      fill: #D2E3FC;\n",
              "    }\n",
              "\n",
              "    [theme=dark] .colab-df-convert:hover {\n",
              "      background-color: #434B5C;\n",
              "      box-shadow: 0px 1px 3px 1px rgba(0, 0, 0, 0.15);\n",
              "      filter: drop-shadow(0px 1px 2px rgba(0, 0, 0, 0.3));\n",
              "      fill: #FFFFFF;\n",
              "    }\n",
              "  </style>\n",
              "\n",
              "    <script>\n",
              "      const buttonEl =\n",
              "        document.querySelector('#df-1baa90f1-0443-4008-8cce-69c6b394e7af button.colab-df-convert');\n",
              "      buttonEl.style.display =\n",
              "        google.colab.kernel.accessAllowed ? 'block' : 'none';\n",
              "\n",
              "      async function convertToInteractive(key) {\n",
              "        const element = document.querySelector('#df-1baa90f1-0443-4008-8cce-69c6b394e7af');\n",
              "        const dataTable =\n",
              "          await google.colab.kernel.invokeFunction('convertToInteractive',\n",
              "                                                    [key], {});\n",
              "        if (!dataTable) return;\n",
              "\n",
              "        const docLinkHtml = 'Like what you see? Visit the ' +\n",
              "          '<a target=\"_blank\" href=https://colab.research.google.com/notebooks/data_table.ipynb>data table notebook</a>'\n",
              "          + ' to learn more about interactive tables.';\n",
              "        element.innerHTML = '';\n",
              "        dataTable['output_type'] = 'display_data';\n",
              "        await google.colab.output.renderOutput(dataTable, element);\n",
              "        const docLink = document.createElement('div');\n",
              "        docLink.innerHTML = docLinkHtml;\n",
              "        element.appendChild(docLink);\n",
              "      }\n",
              "    </script>\n",
              "  </div>\n",
              "\n",
              "\n",
              "<div id=\"df-d83e35e3-1c32-45d6-854e-eca12022ed62\">\n",
              "  <button class=\"colab-df-quickchart\" onclick=\"quickchart('df-d83e35e3-1c32-45d6-854e-eca12022ed62')\"\n",
              "            title=\"Suggest charts.\"\n",
              "            style=\"display:none;\">\n",
              "\n",
              "<svg xmlns=\"http://www.w3.org/2000/svg\" height=\"24px\"viewBox=\"0 0 24 24\"\n",
              "     width=\"24px\">\n",
              "    <g>\n",
              "        <path d=\"M19 3H5c-1.1 0-2 .9-2 2v14c0 1.1.9 2 2 2h14c1.1 0 2-.9 2-2V5c0-1.1-.9-2-2-2zM9 17H7v-7h2v7zm4 0h-2V7h2v10zm4 0h-2v-4h2v4z\"/>\n",
              "    </g>\n",
              "</svg>\n",
              "  </button>\n",
              "\n",
              "<style>\n",
              "  .colab-df-quickchart {\n",
              "    background-color: #E8F0FE;\n",
              "    border: none;\n",
              "    border-radius: 50%;\n",
              "    cursor: pointer;\n",
              "    display: none;\n",
              "    fill: #1967D2;\n",
              "    height: 32px;\n",
              "    padding: 0 0 0 0;\n",
              "    width: 32px;\n",
              "  }\n",
              "\n",
              "  .colab-df-quickchart:hover {\n",
              "    background-color: #E2EBFA;\n",
              "    box-shadow: 0px 1px 2px rgba(60, 64, 67, 0.3), 0px 1px 3px 1px rgba(60, 64, 67, 0.15);\n",
              "    fill: #174EA6;\n",
              "  }\n",
              "\n",
              "  [theme=dark] .colab-df-quickchart {\n",
              "    background-color: #3B4455;\n",
              "    fill: #D2E3FC;\n",
              "  }\n",
              "\n",
              "  [theme=dark] .colab-df-quickchart:hover {\n",
              "    background-color: #434B5C;\n",
              "    box-shadow: 0px 1px 3px 1px rgba(0, 0, 0, 0.15);\n",
              "    filter: drop-shadow(0px 1px 2px rgba(0, 0, 0, 0.3));\n",
              "    fill: #FFFFFF;\n",
              "  }\n",
              "</style>\n",
              "\n",
              "  <script>\n",
              "    async function quickchart(key) {\n",
              "      const charts = await google.colab.kernel.invokeFunction(\n",
              "          'suggestCharts', [key], {});\n",
              "    }\n",
              "    (() => {\n",
              "      let quickchartButtonEl =\n",
              "        document.querySelector('#df-d83e35e3-1c32-45d6-854e-eca12022ed62 button');\n",
              "      quickchartButtonEl.style.display =\n",
              "        google.colab.kernel.accessAllowed ? 'block' : 'none';\n",
              "    })();\n",
              "  </script>\n",
              "</div>\n",
              "    </div>\n",
              "  </div>\n"
            ]
          },
          "metadata": {},
          "execution_count": 151
        }
      ],
      "source": [
        "#check the head of testing_outcome\n",
        "testing_outcome.head(10)"
      ]
    },
    {
      "cell_type": "code",
      "execution_count": 153,
      "id": "2d857f8d",
      "metadata": {
        "id": "2d857f8d"
      },
      "outputs": [],
      "source": [
        "#create a new dataframe which will have only 'Funded_amt','PD','LGD','EAD','EL'\n",
        "testing_outcome_final = testing_outcome[['Funded_amt','PD','LGD','EAD','EL']]\n"
      ]
    },
    {
      "cell_type": "markdown",
      "id": "3OnE1O1cQsd4",
      "metadata": {
        "id": "3OnE1O1cQsd4"
      },
      "source": [
        "## Calculation of verall expected_loss suffered by the bank"
      ]
    },
    {
      "cell_type": "code",
      "execution_count": 154,
      "id": "c361d9e2",
      "metadata": {
        "id": "c361d9e2",
        "outputId": "a78a5676-679f-4cf8-9db2-67ee2f278349",
        "colab": {
          "base_uri": "https://localhost:8080/"
        }
      },
      "outputs": [
        {
          "output_type": "execute_result",
          "data": {
            "text/plain": [
              "0.08332660952876192"
            ]
          },
          "metadata": {},
          "execution_count": 154
        }
      ],
      "source": [
        "#Divide the  expected_loss sum by funded_amnt sum\n",
        "testing_outcome_final['EL'].sum()/testing_outcome_final['Funded_amt'].sum()"
      ]
    },
    {
      "cell_type": "markdown",
      "id": "ZyjniZwPPTC1",
      "metadata": {
        "id": "ZyjniZwPPTC1"
      },
      "source": [
        "It is observed that overall the Bank suffers an Expected loss of 8.3% while giving loans to it's customers"
      ]
    }
  ],
  "metadata": {
    "colab": {
      "provenance": []
    },
    "kernelspec": {
      "display_name": "Python 3 (ipykernel)",
      "language": "python",
      "name": "python3"
    },
    "language_info": {
      "codemirror_mode": {
        "name": "ipython",
        "version": 3
      },
      "file_extension": ".py",
      "mimetype": "text/x-python",
      "name": "python",
      "nbconvert_exporter": "python",
      "pygments_lexer": "ipython3",
      "version": "3.10.9"
    }
  },
  "nbformat": 4,
  "nbformat_minor": 5
}