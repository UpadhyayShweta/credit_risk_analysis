{
 "cells": [
  {
   "cell_type": "code",
   "execution_count": 24,
   "metadata": {
    "id": "yw55uB46LuS_"
   },
   "outputs": [],
   "source": [
    "%config completer.use_jedi = False\n",
    "\n",
    "#import libraries\n",
    "import numpy as np\n",
    "import pandas as pd\n",
    "import matplotlib.pyplot as plt\n",
    "\n",
    "import warnings\n",
    "warnings.filterwarnings('ignore')\n"
   ]
  },
  {
   "cell_type": "code",
   "execution_count": 73,
   "metadata": {
    "id": "quIxSh4jLuTD",
    "outputId": "0df31d40-9098-48a5-f8f9-5e67f31ab287"
   },
   "outputs": [
    {
     "name": "stdout",
     "output_type": "stream",
     "text": [
      "<class 'pandas.core.frame.DataFrame'>\n",
      "RangeIndex: 466285 entries, 0 to 466284\n",
      "Data columns (total 75 columns):\n",
      " #   Column                       Non-Null Count   Dtype  \n",
      "---  ------                       --------------   -----  \n",
      " 0   Unnamed: 0                   466285 non-null  int64  \n",
      " 1   id                           466285 non-null  int64  \n",
      " 2   member_id                    466285 non-null  int64  \n",
      " 3   loan_amnt                    466285 non-null  int64  \n",
      " 4   funded_amnt                  466285 non-null  int64  \n",
      " 5   funded_amnt_inv              466285 non-null  float64\n",
      " 6   term                         466285 non-null  object \n",
      " 7   int_rate                     466285 non-null  float64\n",
      " 8   installment                  466285 non-null  float64\n",
      " 9   grade                        466285 non-null  object \n",
      " 10  sub_grade                    466285 non-null  object \n",
      " 11  emp_title                    438697 non-null  object \n",
      " 12  emp_length                   445277 non-null  object \n",
      " 13  home_ownership               466285 non-null  object \n",
      " 14  annual_inc                   466281 non-null  float64\n",
      " 15  verification_status          466285 non-null  object \n",
      " 16  issue_d                      466285 non-null  object \n",
      " 17  loan_status                  466285 non-null  object \n",
      " 18  pymnt_plan                   466285 non-null  object \n",
      " 19  url                          466285 non-null  object \n",
      " 20  desc                         125983 non-null  object \n",
      " 21  purpose                      466285 non-null  object \n",
      " 22  title                        466265 non-null  object \n",
      " 23  zip_code                     466285 non-null  object \n",
      " 24  addr_state                   466285 non-null  object \n",
      " 25  dti                          466285 non-null  float64\n",
      " 26  delinq_2yrs                  466256 non-null  float64\n",
      " 27  earliest_cr_line             466256 non-null  object \n",
      " 28  inq_last_6mths               466256 non-null  float64\n",
      " 29  mths_since_last_delinq       215934 non-null  float64\n",
      " 30  mths_since_last_record       62638 non-null   float64\n",
      " 31  open_acc                     466256 non-null  float64\n",
      " 32  pub_rec                      466256 non-null  float64\n",
      " 33  revol_bal                    466285 non-null  int64  \n",
      " 34  revol_util                   465945 non-null  float64\n",
      " 35  total_acc                    466256 non-null  float64\n",
      " 36  initial_list_status          466285 non-null  object \n",
      " 37  out_prncp                    466285 non-null  float64\n",
      " 38  out_prncp_inv                466285 non-null  float64\n",
      " 39  total_pymnt                  466285 non-null  float64\n",
      " 40  total_pymnt_inv              466285 non-null  float64\n",
      " 41  total_rec_prncp              466285 non-null  float64\n",
      " 42  total_rec_int                466285 non-null  float64\n",
      " 43  total_rec_late_fee           466285 non-null  float64\n",
      " 44  recoveries                   466285 non-null  float64\n",
      " 45  collection_recovery_fee      466285 non-null  float64\n",
      " 46  last_pymnt_d                 465909 non-null  object \n",
      " 47  last_pymnt_amnt              466285 non-null  float64\n",
      " 48  next_pymnt_d                 239071 non-null  object \n",
      " 49  last_credit_pull_d           466243 non-null  object \n",
      " 50  collections_12_mths_ex_med   466140 non-null  float64\n",
      " 51  mths_since_last_major_derog  98974 non-null   float64\n",
      " 52  policy_code                  466285 non-null  int64  \n",
      " 53  application_type             466285 non-null  object \n",
      " 54  annual_inc_joint             0 non-null       float64\n",
      " 55  dti_joint                    0 non-null       float64\n",
      " 56  verification_status_joint    0 non-null       float64\n",
      " 57  acc_now_delinq               466256 non-null  float64\n",
      " 58  tot_coll_amt                 396009 non-null  float64\n",
      " 59  tot_cur_bal                  396009 non-null  float64\n",
      " 60  open_acc_6m                  0 non-null       float64\n",
      " 61  open_il_6m                   0 non-null       float64\n",
      " 62  open_il_12m                  0 non-null       float64\n",
      " 63  open_il_24m                  0 non-null       float64\n",
      " 64  mths_since_rcnt_il           0 non-null       float64\n",
      " 65  total_bal_il                 0 non-null       float64\n",
      " 66  il_util                      0 non-null       float64\n",
      " 67  open_rv_12m                  0 non-null       float64\n",
      " 68  open_rv_24m                  0 non-null       float64\n",
      " 69  max_bal_bc                   0 non-null       float64\n",
      " 70  all_util                     0 non-null       float64\n",
      " 71  total_rev_hi_lim             396009 non-null  float64\n",
      " 72  inq_fi                       0 non-null       float64\n",
      " 73  total_cu_tl                  0 non-null       float64\n",
      " 74  inq_last_12m                 0 non-null       float64\n",
      "dtypes: float64(46), int64(7), object(22)\n",
      "memory usage: 266.8+ MB\n"
     ]
    }
   ],
   "source": [
    "#load the dataset\n",
    "LoadDataset=pd.read_csv('Data/loan_data_2007_2014.csv')\n",
    "\n",
    "#create a copy of original dataset so that orginal dataframe is not disturbed\n",
    "Load_DS=LoadDataset.copy()\n",
    "\n",
    "Load_DS\n",
    "#print the basic info of the dataframe\n",
    "Load_DS.info()"
   ]
  },
  {
   "cell_type": "markdown",
   "metadata": {
    "id": "CFM-WuGoMa8Y"
   },
   "source": [
    "# PRE-PROCESING"
   ]
  },
  {
   "cell_type": "markdown",
   "metadata": {},
   "source": [
    "#### Data Cleaning"
   ]
  },
  {
   "cell_type": "code",
   "execution_count": 74,
   "metadata": {
    "id": "xi7NVdKOLuTE",
    "outputId": "3a7cd7ef-5a3e-49b4-b60c-e1cb53e66911"
   },
   "outputs": [
    {
     "data": {
      "text/plain": [
       "array(['10+ years', '< 1 year', '1 year', '3 years', '8 years', '9 years',\n",
       "       '4 years', '5 years', '6 years', '2 years', '7 years', nan],\n",
       "      dtype=object)"
      ]
     },
     "execution_count": 74,
     "metadata": {},
     "output_type": "execute_result"
    }
   ],
   "source": [
    "#check the emp-length column unique values\n",
    "Load_DS['emp_length'].unique()"
   ]
  },
  {
   "cell_type": "code",
   "execution_count": 75,
   "metadata": {
    "id": "Fx7bP7B-LuTE",
    "outputId": "5b842d77-4c17-42c3-b04e-3954cb63725f"
   },
   "outputs": [
    {
     "data": {
      "text/plain": [
       "numpy.float64"
      ]
     },
     "execution_count": 75,
     "metadata": {},
     "output_type": "execute_result"
    }
   ],
   "source": [
    "#replace/remove the extra characters/words \n",
    "Load_DS['emp_length_int']=Load_DS['emp_length'].str.replace('[<+ years year]','')\n",
    "\n",
    "#convert it into numrical format and check the type of emp_length_int\n",
    "Load_DS['emp_length_int'] = pd.to_numeric(Load_DS['emp_length_int'])\n",
    "type(Load_DS['emp_length_int'][0])"
   ]
  },
  {
   "cell_type": "code",
   "execution_count": 28,
   "metadata": {},
   "outputs": [
    {
     "data": {
      "text/plain": [
       "array([10.,  1.,  3.,  8.,  9.,  4.,  5.,  6.,  2.,  7., nan])"
      ]
     },
     "execution_count": 28,
     "metadata": {},
     "output_type": "execute_result"
    }
   ],
   "source": [
    "Load_DS['emp_length_int'].unique()"
   ]
  },
  {
   "cell_type": "code",
   "execution_count": 29,
   "metadata": {
    "id": "K-PxL77VLuTJ",
    "outputId": "69811582-fd65-4b16-83bf-c4641212a36d"
   },
   "outputs": [
    {
     "data": {
      "text/html": [
       "<div>\n",
       "<style scoped>\n",
       "    .dataframe tbody tr th:only-of-type {\n",
       "        vertical-align: middle;\n",
       "    }\n",
       "\n",
       "    .dataframe tbody tr th {\n",
       "        vertical-align: top;\n",
       "    }\n",
       "\n",
       "    .dataframe thead th {\n",
       "        text-align: right;\n",
       "    }\n",
       "</style>\n",
       "<table border=\"1\" class=\"dataframe\">\n",
       "  <thead>\n",
       "    <tr style=\"text-align: right;\">\n",
       "      <th></th>\n",
       "      <th>Unnamed: 0</th>\n",
       "      <th>id</th>\n",
       "      <th>member_id</th>\n",
       "      <th>loan_amnt</th>\n",
       "      <th>funded_amnt</th>\n",
       "      <th>funded_amnt_inv</th>\n",
       "      <th>term</th>\n",
       "      <th>int_rate</th>\n",
       "      <th>installment</th>\n",
       "      <th>grade</th>\n",
       "      <th>...</th>\n",
       "      <th>il_util</th>\n",
       "      <th>open_rv_12m</th>\n",
       "      <th>open_rv_24m</th>\n",
       "      <th>max_bal_bc</th>\n",
       "      <th>all_util</th>\n",
       "      <th>total_rev_hi_lim</th>\n",
       "      <th>inq_fi</th>\n",
       "      <th>total_cu_tl</th>\n",
       "      <th>inq_last_12m</th>\n",
       "      <th>emp_length_int</th>\n",
       "    </tr>\n",
       "  </thead>\n",
       "  <tbody>\n",
       "    <tr>\n",
       "      <th>0</th>\n",
       "      <td>0</td>\n",
       "      <td>1077501</td>\n",
       "      <td>1296599</td>\n",
       "      <td>5000</td>\n",
       "      <td>5000</td>\n",
       "      <td>4975.0</td>\n",
       "      <td>36 months</td>\n",
       "      <td>10.65</td>\n",
       "      <td>162.87</td>\n",
       "      <td>B</td>\n",
       "      <td>...</td>\n",
       "      <td>NaN</td>\n",
       "      <td>NaN</td>\n",
       "      <td>NaN</td>\n",
       "      <td>NaN</td>\n",
       "      <td>NaN</td>\n",
       "      <td>NaN</td>\n",
       "      <td>NaN</td>\n",
       "      <td>NaN</td>\n",
       "      <td>NaN</td>\n",
       "      <td>10.0</td>\n",
       "    </tr>\n",
       "    <tr>\n",
       "      <th>1</th>\n",
       "      <td>1</td>\n",
       "      <td>1077430</td>\n",
       "      <td>1314167</td>\n",
       "      <td>2500</td>\n",
       "      <td>2500</td>\n",
       "      <td>2500.0</td>\n",
       "      <td>60 months</td>\n",
       "      <td>15.27</td>\n",
       "      <td>59.83</td>\n",
       "      <td>C</td>\n",
       "      <td>...</td>\n",
       "      <td>NaN</td>\n",
       "      <td>NaN</td>\n",
       "      <td>NaN</td>\n",
       "      <td>NaN</td>\n",
       "      <td>NaN</td>\n",
       "      <td>NaN</td>\n",
       "      <td>NaN</td>\n",
       "      <td>NaN</td>\n",
       "      <td>NaN</td>\n",
       "      <td>1.0</td>\n",
       "    </tr>\n",
       "    <tr>\n",
       "      <th>2</th>\n",
       "      <td>2</td>\n",
       "      <td>1077175</td>\n",
       "      <td>1313524</td>\n",
       "      <td>2400</td>\n",
       "      <td>2400</td>\n",
       "      <td>2400.0</td>\n",
       "      <td>36 months</td>\n",
       "      <td>15.96</td>\n",
       "      <td>84.33</td>\n",
       "      <td>C</td>\n",
       "      <td>...</td>\n",
       "      <td>NaN</td>\n",
       "      <td>NaN</td>\n",
       "      <td>NaN</td>\n",
       "      <td>NaN</td>\n",
       "      <td>NaN</td>\n",
       "      <td>NaN</td>\n",
       "      <td>NaN</td>\n",
       "      <td>NaN</td>\n",
       "      <td>NaN</td>\n",
       "      <td>10.0</td>\n",
       "    </tr>\n",
       "    <tr>\n",
       "      <th>3</th>\n",
       "      <td>3</td>\n",
       "      <td>1076863</td>\n",
       "      <td>1277178</td>\n",
       "      <td>10000</td>\n",
       "      <td>10000</td>\n",
       "      <td>10000.0</td>\n",
       "      <td>36 months</td>\n",
       "      <td>13.49</td>\n",
       "      <td>339.31</td>\n",
       "      <td>C</td>\n",
       "      <td>...</td>\n",
       "      <td>NaN</td>\n",
       "      <td>NaN</td>\n",
       "      <td>NaN</td>\n",
       "      <td>NaN</td>\n",
       "      <td>NaN</td>\n",
       "      <td>NaN</td>\n",
       "      <td>NaN</td>\n",
       "      <td>NaN</td>\n",
       "      <td>NaN</td>\n",
       "      <td>10.0</td>\n",
       "    </tr>\n",
       "    <tr>\n",
       "      <th>4</th>\n",
       "      <td>4</td>\n",
       "      <td>1075358</td>\n",
       "      <td>1311748</td>\n",
       "      <td>3000</td>\n",
       "      <td>3000</td>\n",
       "      <td>3000.0</td>\n",
       "      <td>60 months</td>\n",
       "      <td>12.69</td>\n",
       "      <td>67.79</td>\n",
       "      <td>B</td>\n",
       "      <td>...</td>\n",
       "      <td>NaN</td>\n",
       "      <td>NaN</td>\n",
       "      <td>NaN</td>\n",
       "      <td>NaN</td>\n",
       "      <td>NaN</td>\n",
       "      <td>NaN</td>\n",
       "      <td>NaN</td>\n",
       "      <td>NaN</td>\n",
       "      <td>NaN</td>\n",
       "      <td>1.0</td>\n",
       "    </tr>\n",
       "    <tr>\n",
       "      <th>...</th>\n",
       "      <td>...</td>\n",
       "      <td>...</td>\n",
       "      <td>...</td>\n",
       "      <td>...</td>\n",
       "      <td>...</td>\n",
       "      <td>...</td>\n",
       "      <td>...</td>\n",
       "      <td>...</td>\n",
       "      <td>...</td>\n",
       "      <td>...</td>\n",
       "      <td>...</td>\n",
       "      <td>...</td>\n",
       "      <td>...</td>\n",
       "      <td>...</td>\n",
       "      <td>...</td>\n",
       "      <td>...</td>\n",
       "      <td>...</td>\n",
       "      <td>...</td>\n",
       "      <td>...</td>\n",
       "      <td>...</td>\n",
       "      <td>...</td>\n",
       "    </tr>\n",
       "    <tr>\n",
       "      <th>466280</th>\n",
       "      <td>466280</td>\n",
       "      <td>8598660</td>\n",
       "      <td>1440975</td>\n",
       "      <td>18400</td>\n",
       "      <td>18400</td>\n",
       "      <td>18400.0</td>\n",
       "      <td>60 months</td>\n",
       "      <td>14.47</td>\n",
       "      <td>432.64</td>\n",
       "      <td>C</td>\n",
       "      <td>...</td>\n",
       "      <td>NaN</td>\n",
       "      <td>NaN</td>\n",
       "      <td>NaN</td>\n",
       "      <td>NaN</td>\n",
       "      <td>NaN</td>\n",
       "      <td>29900.0</td>\n",
       "      <td>NaN</td>\n",
       "      <td>NaN</td>\n",
       "      <td>NaN</td>\n",
       "      <td>4.0</td>\n",
       "    </tr>\n",
       "    <tr>\n",
       "      <th>466281</th>\n",
       "      <td>466281</td>\n",
       "      <td>9684700</td>\n",
       "      <td>11536848</td>\n",
       "      <td>22000</td>\n",
       "      <td>22000</td>\n",
       "      <td>22000.0</td>\n",
       "      <td>60 months</td>\n",
       "      <td>19.97</td>\n",
       "      <td>582.50</td>\n",
       "      <td>D</td>\n",
       "      <td>...</td>\n",
       "      <td>NaN</td>\n",
       "      <td>NaN</td>\n",
       "      <td>NaN</td>\n",
       "      <td>NaN</td>\n",
       "      <td>NaN</td>\n",
       "      <td>39400.0</td>\n",
       "      <td>NaN</td>\n",
       "      <td>NaN</td>\n",
       "      <td>NaN</td>\n",
       "      <td>10.0</td>\n",
       "    </tr>\n",
       "    <tr>\n",
       "      <th>466282</th>\n",
       "      <td>466282</td>\n",
       "      <td>9584776</td>\n",
       "      <td>11436914</td>\n",
       "      <td>20700</td>\n",
       "      <td>20700</td>\n",
       "      <td>20700.0</td>\n",
       "      <td>60 months</td>\n",
       "      <td>16.99</td>\n",
       "      <td>514.34</td>\n",
       "      <td>D</td>\n",
       "      <td>...</td>\n",
       "      <td>NaN</td>\n",
       "      <td>NaN</td>\n",
       "      <td>NaN</td>\n",
       "      <td>NaN</td>\n",
       "      <td>NaN</td>\n",
       "      <td>13100.0</td>\n",
       "      <td>NaN</td>\n",
       "      <td>NaN</td>\n",
       "      <td>NaN</td>\n",
       "      <td>7.0</td>\n",
       "    </tr>\n",
       "    <tr>\n",
       "      <th>466283</th>\n",
       "      <td>466283</td>\n",
       "      <td>9604874</td>\n",
       "      <td>11457002</td>\n",
       "      <td>2000</td>\n",
       "      <td>2000</td>\n",
       "      <td>2000.0</td>\n",
       "      <td>36 months</td>\n",
       "      <td>7.90</td>\n",
       "      <td>62.59</td>\n",
       "      <td>A</td>\n",
       "      <td>...</td>\n",
       "      <td>NaN</td>\n",
       "      <td>NaN</td>\n",
       "      <td>NaN</td>\n",
       "      <td>NaN</td>\n",
       "      <td>NaN</td>\n",
       "      <td>53100.0</td>\n",
       "      <td>NaN</td>\n",
       "      <td>NaN</td>\n",
       "      <td>NaN</td>\n",
       "      <td>3.0</td>\n",
       "    </tr>\n",
       "    <tr>\n",
       "      <th>466284</th>\n",
       "      <td>466284</td>\n",
       "      <td>9199665</td>\n",
       "      <td>11061576</td>\n",
       "      <td>10000</td>\n",
       "      <td>10000</td>\n",
       "      <td>9975.0</td>\n",
       "      <td>36 months</td>\n",
       "      <td>19.20</td>\n",
       "      <td>367.58</td>\n",
       "      <td>D</td>\n",
       "      <td>...</td>\n",
       "      <td>NaN</td>\n",
       "      <td>NaN</td>\n",
       "      <td>NaN</td>\n",
       "      <td>NaN</td>\n",
       "      <td>NaN</td>\n",
       "      <td>16000.0</td>\n",
       "      <td>NaN</td>\n",
       "      <td>NaN</td>\n",
       "      <td>NaN</td>\n",
       "      <td>10.0</td>\n",
       "    </tr>\n",
       "  </tbody>\n",
       "</table>\n",
       "<p>466285 rows × 76 columns</p>\n",
       "</div>"
      ],
      "text/plain": [
       "        Unnamed: 0       id  member_id  loan_amnt  funded_amnt  \\\n",
       "0                0  1077501    1296599       5000         5000   \n",
       "1                1  1077430    1314167       2500         2500   \n",
       "2                2  1077175    1313524       2400         2400   \n",
       "3                3  1076863    1277178      10000        10000   \n",
       "4                4  1075358    1311748       3000         3000   \n",
       "...            ...      ...        ...        ...          ...   \n",
       "466280      466280  8598660    1440975      18400        18400   \n",
       "466281      466281  9684700   11536848      22000        22000   \n",
       "466282      466282  9584776   11436914      20700        20700   \n",
       "466283      466283  9604874   11457002       2000         2000   \n",
       "466284      466284  9199665   11061576      10000        10000   \n",
       "\n",
       "        funded_amnt_inv        term  int_rate  installment grade  ... il_util  \\\n",
       "0                4975.0   36 months     10.65       162.87     B  ...     NaN   \n",
       "1                2500.0   60 months     15.27        59.83     C  ...     NaN   \n",
       "2                2400.0   36 months     15.96        84.33     C  ...     NaN   \n",
       "3               10000.0   36 months     13.49       339.31     C  ...     NaN   \n",
       "4                3000.0   60 months     12.69        67.79     B  ...     NaN   \n",
       "...                 ...         ...       ...          ...   ...  ...     ...   \n",
       "466280          18400.0   60 months     14.47       432.64     C  ...     NaN   \n",
       "466281          22000.0   60 months     19.97       582.50     D  ...     NaN   \n",
       "466282          20700.0   60 months     16.99       514.34     D  ...     NaN   \n",
       "466283           2000.0   36 months      7.90        62.59     A  ...     NaN   \n",
       "466284           9975.0   36 months     19.20       367.58     D  ...     NaN   \n",
       "\n",
       "       open_rv_12m open_rv_24m max_bal_bc  all_util total_rev_hi_lim inq_fi  \\\n",
       "0              NaN         NaN        NaN       NaN              NaN    NaN   \n",
       "1              NaN         NaN        NaN       NaN              NaN    NaN   \n",
       "2              NaN         NaN        NaN       NaN              NaN    NaN   \n",
       "3              NaN         NaN        NaN       NaN              NaN    NaN   \n",
       "4              NaN         NaN        NaN       NaN              NaN    NaN   \n",
       "...            ...         ...        ...       ...              ...    ...   \n",
       "466280         NaN         NaN        NaN       NaN          29900.0    NaN   \n",
       "466281         NaN         NaN        NaN       NaN          39400.0    NaN   \n",
       "466282         NaN         NaN        NaN       NaN          13100.0    NaN   \n",
       "466283         NaN         NaN        NaN       NaN          53100.0    NaN   \n",
       "466284         NaN         NaN        NaN       NaN          16000.0    NaN   \n",
       "\n",
       "       total_cu_tl inq_last_12m emp_length_int  \n",
       "0              NaN          NaN           10.0  \n",
       "1              NaN          NaN            1.0  \n",
       "2              NaN          NaN           10.0  \n",
       "3              NaN          NaN           10.0  \n",
       "4              NaN          NaN            1.0  \n",
       "...            ...          ...            ...  \n",
       "466280         NaN          NaN            4.0  \n",
       "466281         NaN          NaN           10.0  \n",
       "466282         NaN          NaN            7.0  \n",
       "466283         NaN          NaN            3.0  \n",
       "466284         NaN          NaN           10.0  \n",
       "\n",
       "[466285 rows x 76 columns]"
      ]
     },
     "execution_count": 29,
     "metadata": {},
     "output_type": "execute_result"
    }
   ],
   "source": [
    "#print the dataframe\n",
    "Load_DS"
   ]
  },
  {
   "cell_type": "code",
   "execution_count": 30,
   "metadata": {
    "id": "BHY3XRBzLuTK",
    "outputId": "905480b1-959f-4f9b-86d9-f240c9e1e224"
   },
   "outputs": [
    {
     "data": {
      "text/plain": [
       "array([' 36 months', ' 60 months'], dtype=object)"
      ]
     },
     "execution_count": 30,
     "metadata": {},
     "output_type": "execute_result"
    }
   ],
   "source": [
    "#check the unique values of term column\n",
    "Load_DS['term'].unique()"
   ]
  },
  {
   "cell_type": "code",
   "execution_count": 31,
   "metadata": {
    "id": "nd7Kwv-SLuTL"
   },
   "outputs": [],
   "source": [
    "#do all the necesaary replacements to convert into numeric\n",
    "Load_DS['term_int']=Load_DS['term'].str.replace('[ months]','')"
   ]
  },
  {
   "cell_type": "code",
   "execution_count": 32,
   "metadata": {
    "id": "N_wNoekbLuTN"
   },
   "outputs": [
    {
     "data": {
      "text/plain": [
       "numpy.int64"
      ]
     },
     "execution_count": 32,
     "metadata": {},
     "output_type": "execute_result"
    }
   ],
   "source": [
    "#convert it into numrical format & check the type\n",
    "Load_DS['term_int']= pd.to_numeric(Load_DS['term_int'])\n",
    "\n",
    "type(Load_DS['term_int'][0])"
   ]
  },
  {
   "cell_type": "code",
   "execution_count": 66,
   "metadata": {},
   "outputs": [
    {
     "data": {
      "text/plain": [
       "count    466285.000000\n",
       "mean         42.605334\n",
       "std          10.719040\n",
       "min          36.000000\n",
       "25%          36.000000\n",
       "50%          36.000000\n",
       "75%          60.000000\n",
       "max          60.000000\n",
       "Name: term_int, dtype: float64"
      ]
     },
     "execution_count": 66,
     "metadata": {},
     "output_type": "execute_result"
    }
   ],
   "source": [
    "Load_DS['term_int'].describe()"
   ]
  },
  {
   "cell_type": "code",
   "execution_count": 33,
   "metadata": {
    "id": "GUv25YcVLuTO",
    "outputId": "1eb9de65-8a18-4724-af4d-15eed18566a2"
   },
   "outputs": [
    {
     "data": {
      "text/plain": [
       "array(['Jan-85', 'Apr-99', 'Nov-01', 'Feb-96', 'Jan-96', 'Nov-04',\n",
       "       'Jul-05', 'Jan-07', 'Apr-04', 'Sep-04', 'Jan-98', 'Oct-89',\n",
       "       'Jul-03', 'May-91', 'Sep-07', 'Oct-98', 'Aug-93', 'Oct-03',\n",
       "       'Jan-01', 'Nov-97', 'Feb-83', 'Jul-85', 'Apr-03', 'Jun-01',\n",
       "       'Feb-02', 'Aug-84', 'Nov-06', 'Dec-87', 'Nov-81', 'Feb-97',\n",
       "       'Apr-05', 'Oct-07', 'Dec-00', 'Apr-07', 'Dec-01', 'Jan-03',\n",
       "       'Mar-94', 'Sep-98', 'Jun-04', 'Nov-95', 'Jul-99', 'Jun-95',\n",
       "       'Sep-92', 'Jan-02', 'Apr-92', 'Oct-06', 'May-00', 'Dec-98',\n",
       "       'Dec-04', 'Oct-00', 'May-02', 'May-06', 'Jul-02', 'Jul-06',\n",
       "       'May-97', 'Oct-05', 'Apr-95', 'Oct-02', 'Jan-00', 'Apr-00',\n",
       "       'Dec-94', 'Sep-05', 'Dec-84', 'Dec-99', 'Nov-03', 'Jun-89',\n",
       "       'Jun-03', 'Oct-96', 'May-03', 'Jun-02', 'Jun-07', 'Dec-96',\n",
       "       'Feb-84', 'Sep-02', 'Jan-86', 'May-98', 'Jan-97', 'Jun-05',\n",
       "       'Feb-90', 'Mar-04', 'Jul-95', 'Aug-94', 'Jun-92', 'Mar-97',\n",
       "       'Apr-06', 'Apr-90', 'Aug-99', 'Sep-00', 'Feb-01', 'Dec-88',\n",
       "       'Feb-99', 'Dec-91', 'Aug-00', 'Oct-04', 'Aug-04', 'Feb-05',\n",
       "       'Nov-05', 'Nov-00', 'May-07', 'Jan-91', 'Jun-00', 'Aug-06',\n",
       "       'Dec-02', 'Jun-93', 'Jun-06', 'Feb-04', 'Dec-90', 'Mar-00',\n",
       "       'Feb-95', 'Jul-01', 'Apr-02', 'Sep-06', 'May-99', 'Aug-98',\n",
       "       'Dec-05', 'May-04', 'Oct-01', 'Jun-83', 'Mar-86', 'Apr-80',\n",
       "       'Jul-04', 'Jul-08', 'May-96', 'Jan-04', 'Nov-02', 'Aug-02',\n",
       "       'Aug-01', 'Mar-91', 'Sep-89', 'Sep-94', 'Sep-03', 'Sep-99',\n",
       "       'Aug-05', 'Dec-86', 'Nov-98', 'Feb-06', 'May-94', 'Nov-07',\n",
       "       'Feb-93', 'Nov-91', 'May-05', 'Dec-73', 'May-01', 'Mar-90',\n",
       "       'Mar-96', 'Oct-79', 'Jun-81', 'Mar-01', 'Apr-01', 'Jun-99',\n",
       "       'Nov-93', 'Jan-06', 'Dec-97', 'Nov-94', 'Jul-97', 'Oct-91',\n",
       "       'Jun-94', 'Mar-06', 'Sep-96', 'Apr-91', 'Jul-93', 'Jan-95',\n",
       "       'Sep-87', 'Mar-03', 'Oct-99', 'Jul-96', 'Dec-03', 'Aug-88',\n",
       "       'Jan-92', 'Mar-98', 'Feb-07', 'Aug-82', 'Mar-95', 'Dec-92',\n",
       "       'Jul-98', 'Jul-89', 'May-90', 'Jul-94', 'Sep-01', 'Mar-84',\n",
       "       'Aug-03', 'Nov-99', 'Mar-07', 'Mar-08', 'Apr-94', 'Jan-05',\n",
       "       'Jul-86', 'Aug-90', 'May-92', 'Jul-00', 'Mar-88', 'May-83',\n",
       "       'Apr-93', 'Jul-78', 'Feb-00', 'Dec-81', 'Mar-92', 'Jan-81',\n",
       "       'Sep-90', 'Jun-98', 'May-93', 'Nov-96', 'Mar-02', 'Jan-88',\n",
       "       'Aug-97', 'Aug-87', 'Aug-08', 'Oct-94', 'Oct-86', 'Feb-94',\n",
       "       'Jun-96', 'Feb-98', 'Nov-08', 'Apr-98', 'Jul-79', 'Jan-93',\n",
       "       'May-87', 'Jul-71', 'Aug-07', 'Jun-97', 'Mar-80', 'Dec-06',\n",
       "       'Jul-07', 'Oct-95', 'Jul-91', 'Jul-92', 'Dec-72', 'Dec-93',\n",
       "       'Jan-99', 'Feb-03', 'Apr-97', 'Dec-95', 'Apr-96', 'Jul-90',\n",
       "       'Mar-70', 'Nov-84', 'Apr-84', 'Jul-84', 'Aug-95', 'Mar-99',\n",
       "       'Sep-88', 'Mar-89', 'Mar-87', 'Oct-97', 'Dec-80', 'Jan-94',\n",
       "       'Sep-95', 'Mar-05', 'Jan-89', 'Feb-92', 'Jan-90', 'Nov-90',\n",
       "       'Mar-69', 'Jun-75', 'Mar-85', 'Dec-07', 'Oct-93', 'Dec-89',\n",
       "       'Sep-80', 'Jun-88', 'May-78', 'Apr-73', 'Aug-89', 'Oct-90',\n",
       "       'Sep-91', 'Feb-82', 'Feb-87', 'Nov-85', 'Jan-84', 'Jul-88',\n",
       "       'May-08', 'Oct-85', 'Mar-83', 'Aug-91', 'Sep-86', 'Jun-90',\n",
       "       'Feb-86', 'Sep-97', 'Jun-84', 'Sep-81', 'Apr-86', 'Aug-79',\n",
       "       'Aug-80', 'Nov-92', 'Sep-93', 'Jun-87', 'Sep-82', 'Aug-92',\n",
       "       'Aug-85', 'Jul-83', 'Jun-91', 'Dec-83', 'Jan-87', 'Nov-78',\n",
       "       'Oct-84', 'Aug-96', 'Nov-89', 'Sep-76', 'Nov-86', 'Oct-87',\n",
       "       'Sep-08', 'May-77', 'May-86', 'Mar-81', 'Jan-83', 'Nov-76',\n",
       "       'Sep-79', 'Oct-83', 'Sep-62', 'Jun-85', 'May-82', 'Feb-88',\n",
       "       'Oct-92', 'Aug-83', 'Jun-73', 'Apr-85', 'Oct-88', 'Oct-81',\n",
       "       'Sep-68', 'Jul-74', 'Nov-87', 'May-95', 'Feb-91', 'Nov-88',\n",
       "       'Mar-93', 'Jun-08', 'Jul-80', 'Dec-82', 'Mar-75', 'Feb-80',\n",
       "       'Apr-88', 'Dec-79', 'Sep-85', 'Sep-71', 'Mar-78', 'Feb-08',\n",
       "       'Aug-78', 'Nov-70', 'Jun-79', 'Jun-80', 'Apr-89', 'Sep-83',\n",
       "       'Feb-89', 'Nov-83', 'Jun-86', 'Oct-82', 'Aug-86', 'Oct-80',\n",
       "       'May-88', 'Dec-85', 'Jan-82', 'Sep-77', 'Dec-76', 'Apr-82',\n",
       "       'May-84', 'Apr-08', 'Feb-79', 'Jan-08', 'Sep-64', 'Jul-87',\n",
       "       'Jan-78', 'May-89', 'Oct-77', 'Dec-75', 'Feb-85', 'Oct-08',\n",
       "       'Nov-82', 'May-75', 'May-85', 'Feb-71', 'Jun-77', 'Apr-81',\n",
       "       'May-79', 'Jan-72', 'Sep-67', 'Apr-78', 'Feb-65', 'Apr-83',\n",
       "       'Nov-75', 'Jun-67', 'Mar-74', 'Jul-72', 'Aug-67', 'Apr-71',\n",
       "       'Sep-84', 'May-81', 'Dec-70', 'Oct-73', 'Jan-71', 'Dec-63',\n",
       "       'Apr-74', 'Jan-80', 'Aug-69', 'Apr-75', 'Jul-77', 'Mar-77',\n",
       "       'Nov-69', 'Jan-76', 'Mar-82', 'Apr-87', 'Dec-69', 'May-74',\n",
       "       'Aug-74', 'Jun-72', 'Mar-63', 'Nov-79', 'Aug-75', 'Sep-74',\n",
       "       'Aug-81', 'May-73', 'Sep-73', 'Mar-73', 'Dec-77', 'Oct-76',\n",
       "       'Jan-74', 'Jan-70', 'Aug-68', 'Feb-76', 'Jan-75', 'Oct-72',\n",
       "       'Dec-74', 'Feb-73', 'Nov-65', 'Mar-72', 'Jun-82', 'Jun-74',\n",
       "       'May-65', 'Jun-71', 'Oct-70', 'Apr-76', 'Oct-71', 'Apr-77',\n",
       "       'Sep-78', 'Oct-78', 'Oct-54', 'Feb-81', 'Jan-77', 'Aug-77',\n",
       "       'Dec-78', 'Aug-76', 'Jun-68', 'Jun-78', 'Jun-69', 'May-80',\n",
       "       'Jan-79', 'Oct-65', 'Nov-74', 'Apr-66', 'Jun-76', 'Feb-72',\n",
       "       'May-76', 'Mar-68', 'Mar-76', 'Jul-70', 'Mar-79', 'Jul-76',\n",
       "       'Jul-82', 'Sep-65', 'Apr-67', 'Oct-63', 'Feb-70', 'Jul-73',\n",
       "       'Feb-78', 'Nov-71', 'Aug-72', 'Jul-75', 'Sep-70', 'Jul-81',\n",
       "       'Oct-64', 'Sep-72', 'May-70', 'May-63', 'Feb-69', 'Nov-80',\n",
       "       'Jul-67', 'Apr-70', 'Nov-77', 'Nov-66', 'May-71', 'Apr-79',\n",
       "       'May-72', 'Feb-68', 'Jul-64', 'Nov-67', 'Apr-64', 'Feb-75',\n",
       "       'Jun-59', 'Sep-56', 'Jun-66', 'Jan-46', 'Mar-66', 'Jan-63',\n",
       "       'Dec-50', 'Jul-69', 'Jan-68', 'Nov-73', 'Jun-70', 'Feb-77',\n",
       "       'Feb-74', 'Jan-73', 'Feb-66', 'Dec-61', 'Aug-73', 'Aug-70',\n",
       "       'Sep-69', 'Sep-75', 'Dec-68', 'Nov-54', 'Oct-69', 'Dec-65',\n",
       "       'Apr-72', 'Nov-72', 'Sep-63', 'Apr-69', 'Nov-62', 'Oct-67',\n",
       "       'May-67', 'Nov-61', 'Feb-67', 'Nov-68', 'Oct-75', 'Mar-71',\n",
       "       'Aug-71', 'Dec-66', 'Oct-68', 'Oct-74', 'Nov-63', 'Apr-68',\n",
       "       'May-69', 'Nov-59', nan, 'Oct-10', 'Dec-09', 'Nov-10', 'Jan-10',\n",
       "       'Dec-08', 'Sep-09', 'Jul-10', 'Jan-09', 'May-09', 'May-10',\n",
       "       'Sep-10', 'Apr-09', 'Nov-09', 'Apr-10', 'Mar-09', 'Feb-09',\n",
       "       'Aug-09', 'Oct-09', 'Jun-09', 'Jun-10', 'Jul-09', 'Feb-10',\n",
       "       'Mar-10', 'Aug-10', 'Jan-61', 'Oct-62', 'Jun-64', 'Apr-62',\n",
       "       'Jan-60', 'Sep-66', 'Mar-65', 'May-68', 'Jul-66', 'Dec-56',\n",
       "       'Dec-71', 'Apr-65', 'Jan-64', 'Jul-65', 'Jan-65', 'Jan-62',\n",
       "       'Aug-64', 'Jan-69', 'Oct-66', 'Jun-62', 'Dec-67', 'Oct-60',\n",
       "       'Jul-62', 'Dec-60', 'Jul-60', 'Jun-65', 'May-66', 'Oct-57',\n",
       "       'Aug-65', 'May-60', 'Jan-67', 'Nov-53', 'Oct-59', 'Jun-63',\n",
       "       'Mar-67', 'Jul-63', 'Nov-60', 'Mar-62', 'Mar-64', 'Jul-68',\n",
       "       'Feb-63', 'Jan-66', 'Dec-64', 'May-64', 'Oct-61', 'Aug-60',\n",
       "       'Mar-60', 'Apr-55', 'Sep-59', 'Aug-66', 'Jul-55', 'Aug-61',\n",
       "       'Nov-64', 'May-53', 'Nov-50', 'Nov-55', 'Mar-61', 'Feb-57',\n",
       "       'Aug-63', 'Feb-60', 'Sep-60', 'Feb-64', 'Dec-51', 'Nov-58',\n",
       "       'Aug-62', 'Oct-58', 'May-62', 'Mar-11', 'Jun-11', 'Dec-10',\n",
       "       'Oct-11', 'Sep-11', 'Jul-11', 'Apr-11', 'May-11', 'Jan-11',\n",
       "       'Feb-11', 'Aug-11', 'Apr-63', 'Nov-11', 'Dec-58', 'Jan-58',\n",
       "       'Jul-59', 'Jan-55', 'May-59', 'Aug-46', 'Apr-61', 'Jun-58',\n",
       "       'Jul-58', 'Jun-60', 'Jan-51', 'Dec-62', 'Mar-59', 'Aug-58',\n",
       "       'Jan-59', 'Feb-61', 'Sep-57', 'Jun-49', 'Jun-61', 'Jan-56',\n",
       "       'Jan-54', 'Jan-57', 'Jan-44', 'Oct-50', 'Jan-48', 'Jul-61',\n",
       "       'May-58', 'Jan-53', 'May-50', 'Nov-56'], dtype=object)"
      ]
     },
     "execution_count": 33,
     "metadata": {},
     "output_type": "execute_result"
    }
   ],
   "source": [
    "#check the values for called earliest_cr_line column- the month the borrower's has been assigned the loan\n",
    "Load_DS['earliest_cr_line'].unique()"
   ]
  },
  {
   "cell_type": "code",
   "execution_count": 34,
   "metadata": {
    "id": "CXVf_ueqLuTS"
   },
   "outputs": [
    {
     "data": {
      "text/plain": [
       "0        1985-01-01\n",
       "1        1999-04-01\n",
       "2        2001-11-01\n",
       "3        1996-02-01\n",
       "4        1996-01-01\n",
       "            ...    \n",
       "466280   2003-04-01\n",
       "466281   1997-06-01\n",
       "466282   2001-12-01\n",
       "466283   2003-02-01\n",
       "466284   2000-02-01\n",
       "Name: earliest_cr_line_date, Length: 466285, dtype: datetime64[ns]"
      ]
     },
     "execution_count": 34,
     "metadata": {},
     "output_type": "execute_result"
    }
   ],
   "source": [
    "#convert into datetime format and check the values\n",
    "Load_DS['earliest_cr_line_date']=pd.to_datetime(Load_DS['earliest_cr_line'], format='%b-%y')\n",
    "Load_DS['earliest_cr_line_date']"
   ]
  },
  {
   "cell_type": "code",
   "execution_count": 55,
   "metadata": {
    "id": "jxToqQoaLuTT",
    "outputId": "c76f7c36-2877-416b-e225-c886bb9effd7"
   },
   "outputs": [
    {
     "data": {
      "text/plain": [
       "0        14107 days\n",
       "1         8904 days\n",
       "2         7959 days\n",
       "3        10059 days\n",
       "4        10090 days\n",
       "            ...    \n",
       "466280    7443 days\n",
       "466281    9573 days\n",
       "466282    7929 days\n",
       "466283    7502 days\n",
       "466284    8598 days\n",
       "Name: earliest_cr_line_date, Length: 466285, dtype: timedelta64[ns]"
      ]
     },
     "execution_count": 55,
     "metadata": {},
     "output_type": "execute_result"
    }
   ],
   "source": [
    "#get the total number of days from current date i.e present date\n",
    "pd.to_datetime(date.today())-Load_DS['earliest_cr_line_date']"
   ]
  },
  {
   "cell_type": "code",
   "execution_count": 57,
   "metadata": {
    "id": "caHFWeJELuTb"
   },
   "outputs": [],
   "source": [
    "#convert these days into months i.e converting days into months\n",
    "Load_DS['mths_since_earliest_cr_line'] = round(\n",
    "    pd.to_numeric((pd.to_datetime(date.today())-Load_DS['earliest_cr_line_date'])/np.timedelta64(1,'M'))\n",
    ")"
   ]
  },
  {
   "cell_type": "code",
   "execution_count": 58,
   "metadata": {
    "id": "MPPmtz8QLuTc",
    "outputId": "1232909e-4771-45ad-e7f9-c978a23e3304"
   },
   "outputs": [
    {
     "data": {
      "text/plain": [
       "count    466256.000000\n",
       "mean        308.238997\n",
       "std          93.999062\n",
       "min        -544.000000\n",
       "25%         252.000000\n",
       "50%         294.000000\n",
       "75%         354.000000\n",
       "max         655.000000\n",
       "Name: mths_since_earliest_cr_line, dtype: float64"
      ]
     },
     "execution_count": 58,
     "metadata": {},
     "output_type": "execute_result"
    }
   ],
   "source": [
    "#check the basic statistics of 'mths_since_earliest_cr_line'\n",
    "Load_DS['mths_since_earliest_cr_line'].describe()"
   ]
  },
  {
   "cell_type": "code",
   "execution_count": 59,
   "metadata": {
    "id": "i89tSzaYLuTd",
    "outputId": "75a6795f-e03f-4d44-9792-8dd2ce960e87"
   },
   "outputs": [
    {
     "data": {
      "text/html": [
       "<div>\n",
       "<style scoped>\n",
       "    .dataframe tbody tr th:only-of-type {\n",
       "        vertical-align: middle;\n",
       "    }\n",
       "\n",
       "    .dataframe tbody tr th {\n",
       "        vertical-align: top;\n",
       "    }\n",
       "\n",
       "    .dataframe thead th {\n",
       "        text-align: right;\n",
       "    }\n",
       "</style>\n",
       "<table border=\"1\" class=\"dataframe\">\n",
       "  <thead>\n",
       "    <tr style=\"text-align: right;\">\n",
       "      <th></th>\n",
       "      <th>earliest_cr_line</th>\n",
       "      <th>earliest_cr_line_date</th>\n",
       "      <th>mths_since_earliest_cr_line</th>\n",
       "    </tr>\n",
       "  </thead>\n",
       "  <tbody>\n",
       "    <tr>\n",
       "      <th>1580</th>\n",
       "      <td>Sep-62</td>\n",
       "      <td>2062-09-01</td>\n",
       "      <td>-469.0</td>\n",
       "    </tr>\n",
       "    <tr>\n",
       "      <th>1770</th>\n",
       "      <td>Sep-68</td>\n",
       "      <td>2068-09-01</td>\n",
       "      <td>-541.0</td>\n",
       "    </tr>\n",
       "    <tr>\n",
       "      <th>2799</th>\n",
       "      <td>Sep-64</td>\n",
       "      <td>2064-09-01</td>\n",
       "      <td>-493.0</td>\n",
       "    </tr>\n",
       "    <tr>\n",
       "      <th>3282</th>\n",
       "      <td>Sep-67</td>\n",
       "      <td>2067-09-01</td>\n",
       "      <td>-529.0</td>\n",
       "    </tr>\n",
       "    <tr>\n",
       "      <th>3359</th>\n",
       "      <td>Feb-65</td>\n",
       "      <td>2065-02-01</td>\n",
       "      <td>-498.0</td>\n",
       "    </tr>\n",
       "    <tr>\n",
       "      <th>...</th>\n",
       "      <td>...</td>\n",
       "      <td>...</td>\n",
       "      <td>...</td>\n",
       "    </tr>\n",
       "    <tr>\n",
       "      <th>464003</th>\n",
       "      <td>Jan-68</td>\n",
       "      <td>2068-01-01</td>\n",
       "      <td>-533.0</td>\n",
       "    </tr>\n",
       "    <tr>\n",
       "      <th>464260</th>\n",
       "      <td>Jul-66</td>\n",
       "      <td>2066-07-01</td>\n",
       "      <td>-514.0</td>\n",
       "    </tr>\n",
       "    <tr>\n",
       "      <th>465100</th>\n",
       "      <td>Oct-67</td>\n",
       "      <td>2067-10-01</td>\n",
       "      <td>-529.0</td>\n",
       "    </tr>\n",
       "    <tr>\n",
       "      <th>465500</th>\n",
       "      <td>Sep-67</td>\n",
       "      <td>2067-09-01</td>\n",
       "      <td>-529.0</td>\n",
       "    </tr>\n",
       "    <tr>\n",
       "      <th>465655</th>\n",
       "      <td>Jan-56</td>\n",
       "      <td>2056-01-01</td>\n",
       "      <td>-389.0</td>\n",
       "    </tr>\n",
       "  </tbody>\n",
       "</table>\n",
       "<p>1169 rows × 3 columns</p>\n",
       "</div>"
      ],
      "text/plain": [
       "       earliest_cr_line earliest_cr_line_date  mths_since_earliest_cr_line\n",
       "1580             Sep-62            2062-09-01                       -469.0\n",
       "1770             Sep-68            2068-09-01                       -541.0\n",
       "2799             Sep-64            2064-09-01                       -493.0\n",
       "3282             Sep-67            2067-09-01                       -529.0\n",
       "3359             Feb-65            2065-02-01                       -498.0\n",
       "...                 ...                   ...                          ...\n",
       "464003           Jan-68            2068-01-01                       -533.0\n",
       "464260           Jul-66            2066-07-01                       -514.0\n",
       "465100           Oct-67            2067-10-01                       -529.0\n",
       "465500           Sep-67            2067-09-01                       -529.0\n",
       "465655           Jan-56            2056-01-01                       -389.0\n",
       "\n",
       "[1169 rows x 3 columns]"
      ]
     },
     "execution_count": 59,
     "metadata": {},
     "output_type": "execute_result"
    }
   ],
   "source": [
    "#check the dataframe for column that have negitive months which is not possible\n",
    "Load_DS.loc[: , ['earliest_cr_line','earliest_cr_line_date','mths_since_earliest_cr_line']][Load_DS['mths_since_earliest_cr_line']<0]"
   ]
  },
  {
   "cell_type": "markdown",
   "metadata": {},
   "source": [
    "Upon analyzing the negative values in column 'mths_since_earliest_cr_line' we can see that for those data points dates are provided far in the future. In this scenario we get an info from business as per what can be done here. \n",
    "As of now we will replace t he negative values with the maximumm no. of months since earliest credit line was opened(considering that it was supposed to be in 1990s and not 2000s)"
   ]
  },
  {
   "cell_type": "code",
   "execution_count": 60,
   "metadata": {
    "id": "e_NoxLYYLuTe",
    "outputId": "e11c0a99-2e6e-4336-e666-cce135a8df01"
   },
   "outputs": [],
   "source": [
    "#replace all the negitive values  with the max months value\n",
    "Load_DS['mths_since_earliest_cr_line'][Load_DS['mths_since_earliest_cr_line'] < 0 ]= Load_DS['mths_since_earliest_cr_line'].max()"
   ]
  },
  {
   "cell_type": "code",
   "execution_count": 61,
   "metadata": {
    "id": "_tj-q8pzLuTg",
    "outputId": "ca13d815-f20f-4c3a-b018-540a51576f3b"
   },
   "outputs": [
    {
     "data": {
      "text/plain": [
       "count    466256.000000\n",
       "mean        311.140852\n",
       "std          86.471518\n",
       "min         142.000000\n",
       "25%         253.000000\n",
       "50%         294.000000\n",
       "75%         354.000000\n",
       "max         655.000000\n",
       "Name: mths_since_earliest_cr_line, dtype: float64"
      ]
     },
     "execution_count": 61,
     "metadata": {},
     "output_type": "execute_result"
    }
   ],
   "source": [
    "#again check the basic stats so that no months are negitive\n",
    "Load_DS['mths_since_earliest_cr_line'].describe()"
   ]
  },
  {
   "cell_type": "code",
   "execution_count": 62,
   "metadata": {
    "id": "MrOZFo_XLuTr",
    "outputId": "51e2c39a-16d9-4bee-dd18-c55f190978af"
   },
   "outputs": [
    {
     "data": {
      "text/plain": [
       "0         Dec-11\n",
       "1         Dec-11\n",
       "2         Dec-11\n",
       "3         Dec-11\n",
       "4         Dec-11\n",
       "           ...  \n",
       "466280    Jan-14\n",
       "466281    Jan-14\n",
       "466282    Jan-14\n",
       "466283    Jan-14\n",
       "466284    Jan-14\n",
       "Name: issue_d, Length: 466285, dtype: object"
      ]
     },
     "execution_count": 62,
     "metadata": {},
     "output_type": "execute_result"
    }
   ],
   "source": [
    "#chekc the issue_d column\n",
    "Load_DS['issue_d']"
   ]
  },
  {
   "cell_type": "code",
   "execution_count": 63,
   "metadata": {
    "id": "4ZcHVO_iLuTr"
   },
   "outputs": [],
   "source": [
    "#convert into date_time format\n",
    "Load_DS['issue_date']= pd.to_datetime(Load_DS['issue_d'], format='%b-%y')"
   ]
  },
  {
   "cell_type": "code",
   "execution_count": 64,
   "metadata": {
    "id": "JDexhaHmLuTt"
   },
   "outputs": [],
   "source": [
    "#convert days to months\n",
    "Load_DS['months_since_issue_date']=round(\n",
    "    pd.to_numeric((pd.to_datetime(date.today())-Load_DS['issue_date'])/np.timedelta64(1,'M'))\n",
    ")"
   ]
  },
  {
   "cell_type": "code",
   "execution_count": 65,
   "metadata": {
    "id": "1aJTZz_JLuTt",
    "outputId": "6a922293-fcc3-4f02-cdc7-40de14492313"
   },
   "outputs": [
    {
     "data": {
      "text/plain": [
       "count    466285.000000\n",
       "mean        119.969491\n",
       "std          14.319538\n",
       "min         105.000000\n",
       "25%         110.000000\n",
       "50%         115.000000\n",
       "75%         126.000000\n",
       "max         195.000000\n",
       "Name: issue_date, dtype: float64"
      ]
     },
     "execution_count": 65,
     "metadata": {},
     "output_type": "execute_result"
    }
   ],
   "source": [
    "#check the basic stats\n",
    "Load_DS['months_since_issue_date'].describe()"
   ]
  },
  {
   "cell_type": "markdown",
   "metadata": {
    "id": "SP0baR6yLuT1"
   },
   "source": [
    "#### PREPROCESSING MISSING DATA"
   ]
  },
  {
   "cell_type": "code",
   "execution_count": null,
   "metadata": {
    "id": "FIiZFG_FLuT4",
    "outputId": "87590516-354d-415f-f760-9ab3547e2c2c"
   },
   "outputs": [],
   "source": [
    "#Get the dummies value for the column 'grade',,,apply a (prefix='grade') and (prefix_sep=\":\")\n",
    "pd.get_dummies(Load_DS['grade'],prefix='grade',prefix_sep=':')"
   ]
  },
  {
   "cell_type": "code",
   "execution_count": 83,
   "metadata": {
    "id": "fHmbjHvyLuT4"
   },
   "outputs": [
    {
     "data": {
      "text/html": [
       "<div>\n",
       "<style scoped>\n",
       "    .dataframe tbody tr th:only-of-type {\n",
       "        vertical-align: middle;\n",
       "    }\n",
       "\n",
       "    .dataframe tbody tr th {\n",
       "        vertical-align: top;\n",
       "    }\n",
       "\n",
       "    .dataframe thead th {\n",
       "        text-align: right;\n",
       "    }\n",
       "</style>\n",
       "<table border=\"1\" class=\"dataframe\">\n",
       "  <thead>\n",
       "    <tr style=\"text-align: right;\">\n",
       "      <th></th>\n",
       "      <th>sub_grade:A1</th>\n",
       "      <th>sub_grade:A2</th>\n",
       "      <th>sub_grade:A3</th>\n",
       "      <th>sub_grade:A4</th>\n",
       "      <th>sub_grade:A5</th>\n",
       "      <th>sub_grade:B1</th>\n",
       "      <th>sub_grade:B2</th>\n",
       "      <th>sub_grade:B3</th>\n",
       "      <th>sub_grade:B4</th>\n",
       "      <th>sub_grade:B5</th>\n",
       "      <th>...</th>\n",
       "      <th>sub_grade:F1</th>\n",
       "      <th>sub_grade:F2</th>\n",
       "      <th>sub_grade:F3</th>\n",
       "      <th>sub_grade:F4</th>\n",
       "      <th>sub_grade:F5</th>\n",
       "      <th>sub_grade:G1</th>\n",
       "      <th>sub_grade:G2</th>\n",
       "      <th>sub_grade:G3</th>\n",
       "      <th>sub_grade:G4</th>\n",
       "      <th>sub_grade:G5</th>\n",
       "    </tr>\n",
       "  </thead>\n",
       "  <tbody>\n",
       "    <tr>\n",
       "      <th>0</th>\n",
       "      <td>0</td>\n",
       "      <td>0</td>\n",
       "      <td>0</td>\n",
       "      <td>0</td>\n",
       "      <td>0</td>\n",
       "      <td>0</td>\n",
       "      <td>1</td>\n",
       "      <td>0</td>\n",
       "      <td>0</td>\n",
       "      <td>0</td>\n",
       "      <td>...</td>\n",
       "      <td>0</td>\n",
       "      <td>0</td>\n",
       "      <td>0</td>\n",
       "      <td>0</td>\n",
       "      <td>0</td>\n",
       "      <td>0</td>\n",
       "      <td>0</td>\n",
       "      <td>0</td>\n",
       "      <td>0</td>\n",
       "      <td>0</td>\n",
       "    </tr>\n",
       "    <tr>\n",
       "      <th>1</th>\n",
       "      <td>0</td>\n",
       "      <td>0</td>\n",
       "      <td>0</td>\n",
       "      <td>0</td>\n",
       "      <td>0</td>\n",
       "      <td>0</td>\n",
       "      <td>0</td>\n",
       "      <td>0</td>\n",
       "      <td>0</td>\n",
       "      <td>0</td>\n",
       "      <td>...</td>\n",
       "      <td>0</td>\n",
       "      <td>0</td>\n",
       "      <td>0</td>\n",
       "      <td>0</td>\n",
       "      <td>0</td>\n",
       "      <td>0</td>\n",
       "      <td>0</td>\n",
       "      <td>0</td>\n",
       "      <td>0</td>\n",
       "      <td>0</td>\n",
       "    </tr>\n",
       "    <tr>\n",
       "      <th>2</th>\n",
       "      <td>0</td>\n",
       "      <td>0</td>\n",
       "      <td>0</td>\n",
       "      <td>0</td>\n",
       "      <td>0</td>\n",
       "      <td>0</td>\n",
       "      <td>0</td>\n",
       "      <td>0</td>\n",
       "      <td>0</td>\n",
       "      <td>0</td>\n",
       "      <td>...</td>\n",
       "      <td>0</td>\n",
       "      <td>0</td>\n",
       "      <td>0</td>\n",
       "      <td>0</td>\n",
       "      <td>0</td>\n",
       "      <td>0</td>\n",
       "      <td>0</td>\n",
       "      <td>0</td>\n",
       "      <td>0</td>\n",
       "      <td>0</td>\n",
       "    </tr>\n",
       "    <tr>\n",
       "      <th>3</th>\n",
       "      <td>0</td>\n",
       "      <td>0</td>\n",
       "      <td>0</td>\n",
       "      <td>0</td>\n",
       "      <td>0</td>\n",
       "      <td>0</td>\n",
       "      <td>0</td>\n",
       "      <td>0</td>\n",
       "      <td>0</td>\n",
       "      <td>0</td>\n",
       "      <td>...</td>\n",
       "      <td>0</td>\n",
       "      <td>0</td>\n",
       "      <td>0</td>\n",
       "      <td>0</td>\n",
       "      <td>0</td>\n",
       "      <td>0</td>\n",
       "      <td>0</td>\n",
       "      <td>0</td>\n",
       "      <td>0</td>\n",
       "      <td>0</td>\n",
       "    </tr>\n",
       "    <tr>\n",
       "      <th>4</th>\n",
       "      <td>0</td>\n",
       "      <td>0</td>\n",
       "      <td>0</td>\n",
       "      <td>0</td>\n",
       "      <td>0</td>\n",
       "      <td>0</td>\n",
       "      <td>0</td>\n",
       "      <td>0</td>\n",
       "      <td>0</td>\n",
       "      <td>1</td>\n",
       "      <td>...</td>\n",
       "      <td>0</td>\n",
       "      <td>0</td>\n",
       "      <td>0</td>\n",
       "      <td>0</td>\n",
       "      <td>0</td>\n",
       "      <td>0</td>\n",
       "      <td>0</td>\n",
       "      <td>0</td>\n",
       "      <td>0</td>\n",
       "      <td>0</td>\n",
       "    </tr>\n",
       "  </tbody>\n",
       "</table>\n",
       "<p>5 rows × 35 columns</p>\n",
       "</div>"
      ],
      "text/plain": [
       "   sub_grade:A1  sub_grade:A2  sub_grade:A3  sub_grade:A4  sub_grade:A5  \\\n",
       "0             0             0             0             0             0   \n",
       "1             0             0             0             0             0   \n",
       "2             0             0             0             0             0   \n",
       "3             0             0             0             0             0   \n",
       "4             0             0             0             0             0   \n",
       "\n",
       "   sub_grade:B1  sub_grade:B2  sub_grade:B3  sub_grade:B4  sub_grade:B5  ...  \\\n",
       "0             0             1             0             0             0  ...   \n",
       "1             0             0             0             0             0  ...   \n",
       "2             0             0             0             0             0  ...   \n",
       "3             0             0             0             0             0  ...   \n",
       "4             0             0             0             0             1  ...   \n",
       "\n",
       "   sub_grade:F1  sub_grade:F2  sub_grade:F3  sub_grade:F4  sub_grade:F5  \\\n",
       "0             0             0             0             0             0   \n",
       "1             0             0             0             0             0   \n",
       "2             0             0             0             0             0   \n",
       "3             0             0             0             0             0   \n",
       "4             0             0             0             0             0   \n",
       "\n",
       "   sub_grade:G1  sub_grade:G2  sub_grade:G3  sub_grade:G4  sub_grade:G5  \n",
       "0             0             0             0             0             0  \n",
       "1             0             0             0             0             0  \n",
       "2             0             0             0             0             0  \n",
       "3             0             0             0             0             0  \n",
       "4             0             0             0             0             0  \n",
       "\n",
       "[5 rows x 35 columns]"
      ]
     },
     "execution_count": 83,
     "metadata": {},
     "output_type": "execute_result"
    }
   ],
   "source": [
    "#Similarly apply the dummy creation step for 'grade','sub_grade','home_ownership','verification_status','loan_status','purpose','addr_state','initial_list_status' in one list_comprehension\n",
    "Load_dumies_Data=[pd.get_dummies(Load_DS['grade'],prefix='grade',prefix_sep=':'),\n",
    "                 pd.get_dummies(Load_DS['sub_grade'],prefix='sub_grade',prefix_sep=':'),\n",
    "                 pd.get_dummies(Load_DS['home_ownership'],prefix='home_ownership',prefix_sep=':'),\n",
    "                 pd.get_dummies(Load_DS['verification_status'],prefix='verification_status',prefix_sep=':'),\n",
    "                 pd.get_dummies(Load_DS['loan_status'],prefix='loan_status',prefix_sep=':'),\n",
    "                 pd.get_dummies(Load_DS['purpose'],prefix='purpose',prefix_sep=':'),\n",
    "                 pd.get_dummies(Load_DS['addr_state'],prefix='addr_state',prefix_sep=':'),\n",
    "                 pd.get_dummies(Load_DS['initial_list_status'],prefix='initial_list_status',prefix_sep=':')]\n",
    "                 \n",
    "                 \n",
    "                 \n",
    "Load_dumies_Data[1].head(5)                 \n",
    "                                                                                                         "
   ]
  },
  {
   "cell_type": "code",
   "execution_count": 79,
   "metadata": {
    "id": "gzWXLOe7LuT5"
   },
   "outputs": [],
   "source": [
    "#concat all elements in the list and create a dataframe\n",
    "Load_dumies_Data=pd.concat(Load_dumies_Data, axis=1)\n",
    "\n",
    "#check the dummy var dataframe\n",
    "Load_dumies_Data"
   ]
  },
  {
   "cell_type": "code",
   "execution_count": 80,
   "metadata": {
    "id": "VCACPRzaLuT6",
    "outputId": "6a31d475-0f62-4ecc-f6df-b907eff9ec3c"
   },
   "outputs": [
    {
     "data": {
      "text/html": [
       "<div>\n",
       "<style scoped>\n",
       "    .dataframe tbody tr th:only-of-type {\n",
       "        vertical-align: middle;\n",
       "    }\n",
       "\n",
       "    .dataframe tbody tr th {\n",
       "        vertical-align: top;\n",
       "    }\n",
       "\n",
       "    .dataframe thead th {\n",
       "        text-align: right;\n",
       "    }\n",
       "</style>\n",
       "<table border=\"1\" class=\"dataframe\">\n",
       "  <thead>\n",
       "    <tr style=\"text-align: right;\">\n",
       "      <th></th>\n",
       "      <th>grade:A</th>\n",
       "      <th>grade:B</th>\n",
       "      <th>grade:C</th>\n",
       "      <th>grade:D</th>\n",
       "      <th>grade:E</th>\n",
       "      <th>grade:F</th>\n",
       "      <th>grade:G</th>\n",
       "      <th>sub_grade:A1</th>\n",
       "      <th>sub_grade:A2</th>\n",
       "      <th>sub_grade:A3</th>\n",
       "      <th>...</th>\n",
       "      <th>addr_state:TX</th>\n",
       "      <th>addr_state:UT</th>\n",
       "      <th>addr_state:VA</th>\n",
       "      <th>addr_state:VT</th>\n",
       "      <th>addr_state:WA</th>\n",
       "      <th>addr_state:WI</th>\n",
       "      <th>addr_state:WV</th>\n",
       "      <th>addr_state:WY</th>\n",
       "      <th>initial_list_status:f</th>\n",
       "      <th>initial_list_status:w</th>\n",
       "    </tr>\n",
       "  </thead>\n",
       "  <tbody>\n",
       "    <tr>\n",
       "      <th>0</th>\n",
       "      <td>0</td>\n",
       "      <td>1</td>\n",
       "      <td>0</td>\n",
       "      <td>0</td>\n",
       "      <td>0</td>\n",
       "      <td>0</td>\n",
       "      <td>0</td>\n",
       "      <td>0</td>\n",
       "      <td>0</td>\n",
       "      <td>0</td>\n",
       "      <td>...</td>\n",
       "      <td>0</td>\n",
       "      <td>0</td>\n",
       "      <td>0</td>\n",
       "      <td>0</td>\n",
       "      <td>0</td>\n",
       "      <td>0</td>\n",
       "      <td>0</td>\n",
       "      <td>0</td>\n",
       "      <td>1</td>\n",
       "      <td>0</td>\n",
       "    </tr>\n",
       "    <tr>\n",
       "      <th>1</th>\n",
       "      <td>0</td>\n",
       "      <td>0</td>\n",
       "      <td>1</td>\n",
       "      <td>0</td>\n",
       "      <td>0</td>\n",
       "      <td>0</td>\n",
       "      <td>0</td>\n",
       "      <td>0</td>\n",
       "      <td>0</td>\n",
       "      <td>0</td>\n",
       "      <td>...</td>\n",
       "      <td>0</td>\n",
       "      <td>0</td>\n",
       "      <td>0</td>\n",
       "      <td>0</td>\n",
       "      <td>0</td>\n",
       "      <td>0</td>\n",
       "      <td>0</td>\n",
       "      <td>0</td>\n",
       "      <td>1</td>\n",
       "      <td>0</td>\n",
       "    </tr>\n",
       "    <tr>\n",
       "      <th>2</th>\n",
       "      <td>0</td>\n",
       "      <td>0</td>\n",
       "      <td>1</td>\n",
       "      <td>0</td>\n",
       "      <td>0</td>\n",
       "      <td>0</td>\n",
       "      <td>0</td>\n",
       "      <td>0</td>\n",
       "      <td>0</td>\n",
       "      <td>0</td>\n",
       "      <td>...</td>\n",
       "      <td>0</td>\n",
       "      <td>0</td>\n",
       "      <td>0</td>\n",
       "      <td>0</td>\n",
       "      <td>0</td>\n",
       "      <td>0</td>\n",
       "      <td>0</td>\n",
       "      <td>0</td>\n",
       "      <td>1</td>\n",
       "      <td>0</td>\n",
       "    </tr>\n",
       "    <tr>\n",
       "      <th>3</th>\n",
       "      <td>0</td>\n",
       "      <td>0</td>\n",
       "      <td>1</td>\n",
       "      <td>0</td>\n",
       "      <td>0</td>\n",
       "      <td>0</td>\n",
       "      <td>0</td>\n",
       "      <td>0</td>\n",
       "      <td>0</td>\n",
       "      <td>0</td>\n",
       "      <td>...</td>\n",
       "      <td>0</td>\n",
       "      <td>0</td>\n",
       "      <td>0</td>\n",
       "      <td>0</td>\n",
       "      <td>0</td>\n",
       "      <td>0</td>\n",
       "      <td>0</td>\n",
       "      <td>0</td>\n",
       "      <td>1</td>\n",
       "      <td>0</td>\n",
       "    </tr>\n",
       "    <tr>\n",
       "      <th>4</th>\n",
       "      <td>0</td>\n",
       "      <td>1</td>\n",
       "      <td>0</td>\n",
       "      <td>0</td>\n",
       "      <td>0</td>\n",
       "      <td>0</td>\n",
       "      <td>0</td>\n",
       "      <td>0</td>\n",
       "      <td>0</td>\n",
       "      <td>0</td>\n",
       "      <td>...</td>\n",
       "      <td>0</td>\n",
       "      <td>0</td>\n",
       "      <td>0</td>\n",
       "      <td>0</td>\n",
       "      <td>0</td>\n",
       "      <td>0</td>\n",
       "      <td>0</td>\n",
       "      <td>0</td>\n",
       "      <td>1</td>\n",
       "      <td>0</td>\n",
       "    </tr>\n",
       "    <tr>\n",
       "      <th>...</th>\n",
       "      <td>...</td>\n",
       "      <td>...</td>\n",
       "      <td>...</td>\n",
       "      <td>...</td>\n",
       "      <td>...</td>\n",
       "      <td>...</td>\n",
       "      <td>...</td>\n",
       "      <td>...</td>\n",
       "      <td>...</td>\n",
       "      <td>...</td>\n",
       "      <td>...</td>\n",
       "      <td>...</td>\n",
       "      <td>...</td>\n",
       "      <td>...</td>\n",
       "      <td>...</td>\n",
       "      <td>...</td>\n",
       "      <td>...</td>\n",
       "      <td>...</td>\n",
       "      <td>...</td>\n",
       "      <td>...</td>\n",
       "      <td>...</td>\n",
       "    </tr>\n",
       "    <tr>\n",
       "      <th>466280</th>\n",
       "      <td>0</td>\n",
       "      <td>0</td>\n",
       "      <td>1</td>\n",
       "      <td>0</td>\n",
       "      <td>0</td>\n",
       "      <td>0</td>\n",
       "      <td>0</td>\n",
       "      <td>0</td>\n",
       "      <td>0</td>\n",
       "      <td>0</td>\n",
       "      <td>...</td>\n",
       "      <td>1</td>\n",
       "      <td>0</td>\n",
       "      <td>0</td>\n",
       "      <td>0</td>\n",
       "      <td>0</td>\n",
       "      <td>0</td>\n",
       "      <td>0</td>\n",
       "      <td>0</td>\n",
       "      <td>0</td>\n",
       "      <td>1</td>\n",
       "    </tr>\n",
       "    <tr>\n",
       "      <th>466281</th>\n",
       "      <td>0</td>\n",
       "      <td>0</td>\n",
       "      <td>0</td>\n",
       "      <td>1</td>\n",
       "      <td>0</td>\n",
       "      <td>0</td>\n",
       "      <td>0</td>\n",
       "      <td>0</td>\n",
       "      <td>0</td>\n",
       "      <td>0</td>\n",
       "      <td>...</td>\n",
       "      <td>0</td>\n",
       "      <td>0</td>\n",
       "      <td>0</td>\n",
       "      <td>0</td>\n",
       "      <td>0</td>\n",
       "      <td>0</td>\n",
       "      <td>0</td>\n",
       "      <td>0</td>\n",
       "      <td>1</td>\n",
       "      <td>0</td>\n",
       "    </tr>\n",
       "    <tr>\n",
       "      <th>466282</th>\n",
       "      <td>0</td>\n",
       "      <td>0</td>\n",
       "      <td>0</td>\n",
       "      <td>1</td>\n",
       "      <td>0</td>\n",
       "      <td>0</td>\n",
       "      <td>0</td>\n",
       "      <td>0</td>\n",
       "      <td>0</td>\n",
       "      <td>0</td>\n",
       "      <td>...</td>\n",
       "      <td>0</td>\n",
       "      <td>0</td>\n",
       "      <td>0</td>\n",
       "      <td>0</td>\n",
       "      <td>0</td>\n",
       "      <td>0</td>\n",
       "      <td>0</td>\n",
       "      <td>0</td>\n",
       "      <td>1</td>\n",
       "      <td>0</td>\n",
       "    </tr>\n",
       "    <tr>\n",
       "      <th>466283</th>\n",
       "      <td>1</td>\n",
       "      <td>0</td>\n",
       "      <td>0</td>\n",
       "      <td>0</td>\n",
       "      <td>0</td>\n",
       "      <td>0</td>\n",
       "      <td>0</td>\n",
       "      <td>0</td>\n",
       "      <td>0</td>\n",
       "      <td>0</td>\n",
       "      <td>...</td>\n",
       "      <td>0</td>\n",
       "      <td>0</td>\n",
       "      <td>0</td>\n",
       "      <td>0</td>\n",
       "      <td>0</td>\n",
       "      <td>0</td>\n",
       "      <td>0</td>\n",
       "      <td>0</td>\n",
       "      <td>0</td>\n",
       "      <td>1</td>\n",
       "    </tr>\n",
       "    <tr>\n",
       "      <th>466284</th>\n",
       "      <td>0</td>\n",
       "      <td>0</td>\n",
       "      <td>0</td>\n",
       "      <td>1</td>\n",
       "      <td>0</td>\n",
       "      <td>0</td>\n",
       "      <td>0</td>\n",
       "      <td>0</td>\n",
       "      <td>0</td>\n",
       "      <td>0</td>\n",
       "      <td>...</td>\n",
       "      <td>0</td>\n",
       "      <td>0</td>\n",
       "      <td>0</td>\n",
       "      <td>0</td>\n",
       "      <td>0</td>\n",
       "      <td>0</td>\n",
       "      <td>0</td>\n",
       "      <td>0</td>\n",
       "      <td>1</td>\n",
       "      <td>0</td>\n",
       "    </tr>\n",
       "  </tbody>\n",
       "</table>\n",
       "<p>466285 rows × 126 columns</p>\n",
       "</div>"
      ],
      "text/plain": [
       "        grade:A  grade:B  grade:C  grade:D  grade:E  grade:F  grade:G  \\\n",
       "0             0        1        0        0        0        0        0   \n",
       "1             0        0        1        0        0        0        0   \n",
       "2             0        0        1        0        0        0        0   \n",
       "3             0        0        1        0        0        0        0   \n",
       "4             0        1        0        0        0        0        0   \n",
       "...         ...      ...      ...      ...      ...      ...      ...   \n",
       "466280        0        0        1        0        0        0        0   \n",
       "466281        0        0        0        1        0        0        0   \n",
       "466282        0        0        0        1        0        0        0   \n",
       "466283        1        0        0        0        0        0        0   \n",
       "466284        0        0        0        1        0        0        0   \n",
       "\n",
       "        sub_grade:A1  sub_grade:A2  sub_grade:A3  ...  addr_state:TX  \\\n",
       "0                  0             0             0  ...              0   \n",
       "1                  0             0             0  ...              0   \n",
       "2                  0             0             0  ...              0   \n",
       "3                  0             0             0  ...              0   \n",
       "4                  0             0             0  ...              0   \n",
       "...              ...           ...           ...  ...            ...   \n",
       "466280             0             0             0  ...              1   \n",
       "466281             0             0             0  ...              0   \n",
       "466282             0             0             0  ...              0   \n",
       "466283             0             0             0  ...              0   \n",
       "466284             0             0             0  ...              0   \n",
       "\n",
       "        addr_state:UT  addr_state:VA  addr_state:VT  addr_state:WA  \\\n",
       "0                   0              0              0              0   \n",
       "1                   0              0              0              0   \n",
       "2                   0              0              0              0   \n",
       "3                   0              0              0              0   \n",
       "4                   0              0              0              0   \n",
       "...               ...            ...            ...            ...   \n",
       "466280              0              0              0              0   \n",
       "466281              0              0              0              0   \n",
       "466282              0              0              0              0   \n",
       "466283              0              0              0              0   \n",
       "466284              0              0              0              0   \n",
       "\n",
       "        addr_state:WI  addr_state:WV  addr_state:WY  initial_list_status:f  \\\n",
       "0                   0              0              0                      1   \n",
       "1                   0              0              0                      1   \n",
       "2                   0              0              0                      1   \n",
       "3                   0              0              0                      1   \n",
       "4                   0              0              0                      1   \n",
       "...               ...            ...            ...                    ...   \n",
       "466280              0              0              0                      0   \n",
       "466281              0              0              0                      1   \n",
       "466282              0              0              0                      1   \n",
       "466283              0              0              0                      0   \n",
       "466284              0              0              0                      1   \n",
       "\n",
       "        initial_list_status:w  \n",
       "0                           0  \n",
       "1                           0  \n",
       "2                           0  \n",
       "3                           0  \n",
       "4                           0  \n",
       "...                       ...  \n",
       "466280                      1  \n",
       "466281                      0  \n",
       "466282                      0  \n",
       "466283                      1  \n",
       "466284                      0  \n",
       "\n",
       "[466285 rows x 126 columns]"
      ]
     },
     "execution_count": 80,
     "metadata": {},
     "output_type": "execute_result"
    }
   ],
   "source": []
  },
  {
   "cell_type": "code",
   "execution_count": null,
   "metadata": {
    "id": "x7MWxiTzLuUm"
   },
   "outputs": [],
   "source": [
    "#conact this dummy var dataframe with the original Load_DS dataframe\n",
    "Load_DS=pd.concat([Load_DS,Load_dumies_Data], axis=1)"
   ]
  },
  {
   "cell_type": "code",
   "execution_count": null,
   "metadata": {
    "id": "WI-6oHKXLuUn",
    "outputId": "23bc1241-946d-4324-ace6-12003507f7bf"
   },
   "outputs": [],
   "source": [
    "#check the column names\n"
   ]
  },
  {
   "cell_type": "markdown",
   "metadata": {
    "id": "DZO9xlR8LuUn"
   },
   "source": [
    "MISSING VALUES"
   ]
  },
  {
   "cell_type": "code",
   "execution_count": null,
   "metadata": {
    "id": "4seQhBu8LuUn",
    "outputId": "525b9b3b-5a97-4c75-9dc9-079115711843"
   },
   "outputs": [],
   "source": [
    "#chekc the missing values\n"
   ]
  },
  {
   "cell_type": "code",
   "execution_count": null,
   "metadata": {
    "id": "o1jKfi7KLuUo"
   },
   "outputs": [],
   "source": [
    "pd.options.display.max_rows= None"
   ]
  },
  {
   "cell_type": "code",
   "execution_count": null,
   "metadata": {
    "id": "v1C1LytqLuUo",
    "outputId": "21309e10-4be0-47c7-fef4-5765063e8b4d"
   },
   "outputs": [],
   "source": [
    "#print the sum of all null values of all columns\n"
   ]
  },
  {
   "cell_type": "code",
   "execution_count": null,
   "metadata": {
    "id": "eLSd-JUnLuUo"
   },
   "outputs": [],
   "source": [
    "pd.options.display.max_rows =100"
   ]
  },
  {
   "cell_type": "code",
   "execution_count": null,
   "metadata": {
    "id": "jHQpyUrkLuUo"
   },
   "outputs": [],
   "source": [
    "#fill the null values in column 'total_rev_hi_lim' with Loan_DS['funded_amt']\n",
    "Load_DS['total_rev_hi_lim'].fillna()"
   ]
  },
  {
   "cell_type": "code",
   "execution_count": null,
   "metadata": {
    "id": "k63-CREGLuUp",
    "outputId": "1fc67d3e-edac-4f45-feb7-2922e8a2fe7d"
   },
   "outputs": [],
   "source": [
    "#check the null values in column 'total_rev_hi_lim'\n"
   ]
  },
  {
   "cell_type": "code",
   "execution_count": null,
   "metadata": {
    "id": "to6_dzQ-LuUp"
   },
   "outputs": [],
   "source": [
    "#fill the 'annual_inc' null values with mean value of 'annual_inc' column\n"
   ]
  },
  {
   "cell_type": "code",
   "execution_count": null,
   "metadata": {
    "id": "CWPvE0hjLuUp",
    "outputId": "d1841891-4a2f-43b6-9d0c-692c77bdb513"
   },
   "outputs": [],
   "source": [
    "#check the null values in 'annual_inc'\n"
   ]
  },
  {
   "cell_type": "code",
   "execution_count": null,
   "metadata": {
    "id": "nlBTItlfLuUp"
   },
   "outputs": [],
   "source": [
    "#fill all null values in column 'mths_since_earliest_cr_line' with '0'\n"
   ]
  },
  {
   "cell_type": "code",
   "execution_count": null,
   "metadata": {
    "id": "rmXwTL1yLuUq",
    "outputId": "cd5f4479-0076-471c-eb01-8469247c0fa2"
   },
   "outputs": [],
   "source": [
    "#check the sum of null values for this column\n"
   ]
  },
  {
   "cell_type": "code",
   "execution_count": null,
   "metadata": {
    "id": "gJpOiLueLuUq"
   },
   "outputs": [],
   "source": [
    "#fill all null values in column 'acc_now_delinq' with '0'\n"
   ]
  },
  {
   "cell_type": "code",
   "execution_count": null,
   "metadata": {
    "id": "Ee_5FeAYLuUq",
    "outputId": "7df255f6-5bad-45e6-8e21-1ef26c0031ed"
   },
   "outputs": [],
   "source": [
    "#check the sum of null values for this column\n"
   ]
  },
  {
   "cell_type": "code",
   "execution_count": null,
   "metadata": {
    "id": "4jHzCYrKLuUq"
   },
   "outputs": [],
   "source": [
    "#fill all null values in column 'total_Acc' with '0'\n"
   ]
  },
  {
   "cell_type": "code",
   "execution_count": null,
   "metadata": {
    "id": "K8fs1UfQLuUr"
   },
   "outputs": [],
   "source": [
    "#similary fill the columns 'pub_rec','open_acc','inq_last_6mths','delinq_2yrs','emp_length_int' with '0'\n",
    "Load_DS['pub_rec'].fillna('0',inplace=True)\n",
    "Load_DS['open_acc'].fillna('0',inplace=True)\n",
    "Load_DS['inq_last_6mths'].fillna('0',inplace=True)\n",
    "Load_DS['delinq_2yrs'].fillna('0',inplace=True)\n",
    "Load_DS['emp_length_int'].fillna('0',inplace=True)"
   ]
  },
  {
   "cell_type": "markdown",
   "metadata": {
    "id": "cx4deYvuLuUr"
   },
   "source": [
    "PD(PROBABLITY OF DEFAULT)\n",
    "\n",
    "Building the Weight of expetency values"
   ]
  },
  {
   "cell_type": "code",
   "execution_count": null,
   "metadata": {
    "id": "mNE6QglaLuUr",
    "outputId": "cb53b206-8848-4720-a263-01cbe4916032"
   },
   "outputs": [],
   "source": [
    "#check the unique values in our final output column i.e 'loan_status'\n"
   ]
  },
  {
   "cell_type": "code",
   "execution_count": null,
   "metadata": {
    "id": "L7oFpKy0LuUr",
    "outputId": "1d774f17-c765-4a98-f71a-10dd8618d8d3"
   },
   "outputs": [],
   "source": [
    "#chekc the value_counts for loan_status\n"
   ]
  },
  {
   "cell_type": "code",
   "execution_count": null,
   "metadata": {
    "id": "lKgujersLuUs",
    "outputId": "17335ee0-9c5f-4e94-af2c-9d4e0d2bc753"
   },
   "outputs": [],
   "source": [
    "#check the percentage of distribution\n",
    "Load_DS['loan_status'].value_counts()/Load_DS['loan_status'].count()"
   ]
  },
  {
   "cell_type": "code",
   "execution_count": null,
   "metadata": {
    "id": "dH_ggUu4LuUs"
   },
   "outputs": [],
   "source": [
    "#binary encoding of our target variable\n",
    "Load_DS['good_bad']=np.where(Load_DS['loan_status'].isin(['Charged Off','Default','Does not meet the credit policy. Status:Charged Off','Late (31-120 days)']),0,1)"
   ]
  },
  {
   "cell_type": "code",
   "execution_count": null,
   "metadata": {
    "id": "jiH96MLoLuUs",
    "outputId": "121fe0d6-caae-4a52-a919-bbc9526ef80b"
   },
   "outputs": [],
   "source": []
  },
  {
   "cell_type": "code",
   "execution_count": null,
   "metadata": {
    "id": "kEd8dd5sLuUt"
   },
   "outputs": [],
   "source": [
    "#import train-test split\n",
    "from sklearn.model_selection import train_test_split"
   ]
  },
  {
   "cell_type": "code",
   "execution_count": null,
   "metadata": {
    "id": "dMAN34IVLuUu"
   },
   "outputs": [],
   "source": [
    "#applying the train_test split\n",
    "load_ds_input_train,load_ds_input_test,load_ds_targets_train,load_ds_targets_test=train_test_split(Load_DS.drop('good_bad', axis = 1), Load_DS['good_bad'],test_size=0.2,random_state=42)"
   ]
  },
  {
   "cell_type": "code",
   "execution_count": null,
   "metadata": {
    "id": "mbpQzqR6LuUv",
    "outputId": "739f2f2c-b1e0-42a2-f495-2f7dc1c14627"
   },
   "outputs": [],
   "source": [
    "#check the shape of training and testing dataset:\n",
    "\n",
    "\n",
    "load_ds_input_train.shape"
   ]
  },
  {
   "cell_type": "code",
   "execution_count": null,
   "metadata": {
    "id": "gGhbGekfLuUv",
    "outputId": "5f7d0948-cd1f-4636-c079-0446de4da31b"
   },
   "outputs": [],
   "source": [
    "load_ds_targets_train.shape"
   ]
  },
  {
   "cell_type": "markdown",
   "metadata": {
    "id": "4Yt28aAHLuUw"
   },
   "source": [
    "DATA PREPARATION"
   ]
  },
  {
   "cell_type": "code",
   "execution_count": null,
   "metadata": {
    "id": "dI1mKqykLuUw"
   },
   "outputs": [],
   "source": [
    "#Let's so deep into data prepartion because we need to build the score-card:\n",
    "\n",
    "df_inputs_prepr = load_ds_input_train\n",
    "df_targets_prepr = load_ds_targets_train\n",
    "\n"
   ]
  },
  {
   "cell_type": "code",
   "execution_count": null,
   "metadata": {
    "id": "pgruzsoyLuUw",
    "outputId": "3fb9c0ad-80ea-4bc9-9655-c5e7be9d6b9d"
   },
   "outputs": [],
   "source": [
    "#check the unique values for 'grade' column\n"
   ]
  },
  {
   "cell_type": "code",
   "execution_count": null,
   "metadata": {
    "id": "hqzup4FbLuUw",
    "outputId": "bb55f6f9-5f7c-4a3c-b50f-d7565622d9bf"
   },
   "outputs": [],
   "source": [
    "#concat grade with df_target_prepr col and create a dataframe\n",
    "df1= pd.concat([df_inputs_prepr['grade'], df_targets_prepr],axis=1)\n"
   ]
  },
  {
   "cell_type": "code",
   "execution_count": null,
   "metadata": {
    "id": "WlJ5plYaLuUx",
    "outputId": "658005cc-f6f3-4923-9ce4-06028a242142"
   },
   "outputs": [],
   "source": [
    "#group by grade and check number of records in each grade\n",
    "df1.groupby(df1.columns.values[0],as_index=False)[df1.columns.values[1]].count()"
   ]
  },
  {
   "cell_type": "code",
   "execution_count": null,
   "metadata": {
    "id": "g1HZ83Y8LuUx",
    "outputId": "ac054943-1b04-4252-df34-b60de8385945"
   },
   "outputs": [],
   "source": [
    "#get the mean of the number of records i.e here we will get only for good loans only that has binary value as '1'\n",
    "df1.groupby(df1.columns.values[0],as_index=False)[df1.columns.values[1]].mean()"
   ]
  },
  {
   "cell_type": "code",
   "execution_count": null,
   "metadata": {
    "id": "MAxRYsMXLuUy"
   },
   "outputs": [],
   "source": [
    "#create a dataframe that has the number of records and mean records for grade\n",
    "df1=pd.concat([df1.groupby(df1.columns.values[0],as_index=False)[df1.columns.values[1]].count(),\n",
    "             df1.groupby(df1.columns.values[0],as_index=False)[df1.columns.values[1]].mean()],axis=1)"
   ]
  },
  {
   "cell_type": "code",
   "execution_count": null,
   "metadata": {
    "id": "BPWEKmnwLuUy",
    "outputId": "12e3980f-b3f9-432f-f697-c07cc507966b"
   },
   "outputs": [],
   "source": [
    "#print df1\n"
   ]
  },
  {
   "cell_type": "code",
   "execution_count": null,
   "metadata": {
    "id": "3mkjxl0JLuUy",
    "outputId": "75e0bbd9-fa88-40d0-8fb6-7df3cda599fd"
   },
   "outputs": [],
   "source": [
    "#remove the grade column as it is twice\n"
   ]
  },
  {
   "cell_type": "code",
   "execution_count": null,
   "metadata": {
    "id": "xvKflSblLuUy"
   },
   "outputs": [],
   "source": [
    "#replacing the column names to make it more representable\n",
    "df1.columns=[df1.columns.values[0],'n_obs','prop_good']"
   ]
  },
  {
   "cell_type": "code",
   "execution_count": null,
   "metadata": {
    "id": "3K3oUnacLuUz",
    "outputId": "1e7cf1f0-bb69-46ac-84a0-f2a57e4ad280"
   },
   "outputs": [],
   "source": [
    "#df1\n"
   ]
  },
  {
   "cell_type": "code",
   "execution_count": null,
   "metadata": {
    "id": "gK4sNSm4LuUz"
   },
   "outputs": [],
   "source": [
    "#get the proportion of n_obs\n",
    "df1['prop_n_obs']=df1['n_obs']/df1['n_obs'].sum()"
   ]
  },
  {
   "cell_type": "code",
   "execution_count": null,
   "metadata": {
    "id": "zrnlY-qHLuUz",
    "outputId": "2fb3389f-540c-48d2-f688-f7ea4c45d1d9"
   },
   "outputs": [],
   "source": [
    "df1"
   ]
  },
  {
   "cell_type": "code",
   "execution_count": null,
   "metadata": {
    "id": "rv3XUePnLuUz",
    "outputId": "f1b6cee3-68e6-45f0-e7e5-5b0ac4273ef2"
   },
   "outputs": [],
   "source": [
    "#calculating the number of good varriables and bad varrirables\n",
    "\n",
    "df1['n_good']=df1['prop_good']*df1['n_obs']\n",
    "df1['n_bad']=(1-df1['prop_good'])*df1['n_obs']\n",
    "df1"
   ]
  },
  {
   "cell_type": "code",
   "execution_count": null,
   "metadata": {
    "id": "OeMVVEKtLuU5",
    "outputId": "7a551b9a-b843-431a-de7f-45b89cc44139"
   },
   "outputs": [],
   "source": [
    "#check the proportion of good and bad variables\n",
    "df1['prop_n_good']=df1['n_good']/df1['n_good'].sum()\n",
    "df1['prop_n_bad']=df1['n_bad']/df1['n_good'].sum()\n",
    "df1"
   ]
  },
  {
   "cell_type": "code",
   "execution_count": null,
   "metadata": {
    "id": "V6FPvAFOLuU5",
    "outputId": "89a3cccd-e759-43e2-b4f5-1489c7d1f405"
   },
   "outputs": [],
   "source": [
    "#calculate the Weight of Expetency(WOE):\n",
    "\n",
    "df1['WoE']=np.log(df1['prop_n_good']/df1['prop_n_bad'])\n",
    "df1"
   ]
  },
  {
   "cell_type": "code",
   "execution_count": null,
   "metadata": {
    "id": "MRl4w1UuLuU5",
    "outputId": "a2d6d53c-1260-4eda-b8cc-895363587eef"
   },
   "outputs": [],
   "source": [
    "#reset the index of the df1 dataframe and sort the values according to WoE\n",
    "\n",
    "df1= df1.sort_values(['WoE'])\n",
    "df1=df1.reset_index(drop=True)\n",
    "df1"
   ]
  },
  {
   "cell_type": "code",
   "execution_count": null,
   "metadata": {
    "id": "0FT06fq5LuU6"
   },
   "outputs": [],
   "source": [
    "#calculate the difference in prop_good and WoE:\n",
    "\n",
    "df1['diff_prop_good'] = df1['prop_good'].diff().abs()\n",
    "df1['diff_WoE']=df1['WoE'].diff().abs()"
   ]
  },
  {
   "cell_type": "code",
   "execution_count": null,
   "metadata": {
    "id": "QD703eReLuU6",
    "outputId": "2c993b0d-f084-4157-84f0-f5e09b319cfd"
   },
   "outputs": [],
   "source": [
    "df1"
   ]
  },
  {
   "cell_type": "code",
   "execution_count": null,
   "metadata": {
    "id": "bM7_g0UtLuU6",
    "outputId": "af88869b-1522-420a-bedd-14625cffa083"
   },
   "outputs": [],
   "source": [
    "#calculate the IV:implied volatility:\n",
    "\n",
    "df1['IV'] = df1['prop_n_good'] - df1['prop_n_bad']*df1['WoE']\n",
    "df1['IV']=df1['IV'].sum()\n",
    "df1"
   ]
  },
  {
   "cell_type": "code",
   "execution_count": null,
   "metadata": {
    "id": "nuaAfuZSLuU6"
   },
   "outputs": [],
   "source": [
    "#Create a final function for the the data prepation steps so that we don't need to write this code again and again\n",
    "\n",
    "def woe_discrete(df,discrete_variable_name,good_bad_variable_df):\n",
    "    df = pd.concat([df[discrete_variable_name],good_bad_variable_df], axis=1)\n",
    "    df = pd.concat([df.groupby(df.columns.values[0],as_index = False)[df.columns.values[1]].count(),\n",
    "                   df.groupby(df.columns.values[0],as_index = False)[df.columns.values[1]].mean()],axis=1)\n",
    "    df= df.iloc[:,[0,1,3]]\n",
    "    df.columns=[df1.columns.values[0],'n_obs','prop_good']\n",
    "    df['prop_n_obs']=df['n_obs']/df['n_obs'].sum()\n",
    "    df['n_good']=df['prop_good']*df['n_obs']\n",
    "    df['n_bad']=(1-df['prop_good'])*df['n_obs']\n",
    "    df['prop_n_good']=df['n_good']/df['n_good'].sum()\n",
    "    df['prop_n_bad']=df['n_bad']/df['n_good'].sum()\n",
    "    df['WoE']=np.log(df['prop_n_good']/df['prop_n_bad'])\n",
    "    df= df.sort_values(['WoE'])\n",
    "    df=df.reset_index(drop=True)\n",
    "    df['diff_prop_good'] = df['prop_good'].diff().abs()\n",
    "    df['diff_WoE']=df['WoE'].diff().abs()\n",
    "    df['IV'] = df['prop_n_good'] - df['prop_n_bad']*df['WoE']\n",
    "    df['IV']=df['IV'].sum()\n",
    "    return df"
   ]
  },
  {
   "cell_type": "code",
   "execution_count": null,
   "metadata": {
    "id": "HAwed_rsLuU6",
    "outputId": "c7f63ba2-b9f0-4ca7-b1d1-989c27b79233"
   },
   "outputs": [],
   "source": [
    "#applying the function on 'grade' column:\n",
    "\n",
    "df_temp = woe_discrete(df_inputs_prepr, 'grade', df_targets_prepr)\n",
    "df_temp"
   ]
  },
  {
   "cell_type": "markdown",
   "metadata": {
    "id": "Z3DjqbqOLuU6"
   },
   "source": [
    "PROCESSING DISCRETE VARIABLES:VISUALIZING RESULTS"
   ]
  },
  {
   "cell_type": "code",
   "execution_count": null,
   "metadata": {
    "id": "9C4MBCROLuU6"
   },
   "outputs": [],
   "source": [
    "#import the visualization libraries:\n",
    "import matplotlib.pyplot as plt\n",
    "import seaborn as sns\n",
    "sns.set()"
   ]
  },
  {
   "cell_type": "code",
   "execution_count": null,
   "metadata": {
    "id": "0TXVPObrLuU7"
   },
   "outputs": [],
   "source": [
    "#function for plotting of WoE:\n",
    "\n",
    "def plot_by_woe(df_WoE,rotation_of_x_axis_labels=0):\n",
    "    x=np.array(df_WoE.iloc[:,0].apply(str))\n",
    "    y=df_WoE['WoE']\n",
    "    plt.figure(figsize=(18,6))\n",
    "    plt.plot(x,y,marker = 'o',linestyle='--',color='k')\n",
    "    plt.xlabel(df_WoE.columns[0])\n",
    "    plt.ylabel('weight of evidence')\n",
    "    plt.title(str('Weight of Evidence by ')+df_WoE.columns[0])\n",
    "    plt.xticks(rotation=rotation_of_x_axis_labels)"
   ]
  },
  {
   "cell_type": "markdown",
   "metadata": {
    "id": "BJ0g7K-7Vs5h"
   },
   "source": [
    "**High WoE means the borrower chance to pay the loan on time is high:**"
   ]
  },
  {
   "cell_type": "code",
   "execution_count": null,
   "metadata": {
    "id": "5_xc-mTeLuU7",
    "outputId": "4fa8501e-fe6a-4b55-83e1-488df3c14cfc"
   },
   "outputs": [],
   "source": [
    "#pass the dataframe into the plot_by_woe function\n",
    "plot_by_woe(df_temp)"
   ]
  },
  {
   "cell_type": "markdown",
   "metadata": {
    "id": "d8pgSYSJLuU7"
   },
   "source": [
    "Preprocessing Discrete Variables:Creating Dummy Variable,part1"
   ]
  },
  {
   "cell_type": "code",
   "execution_count": null,
   "metadata": {
    "id": "HdJkR7xLLuU7",
    "outputId": "9d2ba1f6-a760-4c36-fada-c2756f1e56fc"
   },
   "outputs": [],
   "source": [
    "#repeat the similar steps:\n",
    "\n",
    "#pass the column 'home_ownership' and create the woe plot\n"
   ]
  },
  {
   "cell_type": "code",
   "execution_count": null,
   "metadata": {
    "id": "P825wd3gLuU7",
    "outputId": "c695a1d3-cda2-4aef-d975-0c02cb5747bf"
   },
   "outputs": [],
   "source": [
    "#plot the woe for 'home_ownersip'\n"
   ]
  },
  {
   "cell_type": "code",
   "execution_count": null,
   "metadata": {
    "id": "TJYPwp08LuU8"
   },
   "outputs": [],
   "source": [
    "#we will be creating one hot enconding for all these unique values in each column so we will try to minimize the number of unique values by merging the unique values:\n",
    "\n",
    "#add the binary values of values 'RENT','OTHER','NONE','ANY' as they have similar WoE values\n",
    "df_inputs_prepr['home_ownership:RENT_OTHER_NONE_ANY'] = sum([df_inputs_prepr['home_ownership:RENT'],df_inputs_prepr['home_ownership:OTHER'],\n",
    "                                                           df_inputs_prepr['home_ownership:NONE'],df_inputs_prepr['home_ownership:ANY']])"
   ]
  },
  {
   "cell_type": "markdown",
   "metadata": {
    "id": "TPlXtmSOLuU8"
   },
   "source": [
    "PREPROCESSING DISCRETE VARRIABLES:DUMMMY VARRIABLES"
   ]
  },
  {
   "cell_type": "code",
   "execution_count": null,
   "metadata": {
    "id": "gAWdbMekLuU8",
    "outputId": "9eb4a16e-dc55-4892-b541-27fa3b3bf173"
   },
   "outputs": [],
   "source": [
    "#check the unique values in addr_state\n"
   ]
  },
  {
   "cell_type": "code",
   "execution_count": null,
   "metadata": {
    "id": "eegPXdlrLuU8",
    "outputId": "ba8a2a01-a728-4403-f421-82a9bacc47ea"
   },
   "outputs": [],
   "source": [
    "#apply the function woe_discrete on 'addr_state'\n"
   ]
  },
  {
   "cell_type": "code",
   "execution_count": null,
   "metadata": {
    "id": "NJFGOQfTLuU8",
    "outputId": "e7596c98-68bf-4f9e-c8c5-bb36a603e219"
   },
   "outputs": [],
   "source": [
    "#plot the woe_plot\n"
   ]
  },
  {
   "cell_type": "code",
   "execution_count": null,
   "metadata": {
    "id": "tFN-0TlsLuU8"
   },
   "outputs": [],
   "source": [
    "#adding the state 'ND' if it is not present in columns and make it zero if not present\n",
    "if['addr_state:ND'] in df_inputs_prepr.columns.values:\n",
    "    pass\n",
    "else:\n",
    "    df_inputs_prepr['addr_state:ND']=0"
   ]
  },
  {
   "cell_type": "code",
   "execution_count": null,
   "metadata": {
    "id": "bZ0dfmMELuU9",
    "outputId": "d7df34ad-f4ea-4fb5-a2c5-3bac59bee398"
   },
   "outputs": [],
   "source": [
    "#plot the woe_plot\n",
    "plot_by_woe(df_temp.iloc[2:-2,:])"
   ]
  },
  {
   "cell_type": "code",
   "execution_count": null,
   "metadata": {
    "id": "0jB7RfMaLuU9",
    "outputId": "5adb216a-43c6-4486-b2b2-a2cfda64c96e"
   },
   "outputs": [],
   "source": [
    "#woe_plot for values whose WoE values differs at large\n",
    "plot_by_woe(df_temp.iloc[6:-6,:])"
   ]
  },
  {
   "cell_type": "code",
   "execution_count": null,
   "metadata": {
    "id": "EN3Vgcy1LuU9"
   },
   "outputs": [],
   "source": [
    "##add the binary values of values as they have similar WoE values\n",
    "\n",
    "\n",
    "df_inputs_prepr['addr_state:ND_NE_IA_NC_FL_HI_AL']=sum([df_inputs_prepr['addr_state:ND'],df_inputs_prepr['addr_state:IA'],\n",
    "                                                       df_inputs_prepr['addr_state:NE'],df_inputs_prepr['addr_state:NC'],\n",
    "                                                       df_inputs_prepr['addr_state:FL'],df_inputs_prepr['addr_state:HI'], \n",
    "                                                       df_inputs_prepr['addr_state:AL']])\n",
    "\n",
    "df_inputs_prepr['addr_state:NM_VA']=sum([df_inputs_prepr['addr_state:NM'],df_inputs_prepr['addr_state:VA']])\n",
    "\n",
    "df_inputs_prepr['addr_state:OK_TN_MO_LA_MD_NC']=sum([df_inputs_prepr['addr_state:OK'],df_inputs_prepr['addr_state:TN'],\n",
    "                                                       df_inputs_prepr['addr_state:MO'],df_inputs_prepr['addr_state:LA'],\n",
    "                                                       df_inputs_prepr['addr_state:MD'],df_inputs_prepr['addr_state:NC']])\n",
    "\n",
    "\n",
    "df_inputs_prepr['addr_state:UT_KY_AZ_NJ']=sum([df_inputs_prepr['addr_state:UT'],df_inputs_prepr['addr_state:KY'],\n",
    "                                                       df_inputs_prepr['addr_state:AZ'],df_inputs_prepr['addr_state:NJ']])\n",
    "\n",
    "\n",
    "df_inputs_prepr['addr_state:AR_MI_PA_OH_MN']=sum([df_inputs_prepr['addr_state:AR'],df_inputs_prepr['addr_state:MI'],\n",
    "                                                       df_inputs_prepr['addr_state:PA'],df_inputs_prepr['addr_state:OH'],\n",
    "                                                       df_inputs_prepr['addr_state:MN']])\n",
    "\n",
    "df_inputs_prepr['addr_state:RI_MA_DE_SD_IN']=sum([df_inputs_prepr['addr_state:RI'],df_inputs_prepr['addr_state:MA'],\n",
    "                                                       df_inputs_prepr['addr_state:DE'],df_inputs_prepr['addr_state:SD'],\n",
    "                                                       df_inputs_prepr['addr_state:IN']])\n",
    "\n",
    "df_inputs_prepr['addr_state:GA_WA_OR']=sum([df_inputs_prepr['addr_state:GA'],df_inputs_prepr['addr_state:WA'],\n",
    "                                                       df_inputs_prepr['addr_state:OR']])\n",
    "\n",
    "df_inputs_prepr['addr_state:WI_MT']=sum([df_inputs_prepr['addr_state:WI'],df_inputs_prepr['addr_state:MT']])\n",
    "\n",
    "\n",
    "df_inputs_prepr['addr_state:IL_CT']=sum([df_inputs_prepr['addr_state:IL'],df_inputs_prepr['addr_state:CT']])\n",
    "\n",
    "df_inputs_prepr['addr_state:KS_SC_CO_VT_AK_MS']=sum([df_inputs_prepr['addr_state:KS'],df_inputs_prepr['addr_state:SC'],\n",
    "                                                       df_inputs_prepr['addr_state:CO'],df_inputs_prepr['addr_state:VT'],\n",
    "                                                       df_inputs_prepr['addr_state:AK'],df_inputs_prepr['addr_state:MS']])\n",
    "\n",
    "\n",
    "df_inputs_prepr['addr_state:WV_NH_WY_DC_ME_ID']=sum([df_inputs_prepr['addr_state:WV'],df_inputs_prepr['addr_state:NH'],\n",
    "                                                       df_inputs_prepr['addr_state:WY'],df_inputs_prepr['addr_state:DC'],\n",
    "                                                       df_inputs_prepr['addr_state:ME'],df_inputs_prepr['addr_state:ID']])"
   ]
  },
  {
   "cell_type": "code",
   "execution_count": null,
   "metadata": {
    "id": "stkdmPGPLuU9",
    "outputId": "601c5b6f-795e-4607-818d-b85782765b38"
   },
   "outputs": [],
   "source": [
    "#check the unique values of verification_status column\n"
   ]
  },
  {
   "cell_type": "code",
   "execution_count": null,
   "metadata": {
    "id": "Z9T9xC5ALuU-",
    "outputId": "7f271d10-b499-4317-c047-3de1bcbf5190"
   },
   "outputs": [],
   "source": [
    "#apply the woe_discrete function\n"
   ]
  },
  {
   "cell_type": "code",
   "execution_count": null,
   "metadata": {
    "id": "QZBhAHXtLuU-",
    "outputId": "c12f46d4-1746-4aaa-c006-139f5c3eedaf"
   },
   "outputs": [],
   "source": [
    "#plot the woe plot\n"
   ]
  },
  {
   "cell_type": "code",
   "execution_count": null,
   "metadata": {
    "id": "zXmryyVfLuU_",
    "outputId": "47506170-c1e9-4eaa-e77d-fab6a20bed0d"
   },
   "outputs": [],
   "source": [
    "#check the unique values of 'purpose'\n"
   ]
  },
  {
   "cell_type": "code",
   "execution_count": null,
   "metadata": {
    "id": "prZ95Qv7LuU_",
    "outputId": "eebfa1ad-2794-47d9-c0f7-7dc53d289539"
   },
   "outputs": [],
   "source": [
    "#apply the woe_discrete on 'purpose'\n"
   ]
  },
  {
   "cell_type": "code",
   "execution_count": null,
   "metadata": {
    "id": "EDJffsjcLuU_",
    "outputId": "b8259eb4-9e01-4e4e-d262-9f65e3a04759"
   },
   "outputs": [],
   "source": [
    "#plot the woe plot\n"
   ]
  },
  {
   "cell_type": "code",
   "execution_count": null,
   "metadata": {
    "id": "UOXH1HazLuVA"
   },
   "outputs": [],
   "source": [
    "#make all the similar woe values in one column\n",
    "\n",
    "df_inputs_prepr['purpose:educ_sm_b_wedd_ren_en_mov_house']=sum([df_inputs_prepr['purpose:small_business'],df_inputs_prepr['purpose:educational'],\n",
    "                                                               df_inputs_prepr['purpose:renewable_energy'],df_inputs_prepr['purpose:moving'],\n",
    "                                  -                              df_inputs_prepr['purpose:house'],df_inputs_prepr['purpose:other'],\n",
    "                                                               df_inputs_prepr['purpose:medical'],df_inputs_prepr['purpose:wedding'],\n",
    "                                                               df_inputs_prepr['purpose:vacation'],df_inputs_prepr['purpose:debt_consolidation'],\n",
    "                                                               df_inputs_prepr['purpose:home_improvement'],df_inputs_prepr['purpose:major_purchase'],\n",
    "                                                               df_inputs_prepr['purpose:car'],df_inputs_prepr['purpose:credit_card']])"
   ]
  },
  {
   "cell_type": "code",
   "execution_count": null,
   "metadata": {
    "id": "KZRf0qmtLuVA",
    "outputId": "069a68d3-12f2-4e96-d9e6-22ba5944d01e"
   },
   "outputs": [],
   "source": [
    "#check the 'initial_list_status' unique values\n"
   ]
  },
  {
   "cell_type": "code",
   "execution_count": null,
   "metadata": {
    "id": "w9sXs6AxLuVA",
    "outputId": "cfe62c4f-e9b5-427a-93a6-8dd0ecf06eda"
   },
   "outputs": [],
   "source": [
    "#apply the woe_discrete function\n"
   ]
  },
  {
   "cell_type": "code",
   "execution_count": null,
   "metadata": {
    "id": "_Ky0oIRnLuVA",
    "outputId": "faef51b2-5947-47f3-cfd1-382fcf036247"
   },
   "outputs": [],
   "source": [
    "#plot the woe plot\n"
   ]
  },
  {
   "cell_type": "markdown",
   "metadata": {
    "id": "d6vc3EufLuVA"
   },
   "source": [
    "PREPROCESSING CONTINUOUS VARIABLES:AUTOMATING CALCULATIONS AND VISUALIZING RESULTS"
   ]
  },
  {
   "cell_type": "code",
   "execution_count": null,
   "metadata": {
    "id": "xDcMBkGzLuVA"
   },
   "outputs": [],
   "source": [
    "#Earlier we defined a function for categorical values\n",
    "\n",
    "#Now, this is the function for preprocessing of continuous variables\n",
    "\n",
    "def woe_continuous(df,discrete_variable_name,good_bad_variable_df):\n",
    "    df = pd.concat([df[discrete_variable_name],good_bad_variable_df], axis=1)\n",
    "    df = pd.concat([df.groupby(df.columns.values[0],as_index = False)[df.columns.values[1]].count(),\n",
    "                   df.groupby(df.columns.values[0],as_index = False)[df.columns.values[1]].mean()],axis=1)\n",
    "    df= df.iloc[:,[0,1,3]]\n",
    "    df.columns=[df1.columns.values[0],'n_obs','prop_good']\n",
    "    df['prop_n_obs']=df['n_obs']/df['n_obs'].sum()\n",
    "    df['n_good']=df['prop_good']*df['n_obs']\n",
    "    df['n_bad']=(1-df['prop_good'])*df['n_obs']\n",
    "    df['prop_n_good']=df['n_good']/df['n_good'].sum()\n",
    "    df['prop_n_bad']=df['n_bad']/df['n_good'].sum()\n",
    "    df['WoE']=np.log(df['prop_n_good']/df['prop_n_bad'])\n",
    "    df['diff_prop_good'] = df['prop_good'].diff().abs()\n",
    "    df['diff_WoE']=df['WoE'].diff().abs()\n",
    "    df['IV'] = df['prop_n_good'] - df['prop_n_bad']*df['WoE']\n",
    "    df['IV']=df['IV'].sum()\n",
    "    return df"
   ]
  },
  {
   "cell_type": "markdown",
   "metadata": {
    "id": "IhzreGIbLuVB"
   },
   "source": [
    "PREPROCESSING CONTNUOUS VARIABLES:CREATING DUMMY VARIABLES"
   ]
  },
  {
   "cell_type": "code",
   "execution_count": null,
   "metadata": {
    "id": "ZQYNP1C8LuVB",
    "outputId": "c86047e7-41d4-4894-e827-9151aeb99aa0"
   },
   "outputs": [],
   "source": [
    "#check the 'term_int' unique values\n"
   ]
  },
  {
   "cell_type": "code",
   "execution_count": null,
   "metadata": {
    "id": "F8LAyU7gLuVB",
    "outputId": "cd5a0fa7-ba5b-4444-adb0-a4402c895af3"
   },
   "outputs": [],
   "source": [
    "#apply the woe_continuous function\n"
   ]
  },
  {
   "cell_type": "code",
   "execution_count": null,
   "metadata": {
    "id": "2JuHXDykLuVB",
    "outputId": "9e2e1e07-84db-4a62-db7c-836afd58dfe6"
   },
   "outputs": [],
   "source": [
    "#plot the woe plot\n"
   ]
  },
  {
   "cell_type": "code",
   "execution_count": null,
   "metadata": {
    "id": "GrpTwu7OLuVB"
   },
   "outputs": [],
   "source": [
    "#Convert it into binary encoded format by putting 1 and 0 inplace\n",
    "\n",
    "df_inputs_prepr['term:36']=np.where((df_inputs_prepr['term_int'] ==36),1,0)\n",
    "df_inputs_prepr['term:60']=np.where((df_inputs_prepr['term_int']==60),1,0)"
   ]
  },
  {
   "cell_type": "code",
   "execution_count": null,
   "metadata": {
    "id": "mDX3D395LuVB",
    "outputId": "1001ff8f-a3c7-44b2-e4eb-d607947b3bb2"
   },
   "outputs": [],
   "source": [
    "#check the unique values of 'emp_length_int' column\n"
   ]
  },
  {
   "cell_type": "code",
   "execution_count": null,
   "metadata": {
    "id": "Ur6gzu3wLuVC",
    "outputId": "1540b386-af34-4c41-f342-03427731e222"
   },
   "outputs": [],
   "source": [
    "#apply the woe_continuous function\n"
   ]
  },
  {
   "cell_type": "code",
   "execution_count": null,
   "metadata": {
    "id": "fKhraarJLuVC",
    "outputId": "d728e804-3012-4c14-e5a2-978840478752"
   },
   "outputs": [],
   "source": [
    "#plot the woe plot\n"
   ]
  },
  {
   "cell_type": "code",
   "execution_count": null,
   "metadata": {
    "id": "YzHbU4UmLuVC"
   },
   "outputs": [],
   "source": [
    "##Convert it into binary encoded format by putting 1 and 0 inplace for WoE values that are close to each other\n",
    "\n",
    "df_inputs_prepr['emp_length:0']=np.where(df_inputs_prepr['emp_length_int'].isin([0]),1,0)\n",
    "df_inputs_prepr['emp_length:1']=np.where(df_inputs_prepr['emp_length_int'].isin([1]),1,0)\n",
    "df_inputs_prepr['emp_length:2-4']=np.where(df_inputs_prepr['emp_length_int'].isin(range(2,5)),1,0)\n",
    "df_inputs_prepr['emp_length:5-6']=np.where(df_inputs_prepr['emp_length_int'].isin(range(5,7)),1,0)\n",
    "df_inputs_prepr['emp_length:7-9']=np.where(df_inputs_prepr['emp_length_int'].isin(range(7,10)),1,0)\n",
    "df_inputs_prepr['emp_length:10']=np.where(df_inputs_prepr['emp_length_int'].isin([10]),1,0)"
   ]
  },
  {
   "cell_type": "code",
   "execution_count": null,
   "metadata": {
    "id": "shrTCPSULuVC",
    "outputId": "04868cd0-45dd-45ed-a96a-e9d15ccdd0f2"
   },
   "outputs": [],
   "source": [
    "#check the unique values in 'mths_since_issued_date' column\n"
   ]
  },
  {
   "cell_type": "code",
   "execution_count": null,
   "metadata": {
    "id": "-fpDIJS4LuVC"
   },
   "outputs": [],
   "source": [
    "#apply the cut function defined in pandas so that we get a range divided values for continous variable\n",
    "\n",
    "df_inputs_prepr['mths_since_issued_date_factor']=pd.cut(df_inputs_prepr['mths_since_issued_date'],50)"
   ]
  },
  {
   "cell_type": "code",
   "execution_count": null,
   "metadata": {
    "id": "11L6-O3HLuVC",
    "outputId": "a01368c3-0ea3-4111-ef6a-82d5081f5155"
   },
   "outputs": [],
   "source": [
    "#check how the buckets are divided\n",
    "df_inputs_prepr['mths_since_issued_date_factor']"
   ]
  },
  {
   "cell_type": "code",
   "execution_count": null,
   "metadata": {
    "id": "K-heC6bbLuVC",
    "outputId": "cf7ce369-19d5-4918-ed54-b9ab61ba3909"
   },
   "outputs": [],
   "source": [
    "#apply the woe_continuous function\n",
    "df_temp=woe_continuous(df_inputs_prepr,'mths_since_issued_date_factor',df_targets_prepr)\n",
    "df_temp"
   ]
  },
  {
   "cell_type": "code",
   "execution_count": null,
   "metadata": {
    "id": "EVY1BrGRLuVD",
    "outputId": "b8ad1049-c903-4fa5-f3bd-1e174a047f96"
   },
   "outputs": [],
   "source": [
    "#plot the woe plot\n",
    "plot_by_woe(df_temp,90)"
   ]
  },
  {
   "cell_type": "code",
   "execution_count": null,
   "metadata": {
    "id": "htS6CjQJLuVD",
    "outputId": "c5fa6880-f1f7-4078-bf3c-b511ad285263"
   },
   "outputs": [],
   "source": [
    "#more variation of woe plot\n",
    "plot_by_woe(df_temp.iloc[3:,:],90)"
   ]
  },
  {
   "cell_type": "code",
   "execution_count": null,
   "metadata": {
    "id": "70zXWSxfLuVD"
   },
   "outputs": [],
   "source": [
    "###Convert it into binary encoded format by putting 1 and 0 inplace for WoE values that are close to each other\n",
    "\n",
    "df_inputs_prepr['mths_since_issued_date:<38']=np.where(df_inputs_prepr['mths_since_issued_date'].isin(range(38)),1,0)\n",
    "df_inputs_prepr['mths_since_issued_date:38-39']=np.where(df_inputs_prepr['mths_since_issued_date'].isin(range(38,40)),1,0)\n",
    "df_inputs_prepr['mths_since_issued_date:40-41']=np.where(df_inputs_prepr['mths_since_issued_date'].isin(range(40,42)),1,0)\n",
    "df_inputs_prepr['mths_since_issued_date:42-48']=np.where(df_inputs_prepr['mths_since_issued_date'].isin(range(42,49)),1,0)\n",
    "df_inputs_prepr['mths_since_issued_date:49-52']=np.where(df_inputs_prepr['mths_since_issued_date'].isin(range(49,53)),1,0)\n",
    "df_inputs_prepr['mths_since_issued_date:53-64']=np.where(df_inputs_prepr['mths_since_issued_date'].isin(range(53,65)),1,0)\n",
    "df_inputs_prepr['mths_since_issued_date:65-84']=np.where(df_inputs_prepr['mths_since_issued_date'].isin(range(65,85)),1,0)\n",
    "df_inputs_prepr['mths_since_issued_date:>84']=np.where(df_inputs_prepr['mths_since_issued_date'].isin(range(85,int(df_inputs_prepr['mths_since_issued_date'].max()))),1,0)"
   ]
  },
  {
   "cell_type": "code",
   "execution_count": null,
   "metadata": {
    "id": "3OpS0lJCLuVD"
   },
   "outputs": [],
   "source": [
    "#apply the cut function on 'int_rate_factor'\n"
   ]
  },
  {
   "cell_type": "code",
   "execution_count": null,
   "metadata": {
    "id": "hefOcLCxLuVD",
    "outputId": "30408b79-dc29-4004-ef0d-11c00ff21e23"
   },
   "outputs": [],
   "source": [
    "#apply the woe_continuos function\n"
   ]
  },
  {
   "cell_type": "code",
   "execution_count": null,
   "metadata": {
    "id": "AdW-keRiLuVD",
    "outputId": "e2e76203-9ca8-454d-c79c-24ce90fb57ef"
   },
   "outputs": [],
   "source": [
    "#plot the woe plot\n"
   ]
  },
  {
   "cell_type": "code",
   "execution_count": null,
   "metadata": {
    "id": "Ra7wTcTILuVD"
   },
   "outputs": [],
   "source": [
    "###Convert it into binary encoded format by putting 1 and 0 inplace for WoE values that are close to each other\n",
    "\n",
    "df_inputs_prepr['int_rate:<9.548']=np.where((df_inputs_prepr['int_rate']<= 0.548),1,0)\n",
    "df_inputs_prepr['int_rate:9.548-12.025']=np.where((df_inputs_prepr['int_rate']>9.548)&(df_inputs_prepr['int_rate']<=12.025),1,0)\n",
    "df_inputs_prepr['int_rate:12.025-15.74']=np.where((df_inputs_prepr['int_rate']>12.025)&(df_inputs_prepr['int_rate']<=15.74),1,0)\n",
    "df_inputs_prepr['int_rate:15.74-20.281']=np.where((df_inputs_prepr['int_rate']>15.74)&(df_inputs_prepr['int_rate']<=20.281),1,0)\n",
    "df_inputs_prepr['int_rate:20.281']=np.where((df_inputs_prepr['int_rate']>20.281),1,0)\n",
    "\n"
   ]
  },
  {
   "cell_type": "markdown",
   "metadata": {
    "id": "7ltV5euZ_J-r"
   },
   "source": [
    "# **We will be repeating the similar steps for all continuous variables:**\n",
    "\n",
    "**1.Apply the cut function if unique values are many**\n",
    "\n",
    "**2.apply the woe_continuos function**\n",
    "\n",
    "**3.plot the woe_plot**\n",
    "\n",
    "**4.Convert it into binary encoded format by putting 1 and 0 inplace for WoE values that are close to each other**"
   ]
  },
  {
   "cell_type": "code",
   "execution_count": null,
   "metadata": {
    "id": "Csv8MI8BLuVE",
    "outputId": "21273417-c9b8-47f0-d92c-51f8be104565"
   },
   "outputs": [],
   "source": [
    "#prepossing of 'funded_amt_factor'\n",
    "\n",
    "df_inputs_prepr['funded_amnt_factor']=pd.cut(df_inputs_prepr['funded_amnt'],50)\n"
   ]
  },
  {
   "cell_type": "code",
   "execution_count": null,
   "metadata": {
    "id": "7uAVLnw9LuVE",
    "outputId": "bdbb6f4a-ca43-4ffb-9bd1-41d8628438a2"
   },
   "outputs": [],
   "source": [
    "#plot the woe_plot\n",
    "plot_by_woe(df_temp,90)"
   ]
  },
  {
   "cell_type": "code",
   "execution_count": null,
   "metadata": {
    "id": "s21QU4N-LuVE"
   },
   "outputs": [],
   "source": [
    "#convert the 'mths_since_earliest_cr_line' to float\n",
    "df_inputs_prepr['mths_since_earliest_cr_line']="
   ]
  },
  {
   "cell_type": "code",
   "execution_count": null,
   "metadata": {
    "id": "wq-4mhJULuVE"
   },
   "outputs": [],
   "source": [
    "#apply the cut function on 'mths_since_earliest_cr_line'\n",
    "df_inputs_prepr['mths_since_earliest_cr_line_factor']="
   ]
  },
  {
   "cell_type": "code",
   "execution_count": null,
   "metadata": {
    "id": "-Y6KqPEoLuVE",
    "outputId": "2e3af9ae-c3c8-47ab-d0ea-174caf233698"
   },
   "outputs": [],
   "source": [
    "#check the 'mths_since_earliest_cr_line_factor'\n"
   ]
  },
  {
   "cell_type": "code",
   "execution_count": null,
   "metadata": {
    "id": "ChWtD1kELuVE",
    "outputId": "ec7f58a8-f487-46b0-8fea-3da8a6780340"
   },
   "outputs": [],
   "source": [
    "#apply the woe_continuos function\n"
   ]
  },
  {
   "cell_type": "code",
   "execution_count": null,
   "metadata": {
    "id": "PBEJYnY8LuVE",
    "outputId": "51341435-c670-468b-c13f-b30c7a23ef33"
   },
   "outputs": [],
   "source": [
    "#plot the woe_plot\n"
   ]
  },
  {
   "cell_type": "code",
   "execution_count": null,
   "metadata": {
    "id": "CjExirOsLuVE",
    "outputId": "4a036927-b1c2-4267-80ae-27ef65debb33"
   },
   "outputs": [],
   "source": [
    "#plot for df_temp.iloc[3:,:],90\n",
    "plot_by_woe(df_temp.iloc[3:,:],90)"
   ]
  },
  {
   "cell_type": "code",
   "execution_count": null,
   "metadata": {
    "id": "skUALYHgLuVF"
   },
   "outputs": [],
   "source": [
    "###Convert it into binary encoded format by putting 1 and 0 inplace for WoE values that are close to each other\n",
    "\n",
    "df_inputs_prepr['mths_since_earliest_cr_line:<140']=\n",
    "df_inputs_prepr['mths_since_earliest_cr_line:140-239']=\n",
    "df_inputs_prepr['mths_since_earliest_cr_line:240-339']=\n",
    "df_inputs_prepr['mths_since_earliest_cr_line:340-439']=\n",
    "df_inputs_prepr['mths_since_earliest_cr_line:440-539']=\n",
    "df_inputs_prepr['mths_since_earliest_cr_line:540-600']=\n",
    "df_inputs_prepr['mths_since_earliest_cr_line:>600']="
   ]
  },
  {
   "cell_type": "code",
   "execution_count": null,
   "metadata": {
    "id": "grr_IgzxLuVF",
    "outputId": "523eba94-0560-403b-f24e-7bd5453d0c1a"
   },
   "outputs": [],
   "source": [
    "#check the 'installment' unique values\n"
   ]
  },
  {
   "cell_type": "code",
   "execution_count": null,
   "metadata": {
    "id": "LxG0Zyr5LuVG",
    "outputId": "2bbe2f85-dde3-4311-a974-65c0ca9af7b7"
   },
   "outputs": [],
   "source": [
    "#apply the cut function and woe_continuos function on 'installment'\n"
   ]
  },
  {
   "cell_type": "code",
   "execution_count": null,
   "metadata": {
    "id": "-KD70_U6LuVG",
    "outputId": "b633075a-f392-4cfe-f699-9633c6a9f97e"
   },
   "outputs": [],
   "source": [
    "#plot the woe_plot\n"
   ]
  },
  {
   "cell_type": "code",
   "execution_count": null,
   "metadata": {
    "id": "Mv2yBF5bLuVG"
   },
   "outputs": [],
   "source": [
    "#check the 'deling_2yrs' column\n",
    "df_inputs_prepr['delinq_2yrs']="
   ]
  },
  {
   "cell_type": "code",
   "execution_count": null,
   "metadata": {
    "id": "Tn6hKX6zLuVG"
   },
   "outputs": [],
   "source": [
    "#apply the cut function\n",
    "df_inputs_prepr['delinq_2yrs_factors']="
   ]
  },
  {
   "cell_type": "code",
   "execution_count": null,
   "metadata": {
    "id": "mJc5BzAULuVG",
    "outputId": "b119c707-8855-4ec2-eddb-a5413f2d23fa"
   },
   "outputs": [],
   "source": [
    "#apply the woe_continuos function\n"
   ]
  },
  {
   "cell_type": "code",
   "execution_count": null,
   "metadata": {
    "id": "-Db1zDoZLuVG",
    "outputId": "82d6ab3e-deb2-4cb0-c476-31b80a806c01"
   },
   "outputs": [],
   "source": [
    "#plot the woe_plot\n"
   ]
  },
  {
   "cell_type": "code",
   "execution_count": null,
   "metadata": {
    "id": "DIQXj_w7LuVH"
   },
   "outputs": [],
   "source": [
    "###Convert it into binary encoded format by putting 1 and 0 inplace for WoE values that are close to each other\n",
    "\n",
    "df_inputs_prepr['delinq_2yrs:0']=\n",
    "df_inputs_prepr['delinq_2yrs:0-3']=\n",
    "df_inputs_prepr['delinq_2yrs:3-7']=\n",
    "df_inputs_prepr['delinq_2yrs:7-9']=\n",
    "df_inputs_prepr['delinq_2yrs:9-11']=\n",
    "df_inputs_prepr['delinq_2yrs:11-12']=\n",
    "df_inputs_prepr['delinq_2yrs:12-18']=\n",
    "df_inputs_prepr['delinq_2yrs:>18']="
   ]
  },
  {
   "cell_type": "code",
   "execution_count": null,
   "metadata": {
    "id": "WHO_hOYsLuVH"
   },
   "outputs": [],
   "source": [
    "#check the 'inq_last_6mths' column\n",
    "df_inputs_prepr['inq_last_6mths']="
   ]
  },
  {
   "cell_type": "code",
   "execution_count": null,
   "metadata": {
    "id": "ty1QUDm1LuVH",
    "outputId": "3633782e-843d-475f-da9b-4e58897e71d3"
   },
   "outputs": [],
   "source": [
    "#apply the woe_continuos function\n"
   ]
  },
  {
   "cell_type": "code",
   "execution_count": null,
   "metadata": {
    "id": "66MeDXu0LuVH",
    "outputId": "f9488cb3-12e3-4164-f242-3d9ba78e81ed"
   },
   "outputs": [],
   "source": [
    "#plot the woe_plot\n"
   ]
  },
  {
   "cell_type": "code",
   "execution_count": null,
   "metadata": {
    "id": "D0OuGoRdLuVI"
   },
   "outputs": [],
   "source": [
    "###Convert it into binary encoded format by putting 1 and 0 inplace for WoE values that are close to each other\n",
    "\n",
    "df_inputs_prepr['inq_last_6mths:0']=\n",
    "df_inputs_prepr['inq_last_6mths:0-3']=\n",
    "df_inputs_prepr['inq_last_6mths:3-7']=\n",
    "df_inputs_prepr['inq_last_6mths:7-9']=\n",
    "df_inputs_prepr['inq_last_6mths:9-11']=\n",
    "df_inputs_prepr['inq_last_6mths:11-12']=\n",
    "df_inputs_prepr['inq_last_6mths:12-18']=\n",
    "df_inputs_prepr['inq_last_6mths:18']="
   ]
  },
  {
   "cell_type": "code",
   "execution_count": null,
   "metadata": {
    "id": "pYvO4e9zLuVI",
    "outputId": "ff2ac66c-d9ca-498a-9aee-593f53f0f957"
   },
   "outputs": [],
   "source": [
    "#convert the 'open_acc' into float and then apply the woe_continuos function\n",
    "\n",
    "df_inputs_prepr['open_acc']=\n",
    "df_temp=woe_continuous(df_inputs_prepr,'open_acc',df_targets_prepr)\n"
   ]
  },
  {
   "cell_type": "code",
   "execution_count": null,
   "metadata": {
    "id": "saFt0zivLuVI",
    "outputId": "41f582bb-7538-4912-a9ea-b54f5e58e655"
   },
   "outputs": [],
   "source": [
    "#plot the woe_plot\n"
   ]
  },
  {
   "cell_type": "code",
   "execution_count": null,
   "metadata": {
    "id": "Rv2qGPARLuVJ"
   },
   "outputs": [],
   "source": [
    "###Convert it into binary encoded format by putting 1 and 0 inplace for WoE values that are close to each other\n",
    "df_inputs_prepr['open_acc:=0']=\n",
    "df_inputs_prepr['open_acc:0-1']=\n",
    "df_inputs_prepr['open_acc:1-4']=\n",
    "df_inputs_prepr['open_acc:4-28']=\n",
    "df_inputs_prepr['open_acc:28-35']=\n",
    "df_inputs_prepr['open_acc:35-45']=\n",
    "df_inputs_prepr['open_acc:>45']="
   ]
  },
  {
   "cell_type": "code",
   "execution_count": null,
   "metadata": {
    "id": "GTkPYhHtLuVJ"
   },
   "outputs": [],
   "source": [
    "#convert the 'pub_rec' into float\n",
    "df_inputs_prepr['pub_rec']="
   ]
  },
  {
   "cell_type": "code",
   "execution_count": null,
   "metadata": {
    "id": "RcIcHqnpLuVJ",
    "outputId": "2268d8a0-31fe-494f-b049-2c5b796952a8"
   },
   "outputs": [],
   "source": [
    "#apply the woe_continuos function\n"
   ]
  },
  {
   "cell_type": "code",
   "execution_count": null,
   "metadata": {
    "id": "Y-vuEoZwLuVJ",
    "outputId": "bf057c30-da27-41b7-91e8-142f80832398"
   },
   "outputs": [],
   "source": [
    "#plot the woe_plot\n"
   ]
  },
  {
   "cell_type": "code",
   "execution_count": null,
   "metadata": {
    "id": "GMAHrl2pLuVJ"
   },
   "outputs": [],
   "source": [
    "###Convert it into binary encoded format by putting 1 and 0 inplace for WoE values that are close to each other\n",
    "df_inputs_prepr['pub_rec:0-3']=\n",
    "df_inputs_prepr['pub_rec:3-6']=\n",
    "df_inputs_prepr['pub_rec:6-8']=\n",
    "df_inputs_prepr['pub_rec:8']="
   ]
  },
  {
   "cell_type": "code",
   "execution_count": null,
   "metadata": {
    "id": "DEhbEFd-LuVJ"
   },
   "outputs": [],
   "source": [
    "#convert the 'total_acc' into float\n",
    "df_inputs_prepr['total_acc']="
   ]
  },
  {
   "cell_type": "code",
   "execution_count": null,
   "metadata": {
    "id": "b8J47dXVLuVJ"
   },
   "outputs": [],
   "source": [
    "#apply the cut function to create buckets of continuos variables\n",
    "df_inputs_prepr['total_acc_fac']=pd.cut(df_inputs_prepr['total_acc'],50)"
   ]
  },
  {
   "cell_type": "code",
   "execution_count": null,
   "metadata": {
    "id": "87zPKy3lLuVK",
    "outputId": "134a52ed-a8b6-49ef-f8fc-f6b7affb58e3"
   },
   "outputs": [],
   "source": [
    "#apply the woe_continuos function\n"
   ]
  },
  {
   "cell_type": "code",
   "execution_count": null,
   "metadata": {
    "id": "8sOPwf9_LuVK",
    "outputId": "e91f884e-3e61-47e3-8dcf-5466e0e3d3b8"
   },
   "outputs": [],
   "source": [
    "#plot the woe_plot\n"
   ]
  },
  {
   "cell_type": "code",
   "execution_count": null,
   "metadata": {
    "id": "LpttOf-ULuVK"
   },
   "outputs": [],
   "source": [
    "###Convert it into binary encoded format by putting 1 and 0 inplace for WoE values that are close to each other\n",
    "\n",
    "df_inputs_prepr['total_acc:<0']=\n",
    "df_inputs_prepr['total_acc:0-4']=\n",
    "df_inputs_prepr['total_acc:4-62']=\n",
    "df_inputs_prepr['total_acc:62-72']=\n",
    "df_inputs_prepr['total_acc:72-85']=\n",
    "df_inputs_prepr['total_acc:>85']="
   ]
  },
  {
   "cell_type": "code",
   "execution_count": null,
   "metadata": {
    "id": "QQJGo3lsLuVK"
   },
   "outputs": [],
   "source": [
    "#convert the 'acc_now_delinq' into float type\n",
    "df_inputs_prepr['acc_now_delinq']="
   ]
  },
  {
   "cell_type": "code",
   "execution_count": null,
   "metadata": {
    "id": "LT8LZM9eLuVK",
    "outputId": "3825ac64-5ff5-4811-86c5-33e6f4560b87"
   },
   "outputs": [],
   "source": [
    "#apply the woe_continuos function\n"
   ]
  },
  {
   "cell_type": "code",
   "execution_count": null,
   "metadata": {
    "id": "baAIZHtaLuVK",
    "outputId": "c7fd892e-1eb9-4e8b-9259-e821c4ca3c56"
   },
   "outputs": [],
   "source": [
    "#plot the woe_plot\n"
   ]
  },
  {
   "cell_type": "code",
   "execution_count": null,
   "metadata": {
    "id": "vuFKZHKuLuVK"
   },
   "outputs": [],
   "source": [
    "###Convert it into binary encoded format by putting 1 and 0 inplace for WoE values that are close to each other\n",
    "\n",
    "df_inputs_prepr['acc_now_delinq:<0']=\n",
    "df_inputs_prepr['acc_now_delinq:0-1']=\n",
    "df_inputs_prepr['acc_now_delinq:1-2']=\n",
    "df_inputs_prepr['acc_now_delinq:2-3']=\n",
    "df_inputs_prepr['acc_now_delinq:3-5']=\n",
    "df_inputs_prepr['acc_now_delinq:>5']="
   ]
  },
  {
   "cell_type": "code",
   "execution_count": null,
   "metadata": {
    "id": "wrO0NMwjLuVK"
   },
   "outputs": [],
   "source": [
    "#For 'total_rev_hi_lim' column take only those values which are less than 80000\n",
    "\n",
    "df_inputs_prepr_temp=df_inputs_prepr.loc[df_inputs_prepr['total_rev_hi_lim']<= 80000,:]"
   ]
  },
  {
   "cell_type": "code",
   "execution_count": null,
   "metadata": {
    "id": "xF3A5D_bLuVK",
    "outputId": "6747252c-993a-4560-f436-a7870c11515d"
   },
   "outputs": [],
   "source": [
    "#apply the cut and woe_continuos function\n",
    "df_inputs_prepr['total_rev_hi_lim_factor']=pd.cut(df_inputs_prepr_temp['total_rev_hi_lim'],50)\n",
    "df_temp=woe_continuous(df_inputs_prepr,'total_rev_hi_lim_factor',df_targets_prepr)\n",
    "df_temp"
   ]
  },
  {
   "cell_type": "code",
   "execution_count": null,
   "metadata": {
    "id": "yW_tV3nPLuVL",
    "outputId": "5d9af631-1a52-45ff-b0e6-991ccefdbb23"
   },
   "outputs": [],
   "source": [
    "#plot the woe_plot\n"
   ]
  },
  {
   "cell_type": "code",
   "execution_count": null,
   "metadata": {
    "id": "X3BhprSELuVL"
   },
   "outputs": [],
   "source": [
    "###Convert it into binary encoded format by putting 1 and 0 inplace for WoE values that are close to each other\n",
    "\n",
    "df_inputs_prepr['total_rev_hi_lim:<=5k']=\n",
    "df_inputs_prepr['total_rev_hi_lim:5k_10k']=\n",
    "df_inputs_prepr['total_rev_hi_lim:10k_20k']=\n",
    "df_inputs_prepr['total_rev_hi_lim:20k_30k']=\n",
    "df_inputs_prepr['total_rev_hi_lim:30k_40k']=\n",
    "df_inputs_prepr['total_rev_hi_lim:40k_50k']=\n",
    "df_inputs_prepr['total_rev_hi_lim:50k_65k']=\n",
    "df_inputs_prepr['total_rev_hi_lim:65k_80k']=\n",
    "df_inputs_prepr['total_rev_hi_lim:>80k']=\n"
   ]
  },
  {
   "cell_type": "code",
   "execution_count": null,
   "metadata": {
    "id": "00-71b7nLuVL",
    "outputId": "c1b3026e-39dc-4d6c-8b74-85b53a0669ec"
   },
   "outputs": [],
   "source": [
    "#apply the cut and woe_contionus function on 'annual_inc'\n",
    "\n",
    "df_inputs_prepr['annual_inc_factor']=pd.cut(df_inputs_prepr['annual_inc'],100)\n",
    "df_temp=woe_continuous(df_inputs_prepr,'annual_inc_factor',df_targets_prepr)\n",
    "df_temp"
   ]
  },
  {
   "cell_type": "markdown",
   "metadata": {
    "id": "ItZ0TfqmDM75"
   },
   "source": [
    "As we can see higher values in annual_inc has very less observation so we will take only those annual income which are less than 140000"
   ]
  },
  {
   "cell_type": "code",
   "execution_count": null,
   "metadata": {
    "id": "NUUlJU1cLuVL"
   },
   "outputs": [],
   "source": [
    "#take only those observations which are less than 140000\n",
    "df_inputs_prepr_temp=df_inputs_prepr.loc[df_inputs_prepr['annual_inc']<= 140000,:]"
   ]
  },
  {
   "cell_type": "code",
   "execution_count": null,
   "metadata": {
    "id": "iv7Ip2fYLuVL",
    "outputId": "36c33394-bdf4-4c30-f5f6-6df289382af4"
   },
   "outputs": [],
   "source": [
    "#apply the cut and woe_contionus function on 'annual_inc'\n"
   ]
  },
  {
   "cell_type": "code",
   "execution_count": null,
   "metadata": {
    "id": "OHxEBiBTLuVL",
    "outputId": "69adddc6-8cdd-4d99-cd20-9a726078f77e"
   },
   "outputs": [],
   "source": [
    "#plot the woe_plot\n"
   ]
  },
  {
   "cell_type": "code",
   "execution_count": null,
   "metadata": {
    "id": "gGz9IdOpLuVL"
   },
   "outputs": [],
   "source": [
    "###Convert it into binary encoded format by putting 1 and 0 inplace for WoE values that are close to each other\n",
    "\n",
    "df_inputs_prepr['annual_inc:<20k']=\n",
    "df_inputs_prepr['annual_inc:20k-30k']=\n",
    "df_inputs_prepr['annual_inc:30k-40k']=\n",
    "df_inputs_prepr['annual_inc:40k-50k']=\n",
    "df_inputs_prepr['annual_inc:50k-60k']=\n",
    "df_inputs_prepr['annual_inc:60k-70k']=\n",
    "df_inputs_prepr['annual_inc:70k-80k']=\n",
    "df_inputs_prepr['annual_inc:80k-90k']=\n",
    "df_inputs_prepr['annual_inc:90k-100k']=\n",
    "df_inputs_prepr['annual_inc:100k-120k']=\n",
    "df_inputs_prepr['annual_inc:120k-140k']=\n",
    "df_inputs_prepr['annual_inc:>140k']="
   ]
  },
  {
   "cell_type": "code",
   "execution_count": null,
   "metadata": {
    "id": "TvvYEwTbLuVM",
    "outputId": "1ef5d2dc-e116-4227-f56e-ed9c977fad0a"
   },
   "outputs": [],
   "source": [
    "#'mths_since_last_delinq' has null values so take only the notnull values\n",
    "df_inputs_prepr_temp=df_inputs_prepr[pd.notnull(df_inputs_prepr['mths_since_last_delinq'])]\n",
    "\n",
    "#apply the cut and woe_continuos function on 'mths_since_last_delinq'\n"
   ]
  },
  {
   "cell_type": "code",
   "execution_count": null,
   "metadata": {
    "id": "7zGapbvVLuVM",
    "outputId": "82423a53-a445-4b5a-8056-42c5b54bf210"
   },
   "outputs": [],
   "source": [
    "#plot the woe_plot\n"
   ]
  },
  {
   "cell_type": "code",
   "execution_count": null,
   "metadata": {
    "id": "zQPL-lZmLuVM"
   },
   "outputs": [],
   "source": [
    "###Convert it into binary encoded format by putting 1 and 0 inplace for WoE values that are close to each other\n",
    "\n",
    "df_inputs_prepr['mths_since_last_delinq:Missing']=\n",
    "df_inputs_prepr['mths_since_last_delinq:0-3']=\n",
    "df_inputs_prepr['mths_since_last_delinq:4-30']=\n",
    "df_inputs_prepr['mths_since_last_delinq:31-56']=\n",
    "df_inputs_prepr['mths_since_last_delinq:>=57']="
   ]
  },
  {
   "cell_type": "code",
   "execution_count": null,
   "metadata": {
    "id": "psb5FsZTLuVM"
   },
   "outputs": [],
   "source": [
    "#apply the cut function on 'dti_factor'\n",
    "df_inputs_prepr['dti_factor']=pd.cut(df_inputs_prepr['dti'],50)"
   ]
  },
  {
   "cell_type": "code",
   "execution_count": null,
   "metadata": {
    "id": "xBPgjudSLuVM",
    "outputId": "74dfeb33-2690-4c42-9315-c55f3660b194"
   },
   "outputs": [],
   "source": [
    "#apply the woe_continuos function\n"
   ]
  },
  {
   "cell_type": "code",
   "execution_count": null,
   "metadata": {
    "id": "T8pfSSUPLuVM",
    "outputId": "bdd2833b-5473-43ae-e67b-cb906a63f467"
   },
   "outputs": [],
   "source": [
    "#plot the woe_plot\n"
   ]
  },
  {
   "cell_type": "code",
   "execution_count": null,
   "metadata": {
    "id": "RoRQjgIxLuVM"
   },
   "outputs": [],
   "source": [
    "###Convert it into binary encoded format by putting 1 and 0 inplace for WoE values that are close to each other\n",
    "\n",
    "df_inputs_prepr['dti:<5']=\n",
    "df_inputs_prepr['dti:5-10']=\n",
    "df_inputs_prepr['dti:10-15']=\n",
    "df_inputs_prepr['dti:15-20']=\n",
    "df_inputs_prepr['dti:20-25']=\n",
    "df_inputs_prepr['dti:25-30']=\n",
    "df_inputs_prepr['dti:30-35']=\n",
    "df_inputs_prepr['dti:35-40']=\n",
    "df_inputs_prepr['dti:>40']="
   ]
  },
  {
   "cell_type": "code",
   "execution_count": null,
   "metadata": {
    "id": "Q_YSenIoLuVN",
    "outputId": "b5deb381-8cff-4b73-b342-2f27343e9440"
   },
   "outputs": [],
   "source": [
    "#'mths_since_last_record' has null values so take only the notnull values\n",
    "df_inputs_prepr_temp=df_inputs_prepr[pd.notnull(df_inputs_prepr['mths_since_last_record'])]\n",
    "\n",
    "#apply the cut function\n",
    "df_inputs_prepr_temp['mths_since_last_record']=pd.cut(df_inputs_prepr_temp['mths_since_last_record'],50)\n"
   ]
  },
  {
   "cell_type": "code",
   "execution_count": null,
   "metadata": {
    "id": "IWG_wV9nLuVN",
    "outputId": "3880d8f5-16f3-430b-cba4-b8e6a23cd9a7"
   },
   "outputs": [],
   "source": [
    "#apply the woe_continuos function\n",
    "\n"
   ]
  },
  {
   "cell_type": "code",
   "execution_count": null,
   "metadata": {
    "id": "yul3Mr8wLuVN",
    "outputId": "a316c4ff-e54d-4bd7-e25e-8bf2719fb91f"
   },
   "outputs": [],
   "source": [
    "#plot the woe_plot\n"
   ]
  },
  {
   "cell_type": "code",
   "execution_count": null,
   "metadata": {
    "id": "55DJgc9hLuVN"
   },
   "outputs": [],
   "source": [
    "###Convert it into binary encoded format by putting 1 and 0 inplace for WoE values that are close to each other\n",
    "\n",
    "df_inputs_prepr['mths_since_last_record:Missing']=\n",
    "df_inputs_prepr['mths_since_last_record:0-90']=\n",
    "df_inputs_prepr['mths_since_last_record:90-120']=\n",
    "df_inputs_prepr['mths_since_last_record:120-127']=\n",
    "df_inputs_prepr['mths_since_last_record:>=127']="
   ]
  },
  {
   "cell_type": "code",
   "execution_count": null,
   "metadata": {
    "id": "tVv-FH_mErJT"
   },
   "outputs": [],
   "source": [
    "#assigning the dataframe into a new variable\n",
    "loan_data_inputs_train= df_inputs_prepr"
   ]
  },
  {
   "cell_type": "code",
   "execution_count": null,
   "metadata": {
    "id": "m4PWypR1ErMB",
    "outputId": "f2b2e165-3dcf-4a45-9371-ef25e4e4f01b"
   },
   "outputs": [],
   "source": [
    "loan_data_inputs_train.shape"
   ]
  },
  {
   "cell_type": "code",
   "execution_count": null,
   "metadata": {
    "id": "btT5gfjzErOs",
    "outputId": "8d798261-5ef8-4a05-ed83-9b7f110188b4"
   },
   "outputs": [],
   "source": [
    "load_ds_targets_train.shape"
   ]
  },
  {
   "cell_type": "code",
   "execution_count": null,
   "metadata": {
    "id": "uFKEmiQILuVO"
   },
   "outputs": [],
   "source": [
    "loan_data_inputs_test= df_inputs_prepr"
   ]
  },
  {
   "cell_type": "code",
   "execution_count": null,
   "metadata": {
    "id": "6uC85zKZLuVO",
    "outputId": "6ca47cd2-742a-4285-d519-5acfb848df30"
   },
   "outputs": [],
   "source": [
    "loan_data_inputs_test.shape"
   ]
  },
  {
   "cell_type": "code",
   "execution_count": null,
   "metadata": {
    "id": "HsBISy6NLuVO",
    "outputId": "931f50e4-9b2d-425d-fbd7-ebbff7c94e4c"
   },
   "outputs": [],
   "source": [
    "load_ds_targets_test.shape"
   ]
  },
  {
   "cell_type": "code",
   "execution_count": null,
   "metadata": {
    "id": "GH03c1GPLuVO"
   },
   "outputs": [],
   "source": [
    "#import the preprosess dataframe into a new csv file\n",
    "\n",
    "loan_data_inputs_train.to_csv('loan_data_inputs_train.csv')\n",
    "load_ds_targets_train.to_csv('loan_data_targets_train.csv')\n",
    "\n",
    "loan_data_inputs_test.to_csv('loan_data_inputs_test.csv')\n",
    "load_ds_targets_test.to_csv('loan_data_targets_test.csv')"
   ]
  },
  {
   "cell_type": "code",
   "execution_count": null,
   "metadata": {
    "id": "1ss1NcZ0LuVO"
   },
   "outputs": [],
   "source": []
  }
 ],
 "metadata": {
  "colab": {
   "provenance": []
  },
  "kernelspec": {
   "display_name": "Python 3 (ipykernel)",
   "language": "python",
   "name": "python3"
  },
  "language_info": {
   "codemirror_mode": {
    "name": "ipython",
    "version": 3
   },
   "file_extension": ".py",
   "mimetype": "text/x-python",
   "name": "python",
   "nbconvert_exporter": "python",
   "pygments_lexer": "ipython3",
   "version": "3.10.9"
  }
 },
 "nbformat": 4,
 "nbformat_minor": 4
}
