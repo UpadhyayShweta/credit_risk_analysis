{
 "cells": [
  {
   "cell_type": "code",
   "execution_count": 95,
   "metadata": {
    "id": "yw55uB46LuS_"
   },
   "outputs": [],
   "source": [
    "%config completer.use_jedi = False\n",
    "\n",
    "#import libraries\n",
    "import numpy as np\n",
    "import pandas as pd\n",
    "import matplotlib.pyplot as plt\n",
    "\n",
    "import warnings\n",
    "warnings.filterwarnings('ignore')\n"
   ]
  },
  {
   "cell_type": "code",
   "execution_count": 96,
   "metadata": {
    "id": "quIxSh4jLuTD",
    "outputId": "0df31d40-9098-48a5-f8f9-5e67f31ab287"
   },
   "outputs": [
    {
     "name": "stdout",
     "output_type": "stream",
     "text": [
      "<class 'pandas.core.frame.DataFrame'>\n",
      "RangeIndex: 466285 entries, 0 to 466284\n",
      "Data columns (total 75 columns):\n",
      " #   Column                       Non-Null Count   Dtype  \n",
      "---  ------                       --------------   -----  \n",
      " 0   Unnamed: 0                   466285 non-null  int64  \n",
      " 1   id                           466285 non-null  int64  \n",
      " 2   member_id                    466285 non-null  int64  \n",
      " 3   loan_amnt                    466285 non-null  int64  \n",
      " 4   funded_amnt                  466285 non-null  int64  \n",
      " 5   funded_amnt_inv              466285 non-null  float64\n",
      " 6   term                         466285 non-null  object \n",
      " 7   int_rate                     466285 non-null  float64\n",
      " 8   installment                  466285 non-null  float64\n",
      " 9   grade                        466285 non-null  object \n",
      " 10  sub_grade                    466285 non-null  object \n",
      " 11  emp_title                    438697 non-null  object \n",
      " 12  emp_length                   445277 non-null  object \n",
      " 13  home_ownership               466285 non-null  object \n",
      " 14  annual_inc                   466281 non-null  float64\n",
      " 15  verification_status          466285 non-null  object \n",
      " 16  issue_d                      466285 non-null  object \n",
      " 17  loan_status                  466285 non-null  object \n",
      " 18  pymnt_plan                   466285 non-null  object \n",
      " 19  url                          466285 non-null  object \n",
      " 20  desc                         125983 non-null  object \n",
      " 21  purpose                      466285 non-null  object \n",
      " 22  title                        466265 non-null  object \n",
      " 23  zip_code                     466285 non-null  object \n",
      " 24  addr_state                   466285 non-null  object \n",
      " 25  dti                          466285 non-null  float64\n",
      " 26  delinq_2yrs                  466256 non-null  float64\n",
      " 27  earliest_cr_line             466256 non-null  object \n",
      " 28  inq_last_6mths               466256 non-null  float64\n",
      " 29  mths_since_last_delinq       215934 non-null  float64\n",
      " 30  mths_since_last_record       62638 non-null   float64\n",
      " 31  open_acc                     466256 non-null  float64\n",
      " 32  pub_rec                      466256 non-null  float64\n",
      " 33  revol_bal                    466285 non-null  int64  \n",
      " 34  revol_util                   465945 non-null  float64\n",
      " 35  total_acc                    466256 non-null  float64\n",
      " 36  initial_list_status          466285 non-null  object \n",
      " 37  out_prncp                    466285 non-null  float64\n",
      " 38  out_prncp_inv                466285 non-null  float64\n",
      " 39  total_pymnt                  466285 non-null  float64\n",
      " 40  total_pymnt_inv              466285 non-null  float64\n",
      " 41  total_rec_prncp              466285 non-null  float64\n",
      " 42  total_rec_int                466285 non-null  float64\n",
      " 43  total_rec_late_fee           466285 non-null  float64\n",
      " 44  recoveries                   466285 non-null  float64\n",
      " 45  collection_recovery_fee      466285 non-null  float64\n",
      " 46  last_pymnt_d                 465909 non-null  object \n",
      " 47  last_pymnt_amnt              466285 non-null  float64\n",
      " 48  next_pymnt_d                 239071 non-null  object \n",
      " 49  last_credit_pull_d           466243 non-null  object \n",
      " 50  collections_12_mths_ex_med   466140 non-null  float64\n",
      " 51  mths_since_last_major_derog  98974 non-null   float64\n",
      " 52  policy_code                  466285 non-null  int64  \n",
      " 53  application_type             466285 non-null  object \n",
      " 54  annual_inc_joint             0 non-null       float64\n",
      " 55  dti_joint                    0 non-null       float64\n",
      " 56  verification_status_joint    0 non-null       float64\n",
      " 57  acc_now_delinq               466256 non-null  float64\n",
      " 58  tot_coll_amt                 396009 non-null  float64\n",
      " 59  tot_cur_bal                  396009 non-null  float64\n",
      " 60  open_acc_6m                  0 non-null       float64\n",
      " 61  open_il_6m                   0 non-null       float64\n",
      " 62  open_il_12m                  0 non-null       float64\n",
      " 63  open_il_24m                  0 non-null       float64\n",
      " 64  mths_since_rcnt_il           0 non-null       float64\n",
      " 65  total_bal_il                 0 non-null       float64\n",
      " 66  il_util                      0 non-null       float64\n",
      " 67  open_rv_12m                  0 non-null       float64\n",
      " 68  open_rv_24m                  0 non-null       float64\n",
      " 69  max_bal_bc                   0 non-null       float64\n",
      " 70  all_util                     0 non-null       float64\n",
      " 71  total_rev_hi_lim             396009 non-null  float64\n",
      " 72  inq_fi                       0 non-null       float64\n",
      " 73  total_cu_tl                  0 non-null       float64\n",
      " 74  inq_last_12m                 0 non-null       float64\n",
      "dtypes: float64(46), int64(7), object(22)\n",
      "memory usage: 266.8+ MB\n"
     ]
    }
   ],
   "source": [
    "#load the dataset\n",
    "LoadDataset=pd.read_csv('Data/loan_data_2007_2014.csv')\n",
    "\n",
    "#create a copy of original dataset so that orginal dataframe is not disturbed\n",
    "Load_DS=LoadDataset.copy()\n",
    "\n",
    "Load_DS\n",
    "#print the basic info of the dataframe\n",
    "Load_DS.info()"
   ]
  },
  {
   "cell_type": "markdown",
   "metadata": {
    "id": "CFM-WuGoMa8Y"
   },
   "source": [
    "# PRE-PROCESING"
   ]
  },
  {
   "cell_type": "markdown",
   "metadata": {},
   "source": [
    "#### Data Cleaning"
   ]
  },
  {
   "cell_type": "code",
   "execution_count": 97,
   "metadata": {
    "id": "xi7NVdKOLuTE",
    "outputId": "3a7cd7ef-5a3e-49b4-b60c-e1cb53e66911"
   },
   "outputs": [
    {
     "data": {
      "text/plain": [
       "array(['10+ years', '< 1 year', '1 year', '3 years', '8 years', '9 years',\n",
       "       '4 years', '5 years', '6 years', '2 years', '7 years', nan],\n",
       "      dtype=object)"
      ]
     },
     "execution_count": 97,
     "metadata": {},
     "output_type": "execute_result"
    }
   ],
   "source": [
    "#check the emp-length column unique values\n",
    "Load_DS['emp_length'].unique()"
   ]
  },
  {
   "cell_type": "code",
   "execution_count": 98,
   "metadata": {
    "id": "Fx7bP7B-LuTE",
    "outputId": "5b842d77-4c17-42c3-b04e-3954cb63725f"
   },
   "outputs": [
    {
     "data": {
      "text/plain": [
       "numpy.float64"
      ]
     },
     "execution_count": 98,
     "metadata": {},
     "output_type": "execute_result"
    }
   ],
   "source": [
    "#replace/remove the extra characters/words \n",
    "Load_DS['emp_length_int']=Load_DS['emp_length'].str.replace('[<+ years year]','')\n",
    "\n",
    "#convert it into numrical format and check the type of emp_length_int\n",
    "Load_DS['emp_length_int'] = pd.to_numeric(Load_DS['emp_length_int'])\n",
    "type(Load_DS['emp_length_int'][0])"
   ]
  },
  {
   "cell_type": "code",
   "execution_count": 99,
   "metadata": {},
   "outputs": [
    {
     "data": {
      "text/plain": [
       "array([10.,  1.,  3.,  8.,  9.,  4.,  5.,  6.,  2.,  7., nan])"
      ]
     },
     "execution_count": 99,
     "metadata": {},
     "output_type": "execute_result"
    }
   ],
   "source": [
    "Load_DS['emp_length_int'].unique()"
   ]
  },
  {
   "cell_type": "code",
   "execution_count": 100,
   "metadata": {
    "id": "K-PxL77VLuTJ",
    "outputId": "69811582-fd65-4b16-83bf-c4641212a36d"
   },
   "outputs": [
    {
     "data": {
      "text/html": [
       "<div>\n",
       "<style scoped>\n",
       "    .dataframe tbody tr th:only-of-type {\n",
       "        vertical-align: middle;\n",
       "    }\n",
       "\n",
       "    .dataframe tbody tr th {\n",
       "        vertical-align: top;\n",
       "    }\n",
       "\n",
       "    .dataframe thead th {\n",
       "        text-align: right;\n",
       "    }\n",
       "</style>\n",
       "<table border=\"1\" class=\"dataframe\">\n",
       "  <thead>\n",
       "    <tr style=\"text-align: right;\">\n",
       "      <th></th>\n",
       "      <th>Unnamed: 0</th>\n",
       "      <th>id</th>\n",
       "      <th>member_id</th>\n",
       "      <th>loan_amnt</th>\n",
       "      <th>funded_amnt</th>\n",
       "      <th>funded_amnt_inv</th>\n",
       "      <th>term</th>\n",
       "      <th>int_rate</th>\n",
       "      <th>installment</th>\n",
       "      <th>grade</th>\n",
       "      <th>...</th>\n",
       "      <th>il_util</th>\n",
       "      <th>open_rv_12m</th>\n",
       "      <th>open_rv_24m</th>\n",
       "      <th>max_bal_bc</th>\n",
       "      <th>all_util</th>\n",
       "      <th>total_rev_hi_lim</th>\n",
       "      <th>inq_fi</th>\n",
       "      <th>total_cu_tl</th>\n",
       "      <th>inq_last_12m</th>\n",
       "      <th>emp_length_int</th>\n",
       "    </tr>\n",
       "  </thead>\n",
       "  <tbody>\n",
       "    <tr>\n",
       "      <th>0</th>\n",
       "      <td>0</td>\n",
       "      <td>1077501</td>\n",
       "      <td>1296599</td>\n",
       "      <td>5000</td>\n",
       "      <td>5000</td>\n",
       "      <td>4975.0</td>\n",
       "      <td>36 months</td>\n",
       "      <td>10.65</td>\n",
       "      <td>162.87</td>\n",
       "      <td>B</td>\n",
       "      <td>...</td>\n",
       "      <td>NaN</td>\n",
       "      <td>NaN</td>\n",
       "      <td>NaN</td>\n",
       "      <td>NaN</td>\n",
       "      <td>NaN</td>\n",
       "      <td>NaN</td>\n",
       "      <td>NaN</td>\n",
       "      <td>NaN</td>\n",
       "      <td>NaN</td>\n",
       "      <td>10.0</td>\n",
       "    </tr>\n",
       "    <tr>\n",
       "      <th>1</th>\n",
       "      <td>1</td>\n",
       "      <td>1077430</td>\n",
       "      <td>1314167</td>\n",
       "      <td>2500</td>\n",
       "      <td>2500</td>\n",
       "      <td>2500.0</td>\n",
       "      <td>60 months</td>\n",
       "      <td>15.27</td>\n",
       "      <td>59.83</td>\n",
       "      <td>C</td>\n",
       "      <td>...</td>\n",
       "      <td>NaN</td>\n",
       "      <td>NaN</td>\n",
       "      <td>NaN</td>\n",
       "      <td>NaN</td>\n",
       "      <td>NaN</td>\n",
       "      <td>NaN</td>\n",
       "      <td>NaN</td>\n",
       "      <td>NaN</td>\n",
       "      <td>NaN</td>\n",
       "      <td>1.0</td>\n",
       "    </tr>\n",
       "    <tr>\n",
       "      <th>2</th>\n",
       "      <td>2</td>\n",
       "      <td>1077175</td>\n",
       "      <td>1313524</td>\n",
       "      <td>2400</td>\n",
       "      <td>2400</td>\n",
       "      <td>2400.0</td>\n",
       "      <td>36 months</td>\n",
       "      <td>15.96</td>\n",
       "      <td>84.33</td>\n",
       "      <td>C</td>\n",
       "      <td>...</td>\n",
       "      <td>NaN</td>\n",
       "      <td>NaN</td>\n",
       "      <td>NaN</td>\n",
       "      <td>NaN</td>\n",
       "      <td>NaN</td>\n",
       "      <td>NaN</td>\n",
       "      <td>NaN</td>\n",
       "      <td>NaN</td>\n",
       "      <td>NaN</td>\n",
       "      <td>10.0</td>\n",
       "    </tr>\n",
       "    <tr>\n",
       "      <th>3</th>\n",
       "      <td>3</td>\n",
       "      <td>1076863</td>\n",
       "      <td>1277178</td>\n",
       "      <td>10000</td>\n",
       "      <td>10000</td>\n",
       "      <td>10000.0</td>\n",
       "      <td>36 months</td>\n",
       "      <td>13.49</td>\n",
       "      <td>339.31</td>\n",
       "      <td>C</td>\n",
       "      <td>...</td>\n",
       "      <td>NaN</td>\n",
       "      <td>NaN</td>\n",
       "      <td>NaN</td>\n",
       "      <td>NaN</td>\n",
       "      <td>NaN</td>\n",
       "      <td>NaN</td>\n",
       "      <td>NaN</td>\n",
       "      <td>NaN</td>\n",
       "      <td>NaN</td>\n",
       "      <td>10.0</td>\n",
       "    </tr>\n",
       "    <tr>\n",
       "      <th>4</th>\n",
       "      <td>4</td>\n",
       "      <td>1075358</td>\n",
       "      <td>1311748</td>\n",
       "      <td>3000</td>\n",
       "      <td>3000</td>\n",
       "      <td>3000.0</td>\n",
       "      <td>60 months</td>\n",
       "      <td>12.69</td>\n",
       "      <td>67.79</td>\n",
       "      <td>B</td>\n",
       "      <td>...</td>\n",
       "      <td>NaN</td>\n",
       "      <td>NaN</td>\n",
       "      <td>NaN</td>\n",
       "      <td>NaN</td>\n",
       "      <td>NaN</td>\n",
       "      <td>NaN</td>\n",
       "      <td>NaN</td>\n",
       "      <td>NaN</td>\n",
       "      <td>NaN</td>\n",
       "      <td>1.0</td>\n",
       "    </tr>\n",
       "    <tr>\n",
       "      <th>...</th>\n",
       "      <td>...</td>\n",
       "      <td>...</td>\n",
       "      <td>...</td>\n",
       "      <td>...</td>\n",
       "      <td>...</td>\n",
       "      <td>...</td>\n",
       "      <td>...</td>\n",
       "      <td>...</td>\n",
       "      <td>...</td>\n",
       "      <td>...</td>\n",
       "      <td>...</td>\n",
       "      <td>...</td>\n",
       "      <td>...</td>\n",
       "      <td>...</td>\n",
       "      <td>...</td>\n",
       "      <td>...</td>\n",
       "      <td>...</td>\n",
       "      <td>...</td>\n",
       "      <td>...</td>\n",
       "      <td>...</td>\n",
       "      <td>...</td>\n",
       "    </tr>\n",
       "    <tr>\n",
       "      <th>466280</th>\n",
       "      <td>466280</td>\n",
       "      <td>8598660</td>\n",
       "      <td>1440975</td>\n",
       "      <td>18400</td>\n",
       "      <td>18400</td>\n",
       "      <td>18400.0</td>\n",
       "      <td>60 months</td>\n",
       "      <td>14.47</td>\n",
       "      <td>432.64</td>\n",
       "      <td>C</td>\n",
       "      <td>...</td>\n",
       "      <td>NaN</td>\n",
       "      <td>NaN</td>\n",
       "      <td>NaN</td>\n",
       "      <td>NaN</td>\n",
       "      <td>NaN</td>\n",
       "      <td>29900.0</td>\n",
       "      <td>NaN</td>\n",
       "      <td>NaN</td>\n",
       "      <td>NaN</td>\n",
       "      <td>4.0</td>\n",
       "    </tr>\n",
       "    <tr>\n",
       "      <th>466281</th>\n",
       "      <td>466281</td>\n",
       "      <td>9684700</td>\n",
       "      <td>11536848</td>\n",
       "      <td>22000</td>\n",
       "      <td>22000</td>\n",
       "      <td>22000.0</td>\n",
       "      <td>60 months</td>\n",
       "      <td>19.97</td>\n",
       "      <td>582.50</td>\n",
       "      <td>D</td>\n",
       "      <td>...</td>\n",
       "      <td>NaN</td>\n",
       "      <td>NaN</td>\n",
       "      <td>NaN</td>\n",
       "      <td>NaN</td>\n",
       "      <td>NaN</td>\n",
       "      <td>39400.0</td>\n",
       "      <td>NaN</td>\n",
       "      <td>NaN</td>\n",
       "      <td>NaN</td>\n",
       "      <td>10.0</td>\n",
       "    </tr>\n",
       "    <tr>\n",
       "      <th>466282</th>\n",
       "      <td>466282</td>\n",
       "      <td>9584776</td>\n",
       "      <td>11436914</td>\n",
       "      <td>20700</td>\n",
       "      <td>20700</td>\n",
       "      <td>20700.0</td>\n",
       "      <td>60 months</td>\n",
       "      <td>16.99</td>\n",
       "      <td>514.34</td>\n",
       "      <td>D</td>\n",
       "      <td>...</td>\n",
       "      <td>NaN</td>\n",
       "      <td>NaN</td>\n",
       "      <td>NaN</td>\n",
       "      <td>NaN</td>\n",
       "      <td>NaN</td>\n",
       "      <td>13100.0</td>\n",
       "      <td>NaN</td>\n",
       "      <td>NaN</td>\n",
       "      <td>NaN</td>\n",
       "      <td>7.0</td>\n",
       "    </tr>\n",
       "    <tr>\n",
       "      <th>466283</th>\n",
       "      <td>466283</td>\n",
       "      <td>9604874</td>\n",
       "      <td>11457002</td>\n",
       "      <td>2000</td>\n",
       "      <td>2000</td>\n",
       "      <td>2000.0</td>\n",
       "      <td>36 months</td>\n",
       "      <td>7.90</td>\n",
       "      <td>62.59</td>\n",
       "      <td>A</td>\n",
       "      <td>...</td>\n",
       "      <td>NaN</td>\n",
       "      <td>NaN</td>\n",
       "      <td>NaN</td>\n",
       "      <td>NaN</td>\n",
       "      <td>NaN</td>\n",
       "      <td>53100.0</td>\n",
       "      <td>NaN</td>\n",
       "      <td>NaN</td>\n",
       "      <td>NaN</td>\n",
       "      <td>3.0</td>\n",
       "    </tr>\n",
       "    <tr>\n",
       "      <th>466284</th>\n",
       "      <td>466284</td>\n",
       "      <td>9199665</td>\n",
       "      <td>11061576</td>\n",
       "      <td>10000</td>\n",
       "      <td>10000</td>\n",
       "      <td>9975.0</td>\n",
       "      <td>36 months</td>\n",
       "      <td>19.20</td>\n",
       "      <td>367.58</td>\n",
       "      <td>D</td>\n",
       "      <td>...</td>\n",
       "      <td>NaN</td>\n",
       "      <td>NaN</td>\n",
       "      <td>NaN</td>\n",
       "      <td>NaN</td>\n",
       "      <td>NaN</td>\n",
       "      <td>16000.0</td>\n",
       "      <td>NaN</td>\n",
       "      <td>NaN</td>\n",
       "      <td>NaN</td>\n",
       "      <td>10.0</td>\n",
       "    </tr>\n",
       "  </tbody>\n",
       "</table>\n",
       "<p>466285 rows × 76 columns</p>\n",
       "</div>"
      ],
      "text/plain": [
       "        Unnamed: 0       id  member_id  loan_amnt  funded_amnt  \\\n",
       "0                0  1077501    1296599       5000         5000   \n",
       "1                1  1077430    1314167       2500         2500   \n",
       "2                2  1077175    1313524       2400         2400   \n",
       "3                3  1076863    1277178      10000        10000   \n",
       "4                4  1075358    1311748       3000         3000   \n",
       "...            ...      ...        ...        ...          ...   \n",
       "466280      466280  8598660    1440975      18400        18400   \n",
       "466281      466281  9684700   11536848      22000        22000   \n",
       "466282      466282  9584776   11436914      20700        20700   \n",
       "466283      466283  9604874   11457002       2000         2000   \n",
       "466284      466284  9199665   11061576      10000        10000   \n",
       "\n",
       "        funded_amnt_inv        term  int_rate  installment grade  ... il_util  \\\n",
       "0                4975.0   36 months     10.65       162.87     B  ...     NaN   \n",
       "1                2500.0   60 months     15.27        59.83     C  ...     NaN   \n",
       "2                2400.0   36 months     15.96        84.33     C  ...     NaN   \n",
       "3               10000.0   36 months     13.49       339.31     C  ...     NaN   \n",
       "4                3000.0   60 months     12.69        67.79     B  ...     NaN   \n",
       "...                 ...         ...       ...          ...   ...  ...     ...   \n",
       "466280          18400.0   60 months     14.47       432.64     C  ...     NaN   \n",
       "466281          22000.0   60 months     19.97       582.50     D  ...     NaN   \n",
       "466282          20700.0   60 months     16.99       514.34     D  ...     NaN   \n",
       "466283           2000.0   36 months      7.90        62.59     A  ...     NaN   \n",
       "466284           9975.0   36 months     19.20       367.58     D  ...     NaN   \n",
       "\n",
       "       open_rv_12m open_rv_24m max_bal_bc  all_util total_rev_hi_lim inq_fi  \\\n",
       "0              NaN         NaN        NaN       NaN              NaN    NaN   \n",
       "1              NaN         NaN        NaN       NaN              NaN    NaN   \n",
       "2              NaN         NaN        NaN       NaN              NaN    NaN   \n",
       "3              NaN         NaN        NaN       NaN              NaN    NaN   \n",
       "4              NaN         NaN        NaN       NaN              NaN    NaN   \n",
       "...            ...         ...        ...       ...              ...    ...   \n",
       "466280         NaN         NaN        NaN       NaN          29900.0    NaN   \n",
       "466281         NaN         NaN        NaN       NaN          39400.0    NaN   \n",
       "466282         NaN         NaN        NaN       NaN          13100.0    NaN   \n",
       "466283         NaN         NaN        NaN       NaN          53100.0    NaN   \n",
       "466284         NaN         NaN        NaN       NaN          16000.0    NaN   \n",
       "\n",
       "       total_cu_tl inq_last_12m emp_length_int  \n",
       "0              NaN          NaN           10.0  \n",
       "1              NaN          NaN            1.0  \n",
       "2              NaN          NaN           10.0  \n",
       "3              NaN          NaN           10.0  \n",
       "4              NaN          NaN            1.0  \n",
       "...            ...          ...            ...  \n",
       "466280         NaN          NaN            4.0  \n",
       "466281         NaN          NaN           10.0  \n",
       "466282         NaN          NaN            7.0  \n",
       "466283         NaN          NaN            3.0  \n",
       "466284         NaN          NaN           10.0  \n",
       "\n",
       "[466285 rows x 76 columns]"
      ]
     },
     "execution_count": 100,
     "metadata": {},
     "output_type": "execute_result"
    }
   ],
   "source": [
    "#print the dataframe\n",
    "Load_DS"
   ]
  },
  {
   "cell_type": "code",
   "execution_count": 101,
   "metadata": {
    "id": "BHY3XRBzLuTK",
    "outputId": "905480b1-959f-4f9b-86d9-f240c9e1e224"
   },
   "outputs": [
    {
     "data": {
      "text/plain": [
       "array([' 36 months', ' 60 months'], dtype=object)"
      ]
     },
     "execution_count": 101,
     "metadata": {},
     "output_type": "execute_result"
    }
   ],
   "source": [
    "#check the unique values of term column\n",
    "Load_DS['term'].unique()"
   ]
  },
  {
   "cell_type": "code",
   "execution_count": 102,
   "metadata": {
    "id": "nd7Kwv-SLuTL"
   },
   "outputs": [],
   "source": [
    "#do all the necesaary replacements to convert into numeric\n",
    "Load_DS['term_int']=Load_DS['term'].str.replace('[ months]','')"
   ]
  },
  {
   "cell_type": "code",
   "execution_count": 103,
   "metadata": {
    "id": "N_wNoekbLuTN"
   },
   "outputs": [
    {
     "data": {
      "text/plain": [
       "numpy.int64"
      ]
     },
     "execution_count": 103,
     "metadata": {},
     "output_type": "execute_result"
    }
   ],
   "source": [
    "#convert it into numrical format & check the type\n",
    "Load_DS['term_int']= pd.to_numeric(Load_DS['term_int'])\n",
    "\n",
    "type(Load_DS['term_int'][0])"
   ]
  },
  {
   "cell_type": "code",
   "execution_count": 104,
   "metadata": {},
   "outputs": [
    {
     "data": {
      "text/plain": [
       "count    466285.000000\n",
       "mean         42.605334\n",
       "std          10.719040\n",
       "min          36.000000\n",
       "25%          36.000000\n",
       "50%          36.000000\n",
       "75%          60.000000\n",
       "max          60.000000\n",
       "Name: term_int, dtype: float64"
      ]
     },
     "execution_count": 104,
     "metadata": {},
     "output_type": "execute_result"
    }
   ],
   "source": [
    "Load_DS['term_int'].describe()"
   ]
  },
  {
   "cell_type": "code",
   "execution_count": 105,
   "metadata": {
    "id": "GUv25YcVLuTO",
    "outputId": "1eb9de65-8a18-4724-af4d-15eed18566a2"
   },
   "outputs": [
    {
     "data": {
      "text/plain": [
       "array(['Jan-85', 'Apr-99', 'Nov-01', 'Feb-96', 'Jan-96', 'Nov-04',\n",
       "       'Jul-05', 'Jan-07', 'Apr-04', 'Sep-04', 'Jan-98', 'Oct-89',\n",
       "       'Jul-03', 'May-91', 'Sep-07', 'Oct-98', 'Aug-93', 'Oct-03',\n",
       "       'Jan-01', 'Nov-97', 'Feb-83', 'Jul-85', 'Apr-03', 'Jun-01',\n",
       "       'Feb-02', 'Aug-84', 'Nov-06', 'Dec-87', 'Nov-81', 'Feb-97',\n",
       "       'Apr-05', 'Oct-07', 'Dec-00', 'Apr-07', 'Dec-01', 'Jan-03',\n",
       "       'Mar-94', 'Sep-98', 'Jun-04', 'Nov-95', 'Jul-99', 'Jun-95',\n",
       "       'Sep-92', 'Jan-02', 'Apr-92', 'Oct-06', 'May-00', 'Dec-98',\n",
       "       'Dec-04', 'Oct-00', 'May-02', 'May-06', 'Jul-02', 'Jul-06',\n",
       "       'May-97', 'Oct-05', 'Apr-95', 'Oct-02', 'Jan-00', 'Apr-00',\n",
       "       'Dec-94', 'Sep-05', 'Dec-84', 'Dec-99', 'Nov-03', 'Jun-89',\n",
       "       'Jun-03', 'Oct-96', 'May-03', 'Jun-02', 'Jun-07', 'Dec-96',\n",
       "       'Feb-84', 'Sep-02', 'Jan-86', 'May-98', 'Jan-97', 'Jun-05',\n",
       "       'Feb-90', 'Mar-04', 'Jul-95', 'Aug-94', 'Jun-92', 'Mar-97',\n",
       "       'Apr-06', 'Apr-90', 'Aug-99', 'Sep-00', 'Feb-01', 'Dec-88',\n",
       "       'Feb-99', 'Dec-91', 'Aug-00', 'Oct-04', 'Aug-04', 'Feb-05',\n",
       "       'Nov-05', 'Nov-00', 'May-07', 'Jan-91', 'Jun-00', 'Aug-06',\n",
       "       'Dec-02', 'Jun-93', 'Jun-06', 'Feb-04', 'Dec-90', 'Mar-00',\n",
       "       'Feb-95', 'Jul-01', 'Apr-02', 'Sep-06', 'May-99', 'Aug-98',\n",
       "       'Dec-05', 'May-04', 'Oct-01', 'Jun-83', 'Mar-86', 'Apr-80',\n",
       "       'Jul-04', 'Jul-08', 'May-96', 'Jan-04', 'Nov-02', 'Aug-02',\n",
       "       'Aug-01', 'Mar-91', 'Sep-89', 'Sep-94', 'Sep-03', 'Sep-99',\n",
       "       'Aug-05', 'Dec-86', 'Nov-98', 'Feb-06', 'May-94', 'Nov-07',\n",
       "       'Feb-93', 'Nov-91', 'May-05', 'Dec-73', 'May-01', 'Mar-90',\n",
       "       'Mar-96', 'Oct-79', 'Jun-81', 'Mar-01', 'Apr-01', 'Jun-99',\n",
       "       'Nov-93', 'Jan-06', 'Dec-97', 'Nov-94', 'Jul-97', 'Oct-91',\n",
       "       'Jun-94', 'Mar-06', 'Sep-96', 'Apr-91', 'Jul-93', 'Jan-95',\n",
       "       'Sep-87', 'Mar-03', 'Oct-99', 'Jul-96', 'Dec-03', 'Aug-88',\n",
       "       'Jan-92', 'Mar-98', 'Feb-07', 'Aug-82', 'Mar-95', 'Dec-92',\n",
       "       'Jul-98', 'Jul-89', 'May-90', 'Jul-94', 'Sep-01', 'Mar-84',\n",
       "       'Aug-03', 'Nov-99', 'Mar-07', 'Mar-08', 'Apr-94', 'Jan-05',\n",
       "       'Jul-86', 'Aug-90', 'May-92', 'Jul-00', 'Mar-88', 'May-83',\n",
       "       'Apr-93', 'Jul-78', 'Feb-00', 'Dec-81', 'Mar-92', 'Jan-81',\n",
       "       'Sep-90', 'Jun-98', 'May-93', 'Nov-96', 'Mar-02', 'Jan-88',\n",
       "       'Aug-97', 'Aug-87', 'Aug-08', 'Oct-94', 'Oct-86', 'Feb-94',\n",
       "       'Jun-96', 'Feb-98', 'Nov-08', 'Apr-98', 'Jul-79', 'Jan-93',\n",
       "       'May-87', 'Jul-71', 'Aug-07', 'Jun-97', 'Mar-80', 'Dec-06',\n",
       "       'Jul-07', 'Oct-95', 'Jul-91', 'Jul-92', 'Dec-72', 'Dec-93',\n",
       "       'Jan-99', 'Feb-03', 'Apr-97', 'Dec-95', 'Apr-96', 'Jul-90',\n",
       "       'Mar-70', 'Nov-84', 'Apr-84', 'Jul-84', 'Aug-95', 'Mar-99',\n",
       "       'Sep-88', 'Mar-89', 'Mar-87', 'Oct-97', 'Dec-80', 'Jan-94',\n",
       "       'Sep-95', 'Mar-05', 'Jan-89', 'Feb-92', 'Jan-90', 'Nov-90',\n",
       "       'Mar-69', 'Jun-75', 'Mar-85', 'Dec-07', 'Oct-93', 'Dec-89',\n",
       "       'Sep-80', 'Jun-88', 'May-78', 'Apr-73', 'Aug-89', 'Oct-90',\n",
       "       'Sep-91', 'Feb-82', 'Feb-87', 'Nov-85', 'Jan-84', 'Jul-88',\n",
       "       'May-08', 'Oct-85', 'Mar-83', 'Aug-91', 'Sep-86', 'Jun-90',\n",
       "       'Feb-86', 'Sep-97', 'Jun-84', 'Sep-81', 'Apr-86', 'Aug-79',\n",
       "       'Aug-80', 'Nov-92', 'Sep-93', 'Jun-87', 'Sep-82', 'Aug-92',\n",
       "       'Aug-85', 'Jul-83', 'Jun-91', 'Dec-83', 'Jan-87', 'Nov-78',\n",
       "       'Oct-84', 'Aug-96', 'Nov-89', 'Sep-76', 'Nov-86', 'Oct-87',\n",
       "       'Sep-08', 'May-77', 'May-86', 'Mar-81', 'Jan-83', 'Nov-76',\n",
       "       'Sep-79', 'Oct-83', 'Sep-62', 'Jun-85', 'May-82', 'Feb-88',\n",
       "       'Oct-92', 'Aug-83', 'Jun-73', 'Apr-85', 'Oct-88', 'Oct-81',\n",
       "       'Sep-68', 'Jul-74', 'Nov-87', 'May-95', 'Feb-91', 'Nov-88',\n",
       "       'Mar-93', 'Jun-08', 'Jul-80', 'Dec-82', 'Mar-75', 'Feb-80',\n",
       "       'Apr-88', 'Dec-79', 'Sep-85', 'Sep-71', 'Mar-78', 'Feb-08',\n",
       "       'Aug-78', 'Nov-70', 'Jun-79', 'Jun-80', 'Apr-89', 'Sep-83',\n",
       "       'Feb-89', 'Nov-83', 'Jun-86', 'Oct-82', 'Aug-86', 'Oct-80',\n",
       "       'May-88', 'Dec-85', 'Jan-82', 'Sep-77', 'Dec-76', 'Apr-82',\n",
       "       'May-84', 'Apr-08', 'Feb-79', 'Jan-08', 'Sep-64', 'Jul-87',\n",
       "       'Jan-78', 'May-89', 'Oct-77', 'Dec-75', 'Feb-85', 'Oct-08',\n",
       "       'Nov-82', 'May-75', 'May-85', 'Feb-71', 'Jun-77', 'Apr-81',\n",
       "       'May-79', 'Jan-72', 'Sep-67', 'Apr-78', 'Feb-65', 'Apr-83',\n",
       "       'Nov-75', 'Jun-67', 'Mar-74', 'Jul-72', 'Aug-67', 'Apr-71',\n",
       "       'Sep-84', 'May-81', 'Dec-70', 'Oct-73', 'Jan-71', 'Dec-63',\n",
       "       'Apr-74', 'Jan-80', 'Aug-69', 'Apr-75', 'Jul-77', 'Mar-77',\n",
       "       'Nov-69', 'Jan-76', 'Mar-82', 'Apr-87', 'Dec-69', 'May-74',\n",
       "       'Aug-74', 'Jun-72', 'Mar-63', 'Nov-79', 'Aug-75', 'Sep-74',\n",
       "       'Aug-81', 'May-73', 'Sep-73', 'Mar-73', 'Dec-77', 'Oct-76',\n",
       "       'Jan-74', 'Jan-70', 'Aug-68', 'Feb-76', 'Jan-75', 'Oct-72',\n",
       "       'Dec-74', 'Feb-73', 'Nov-65', 'Mar-72', 'Jun-82', 'Jun-74',\n",
       "       'May-65', 'Jun-71', 'Oct-70', 'Apr-76', 'Oct-71', 'Apr-77',\n",
       "       'Sep-78', 'Oct-78', 'Oct-54', 'Feb-81', 'Jan-77', 'Aug-77',\n",
       "       'Dec-78', 'Aug-76', 'Jun-68', 'Jun-78', 'Jun-69', 'May-80',\n",
       "       'Jan-79', 'Oct-65', 'Nov-74', 'Apr-66', 'Jun-76', 'Feb-72',\n",
       "       'May-76', 'Mar-68', 'Mar-76', 'Jul-70', 'Mar-79', 'Jul-76',\n",
       "       'Jul-82', 'Sep-65', 'Apr-67', 'Oct-63', 'Feb-70', 'Jul-73',\n",
       "       'Feb-78', 'Nov-71', 'Aug-72', 'Jul-75', 'Sep-70', 'Jul-81',\n",
       "       'Oct-64', 'Sep-72', 'May-70', 'May-63', 'Feb-69', 'Nov-80',\n",
       "       'Jul-67', 'Apr-70', 'Nov-77', 'Nov-66', 'May-71', 'Apr-79',\n",
       "       'May-72', 'Feb-68', 'Jul-64', 'Nov-67', 'Apr-64', 'Feb-75',\n",
       "       'Jun-59', 'Sep-56', 'Jun-66', 'Jan-46', 'Mar-66', 'Jan-63',\n",
       "       'Dec-50', 'Jul-69', 'Jan-68', 'Nov-73', 'Jun-70', 'Feb-77',\n",
       "       'Feb-74', 'Jan-73', 'Feb-66', 'Dec-61', 'Aug-73', 'Aug-70',\n",
       "       'Sep-69', 'Sep-75', 'Dec-68', 'Nov-54', 'Oct-69', 'Dec-65',\n",
       "       'Apr-72', 'Nov-72', 'Sep-63', 'Apr-69', 'Nov-62', 'Oct-67',\n",
       "       'May-67', 'Nov-61', 'Feb-67', 'Nov-68', 'Oct-75', 'Mar-71',\n",
       "       'Aug-71', 'Dec-66', 'Oct-68', 'Oct-74', 'Nov-63', 'Apr-68',\n",
       "       'May-69', 'Nov-59', nan, 'Oct-10', 'Dec-09', 'Nov-10', 'Jan-10',\n",
       "       'Dec-08', 'Sep-09', 'Jul-10', 'Jan-09', 'May-09', 'May-10',\n",
       "       'Sep-10', 'Apr-09', 'Nov-09', 'Apr-10', 'Mar-09', 'Feb-09',\n",
       "       'Aug-09', 'Oct-09', 'Jun-09', 'Jun-10', 'Jul-09', 'Feb-10',\n",
       "       'Mar-10', 'Aug-10', 'Jan-61', 'Oct-62', 'Jun-64', 'Apr-62',\n",
       "       'Jan-60', 'Sep-66', 'Mar-65', 'May-68', 'Jul-66', 'Dec-56',\n",
       "       'Dec-71', 'Apr-65', 'Jan-64', 'Jul-65', 'Jan-65', 'Jan-62',\n",
       "       'Aug-64', 'Jan-69', 'Oct-66', 'Jun-62', 'Dec-67', 'Oct-60',\n",
       "       'Jul-62', 'Dec-60', 'Jul-60', 'Jun-65', 'May-66', 'Oct-57',\n",
       "       'Aug-65', 'May-60', 'Jan-67', 'Nov-53', 'Oct-59', 'Jun-63',\n",
       "       'Mar-67', 'Jul-63', 'Nov-60', 'Mar-62', 'Mar-64', 'Jul-68',\n",
       "       'Feb-63', 'Jan-66', 'Dec-64', 'May-64', 'Oct-61', 'Aug-60',\n",
       "       'Mar-60', 'Apr-55', 'Sep-59', 'Aug-66', 'Jul-55', 'Aug-61',\n",
       "       'Nov-64', 'May-53', 'Nov-50', 'Nov-55', 'Mar-61', 'Feb-57',\n",
       "       'Aug-63', 'Feb-60', 'Sep-60', 'Feb-64', 'Dec-51', 'Nov-58',\n",
       "       'Aug-62', 'Oct-58', 'May-62', 'Mar-11', 'Jun-11', 'Dec-10',\n",
       "       'Oct-11', 'Sep-11', 'Jul-11', 'Apr-11', 'May-11', 'Jan-11',\n",
       "       'Feb-11', 'Aug-11', 'Apr-63', 'Nov-11', 'Dec-58', 'Jan-58',\n",
       "       'Jul-59', 'Jan-55', 'May-59', 'Aug-46', 'Apr-61', 'Jun-58',\n",
       "       'Jul-58', 'Jun-60', 'Jan-51', 'Dec-62', 'Mar-59', 'Aug-58',\n",
       "       'Jan-59', 'Feb-61', 'Sep-57', 'Jun-49', 'Jun-61', 'Jan-56',\n",
       "       'Jan-54', 'Jan-57', 'Jan-44', 'Oct-50', 'Jan-48', 'Jul-61',\n",
       "       'May-58', 'Jan-53', 'May-50', 'Nov-56'], dtype=object)"
      ]
     },
     "execution_count": 105,
     "metadata": {},
     "output_type": "execute_result"
    }
   ],
   "source": [
    "#check the values for called earliest_cr_line column- the month the borrower's has been assigned the loan\n",
    "Load_DS['earliest_cr_line'].unique()"
   ]
  },
  {
   "cell_type": "code",
   "execution_count": 106,
   "metadata": {
    "id": "CXVf_ueqLuTS"
   },
   "outputs": [
    {
     "data": {
      "text/plain": [
       "0        1985-01-01\n",
       "1        1999-04-01\n",
       "2        2001-11-01\n",
       "3        1996-02-01\n",
       "4        1996-01-01\n",
       "            ...    \n",
       "466280   2003-04-01\n",
       "466281   1997-06-01\n",
       "466282   2001-12-01\n",
       "466283   2003-02-01\n",
       "466284   2000-02-01\n",
       "Name: earliest_cr_line_date, Length: 466285, dtype: datetime64[ns]"
      ]
     },
     "execution_count": 106,
     "metadata": {},
     "output_type": "execute_result"
    }
   ],
   "source": [
    "#convert into datetime format and check the values\n",
    "Load_DS['earliest_cr_line_date']=pd.to_datetime(Load_DS['earliest_cr_line'], format='%b-%y')\n",
    "Load_DS['earliest_cr_line_date']"
   ]
  },
  {
   "cell_type": "code",
   "execution_count": 107,
   "metadata": {
    "id": "jxToqQoaLuTT",
    "outputId": "c76f7c36-2877-416b-e225-c886bb9effd7"
   },
   "outputs": [
    {
     "data": {
      "text/plain": [
       "0        14108 days\n",
       "1         8905 days\n",
       "2         7960 days\n",
       "3        10060 days\n",
       "4        10091 days\n",
       "            ...    \n",
       "466280    7444 days\n",
       "466281    9574 days\n",
       "466282    7930 days\n",
       "466283    7503 days\n",
       "466284    8599 days\n",
       "Name: earliest_cr_line_date, Length: 466285, dtype: timedelta64[ns]"
      ]
     },
     "execution_count": 107,
     "metadata": {},
     "output_type": "execute_result"
    }
   ],
   "source": [
    "from datetime import date\n",
    "\n",
    "#get the total number of days from current date i.e present date\n",
    "pd.to_datetime(date.today())-Load_DS['earliest_cr_line_date']"
   ]
  },
  {
   "cell_type": "code",
   "execution_count": 108,
   "metadata": {
    "id": "caHFWeJELuTb"
   },
   "outputs": [],
   "source": [
    "#convert these days into months i.e converting days into months\n",
    "Load_DS['mths_since_earliest_cr_line'] = round(\n",
    "    pd.to_numeric((pd.to_datetime(date.today())-Load_DS['earliest_cr_line_date'])/np.timedelta64(1,'M'))\n",
    ")"
   ]
  },
  {
   "cell_type": "code",
   "execution_count": 111,
   "metadata": {
    "id": "MPPmtz8QLuTc",
    "outputId": "1232909e-4771-45ad-e7f9-c978a23e3304"
   },
   "outputs": [
    {
     "data": {
      "text/plain": [
       "count    466256.000000\n",
       "mean        308.465435\n",
       "std          93.975801\n",
       "min        -543.000000\n",
       "25%         252.000000\n",
       "50%         294.000000\n",
       "75%         354.000000\n",
       "max         656.000000\n",
       "Name: mths_since_earliest_cr_line, dtype: float64"
      ]
     },
     "execution_count": 111,
     "metadata": {},
     "output_type": "execute_result"
    }
   ],
   "source": [
    "#check the basic statistics of 'mths_since_earliest_cr_line'\n",
    "Load_DS['mths_since_earliest_cr_line'].describe()"
   ]
  },
  {
   "cell_type": "code",
   "execution_count": 112,
   "metadata": {
    "id": "i89tSzaYLuTd",
    "outputId": "75a6795f-e03f-4d44-9792-8dd2ce960e87"
   },
   "outputs": [
    {
     "data": {
      "text/html": [
       "<div>\n",
       "<style scoped>\n",
       "    .dataframe tbody tr th:only-of-type {\n",
       "        vertical-align: middle;\n",
       "    }\n",
       "\n",
       "    .dataframe tbody tr th {\n",
       "        vertical-align: top;\n",
       "    }\n",
       "\n",
       "    .dataframe thead th {\n",
       "        text-align: right;\n",
       "    }\n",
       "</style>\n",
       "<table border=\"1\" class=\"dataframe\">\n",
       "  <thead>\n",
       "    <tr style=\"text-align: right;\">\n",
       "      <th></th>\n",
       "      <th>earliest_cr_line</th>\n",
       "      <th>earliest_cr_line_date</th>\n",
       "      <th>mths_since_earliest_cr_line</th>\n",
       "    </tr>\n",
       "  </thead>\n",
       "  <tbody>\n",
       "    <tr>\n",
       "      <th>1580</th>\n",
       "      <td>Sep-62</td>\n",
       "      <td>2062-09-01</td>\n",
       "      <td>-468.0</td>\n",
       "    </tr>\n",
       "    <tr>\n",
       "      <th>1770</th>\n",
       "      <td>Sep-68</td>\n",
       "      <td>2068-09-01</td>\n",
       "      <td>-540.0</td>\n",
       "    </tr>\n",
       "    <tr>\n",
       "      <th>2799</th>\n",
       "      <td>Sep-64</td>\n",
       "      <td>2064-09-01</td>\n",
       "      <td>-492.0</td>\n",
       "    </tr>\n",
       "    <tr>\n",
       "      <th>3282</th>\n",
       "      <td>Sep-67</td>\n",
       "      <td>2067-09-01</td>\n",
       "      <td>-528.0</td>\n",
       "    </tr>\n",
       "    <tr>\n",
       "      <th>3359</th>\n",
       "      <td>Feb-65</td>\n",
       "      <td>2065-02-01</td>\n",
       "      <td>-498.0</td>\n",
       "    </tr>\n",
       "    <tr>\n",
       "      <th>...</th>\n",
       "      <td>...</td>\n",
       "      <td>...</td>\n",
       "      <td>...</td>\n",
       "    </tr>\n",
       "    <tr>\n",
       "      <th>464003</th>\n",
       "      <td>Jan-68</td>\n",
       "      <td>2068-01-01</td>\n",
       "      <td>-532.0</td>\n",
       "    </tr>\n",
       "    <tr>\n",
       "      <th>464260</th>\n",
       "      <td>Jul-66</td>\n",
       "      <td>2066-07-01</td>\n",
       "      <td>-514.0</td>\n",
       "    </tr>\n",
       "    <tr>\n",
       "      <th>465100</th>\n",
       "      <td>Oct-67</td>\n",
       "      <td>2067-10-01</td>\n",
       "      <td>-529.0</td>\n",
       "    </tr>\n",
       "    <tr>\n",
       "      <th>465500</th>\n",
       "      <td>Sep-67</td>\n",
       "      <td>2067-09-01</td>\n",
       "      <td>-528.0</td>\n",
       "    </tr>\n",
       "    <tr>\n",
       "      <th>465655</th>\n",
       "      <td>Jan-56</td>\n",
       "      <td>2056-01-01</td>\n",
       "      <td>-388.0</td>\n",
       "    </tr>\n",
       "  </tbody>\n",
       "</table>\n",
       "<p>1169 rows × 3 columns</p>\n",
       "</div>"
      ],
      "text/plain": [
       "       earliest_cr_line earliest_cr_line_date  mths_since_earliest_cr_line\n",
       "1580             Sep-62            2062-09-01                       -468.0\n",
       "1770             Sep-68            2068-09-01                       -540.0\n",
       "2799             Sep-64            2064-09-01                       -492.0\n",
       "3282             Sep-67            2067-09-01                       -528.0\n",
       "3359             Feb-65            2065-02-01                       -498.0\n",
       "...                 ...                   ...                          ...\n",
       "464003           Jan-68            2068-01-01                       -532.0\n",
       "464260           Jul-66            2066-07-01                       -514.0\n",
       "465100           Oct-67            2067-10-01                       -529.0\n",
       "465500           Sep-67            2067-09-01                       -528.0\n",
       "465655           Jan-56            2056-01-01                       -388.0\n",
       "\n",
       "[1169 rows x 3 columns]"
      ]
     },
     "execution_count": 112,
     "metadata": {},
     "output_type": "execute_result"
    }
   ],
   "source": [
    "#check the dataframe for column that have negitive months which is not possible\n",
    "Load_DS.loc[: , ['earliest_cr_line','earliest_cr_line_date','mths_since_earliest_cr_line']][Load_DS['mths_since_earliest_cr_line']<0]"
   ]
  },
  {
   "cell_type": "markdown",
   "metadata": {},
   "source": [
    "Upon analyzing the negative values in column 'mths_since_earliest_cr_line' we can see that for those data points dates are provided far in the future. In this scenario we get an info from business as per what can be done here. \n",
    "As of now we will replace t he negative values with the maximumm no. of months since earliest credit line was opened(considering that it was supposed to be in 1990s and not 2000s)"
   ]
  },
  {
   "cell_type": "code",
   "execution_count": 113,
   "metadata": {
    "id": "e_NoxLYYLuTe",
    "outputId": "e11c0a99-2e6e-4336-e666-cce135a8df01"
   },
   "outputs": [],
   "source": [
    "#replace all the negitive values  with the max months value\n",
    "Load_DS['mths_since_earliest_cr_line'][Load_DS['mths_since_earliest_cr_line'] < 0 ]= Load_DS['mths_since_earliest_cr_line'].max()"
   ]
  },
  {
   "cell_type": "code",
   "execution_count": 114,
   "metadata": {
    "id": "_tj-q8pzLuTg",
    "outputId": "ca13d815-f20f-4c3a-b018-540a51576f3b"
   },
   "outputs": [
    {
     "data": {
      "text/plain": [
       "count    466256.000000\n",
       "mean        311.368504\n",
       "std          86.460790\n",
       "min         142.000000\n",
       "25%         253.000000\n",
       "50%         295.000000\n",
       "75%         354.000000\n",
       "max         656.000000\n",
       "Name: mths_since_earliest_cr_line, dtype: float64"
      ]
     },
     "execution_count": 114,
     "metadata": {},
     "output_type": "execute_result"
    }
   ],
   "source": [
    "#again check the basic stats so that no months are negitive\n",
    "Load_DS['mths_since_earliest_cr_line'].describe()"
   ]
  },
  {
   "cell_type": "code",
   "execution_count": 115,
   "metadata": {
    "id": "MrOZFo_XLuTr",
    "outputId": "51e2c39a-16d9-4bee-dd18-c55f190978af"
   },
   "outputs": [
    {
     "data": {
      "text/plain": [
       "0         Dec-11\n",
       "1         Dec-11\n",
       "2         Dec-11\n",
       "3         Dec-11\n",
       "4         Dec-11\n",
       "           ...  \n",
       "466280    Jan-14\n",
       "466281    Jan-14\n",
       "466282    Jan-14\n",
       "466283    Jan-14\n",
       "466284    Jan-14\n",
       "Name: issue_d, Length: 466285, dtype: object"
      ]
     },
     "execution_count": 115,
     "metadata": {},
     "output_type": "execute_result"
    }
   ],
   "source": [
    "#chekc the issue_d column\n",
    "Load_DS['issue_d']"
   ]
  },
  {
   "cell_type": "code",
   "execution_count": 116,
   "metadata": {
    "id": "4ZcHVO_iLuTr"
   },
   "outputs": [],
   "source": [
    "#convert into date_time format\n",
    "Load_DS['issue_date']= pd.to_datetime(Load_DS['issue_d'], format='%b-%y')"
   ]
  },
  {
   "cell_type": "code",
   "execution_count": 117,
   "metadata": {
    "id": "JDexhaHmLuTt"
   },
   "outputs": [],
   "source": [
    "#convert days to months\n",
    "Load_DS['months_since_issue_date']=round(\n",
    "    pd.to_numeric((pd.to_datetime(date.today())-Load_DS['issue_date'])/np.timedelta64(1,'M'))\n",
    ")"
   ]
  },
  {
   "cell_type": "code",
   "execution_count": 118,
   "metadata": {
    "id": "1aJTZz_JLuTt",
    "outputId": "6a922293-fcc3-4f02-cdc7-40de14492313"
   },
   "outputs": [
    {
     "data": {
      "text/plain": [
       "count    466285.000000\n",
       "mean        120.205578\n",
       "std          14.343699\n",
       "min         105.000000\n",
       "25%         110.000000\n",
       "50%         116.000000\n",
       "75%         126.000000\n",
       "max         195.000000\n",
       "Name: months_since_issue_date, dtype: float64"
      ]
     },
     "execution_count": 118,
     "metadata": {},
     "output_type": "execute_result"
    }
   ],
   "source": [
    "#check the basic stats\n",
    "Load_DS['months_since_issue_date'].describe()"
   ]
  },
  {
   "cell_type": "markdown",
   "metadata": {
    "id": "SP0baR6yLuT1"
   },
   "source": [
    "#### Preprocessing Categorical Data"
   ]
  },
  {
   "cell_type": "code",
   "execution_count": 119,
   "metadata": {
    "id": "FIiZFG_FLuT4",
    "outputId": "87590516-354d-415f-f760-9ab3547e2c2c"
   },
   "outputs": [
    {
     "data": {
      "text/html": [
       "<div>\n",
       "<style scoped>\n",
       "    .dataframe tbody tr th:only-of-type {\n",
       "        vertical-align: middle;\n",
       "    }\n",
       "\n",
       "    .dataframe tbody tr th {\n",
       "        vertical-align: top;\n",
       "    }\n",
       "\n",
       "    .dataframe thead th {\n",
       "        text-align: right;\n",
       "    }\n",
       "</style>\n",
       "<table border=\"1\" class=\"dataframe\">\n",
       "  <thead>\n",
       "    <tr style=\"text-align: right;\">\n",
       "      <th></th>\n",
       "      <th>grade:A</th>\n",
       "      <th>grade:B</th>\n",
       "      <th>grade:C</th>\n",
       "      <th>grade:D</th>\n",
       "      <th>grade:E</th>\n",
       "      <th>grade:F</th>\n",
       "      <th>grade:G</th>\n",
       "    </tr>\n",
       "  </thead>\n",
       "  <tbody>\n",
       "    <tr>\n",
       "      <th>0</th>\n",
       "      <td>0</td>\n",
       "      <td>1</td>\n",
       "      <td>0</td>\n",
       "      <td>0</td>\n",
       "      <td>0</td>\n",
       "      <td>0</td>\n",
       "      <td>0</td>\n",
       "    </tr>\n",
       "    <tr>\n",
       "      <th>1</th>\n",
       "      <td>0</td>\n",
       "      <td>0</td>\n",
       "      <td>1</td>\n",
       "      <td>0</td>\n",
       "      <td>0</td>\n",
       "      <td>0</td>\n",
       "      <td>0</td>\n",
       "    </tr>\n",
       "    <tr>\n",
       "      <th>2</th>\n",
       "      <td>0</td>\n",
       "      <td>0</td>\n",
       "      <td>1</td>\n",
       "      <td>0</td>\n",
       "      <td>0</td>\n",
       "      <td>0</td>\n",
       "      <td>0</td>\n",
       "    </tr>\n",
       "    <tr>\n",
       "      <th>3</th>\n",
       "      <td>0</td>\n",
       "      <td>0</td>\n",
       "      <td>1</td>\n",
       "      <td>0</td>\n",
       "      <td>0</td>\n",
       "      <td>0</td>\n",
       "      <td>0</td>\n",
       "    </tr>\n",
       "    <tr>\n",
       "      <th>4</th>\n",
       "      <td>0</td>\n",
       "      <td>1</td>\n",
       "      <td>0</td>\n",
       "      <td>0</td>\n",
       "      <td>0</td>\n",
       "      <td>0</td>\n",
       "      <td>0</td>\n",
       "    </tr>\n",
       "    <tr>\n",
       "      <th>...</th>\n",
       "      <td>...</td>\n",
       "      <td>...</td>\n",
       "      <td>...</td>\n",
       "      <td>...</td>\n",
       "      <td>...</td>\n",
       "      <td>...</td>\n",
       "      <td>...</td>\n",
       "    </tr>\n",
       "    <tr>\n",
       "      <th>466280</th>\n",
       "      <td>0</td>\n",
       "      <td>0</td>\n",
       "      <td>1</td>\n",
       "      <td>0</td>\n",
       "      <td>0</td>\n",
       "      <td>0</td>\n",
       "      <td>0</td>\n",
       "    </tr>\n",
       "    <tr>\n",
       "      <th>466281</th>\n",
       "      <td>0</td>\n",
       "      <td>0</td>\n",
       "      <td>0</td>\n",
       "      <td>1</td>\n",
       "      <td>0</td>\n",
       "      <td>0</td>\n",
       "      <td>0</td>\n",
       "    </tr>\n",
       "    <tr>\n",
       "      <th>466282</th>\n",
       "      <td>0</td>\n",
       "      <td>0</td>\n",
       "      <td>0</td>\n",
       "      <td>1</td>\n",
       "      <td>0</td>\n",
       "      <td>0</td>\n",
       "      <td>0</td>\n",
       "    </tr>\n",
       "    <tr>\n",
       "      <th>466283</th>\n",
       "      <td>1</td>\n",
       "      <td>0</td>\n",
       "      <td>0</td>\n",
       "      <td>0</td>\n",
       "      <td>0</td>\n",
       "      <td>0</td>\n",
       "      <td>0</td>\n",
       "    </tr>\n",
       "    <tr>\n",
       "      <th>466284</th>\n",
       "      <td>0</td>\n",
       "      <td>0</td>\n",
       "      <td>0</td>\n",
       "      <td>1</td>\n",
       "      <td>0</td>\n",
       "      <td>0</td>\n",
       "      <td>0</td>\n",
       "    </tr>\n",
       "  </tbody>\n",
       "</table>\n",
       "<p>466285 rows × 7 columns</p>\n",
       "</div>"
      ],
      "text/plain": [
       "        grade:A  grade:B  grade:C  grade:D  grade:E  grade:F  grade:G\n",
       "0             0        1        0        0        0        0        0\n",
       "1             0        0        1        0        0        0        0\n",
       "2             0        0        1        0        0        0        0\n",
       "3             0        0        1        0        0        0        0\n",
       "4             0        1        0        0        0        0        0\n",
       "...         ...      ...      ...      ...      ...      ...      ...\n",
       "466280        0        0        1        0        0        0        0\n",
       "466281        0        0        0        1        0        0        0\n",
       "466282        0        0        0        1        0        0        0\n",
       "466283        1        0        0        0        0        0        0\n",
       "466284        0        0        0        1        0        0        0\n",
       "\n",
       "[466285 rows x 7 columns]"
      ]
     },
     "execution_count": 119,
     "metadata": {},
     "output_type": "execute_result"
    }
   ],
   "source": [
    "#Get the dummies value for the column 'grade',,,apply a (prefix='grade') and (prefix_sep=\":\")\n",
    "pd.get_dummies(Load_DS['grade'],prefix='grade',prefix_sep=':')"
   ]
  },
  {
   "cell_type": "code",
   "execution_count": 120,
   "metadata": {
    "id": "fHmbjHvyLuT4"
   },
   "outputs": [
    {
     "data": {
      "text/html": [
       "<div>\n",
       "<style scoped>\n",
       "    .dataframe tbody tr th:only-of-type {\n",
       "        vertical-align: middle;\n",
       "    }\n",
       "\n",
       "    .dataframe tbody tr th {\n",
       "        vertical-align: top;\n",
       "    }\n",
       "\n",
       "    .dataframe thead th {\n",
       "        text-align: right;\n",
       "    }\n",
       "</style>\n",
       "<table border=\"1\" class=\"dataframe\">\n",
       "  <thead>\n",
       "    <tr style=\"text-align: right;\">\n",
       "      <th></th>\n",
       "      <th>sub_grade:A1</th>\n",
       "      <th>sub_grade:A2</th>\n",
       "      <th>sub_grade:A3</th>\n",
       "      <th>sub_grade:A4</th>\n",
       "      <th>sub_grade:A5</th>\n",
       "      <th>sub_grade:B1</th>\n",
       "      <th>sub_grade:B2</th>\n",
       "      <th>sub_grade:B3</th>\n",
       "      <th>sub_grade:B4</th>\n",
       "      <th>sub_grade:B5</th>\n",
       "      <th>...</th>\n",
       "      <th>sub_grade:F1</th>\n",
       "      <th>sub_grade:F2</th>\n",
       "      <th>sub_grade:F3</th>\n",
       "      <th>sub_grade:F4</th>\n",
       "      <th>sub_grade:F5</th>\n",
       "      <th>sub_grade:G1</th>\n",
       "      <th>sub_grade:G2</th>\n",
       "      <th>sub_grade:G3</th>\n",
       "      <th>sub_grade:G4</th>\n",
       "      <th>sub_grade:G5</th>\n",
       "    </tr>\n",
       "  </thead>\n",
       "  <tbody>\n",
       "    <tr>\n",
       "      <th>0</th>\n",
       "      <td>0</td>\n",
       "      <td>0</td>\n",
       "      <td>0</td>\n",
       "      <td>0</td>\n",
       "      <td>0</td>\n",
       "      <td>0</td>\n",
       "      <td>1</td>\n",
       "      <td>0</td>\n",
       "      <td>0</td>\n",
       "      <td>0</td>\n",
       "      <td>...</td>\n",
       "      <td>0</td>\n",
       "      <td>0</td>\n",
       "      <td>0</td>\n",
       "      <td>0</td>\n",
       "      <td>0</td>\n",
       "      <td>0</td>\n",
       "      <td>0</td>\n",
       "      <td>0</td>\n",
       "      <td>0</td>\n",
       "      <td>0</td>\n",
       "    </tr>\n",
       "    <tr>\n",
       "      <th>1</th>\n",
       "      <td>0</td>\n",
       "      <td>0</td>\n",
       "      <td>0</td>\n",
       "      <td>0</td>\n",
       "      <td>0</td>\n",
       "      <td>0</td>\n",
       "      <td>0</td>\n",
       "      <td>0</td>\n",
       "      <td>0</td>\n",
       "      <td>0</td>\n",
       "      <td>...</td>\n",
       "      <td>0</td>\n",
       "      <td>0</td>\n",
       "      <td>0</td>\n",
       "      <td>0</td>\n",
       "      <td>0</td>\n",
       "      <td>0</td>\n",
       "      <td>0</td>\n",
       "      <td>0</td>\n",
       "      <td>0</td>\n",
       "      <td>0</td>\n",
       "    </tr>\n",
       "    <tr>\n",
       "      <th>2</th>\n",
       "      <td>0</td>\n",
       "      <td>0</td>\n",
       "      <td>0</td>\n",
       "      <td>0</td>\n",
       "      <td>0</td>\n",
       "      <td>0</td>\n",
       "      <td>0</td>\n",
       "      <td>0</td>\n",
       "      <td>0</td>\n",
       "      <td>0</td>\n",
       "      <td>...</td>\n",
       "      <td>0</td>\n",
       "      <td>0</td>\n",
       "      <td>0</td>\n",
       "      <td>0</td>\n",
       "      <td>0</td>\n",
       "      <td>0</td>\n",
       "      <td>0</td>\n",
       "      <td>0</td>\n",
       "      <td>0</td>\n",
       "      <td>0</td>\n",
       "    </tr>\n",
       "    <tr>\n",
       "      <th>3</th>\n",
       "      <td>0</td>\n",
       "      <td>0</td>\n",
       "      <td>0</td>\n",
       "      <td>0</td>\n",
       "      <td>0</td>\n",
       "      <td>0</td>\n",
       "      <td>0</td>\n",
       "      <td>0</td>\n",
       "      <td>0</td>\n",
       "      <td>0</td>\n",
       "      <td>...</td>\n",
       "      <td>0</td>\n",
       "      <td>0</td>\n",
       "      <td>0</td>\n",
       "      <td>0</td>\n",
       "      <td>0</td>\n",
       "      <td>0</td>\n",
       "      <td>0</td>\n",
       "      <td>0</td>\n",
       "      <td>0</td>\n",
       "      <td>0</td>\n",
       "    </tr>\n",
       "    <tr>\n",
       "      <th>4</th>\n",
       "      <td>0</td>\n",
       "      <td>0</td>\n",
       "      <td>0</td>\n",
       "      <td>0</td>\n",
       "      <td>0</td>\n",
       "      <td>0</td>\n",
       "      <td>0</td>\n",
       "      <td>0</td>\n",
       "      <td>0</td>\n",
       "      <td>1</td>\n",
       "      <td>...</td>\n",
       "      <td>0</td>\n",
       "      <td>0</td>\n",
       "      <td>0</td>\n",
       "      <td>0</td>\n",
       "      <td>0</td>\n",
       "      <td>0</td>\n",
       "      <td>0</td>\n",
       "      <td>0</td>\n",
       "      <td>0</td>\n",
       "      <td>0</td>\n",
       "    </tr>\n",
       "  </tbody>\n",
       "</table>\n",
       "<p>5 rows × 35 columns</p>\n",
       "</div>"
      ],
      "text/plain": [
       "   sub_grade:A1  sub_grade:A2  sub_grade:A3  sub_grade:A4  sub_grade:A5  \\\n",
       "0             0             0             0             0             0   \n",
       "1             0             0             0             0             0   \n",
       "2             0             0             0             0             0   \n",
       "3             0             0             0             0             0   \n",
       "4             0             0             0             0             0   \n",
       "\n",
       "   sub_grade:B1  sub_grade:B2  sub_grade:B3  sub_grade:B4  sub_grade:B5  ...  \\\n",
       "0             0             1             0             0             0  ...   \n",
       "1             0             0             0             0             0  ...   \n",
       "2             0             0             0             0             0  ...   \n",
       "3             0             0             0             0             0  ...   \n",
       "4             0             0             0             0             1  ...   \n",
       "\n",
       "   sub_grade:F1  sub_grade:F2  sub_grade:F3  sub_grade:F4  sub_grade:F5  \\\n",
       "0             0             0             0             0             0   \n",
       "1             0             0             0             0             0   \n",
       "2             0             0             0             0             0   \n",
       "3             0             0             0             0             0   \n",
       "4             0             0             0             0             0   \n",
       "\n",
       "   sub_grade:G1  sub_grade:G2  sub_grade:G3  sub_grade:G4  sub_grade:G5  \n",
       "0             0             0             0             0             0  \n",
       "1             0             0             0             0             0  \n",
       "2             0             0             0             0             0  \n",
       "3             0             0             0             0             0  \n",
       "4             0             0             0             0             0  \n",
       "\n",
       "[5 rows x 35 columns]"
      ]
     },
     "execution_count": 120,
     "metadata": {},
     "output_type": "execute_result"
    }
   ],
   "source": [
    "#Similarly apply the dummy creation step for 'grade','sub_grade','home_ownership','verification_status','loan_status','purpose','addr_state','initial_list_status' in one list_comprehension\n",
    "Load_dumies_Data=[pd.get_dummies(Load_DS['grade'],prefix='grade',prefix_sep=':'),\n",
    "                 pd.get_dummies(Load_DS['sub_grade'],prefix='sub_grade',prefix_sep=':'),\n",
    "                 pd.get_dummies(Load_DS['home_ownership'],prefix='home_ownership',prefix_sep=':'),\n",
    "                 pd.get_dummies(Load_DS['verification_status'],prefix='verification_status',prefix_sep=':'),\n",
    "                 pd.get_dummies(Load_DS['loan_status'],prefix='loan_status',prefix_sep=':'),\n",
    "                 pd.get_dummies(Load_DS['purpose'],prefix='purpose',prefix_sep=':'),\n",
    "                 pd.get_dummies(Load_DS['addr_state'],prefix='addr_state',prefix_sep=':'),\n",
    "                 pd.get_dummies(Load_DS['initial_list_status'],prefix='initial_list_status',prefix_sep=':')]\n",
    "                 \n",
    "                 \n",
    "                 \n",
    "Load_dumies_Data[1].head(5)                 \n",
    "                                                                                                         "
   ]
  },
  {
   "cell_type": "code",
   "execution_count": 121,
   "metadata": {
    "id": "gzWXLOe7LuT5"
   },
   "outputs": [
    {
     "data": {
      "text/html": [
       "<div>\n",
       "<style scoped>\n",
       "    .dataframe tbody tr th:only-of-type {\n",
       "        vertical-align: middle;\n",
       "    }\n",
       "\n",
       "    .dataframe tbody tr th {\n",
       "        vertical-align: top;\n",
       "    }\n",
       "\n",
       "    .dataframe thead th {\n",
       "        text-align: right;\n",
       "    }\n",
       "</style>\n",
       "<table border=\"1\" class=\"dataframe\">\n",
       "  <thead>\n",
       "    <tr style=\"text-align: right;\">\n",
       "      <th></th>\n",
       "      <th>grade:A</th>\n",
       "      <th>grade:B</th>\n",
       "      <th>grade:C</th>\n",
       "      <th>grade:D</th>\n",
       "      <th>grade:E</th>\n",
       "      <th>grade:F</th>\n",
       "      <th>grade:G</th>\n",
       "      <th>sub_grade:A1</th>\n",
       "      <th>sub_grade:A2</th>\n",
       "      <th>sub_grade:A3</th>\n",
       "      <th>...</th>\n",
       "      <th>addr_state:TX</th>\n",
       "      <th>addr_state:UT</th>\n",
       "      <th>addr_state:VA</th>\n",
       "      <th>addr_state:VT</th>\n",
       "      <th>addr_state:WA</th>\n",
       "      <th>addr_state:WI</th>\n",
       "      <th>addr_state:WV</th>\n",
       "      <th>addr_state:WY</th>\n",
       "      <th>initial_list_status:f</th>\n",
       "      <th>initial_list_status:w</th>\n",
       "    </tr>\n",
       "  </thead>\n",
       "  <tbody>\n",
       "    <tr>\n",
       "      <th>0</th>\n",
       "      <td>0</td>\n",
       "      <td>1</td>\n",
       "      <td>0</td>\n",
       "      <td>0</td>\n",
       "      <td>0</td>\n",
       "      <td>0</td>\n",
       "      <td>0</td>\n",
       "      <td>0</td>\n",
       "      <td>0</td>\n",
       "      <td>0</td>\n",
       "      <td>...</td>\n",
       "      <td>0</td>\n",
       "      <td>0</td>\n",
       "      <td>0</td>\n",
       "      <td>0</td>\n",
       "      <td>0</td>\n",
       "      <td>0</td>\n",
       "      <td>0</td>\n",
       "      <td>0</td>\n",
       "      <td>1</td>\n",
       "      <td>0</td>\n",
       "    </tr>\n",
       "    <tr>\n",
       "      <th>1</th>\n",
       "      <td>0</td>\n",
       "      <td>0</td>\n",
       "      <td>1</td>\n",
       "      <td>0</td>\n",
       "      <td>0</td>\n",
       "      <td>0</td>\n",
       "      <td>0</td>\n",
       "      <td>0</td>\n",
       "      <td>0</td>\n",
       "      <td>0</td>\n",
       "      <td>...</td>\n",
       "      <td>0</td>\n",
       "      <td>0</td>\n",
       "      <td>0</td>\n",
       "      <td>0</td>\n",
       "      <td>0</td>\n",
       "      <td>0</td>\n",
       "      <td>0</td>\n",
       "      <td>0</td>\n",
       "      <td>1</td>\n",
       "      <td>0</td>\n",
       "    </tr>\n",
       "    <tr>\n",
       "      <th>2</th>\n",
       "      <td>0</td>\n",
       "      <td>0</td>\n",
       "      <td>1</td>\n",
       "      <td>0</td>\n",
       "      <td>0</td>\n",
       "      <td>0</td>\n",
       "      <td>0</td>\n",
       "      <td>0</td>\n",
       "      <td>0</td>\n",
       "      <td>0</td>\n",
       "      <td>...</td>\n",
       "      <td>0</td>\n",
       "      <td>0</td>\n",
       "      <td>0</td>\n",
       "      <td>0</td>\n",
       "      <td>0</td>\n",
       "      <td>0</td>\n",
       "      <td>0</td>\n",
       "      <td>0</td>\n",
       "      <td>1</td>\n",
       "      <td>0</td>\n",
       "    </tr>\n",
       "    <tr>\n",
       "      <th>3</th>\n",
       "      <td>0</td>\n",
       "      <td>0</td>\n",
       "      <td>1</td>\n",
       "      <td>0</td>\n",
       "      <td>0</td>\n",
       "      <td>0</td>\n",
       "      <td>0</td>\n",
       "      <td>0</td>\n",
       "      <td>0</td>\n",
       "      <td>0</td>\n",
       "      <td>...</td>\n",
       "      <td>0</td>\n",
       "      <td>0</td>\n",
       "      <td>0</td>\n",
       "      <td>0</td>\n",
       "      <td>0</td>\n",
       "      <td>0</td>\n",
       "      <td>0</td>\n",
       "      <td>0</td>\n",
       "      <td>1</td>\n",
       "      <td>0</td>\n",
       "    </tr>\n",
       "    <tr>\n",
       "      <th>4</th>\n",
       "      <td>0</td>\n",
       "      <td>1</td>\n",
       "      <td>0</td>\n",
       "      <td>0</td>\n",
       "      <td>0</td>\n",
       "      <td>0</td>\n",
       "      <td>0</td>\n",
       "      <td>0</td>\n",
       "      <td>0</td>\n",
       "      <td>0</td>\n",
       "      <td>...</td>\n",
       "      <td>0</td>\n",
       "      <td>0</td>\n",
       "      <td>0</td>\n",
       "      <td>0</td>\n",
       "      <td>0</td>\n",
       "      <td>0</td>\n",
       "      <td>0</td>\n",
       "      <td>0</td>\n",
       "      <td>1</td>\n",
       "      <td>0</td>\n",
       "    </tr>\n",
       "    <tr>\n",
       "      <th>...</th>\n",
       "      <td>...</td>\n",
       "      <td>...</td>\n",
       "      <td>...</td>\n",
       "      <td>...</td>\n",
       "      <td>...</td>\n",
       "      <td>...</td>\n",
       "      <td>...</td>\n",
       "      <td>...</td>\n",
       "      <td>...</td>\n",
       "      <td>...</td>\n",
       "      <td>...</td>\n",
       "      <td>...</td>\n",
       "      <td>...</td>\n",
       "      <td>...</td>\n",
       "      <td>...</td>\n",
       "      <td>...</td>\n",
       "      <td>...</td>\n",
       "      <td>...</td>\n",
       "      <td>...</td>\n",
       "      <td>...</td>\n",
       "      <td>...</td>\n",
       "    </tr>\n",
       "    <tr>\n",
       "      <th>466280</th>\n",
       "      <td>0</td>\n",
       "      <td>0</td>\n",
       "      <td>1</td>\n",
       "      <td>0</td>\n",
       "      <td>0</td>\n",
       "      <td>0</td>\n",
       "      <td>0</td>\n",
       "      <td>0</td>\n",
       "      <td>0</td>\n",
       "      <td>0</td>\n",
       "      <td>...</td>\n",
       "      <td>1</td>\n",
       "      <td>0</td>\n",
       "      <td>0</td>\n",
       "      <td>0</td>\n",
       "      <td>0</td>\n",
       "      <td>0</td>\n",
       "      <td>0</td>\n",
       "      <td>0</td>\n",
       "      <td>0</td>\n",
       "      <td>1</td>\n",
       "    </tr>\n",
       "    <tr>\n",
       "      <th>466281</th>\n",
       "      <td>0</td>\n",
       "      <td>0</td>\n",
       "      <td>0</td>\n",
       "      <td>1</td>\n",
       "      <td>0</td>\n",
       "      <td>0</td>\n",
       "      <td>0</td>\n",
       "      <td>0</td>\n",
       "      <td>0</td>\n",
       "      <td>0</td>\n",
       "      <td>...</td>\n",
       "      <td>0</td>\n",
       "      <td>0</td>\n",
       "      <td>0</td>\n",
       "      <td>0</td>\n",
       "      <td>0</td>\n",
       "      <td>0</td>\n",
       "      <td>0</td>\n",
       "      <td>0</td>\n",
       "      <td>1</td>\n",
       "      <td>0</td>\n",
       "    </tr>\n",
       "    <tr>\n",
       "      <th>466282</th>\n",
       "      <td>0</td>\n",
       "      <td>0</td>\n",
       "      <td>0</td>\n",
       "      <td>1</td>\n",
       "      <td>0</td>\n",
       "      <td>0</td>\n",
       "      <td>0</td>\n",
       "      <td>0</td>\n",
       "      <td>0</td>\n",
       "      <td>0</td>\n",
       "      <td>...</td>\n",
       "      <td>0</td>\n",
       "      <td>0</td>\n",
       "      <td>0</td>\n",
       "      <td>0</td>\n",
       "      <td>0</td>\n",
       "      <td>0</td>\n",
       "      <td>0</td>\n",
       "      <td>0</td>\n",
       "      <td>1</td>\n",
       "      <td>0</td>\n",
       "    </tr>\n",
       "    <tr>\n",
       "      <th>466283</th>\n",
       "      <td>1</td>\n",
       "      <td>0</td>\n",
       "      <td>0</td>\n",
       "      <td>0</td>\n",
       "      <td>0</td>\n",
       "      <td>0</td>\n",
       "      <td>0</td>\n",
       "      <td>0</td>\n",
       "      <td>0</td>\n",
       "      <td>0</td>\n",
       "      <td>...</td>\n",
       "      <td>0</td>\n",
       "      <td>0</td>\n",
       "      <td>0</td>\n",
       "      <td>0</td>\n",
       "      <td>0</td>\n",
       "      <td>0</td>\n",
       "      <td>0</td>\n",
       "      <td>0</td>\n",
       "      <td>0</td>\n",
       "      <td>1</td>\n",
       "    </tr>\n",
       "    <tr>\n",
       "      <th>466284</th>\n",
       "      <td>0</td>\n",
       "      <td>0</td>\n",
       "      <td>0</td>\n",
       "      <td>1</td>\n",
       "      <td>0</td>\n",
       "      <td>0</td>\n",
       "      <td>0</td>\n",
       "      <td>0</td>\n",
       "      <td>0</td>\n",
       "      <td>0</td>\n",
       "      <td>...</td>\n",
       "      <td>0</td>\n",
       "      <td>0</td>\n",
       "      <td>0</td>\n",
       "      <td>0</td>\n",
       "      <td>0</td>\n",
       "      <td>0</td>\n",
       "      <td>0</td>\n",
       "      <td>0</td>\n",
       "      <td>1</td>\n",
       "      <td>0</td>\n",
       "    </tr>\n",
       "  </tbody>\n",
       "</table>\n",
       "<p>466285 rows × 126 columns</p>\n",
       "</div>"
      ],
      "text/plain": [
       "        grade:A  grade:B  grade:C  grade:D  grade:E  grade:F  grade:G  \\\n",
       "0             0        1        0        0        0        0        0   \n",
       "1             0        0        1        0        0        0        0   \n",
       "2             0        0        1        0        0        0        0   \n",
       "3             0        0        1        0        0        0        0   \n",
       "4             0        1        0        0        0        0        0   \n",
       "...         ...      ...      ...      ...      ...      ...      ...   \n",
       "466280        0        0        1        0        0        0        0   \n",
       "466281        0        0        0        1        0        0        0   \n",
       "466282        0        0        0        1        0        0        0   \n",
       "466283        1        0        0        0        0        0        0   \n",
       "466284        0        0        0        1        0        0        0   \n",
       "\n",
       "        sub_grade:A1  sub_grade:A2  sub_grade:A3  ...  addr_state:TX  \\\n",
       "0                  0             0             0  ...              0   \n",
       "1                  0             0             0  ...              0   \n",
       "2                  0             0             0  ...              0   \n",
       "3                  0             0             0  ...              0   \n",
       "4                  0             0             0  ...              0   \n",
       "...              ...           ...           ...  ...            ...   \n",
       "466280             0             0             0  ...              1   \n",
       "466281             0             0             0  ...              0   \n",
       "466282             0             0             0  ...              0   \n",
       "466283             0             0             0  ...              0   \n",
       "466284             0             0             0  ...              0   \n",
       "\n",
       "        addr_state:UT  addr_state:VA  addr_state:VT  addr_state:WA  \\\n",
       "0                   0              0              0              0   \n",
       "1                   0              0              0              0   \n",
       "2                   0              0              0              0   \n",
       "3                   0              0              0              0   \n",
       "4                   0              0              0              0   \n",
       "...               ...            ...            ...            ...   \n",
       "466280              0              0              0              0   \n",
       "466281              0              0              0              0   \n",
       "466282              0              0              0              0   \n",
       "466283              0              0              0              0   \n",
       "466284              0              0              0              0   \n",
       "\n",
       "        addr_state:WI  addr_state:WV  addr_state:WY  initial_list_status:f  \\\n",
       "0                   0              0              0                      1   \n",
       "1                   0              0              0                      1   \n",
       "2                   0              0              0                      1   \n",
       "3                   0              0              0                      1   \n",
       "4                   0              0              0                      1   \n",
       "...               ...            ...            ...                    ...   \n",
       "466280              0              0              0                      0   \n",
       "466281              0              0              0                      1   \n",
       "466282              0              0              0                      1   \n",
       "466283              0              0              0                      0   \n",
       "466284              0              0              0                      1   \n",
       "\n",
       "        initial_list_status:w  \n",
       "0                           0  \n",
       "1                           0  \n",
       "2                           0  \n",
       "3                           0  \n",
       "4                           0  \n",
       "...                       ...  \n",
       "466280                      1  \n",
       "466281                      0  \n",
       "466282                      0  \n",
       "466283                      1  \n",
       "466284                      0  \n",
       "\n",
       "[466285 rows x 126 columns]"
      ]
     },
     "execution_count": 121,
     "metadata": {},
     "output_type": "execute_result"
    }
   ],
   "source": [
    "#concat all elements in the list and create a dataframe\n",
    "Load_dumies_Data=pd.concat(Load_dumies_Data, axis=1)\n",
    "\n",
    "#check the dummy var dataframe\n",
    "Load_dumies_Data"
   ]
  },
  {
   "cell_type": "code",
   "execution_count": 122,
   "metadata": {
    "id": "x7MWxiTzLuUm"
   },
   "outputs": [],
   "source": [
    "#conact this dummy var dataframe with the original Load_DS dataframe\n",
    "Load_DS=pd.concat([Load_DS,Load_dumies_Data], axis=1)"
   ]
  },
  {
   "cell_type": "code",
   "execution_count": 123,
   "metadata": {
    "id": "WI-6oHKXLuUn",
    "outputId": "23bc1241-946d-4324-ace6-12003507f7bf"
   },
   "outputs": [
    {
     "data": {
      "text/plain": [
       "array(['Unnamed: 0', 'id', 'member_id', 'loan_amnt', 'funded_amnt',\n",
       "       'funded_amnt_inv', 'term', 'int_rate', 'installment', 'grade',\n",
       "       'sub_grade', 'emp_title', 'emp_length', 'home_ownership',\n",
       "       'annual_inc', 'verification_status', 'issue_d', 'loan_status',\n",
       "       'pymnt_plan', 'url', 'desc', 'purpose', 'title', 'zip_code',\n",
       "       'addr_state', 'dti', 'delinq_2yrs', 'earliest_cr_line',\n",
       "       'inq_last_6mths', 'mths_since_last_delinq',\n",
       "       'mths_since_last_record', 'open_acc', 'pub_rec', 'revol_bal',\n",
       "       'revol_util', 'total_acc', 'initial_list_status', 'out_prncp',\n",
       "       'out_prncp_inv', 'total_pymnt', 'total_pymnt_inv',\n",
       "       'total_rec_prncp', 'total_rec_int', 'total_rec_late_fee',\n",
       "       'recoveries', 'collection_recovery_fee', 'last_pymnt_d',\n",
       "       'last_pymnt_amnt', 'next_pymnt_d', 'last_credit_pull_d',\n",
       "       'collections_12_mths_ex_med', 'mths_since_last_major_derog',\n",
       "       'policy_code', 'application_type', 'annual_inc_joint', 'dti_joint',\n",
       "       'verification_status_joint', 'acc_now_delinq', 'tot_coll_amt',\n",
       "       'tot_cur_bal', 'open_acc_6m', 'open_il_6m', 'open_il_12m',\n",
       "       'open_il_24m', 'mths_since_rcnt_il', 'total_bal_il', 'il_util',\n",
       "       'open_rv_12m', 'open_rv_24m', 'max_bal_bc', 'all_util',\n",
       "       'total_rev_hi_lim', 'inq_fi', 'total_cu_tl', 'inq_last_12m',\n",
       "       'emp_length_int', 'term_int', 'earliest_cr_line_date',\n",
       "       'mths_since_earliest_cr_line', 'issue_date',\n",
       "       'months_since_issue_date', 'grade:A', 'grade:B', 'grade:C',\n",
       "       'grade:D', 'grade:E', 'grade:F', 'grade:G', 'sub_grade:A1',\n",
       "       'sub_grade:A2', 'sub_grade:A3', 'sub_grade:A4', 'sub_grade:A5',\n",
       "       'sub_grade:B1', 'sub_grade:B2', 'sub_grade:B3', 'sub_grade:B4',\n",
       "       'sub_grade:B5', 'sub_grade:C1', 'sub_grade:C2', 'sub_grade:C3',\n",
       "       'sub_grade:C4', 'sub_grade:C5', 'sub_grade:D1', 'sub_grade:D2',\n",
       "       'sub_grade:D3', 'sub_grade:D4', 'sub_grade:D5', 'sub_grade:E1',\n",
       "       'sub_grade:E2', 'sub_grade:E3', 'sub_grade:E4', 'sub_grade:E5',\n",
       "       'sub_grade:F1', 'sub_grade:F2', 'sub_grade:F3', 'sub_grade:F4',\n",
       "       'sub_grade:F5', 'sub_grade:G1', 'sub_grade:G2', 'sub_grade:G3',\n",
       "       'sub_grade:G4', 'sub_grade:G5', 'home_ownership:ANY',\n",
       "       'home_ownership:MORTGAGE', 'home_ownership:NONE',\n",
       "       'home_ownership:OTHER', 'home_ownership:OWN',\n",
       "       'home_ownership:RENT', 'verification_status:Not Verified',\n",
       "       'verification_status:Source Verified',\n",
       "       'verification_status:Verified', 'loan_status:Charged Off',\n",
       "       'loan_status:Current', 'loan_status:Default',\n",
       "       'loan_status:Does not meet the credit policy. Status:Charged Off',\n",
       "       'loan_status:Does not meet the credit policy. Status:Fully Paid',\n",
       "       'loan_status:Fully Paid', 'loan_status:In Grace Period',\n",
       "       'loan_status:Late (16-30 days)', 'loan_status:Late (31-120 days)',\n",
       "       'purpose:car', 'purpose:credit_card', 'purpose:debt_consolidation',\n",
       "       'purpose:educational', 'purpose:home_improvement', 'purpose:house',\n",
       "       'purpose:major_purchase', 'purpose:medical', 'purpose:moving',\n",
       "       'purpose:other', 'purpose:renewable_energy',\n",
       "       'purpose:small_business', 'purpose:vacation', 'purpose:wedding',\n",
       "       'addr_state:AK', 'addr_state:AL', 'addr_state:AR', 'addr_state:AZ',\n",
       "       'addr_state:CA', 'addr_state:CO', 'addr_state:CT', 'addr_state:DC',\n",
       "       'addr_state:DE', 'addr_state:FL', 'addr_state:GA', 'addr_state:HI',\n",
       "       'addr_state:IA', 'addr_state:ID', 'addr_state:IL', 'addr_state:IN',\n",
       "       'addr_state:KS', 'addr_state:KY', 'addr_state:LA', 'addr_state:MA',\n",
       "       'addr_state:MD', 'addr_state:ME', 'addr_state:MI', 'addr_state:MN',\n",
       "       'addr_state:MO', 'addr_state:MS', 'addr_state:MT', 'addr_state:NC',\n",
       "       'addr_state:NE', 'addr_state:NH', 'addr_state:NJ', 'addr_state:NM',\n",
       "       'addr_state:NV', 'addr_state:NY', 'addr_state:OH', 'addr_state:OK',\n",
       "       'addr_state:OR', 'addr_state:PA', 'addr_state:RI', 'addr_state:SC',\n",
       "       'addr_state:SD', 'addr_state:TN', 'addr_state:TX', 'addr_state:UT',\n",
       "       'addr_state:VA', 'addr_state:VT', 'addr_state:WA', 'addr_state:WI',\n",
       "       'addr_state:WV', 'addr_state:WY', 'initial_list_status:f',\n",
       "       'initial_list_status:w'], dtype=object)"
      ]
     },
     "execution_count": 123,
     "metadata": {},
     "output_type": "execute_result"
    }
   ],
   "source": [
    "#check the column names\n",
    "Load_DS.columns.values"
   ]
  },
  {
   "cell_type": "markdown",
   "metadata": {
    "id": "DZO9xlR8LuUn"
   },
   "source": [
    "##### Missing Values imputation"
   ]
  },
  {
   "cell_type": "code",
   "execution_count": 124,
   "metadata": {
    "id": "4seQhBu8LuUn",
    "outputId": "525b9b3b-5a97-4c75-9dc9-079115711843"
   },
   "outputs": [
    {
     "data": {
      "text/plain": [
       "Unnamed: 0                                                              0\n",
       "id                                                                      0\n",
       "member_id                                                               0\n",
       "loan_amnt                                                               0\n",
       "funded_amnt                                                             0\n",
       "funded_amnt_inv                                                         0\n",
       "term                                                                    0\n",
       "int_rate                                                                0\n",
       "installment                                                             0\n",
       "grade                                                                   0\n",
       "sub_grade                                                               0\n",
       "emp_title                                                           27588\n",
       "emp_length                                                          21008\n",
       "home_ownership                                                          0\n",
       "annual_inc                                                              4\n",
       "verification_status                                                     0\n",
       "issue_d                                                                 0\n",
       "loan_status                                                             0\n",
       "pymnt_plan                                                              0\n",
       "url                                                                     0\n",
       "desc                                                               340302\n",
       "purpose                                                                 0\n",
       "title                                                                  20\n",
       "zip_code                                                                0\n",
       "addr_state                                                              0\n",
       "dti                                                                     0\n",
       "delinq_2yrs                                                            29\n",
       "earliest_cr_line                                                       29\n",
       "inq_last_6mths                                                         29\n",
       "mths_since_last_delinq                                             250351\n",
       "mths_since_last_record                                             403647\n",
       "open_acc                                                               29\n",
       "pub_rec                                                                29\n",
       "revol_bal                                                               0\n",
       "revol_util                                                            340\n",
       "total_acc                                                              29\n",
       "initial_list_status                                                     0\n",
       "out_prncp                                                               0\n",
       "out_prncp_inv                                                           0\n",
       "total_pymnt                                                             0\n",
       "total_pymnt_inv                                                         0\n",
       "total_rec_prncp                                                         0\n",
       "total_rec_int                                                           0\n",
       "total_rec_late_fee                                                      0\n",
       "recoveries                                                              0\n",
       "collection_recovery_fee                                                 0\n",
       "last_pymnt_d                                                          376\n",
       "last_pymnt_amnt                                                         0\n",
       "next_pymnt_d                                                       227214\n",
       "last_credit_pull_d                                                     42\n",
       "collections_12_mths_ex_med                                            145\n",
       "mths_since_last_major_derog                                        367311\n",
       "policy_code                                                             0\n",
       "application_type                                                        0\n",
       "annual_inc_joint                                                   466285\n",
       "dti_joint                                                          466285\n",
       "verification_status_joint                                          466285\n",
       "acc_now_delinq                                                         29\n",
       "tot_coll_amt                                                        70276\n",
       "tot_cur_bal                                                         70276\n",
       "open_acc_6m                                                        466285\n",
       "open_il_6m                                                         466285\n",
       "open_il_12m                                                        466285\n",
       "open_il_24m                                                        466285\n",
       "mths_since_rcnt_il                                                 466285\n",
       "total_bal_il                                                       466285\n",
       "il_util                                                            466285\n",
       "open_rv_12m                                                        466285\n",
       "open_rv_24m                                                        466285\n",
       "max_bal_bc                                                         466285\n",
       "all_util                                                           466285\n",
       "total_rev_hi_lim                                                    70276\n",
       "inq_fi                                                             466285\n",
       "total_cu_tl                                                        466285\n",
       "inq_last_12m                                                       466285\n",
       "emp_length_int                                                      21008\n",
       "term_int                                                                0\n",
       "earliest_cr_line_date                                                  29\n",
       "mths_since_earliest_cr_line                                            29\n",
       "issue_date                                                              0\n",
       "months_since_issue_date                                                 0\n",
       "grade:A                                                                 0\n",
       "grade:B                                                                 0\n",
       "grade:C                                                                 0\n",
       "grade:D                                                                 0\n",
       "grade:E                                                                 0\n",
       "grade:F                                                                 0\n",
       "grade:G                                                                 0\n",
       "sub_grade:A1                                                            0\n",
       "sub_grade:A2                                                            0\n",
       "sub_grade:A3                                                            0\n",
       "sub_grade:A4                                                            0\n",
       "sub_grade:A5                                                            0\n",
       "sub_grade:B1                                                            0\n",
       "sub_grade:B2                                                            0\n",
       "sub_grade:B3                                                            0\n",
       "sub_grade:B4                                                            0\n",
       "sub_grade:B5                                                            0\n",
       "sub_grade:C1                                                            0\n",
       "sub_grade:C2                                                            0\n",
       "sub_grade:C3                                                            0\n",
       "sub_grade:C4                                                            0\n",
       "sub_grade:C5                                                            0\n",
       "sub_grade:D1                                                            0\n",
       "sub_grade:D2                                                            0\n",
       "sub_grade:D3                                                            0\n",
       "sub_grade:D4                                                            0\n",
       "sub_grade:D5                                                            0\n",
       "sub_grade:E1                                                            0\n",
       "sub_grade:E2                                                            0\n",
       "sub_grade:E3                                                            0\n",
       "sub_grade:E4                                                            0\n",
       "sub_grade:E5                                                            0\n",
       "sub_grade:F1                                                            0\n",
       "sub_grade:F2                                                            0\n",
       "sub_grade:F3                                                            0\n",
       "sub_grade:F4                                                            0\n",
       "sub_grade:F5                                                            0\n",
       "sub_grade:G1                                                            0\n",
       "sub_grade:G2                                                            0\n",
       "sub_grade:G3                                                            0\n",
       "sub_grade:G4                                                            0\n",
       "sub_grade:G5                                                            0\n",
       "home_ownership:ANY                                                      0\n",
       "home_ownership:MORTGAGE                                                 0\n",
       "home_ownership:NONE                                                     0\n",
       "home_ownership:OTHER                                                    0\n",
       "home_ownership:OWN                                                      0\n",
       "home_ownership:RENT                                                     0\n",
       "verification_status:Not Verified                                        0\n",
       "verification_status:Source Verified                                     0\n",
       "verification_status:Verified                                            0\n",
       "loan_status:Charged Off                                                 0\n",
       "loan_status:Current                                                     0\n",
       "loan_status:Default                                                     0\n",
       "loan_status:Does not meet the credit policy. Status:Charged Off         0\n",
       "loan_status:Does not meet the credit policy. Status:Fully Paid          0\n",
       "loan_status:Fully Paid                                                  0\n",
       "loan_status:In Grace Period                                             0\n",
       "loan_status:Late (16-30 days)                                           0\n",
       "loan_status:Late (31-120 days)                                          0\n",
       "purpose:car                                                             0\n",
       "purpose:credit_card                                                     0\n",
       "purpose:debt_consolidation                                              0\n",
       "purpose:educational                                                     0\n",
       "purpose:home_improvement                                                0\n",
       "purpose:house                                                           0\n",
       "purpose:major_purchase                                                  0\n",
       "purpose:medical                                                         0\n",
       "purpose:moving                                                          0\n",
       "purpose:other                                                           0\n",
       "purpose:renewable_energy                                                0\n",
       "purpose:small_business                                                  0\n",
       "purpose:vacation                                                        0\n",
       "purpose:wedding                                                         0\n",
       "addr_state:AK                                                           0\n",
       "addr_state:AL                                                           0\n",
       "addr_state:AR                                                           0\n",
       "addr_state:AZ                                                           0\n",
       "addr_state:CA                                                           0\n",
       "addr_state:CO                                                           0\n",
       "addr_state:CT                                                           0\n",
       "addr_state:DC                                                           0\n",
       "addr_state:DE                                                           0\n",
       "addr_state:FL                                                           0\n",
       "addr_state:GA                                                           0\n",
       "addr_state:HI                                                           0\n",
       "addr_state:IA                                                           0\n",
       "addr_state:ID                                                           0\n",
       "addr_state:IL                                                           0\n",
       "addr_state:IN                                                           0\n",
       "addr_state:KS                                                           0\n",
       "addr_state:KY                                                           0\n",
       "addr_state:LA                                                           0\n",
       "addr_state:MA                                                           0\n",
       "addr_state:MD                                                           0\n",
       "addr_state:ME                                                           0\n",
       "addr_state:MI                                                           0\n",
       "addr_state:MN                                                           0\n",
       "addr_state:MO                                                           0\n",
       "addr_state:MS                                                           0\n",
       "addr_state:MT                                                           0\n",
       "addr_state:NC                                                           0\n",
       "addr_state:NE                                                           0\n",
       "addr_state:NH                                                           0\n",
       "addr_state:NJ                                                           0\n",
       "addr_state:NM                                                           0\n",
       "addr_state:NV                                                           0\n",
       "addr_state:NY                                                           0\n",
       "addr_state:OH                                                           0\n",
       "addr_state:OK                                                           0\n",
       "addr_state:OR                                                           0\n",
       "addr_state:PA                                                           0\n",
       "addr_state:RI                                                           0\n",
       "addr_state:SC                                                           0\n",
       "addr_state:SD                                                           0\n",
       "addr_state:TN                                                           0\n",
       "addr_state:TX                                                           0\n",
       "addr_state:UT                                                           0\n",
       "addr_state:VA                                                           0\n",
       "addr_state:VT                                                           0\n",
       "addr_state:WA                                                           0\n",
       "addr_state:WI                                                           0\n",
       "addr_state:WV                                                           0\n",
       "addr_state:WY                                                           0\n",
       "initial_list_status:f                                                   0\n",
       "initial_list_status:w                                                   0\n",
       "dtype: int64"
      ]
     },
     "execution_count": 124,
     "metadata": {},
     "output_type": "execute_result"
    }
   ],
   "source": [
    "pd.options.display.max_rows = None\n",
    "\n",
    "#check for missing values and print the sum of all null values of all columns\n",
    "Load_DS.isnull().sum()"
   ]
  },
  {
   "cell_type": "code",
   "execution_count": 125,
   "metadata": {
    "id": "v1C1LytqLuUo",
    "outputId": "21309e10-4be0-47c7-fef4-5765063e8b4d"
   },
   "outputs": [
    {
     "data": {
      "text/plain": [
       "0"
      ]
     },
     "execution_count": 125,
     "metadata": {},
     "output_type": "execute_result"
    }
   ],
   "source": [
    "#CHeck the null values for Total revenue high credit limit column and \n",
    "#replace them with vlaues in funded_amount column in our data set\n",
    "Load_DS['total_rev_hi_lim'].fillna(Load_DS['funded_amnt'], inplace = True)\n",
    "\n",
    "#Check the null values post filling\n",
    "Load_DS['total_rev_hi_lim'].isna().sum()"
   ]
  },
  {
   "cell_type": "code",
   "execution_count": 126,
   "metadata": {
    "id": "eLSd-JUnLuUo"
   },
   "outputs": [],
   "source": [
    "pd.options.display.max_rows =100"
   ]
  },
  {
   "cell_type": "code",
   "execution_count": 127,
   "metadata": {
    "id": "to6_dzQ-LuUp"
   },
   "outputs": [
    {
     "data": {
      "text/plain": [
       "0"
      ]
     },
     "execution_count": 127,
     "metadata": {},
     "output_type": "execute_result"
    }
   ],
   "source": [
    "#similarly fill the 'annual_inc' null values with mean value of 'annual_inc' column\n",
    "Load_DS['annual_inc'].fillna(Load_DS['annual_inc'].mean(), inplace = True)\n",
    "\n",
    "#Check the null values post filling\n",
    "Load_DS['annual_inc'].isnull().sum()"
   ]
  },
  {
   "cell_type": "code",
   "execution_count": 128,
   "metadata": {
    "id": "nlBTItlfLuUp"
   },
   "outputs": [],
   "source": [
    "#fill all null values in column 'mths_since_earliest_cr_line',acc_now_delinq, total_acc,\n",
    "# pub_rec, open_acc, inq_last_6mths, delinq_2yrs,emp_length_int with '0'\n",
    "Load_DS['mths_since_earliest_cr_line'].fillna('0', inplace = True)\n",
    "Load_DS['acc_now_delinq'].fillna('0', inplace = True)\n",
    "Load_DS['total_acc'].fillna('0', inplace = True)\n",
    "Load_DS['pub_rec'].fillna('0',inplace=True)\n",
    "Load_DS['open_acc'].fillna('0',inplace=True)\n",
    "Load_DS['inq_last_6mths'].fillna('0',inplace=True)\n",
    "Load_DS['delinq_2yrs'].fillna('0',inplace=True)\n",
    "Load_DS['emp_length_int'].fillna('0',inplace=True)"
   ]
  },
  {
   "cell_type": "code",
   "execution_count": 129,
   "metadata": {},
   "outputs": [
    {
     "data": {
      "text/plain": [
       "0"
      ]
     },
     "execution_count": 129,
     "metadata": {},
     "output_type": "execute_result"
    }
   ],
   "source": [
    "#check the null values in the dataset again\n",
    "Load_DS['inq_last_6mths'].isnull().sum()"
   ]
  },
  {
   "cell_type": "markdown",
   "metadata": {
    "id": "cx4deYvuLuUr"
   },
   "source": [
    "##### PD(PROBABLITY OF DEFAULT)\n",
    "- analyzing the probability that the customer who has taken the loan will not pay the loan o time \n",
    "\n",
    "Building the Weight of expetency values"
   ]
  },
  {
   "cell_type": "code",
   "execution_count": 130,
   "metadata": {
    "id": "mNE6QglaLuUr",
    "outputId": "cb53b206-8848-4720-a263-01cbe4916032"
   },
   "outputs": [
    {
     "data": {
      "text/plain": [
       "array(['Fully Paid', 'Charged Off', 'Current', 'Default',\n",
       "       'Late (31-120 days)', 'In Grace Period', 'Late (16-30 days)',\n",
       "       'Does not meet the credit policy. Status:Fully Paid',\n",
       "       'Does not meet the credit policy. Status:Charged Off'],\n",
       "      dtype=object)"
      ]
     },
     "execution_count": 130,
     "metadata": {},
     "output_type": "execute_result"
    }
   ],
   "source": [
    "#check the unique values in our final output column i.e 'loan_status'\n",
    "Load_DS['loan_status'].unique()"
   ]
  },
  {
   "cell_type": "code",
   "execution_count": 131,
   "metadata": {
    "id": "L7oFpKy0LuUr",
    "outputId": "1d774f17-c765-4a98-f71a-10dd8618d8d3"
   },
   "outputs": [
    {
     "data": {
      "text/plain": [
       "Current                                                224226\n",
       "Fully Paid                                             184739\n",
       "Charged Off                                             42475\n",
       "Late (31-120 days)                                       6900\n",
       "In Grace Period                                          3146\n",
       "Does not meet the credit policy. Status:Fully Paid       1988\n",
       "Late (16-30 days)                                        1218\n",
       "Default                                                   832\n",
       "Does not meet the credit policy. Status:Charged Off       761\n",
       "Name: loan_status, dtype: int64"
      ]
     },
     "execution_count": 131,
     "metadata": {},
     "output_type": "execute_result"
    }
   ],
   "source": [
    "#chekc the value_counts for loan_status\n",
    "Load_DS['loan_status'].value_counts()"
   ]
  },
  {
   "cell_type": "code",
   "execution_count": 132,
   "metadata": {
    "id": "lKgujersLuUs",
    "outputId": "17335ee0-9c5f-4e94-af2c-9d4e0d2bc753"
   },
   "outputs": [
    {
     "data": {
      "text/plain": [
       "Current                                                0.480878\n",
       "Fully Paid                                             0.396193\n",
       "Charged Off                                            0.091092\n",
       "Late (31-120 days)                                     0.014798\n",
       "In Grace Period                                        0.006747\n",
       "Does not meet the credit policy. Status:Fully Paid     0.004263\n",
       "Late (16-30 days)                                      0.002612\n",
       "Default                                                0.001784\n",
       "Does not meet the credit policy. Status:Charged Off    0.001632\n",
       "Name: loan_status, dtype: float64"
      ]
     },
     "execution_count": 132,
     "metadata": {},
     "output_type": "execute_result"
    }
   ],
   "source": [
    "#check the percentage of distribution\n",
    "Load_DS['loan_status'].value_counts()/Load_DS['loan_status'].count()"
   ]
  },
  {
   "cell_type": "markdown",
   "metadata": {},
   "source": [
    "Binary encoding of our target variable replacing 'Fully paid','Current', \n",
    "'Does not meet the credit policy. Status:Fully Paid, Late (16-30 days)' with 1 and rest with 0"
   ]
  },
  {
   "cell_type": "code",
   "execution_count": 133,
   "metadata": {
    "id": "dH_ggUu4LuUs"
   },
   "outputs": [],
   "source": [
    "#Binary encoding of our target variable\n",
    "Load_DS['good_bad']=np.where(Load_DS['loan_status'].isin(\n",
    "    ['Charged Off','Default','Does not meet the credit policy. Status:Charged Off','Late (31-120 days)']\n",
    "),0,1)"
   ]
  },
  {
   "cell_type": "code",
   "execution_count": 134,
   "metadata": {
    "id": "jiH96MLoLuUs",
    "outputId": "121fe0d6-caae-4a52-a919-bbc9526ef80b"
   },
   "outputs": [],
   "source": [
    "X = Load_DS.drop('good_bad', axis = 1)\n",
    "y = Load_DS['good_bad']"
   ]
  },
  {
   "cell_type": "code",
   "execution_count": 135,
   "metadata": {
    "id": "kEd8dd5sLuUt"
   },
   "outputs": [],
   "source": [
    "#import train-test split\n",
    "from sklearn.model_selection import train_test_split"
   ]
  },
  {
   "cell_type": "code",
   "execution_count": 136,
   "metadata": {
    "id": "dMAN34IVLuUu"
   },
   "outputs": [],
   "source": [
    "#applying the train_test split\n",
    "X_train,X_test,y_train,y_test=train_test_split(X, y,test_size=0.2,random_state=1)"
   ]
  },
  {
   "cell_type": "code",
   "execution_count": 137,
   "metadata": {
    "id": "mbpQzqR6LuUv",
    "outputId": "739f2f2c-b1e0-42a2-f495-2f7dc1c14627"
   },
   "outputs": [
    {
     "data": {
      "text/plain": [
       "(373028, 207)"
      ]
     },
     "metadata": {},
     "output_type": "display_data"
    },
    {
     "data": {
      "text/plain": [
       "(373028,)"
      ]
     },
     "metadata": {},
     "output_type": "display_data"
    },
    {
     "data": {
      "text/plain": [
       "(93257, 207)"
      ]
     },
     "metadata": {},
     "output_type": "display_data"
    },
    {
     "data": {
      "text/plain": [
       "(93257,)"
      ]
     },
     "metadata": {},
     "output_type": "display_data"
    }
   ],
   "source": [
    "#check the shape of training and testing dataset:\n",
    "display(X_train.shape, y_train.shape)\n",
    "display(X_test.shape, y_test.shape)"
   ]
  },
  {
   "cell_type": "markdown",
   "metadata": {
    "id": "4Yt28aAHLuUw"
   },
   "source": [
    "### DATA PREPARATION"
   ]
  },
  {
   "cell_type": "code",
   "execution_count": 138,
   "metadata": {
    "id": "dI1mKqykLuUw"
   },
   "outputs": [],
   "source": [
    "#Data prepartion to build the score-card:\n",
    "df_inputs_prepr = X_train\n",
    "df_targets_prepr = y_train"
   ]
  },
  {
   "cell_type": "code",
   "execution_count": 139,
   "metadata": {
    "id": "pgruzsoyLuUw",
    "outputId": "3fb9c0ad-80ea-4bc9-9655-c5e7be9d6b9d"
   },
   "outputs": [
    {
     "data": {
      "text/plain": [
       "array(['B', 'C', 'F', 'A', 'D', 'E', 'G'], dtype=object)"
      ]
     },
     "execution_count": 139,
     "metadata": {},
     "output_type": "execute_result"
    }
   ],
   "source": [
    "#check the unique values for 'grade' column\n",
    "df_inputs_prepr['grade'].unique()"
   ]
  },
  {
   "cell_type": "code",
   "execution_count": 148,
   "metadata": {
    "id": "hqzup4FbLuUw",
    "outputId": "bb55f6f9-5f7c-4a3c-b50f-d7565622d9bf"
   },
   "outputs": [
    {
     "data": {
      "text/html": [
       "<div>\n",
       "<style scoped>\n",
       "    .dataframe tbody tr th:only-of-type {\n",
       "        vertical-align: middle;\n",
       "    }\n",
       "\n",
       "    .dataframe tbody tr th {\n",
       "        vertical-align: top;\n",
       "    }\n",
       "\n",
       "    .dataframe thead th {\n",
       "        text-align: right;\n",
       "    }\n",
       "</style>\n",
       "<table border=\"1\" class=\"dataframe\">\n",
       "  <thead>\n",
       "    <tr style=\"text-align: right;\">\n",
       "      <th></th>\n",
       "      <th>grade</th>\n",
       "      <th>good_bad</th>\n",
       "    </tr>\n",
       "  </thead>\n",
       "  <tbody>\n",
       "    <tr>\n",
       "      <th>403678</th>\n",
       "      <td>B</td>\n",
       "      <td>1</td>\n",
       "    </tr>\n",
       "    <tr>\n",
       "      <th>241492</th>\n",
       "      <td>C</td>\n",
       "      <td>1</td>\n",
       "    </tr>\n",
       "    <tr>\n",
       "      <th>15864</th>\n",
       "      <td>C</td>\n",
       "      <td>0</td>\n",
       "    </tr>\n",
       "    <tr>\n",
       "      <th>320277</th>\n",
       "      <td>C</td>\n",
       "      <td>1</td>\n",
       "    </tr>\n",
       "    <tr>\n",
       "      <th>299829</th>\n",
       "      <td>B</td>\n",
       "      <td>1</td>\n",
       "    </tr>\n",
       "    <tr>\n",
       "      <th>...</th>\n",
       "      <td>...</td>\n",
       "      <td>...</td>\n",
       "    </tr>\n",
       "    <tr>\n",
       "      <th>73349</th>\n",
       "      <td>G</td>\n",
       "      <td>1</td>\n",
       "    </tr>\n",
       "    <tr>\n",
       "      <th>371403</th>\n",
       "      <td>E</td>\n",
       "      <td>1</td>\n",
       "    </tr>\n",
       "    <tr>\n",
       "      <th>312201</th>\n",
       "      <td>A</td>\n",
       "      <td>1</td>\n",
       "    </tr>\n",
       "    <tr>\n",
       "      <th>267336</th>\n",
       "      <td>C</td>\n",
       "      <td>1</td>\n",
       "    </tr>\n",
       "    <tr>\n",
       "      <th>128037</th>\n",
       "      <td>B</td>\n",
       "      <td>1</td>\n",
       "    </tr>\n",
       "  </tbody>\n",
       "</table>\n",
       "<p>373028 rows × 2 columns</p>\n",
       "</div>"
      ],
      "text/plain": [
       "       grade  good_bad\n",
       "403678     B         1\n",
       "241492     C         1\n",
       "15864      C         0\n",
       "320277     C         1\n",
       "299829     B         1\n",
       "...      ...       ...\n",
       "73349      G         1\n",
       "371403     E         1\n",
       "312201     A         1\n",
       "267336     C         1\n",
       "128037     B         1\n",
       "\n",
       "[373028 rows x 2 columns]"
      ]
     },
     "execution_count": 148,
     "metadata": {},
     "output_type": "execute_result"
    }
   ],
   "source": [
    "#concat grade with df_target_prepr col and create a dataframe\n",
    "df1= pd.concat([df_inputs_prepr['grade'], df_targets_prepr],axis=1)\n",
    "df1"
   ]
  },
  {
   "cell_type": "code",
   "execution_count": 149,
   "metadata": {},
   "outputs": [
    {
     "data": {
      "text/html": [
       "<div>\n",
       "<style scoped>\n",
       "    .dataframe tbody tr th:only-of-type {\n",
       "        vertical-align: middle;\n",
       "    }\n",
       "\n",
       "    .dataframe tbody tr th {\n",
       "        vertical-align: top;\n",
       "    }\n",
       "\n",
       "    .dataframe thead th {\n",
       "        text-align: right;\n",
       "    }\n",
       "</style>\n",
       "<table border=\"1\" class=\"dataframe\">\n",
       "  <thead>\n",
       "    <tr style=\"text-align: right;\">\n",
       "      <th></th>\n",
       "      <th>grade</th>\n",
       "      <th>good_bad</th>\n",
       "    </tr>\n",
       "  </thead>\n",
       "  <tbody>\n",
       "    <tr>\n",
       "      <th>0</th>\n",
       "      <td>A</td>\n",
       "      <td>59962</td>\n",
       "    </tr>\n",
       "    <tr>\n",
       "      <th>1</th>\n",
       "      <td>B</td>\n",
       "      <td>109582</td>\n",
       "    </tr>\n",
       "    <tr>\n",
       "      <th>2</th>\n",
       "      <td>C</td>\n",
       "      <td>100255</td>\n",
       "    </tr>\n",
       "    <tr>\n",
       "      <th>3</th>\n",
       "      <td>D</td>\n",
       "      <td>61390</td>\n",
       "    </tr>\n",
       "    <tr>\n",
       "      <th>4</th>\n",
       "      <td>E</td>\n",
       "      <td>28602</td>\n",
       "    </tr>\n",
       "    <tr>\n",
       "      <th>5</th>\n",
       "      <td>F</td>\n",
       "      <td>10581</td>\n",
       "    </tr>\n",
       "    <tr>\n",
       "      <th>6</th>\n",
       "      <td>G</td>\n",
       "      <td>2656</td>\n",
       "    </tr>\n",
       "  </tbody>\n",
       "</table>\n",
       "</div>"
      ],
      "text/plain": [
       "  grade  good_bad\n",
       "0     A     59962\n",
       "1     B    109582\n",
       "2     C    100255\n",
       "3     D     61390\n",
       "4     E     28602\n",
       "5     F     10581\n",
       "6     G      2656"
      ]
     },
     "execution_count": 149,
     "metadata": {},
     "output_type": "execute_result"
    }
   ],
   "source": [
    "#check number of records in each grade\n",
    "records_per_grade = df1.groupby('grade', as_index = False).count()\n",
    "records_per_grade"
   ]
  },
  {
   "cell_type": "code",
   "execution_count": 150,
   "metadata": {
    "id": "g1HZ83Y8LuUx",
    "outputId": "ac054943-1b04-4252-df34-b60de8385945"
   },
   "outputs": [],
   "source": [
    "#get the mean of the number of records i.e here we will get only for good loans only that has binary value as '1'\n",
    "good_loan_per_grade = df1.groupby('grade',as_index=False).mean()"
   ]
  },
  {
   "cell_type": "code",
   "execution_count": 151,
   "metadata": {
    "id": "MAxRYsMXLuUy"
   },
   "outputs": [],
   "source": [
    "#create a dataframe that has the number of records and mean records for grade\n",
    "df1=pd.concat([df1.groupby('grade',as_index=False).count(),\n",
    "             df1.groupby('grade',as_index=False).mean()], join = 'inner' ,axis=1)"
   ]
  },
  {
   "cell_type": "code",
   "execution_count": 152,
   "metadata": {
    "id": "BPWEKmnwLuUy",
    "outputId": "12e3980f-b3f9-432f-f697-c07cc507966b"
   },
   "outputs": [
    {
     "data": {
      "text/html": [
       "<div>\n",
       "<style scoped>\n",
       "    .dataframe tbody tr th:only-of-type {\n",
       "        vertical-align: middle;\n",
       "    }\n",
       "\n",
       "    .dataframe tbody tr th {\n",
       "        vertical-align: top;\n",
       "    }\n",
       "\n",
       "    .dataframe thead th {\n",
       "        text-align: right;\n",
       "    }\n",
       "</style>\n",
       "<table border=\"1\" class=\"dataframe\">\n",
       "  <thead>\n",
       "    <tr style=\"text-align: right;\">\n",
       "      <th></th>\n",
       "      <th>grade</th>\n",
       "      <th>good_bad</th>\n",
       "      <th>grade</th>\n",
       "      <th>good_bad</th>\n",
       "    </tr>\n",
       "  </thead>\n",
       "  <tbody>\n",
       "    <tr>\n",
       "      <th>0</th>\n",
       "      <td>A</td>\n",
       "      <td>59962</td>\n",
       "      <td>A</td>\n",
       "      <td>0.961759</td>\n",
       "    </tr>\n",
       "    <tr>\n",
       "      <th>1</th>\n",
       "      <td>B</td>\n",
       "      <td>109582</td>\n",
       "      <td>B</td>\n",
       "      <td>0.921109</td>\n",
       "    </tr>\n",
       "    <tr>\n",
       "      <th>2</th>\n",
       "      <td>C</td>\n",
       "      <td>100255</td>\n",
       "      <td>C</td>\n",
       "      <td>0.885093</td>\n",
       "    </tr>\n",
       "    <tr>\n",
       "      <th>3</th>\n",
       "      <td>D</td>\n",
       "      <td>61390</td>\n",
       "      <td>D</td>\n",
       "      <td>0.846506</td>\n",
       "    </tr>\n",
       "    <tr>\n",
       "      <th>4</th>\n",
       "      <td>E</td>\n",
       "      <td>28602</td>\n",
       "      <td>E</td>\n",
       "      <td>0.805958</td>\n",
       "    </tr>\n",
       "    <tr>\n",
       "      <th>5</th>\n",
       "      <td>F</td>\n",
       "      <td>10581</td>\n",
       "      <td>F</td>\n",
       "      <td>0.762026</td>\n",
       "    </tr>\n",
       "    <tr>\n",
       "      <th>6</th>\n",
       "      <td>G</td>\n",
       "      <td>2656</td>\n",
       "      <td>G</td>\n",
       "      <td>0.721009</td>\n",
       "    </tr>\n",
       "  </tbody>\n",
       "</table>\n",
       "</div>"
      ],
      "text/plain": [
       "  grade  good_bad grade  good_bad\n",
       "0     A     59962     A  0.961759\n",
       "1     B    109582     B  0.921109\n",
       "2     C    100255     C  0.885093\n",
       "3     D     61390     D  0.846506\n",
       "4     E     28602     E  0.805958\n",
       "5     F     10581     F  0.762026\n",
       "6     G      2656     G  0.721009"
      ]
     },
     "execution_count": 152,
     "metadata": {},
     "output_type": "execute_result"
    }
   ],
   "source": [
    "#print df1\n",
    "df1"
   ]
  },
  {
   "cell_type": "code",
   "execution_count": 153,
   "metadata": {
    "id": "3mkjxl0JLuUy",
    "outputId": "75e0bbd9-fa88-40d0-8fb6-7df3cda599fd"
   },
   "outputs": [
    {
     "data": {
      "text/html": [
       "<div>\n",
       "<style scoped>\n",
       "    .dataframe tbody tr th:only-of-type {\n",
       "        vertical-align: middle;\n",
       "    }\n",
       "\n",
       "    .dataframe tbody tr th {\n",
       "        vertical-align: top;\n",
       "    }\n",
       "\n",
       "    .dataframe thead th {\n",
       "        text-align: right;\n",
       "    }\n",
       "</style>\n",
       "<table border=\"1\" class=\"dataframe\">\n",
       "  <thead>\n",
       "    <tr style=\"text-align: right;\">\n",
       "      <th></th>\n",
       "      <th>grade</th>\n",
       "      <th>good_bad</th>\n",
       "      <th>good_bad</th>\n",
       "    </tr>\n",
       "  </thead>\n",
       "  <tbody>\n",
       "    <tr>\n",
       "      <th>0</th>\n",
       "      <td>A</td>\n",
       "      <td>59962</td>\n",
       "      <td>0.961759</td>\n",
       "    </tr>\n",
       "    <tr>\n",
       "      <th>1</th>\n",
       "      <td>B</td>\n",
       "      <td>109582</td>\n",
       "      <td>0.921109</td>\n",
       "    </tr>\n",
       "    <tr>\n",
       "      <th>2</th>\n",
       "      <td>C</td>\n",
       "      <td>100255</td>\n",
       "      <td>0.885093</td>\n",
       "    </tr>\n",
       "    <tr>\n",
       "      <th>3</th>\n",
       "      <td>D</td>\n",
       "      <td>61390</td>\n",
       "      <td>0.846506</td>\n",
       "    </tr>\n",
       "    <tr>\n",
       "      <th>4</th>\n",
       "      <td>E</td>\n",
       "      <td>28602</td>\n",
       "      <td>0.805958</td>\n",
       "    </tr>\n",
       "    <tr>\n",
       "      <th>5</th>\n",
       "      <td>F</td>\n",
       "      <td>10581</td>\n",
       "      <td>0.762026</td>\n",
       "    </tr>\n",
       "    <tr>\n",
       "      <th>6</th>\n",
       "      <td>G</td>\n",
       "      <td>2656</td>\n",
       "      <td>0.721009</td>\n",
       "    </tr>\n",
       "  </tbody>\n",
       "</table>\n",
       "</div>"
      ],
      "text/plain": [
       "  grade  good_bad  good_bad\n",
       "0     A     59962  0.961759\n",
       "1     B    109582  0.921109\n",
       "2     C    100255  0.885093\n",
       "3     D     61390  0.846506\n",
       "4     E     28602  0.805958\n",
       "5     F     10581  0.762026\n",
       "6     G      2656  0.721009"
      ]
     },
     "execution_count": 153,
     "metadata": {},
     "output_type": "execute_result"
    }
   ],
   "source": [
    "#remove the grade column as it is twice\n",
    "df1 = df1.iloc[:,[0,1,3]]\n",
    "df1"
   ]
  },
  {
   "cell_type": "code",
   "execution_count": 154,
   "metadata": {
    "id": "xvKflSblLuUy"
   },
   "outputs": [],
   "source": [
    "#replacing the column names to make it more representable\n",
    "df1.columns=[df1.columns.values[0],'n_obs','prop_good']"
   ]
  },
  {
   "cell_type": "code",
   "execution_count": 155,
   "metadata": {
    "id": "3K3oUnacLuUz",
    "outputId": "1e7cf1f0-bb69-46ac-84a0-f2a57e4ad280"
   },
   "outputs": [
    {
     "data": {
      "text/html": [
       "<div>\n",
       "<style scoped>\n",
       "    .dataframe tbody tr th:only-of-type {\n",
       "        vertical-align: middle;\n",
       "    }\n",
       "\n",
       "    .dataframe tbody tr th {\n",
       "        vertical-align: top;\n",
       "    }\n",
       "\n",
       "    .dataframe thead th {\n",
       "        text-align: right;\n",
       "    }\n",
       "</style>\n",
       "<table border=\"1\" class=\"dataframe\">\n",
       "  <thead>\n",
       "    <tr style=\"text-align: right;\">\n",
       "      <th></th>\n",
       "      <th>grade</th>\n",
       "      <th>n_obs</th>\n",
       "      <th>prop_good</th>\n",
       "    </tr>\n",
       "  </thead>\n",
       "  <tbody>\n",
       "    <tr>\n",
       "      <th>0</th>\n",
       "      <td>A</td>\n",
       "      <td>59962</td>\n",
       "      <td>0.961759</td>\n",
       "    </tr>\n",
       "    <tr>\n",
       "      <th>1</th>\n",
       "      <td>B</td>\n",
       "      <td>109582</td>\n",
       "      <td>0.921109</td>\n",
       "    </tr>\n",
       "    <tr>\n",
       "      <th>2</th>\n",
       "      <td>C</td>\n",
       "      <td>100255</td>\n",
       "      <td>0.885093</td>\n",
       "    </tr>\n",
       "    <tr>\n",
       "      <th>3</th>\n",
       "      <td>D</td>\n",
       "      <td>61390</td>\n",
       "      <td>0.846506</td>\n",
       "    </tr>\n",
       "    <tr>\n",
       "      <th>4</th>\n",
       "      <td>E</td>\n",
       "      <td>28602</td>\n",
       "      <td>0.805958</td>\n",
       "    </tr>\n",
       "    <tr>\n",
       "      <th>5</th>\n",
       "      <td>F</td>\n",
       "      <td>10581</td>\n",
       "      <td>0.762026</td>\n",
       "    </tr>\n",
       "    <tr>\n",
       "      <th>6</th>\n",
       "      <td>G</td>\n",
       "      <td>2656</td>\n",
       "      <td>0.721009</td>\n",
       "    </tr>\n",
       "  </tbody>\n",
       "</table>\n",
       "</div>"
      ],
      "text/plain": [
       "  grade   n_obs  prop_good\n",
       "0     A   59962   0.961759\n",
       "1     B  109582   0.921109\n",
       "2     C  100255   0.885093\n",
       "3     D   61390   0.846506\n",
       "4     E   28602   0.805958\n",
       "5     F   10581   0.762026\n",
       "6     G    2656   0.721009"
      ]
     },
     "execution_count": 155,
     "metadata": {},
     "output_type": "execute_result"
    }
   ],
   "source": [
    "df1\n"
   ]
  },
  {
   "cell_type": "code",
   "execution_count": 156,
   "metadata": {
    "id": "gK4sNSm4LuUz"
   },
   "outputs": [],
   "source": [
    "#get the proportion of n_obs- no. of observations for each grade/total no. of observations\n",
    "df1['prop_n_obs']=df1['n_obs']/df1['n_obs'].sum()"
   ]
  },
  {
   "cell_type": "code",
   "execution_count": 157,
   "metadata": {
    "id": "zrnlY-qHLuUz",
    "outputId": "2fb3389f-540c-48d2-f688-f7ea4c45d1d9"
   },
   "outputs": [
    {
     "data": {
      "text/html": [
       "<div>\n",
       "<style scoped>\n",
       "    .dataframe tbody tr th:only-of-type {\n",
       "        vertical-align: middle;\n",
       "    }\n",
       "\n",
       "    .dataframe tbody tr th {\n",
       "        vertical-align: top;\n",
       "    }\n",
       "\n",
       "    .dataframe thead th {\n",
       "        text-align: right;\n",
       "    }\n",
       "</style>\n",
       "<table border=\"1\" class=\"dataframe\">\n",
       "  <thead>\n",
       "    <tr style=\"text-align: right;\">\n",
       "      <th></th>\n",
       "      <th>grade</th>\n",
       "      <th>n_obs</th>\n",
       "      <th>prop_good</th>\n",
       "      <th>prop_n_obs</th>\n",
       "    </tr>\n",
       "  </thead>\n",
       "  <tbody>\n",
       "    <tr>\n",
       "      <th>0</th>\n",
       "      <td>A</td>\n",
       "      <td>59962</td>\n",
       "      <td>0.961759</td>\n",
       "      <td>0.160744</td>\n",
       "    </tr>\n",
       "    <tr>\n",
       "      <th>1</th>\n",
       "      <td>B</td>\n",
       "      <td>109582</td>\n",
       "      <td>0.921109</td>\n",
       "      <td>0.293763</td>\n",
       "    </tr>\n",
       "    <tr>\n",
       "      <th>2</th>\n",
       "      <td>C</td>\n",
       "      <td>100255</td>\n",
       "      <td>0.885093</td>\n",
       "      <td>0.268760</td>\n",
       "    </tr>\n",
       "    <tr>\n",
       "      <th>3</th>\n",
       "      <td>D</td>\n",
       "      <td>61390</td>\n",
       "      <td>0.846506</td>\n",
       "      <td>0.164572</td>\n",
       "    </tr>\n",
       "    <tr>\n",
       "      <th>4</th>\n",
       "      <td>E</td>\n",
       "      <td>28602</td>\n",
       "      <td>0.805958</td>\n",
       "      <td>0.076675</td>\n",
       "    </tr>\n",
       "    <tr>\n",
       "      <th>5</th>\n",
       "      <td>F</td>\n",
       "      <td>10581</td>\n",
       "      <td>0.762026</td>\n",
       "      <td>0.028365</td>\n",
       "    </tr>\n",
       "    <tr>\n",
       "      <th>6</th>\n",
       "      <td>G</td>\n",
       "      <td>2656</td>\n",
       "      <td>0.721009</td>\n",
       "      <td>0.007120</td>\n",
       "    </tr>\n",
       "  </tbody>\n",
       "</table>\n",
       "</div>"
      ],
      "text/plain": [
       "  grade   n_obs  prop_good  prop_n_obs\n",
       "0     A   59962   0.961759    0.160744\n",
       "1     B  109582   0.921109    0.293763\n",
       "2     C  100255   0.885093    0.268760\n",
       "3     D   61390   0.846506    0.164572\n",
       "4     E   28602   0.805958    0.076675\n",
       "5     F   10581   0.762026    0.028365\n",
       "6     G    2656   0.721009    0.007120"
      ]
     },
     "execution_count": 157,
     "metadata": {},
     "output_type": "execute_result"
    }
   ],
   "source": [
    "df1"
   ]
  },
  {
   "cell_type": "code",
   "execution_count": 158,
   "metadata": {
    "id": "rv3XUePnLuUz",
    "outputId": "f1b6cee3-68e6-45f0-e7e5-5b0ac4273ef2"
   },
   "outputs": [
    {
     "data": {
      "text/html": [
       "<div>\n",
       "<style scoped>\n",
       "    .dataframe tbody tr th:only-of-type {\n",
       "        vertical-align: middle;\n",
       "    }\n",
       "\n",
       "    .dataframe tbody tr th {\n",
       "        vertical-align: top;\n",
       "    }\n",
       "\n",
       "    .dataframe thead th {\n",
       "        text-align: right;\n",
       "    }\n",
       "</style>\n",
       "<table border=\"1\" class=\"dataframe\">\n",
       "  <thead>\n",
       "    <tr style=\"text-align: right;\">\n",
       "      <th></th>\n",
       "      <th>grade</th>\n",
       "      <th>n_obs</th>\n",
       "      <th>prop_good</th>\n",
       "      <th>prop_n_obs</th>\n",
       "      <th>n_good</th>\n",
       "      <th>n_bad</th>\n",
       "    </tr>\n",
       "  </thead>\n",
       "  <tbody>\n",
       "    <tr>\n",
       "      <th>0</th>\n",
       "      <td>A</td>\n",
       "      <td>59962</td>\n",
       "      <td>0.961759</td>\n",
       "      <td>0.160744</td>\n",
       "      <td>57669.0</td>\n",
       "      <td>2293.0</td>\n",
       "    </tr>\n",
       "    <tr>\n",
       "      <th>1</th>\n",
       "      <td>B</td>\n",
       "      <td>109582</td>\n",
       "      <td>0.921109</td>\n",
       "      <td>0.293763</td>\n",
       "      <td>100937.0</td>\n",
       "      <td>8645.0</td>\n",
       "    </tr>\n",
       "    <tr>\n",
       "      <th>2</th>\n",
       "      <td>C</td>\n",
       "      <td>100255</td>\n",
       "      <td>0.885093</td>\n",
       "      <td>0.268760</td>\n",
       "      <td>88735.0</td>\n",
       "      <td>11520.0</td>\n",
       "    </tr>\n",
       "    <tr>\n",
       "      <th>3</th>\n",
       "      <td>D</td>\n",
       "      <td>61390</td>\n",
       "      <td>0.846506</td>\n",
       "      <td>0.164572</td>\n",
       "      <td>51967.0</td>\n",
       "      <td>9423.0</td>\n",
       "    </tr>\n",
       "    <tr>\n",
       "      <th>4</th>\n",
       "      <td>E</td>\n",
       "      <td>28602</td>\n",
       "      <td>0.805958</td>\n",
       "      <td>0.076675</td>\n",
       "      <td>23052.0</td>\n",
       "      <td>5550.0</td>\n",
       "    </tr>\n",
       "    <tr>\n",
       "      <th>5</th>\n",
       "      <td>F</td>\n",
       "      <td>10581</td>\n",
       "      <td>0.762026</td>\n",
       "      <td>0.028365</td>\n",
       "      <td>8063.0</td>\n",
       "      <td>2518.0</td>\n",
       "    </tr>\n",
       "    <tr>\n",
       "      <th>6</th>\n",
       "      <td>G</td>\n",
       "      <td>2656</td>\n",
       "      <td>0.721009</td>\n",
       "      <td>0.007120</td>\n",
       "      <td>1915.0</td>\n",
       "      <td>741.0</td>\n",
       "    </tr>\n",
       "  </tbody>\n",
       "</table>\n",
       "</div>"
      ],
      "text/plain": [
       "  grade   n_obs  prop_good  prop_n_obs    n_good    n_bad\n",
       "0     A   59962   0.961759    0.160744   57669.0   2293.0\n",
       "1     B  109582   0.921109    0.293763  100937.0   8645.0\n",
       "2     C  100255   0.885093    0.268760   88735.0  11520.0\n",
       "3     D   61390   0.846506    0.164572   51967.0   9423.0\n",
       "4     E   28602   0.805958    0.076675   23052.0   5550.0\n",
       "5     F   10581   0.762026    0.028365    8063.0   2518.0\n",
       "6     G    2656   0.721009    0.007120    1915.0    741.0"
      ]
     },
     "execution_count": 158,
     "metadata": {},
     "output_type": "execute_result"
    }
   ],
   "source": [
    "#calculating the number of good varriables and bad varrirables\n",
    "\n",
    "df1['n_good']=df1['prop_good']*df1['n_obs']\n",
    "df1['n_bad']=(1-df1['prop_good'])*df1['n_obs']\n",
    "df1"
   ]
  },
  {
   "cell_type": "code",
   "execution_count": 159,
   "metadata": {
    "id": "OeMVVEKtLuU5",
    "outputId": "7a551b9a-b843-431a-de7f-45b89cc44139"
   },
   "outputs": [
    {
     "data": {
      "text/html": [
       "<div>\n",
       "<style scoped>\n",
       "    .dataframe tbody tr th:only-of-type {\n",
       "        vertical-align: middle;\n",
       "    }\n",
       "\n",
       "    .dataframe tbody tr th {\n",
       "        vertical-align: top;\n",
       "    }\n",
       "\n",
       "    .dataframe thead th {\n",
       "        text-align: right;\n",
       "    }\n",
       "</style>\n",
       "<table border=\"1\" class=\"dataframe\">\n",
       "  <thead>\n",
       "    <tr style=\"text-align: right;\">\n",
       "      <th></th>\n",
       "      <th>grade</th>\n",
       "      <th>n_obs</th>\n",
       "      <th>prop_good</th>\n",
       "      <th>prop_n_obs</th>\n",
       "      <th>n_good</th>\n",
       "      <th>n_bad</th>\n",
       "      <th>prop_n_good</th>\n",
       "      <th>prop_n_bad</th>\n",
       "    </tr>\n",
       "  </thead>\n",
       "  <tbody>\n",
       "    <tr>\n",
       "      <th>0</th>\n",
       "      <td>A</td>\n",
       "      <td>59962</td>\n",
       "      <td>0.961759</td>\n",
       "      <td>0.160744</td>\n",
       "      <td>57669.0</td>\n",
       "      <td>2293.0</td>\n",
       "      <td>0.173525</td>\n",
       "      <td>0.006900</td>\n",
       "    </tr>\n",
       "    <tr>\n",
       "      <th>1</th>\n",
       "      <td>B</td>\n",
       "      <td>109582</td>\n",
       "      <td>0.921109</td>\n",
       "      <td>0.293763</td>\n",
       "      <td>100937.0</td>\n",
       "      <td>8645.0</td>\n",
       "      <td>0.303718</td>\n",
       "      <td>0.026013</td>\n",
       "    </tr>\n",
       "    <tr>\n",
       "      <th>2</th>\n",
       "      <td>C</td>\n",
       "      <td>100255</td>\n",
       "      <td>0.885093</td>\n",
       "      <td>0.268760</td>\n",
       "      <td>88735.0</td>\n",
       "      <td>11520.0</td>\n",
       "      <td>0.267002</td>\n",
       "      <td>0.034664</td>\n",
       "    </tr>\n",
       "    <tr>\n",
       "      <th>3</th>\n",
       "      <td>D</td>\n",
       "      <td>61390</td>\n",
       "      <td>0.846506</td>\n",
       "      <td>0.164572</td>\n",
       "      <td>51967.0</td>\n",
       "      <td>9423.0</td>\n",
       "      <td>0.156368</td>\n",
       "      <td>0.028354</td>\n",
       "    </tr>\n",
       "    <tr>\n",
       "      <th>4</th>\n",
       "      <td>E</td>\n",
       "      <td>28602</td>\n",
       "      <td>0.805958</td>\n",
       "      <td>0.076675</td>\n",
       "      <td>23052.0</td>\n",
       "      <td>5550.0</td>\n",
       "      <td>0.069363</td>\n",
       "      <td>0.016700</td>\n",
       "    </tr>\n",
       "    <tr>\n",
       "      <th>5</th>\n",
       "      <td>F</td>\n",
       "      <td>10581</td>\n",
       "      <td>0.762026</td>\n",
       "      <td>0.028365</td>\n",
       "      <td>8063.0</td>\n",
       "      <td>2518.0</td>\n",
       "      <td>0.024261</td>\n",
       "      <td>0.007577</td>\n",
       "    </tr>\n",
       "    <tr>\n",
       "      <th>6</th>\n",
       "      <td>G</td>\n",
       "      <td>2656</td>\n",
       "      <td>0.721009</td>\n",
       "      <td>0.007120</td>\n",
       "      <td>1915.0</td>\n",
       "      <td>741.0</td>\n",
       "      <td>0.005762</td>\n",
       "      <td>0.002230</td>\n",
       "    </tr>\n",
       "  </tbody>\n",
       "</table>\n",
       "</div>"
      ],
      "text/plain": [
       "  grade   n_obs  prop_good  prop_n_obs    n_good    n_bad  prop_n_good  \\\n",
       "0     A   59962   0.961759    0.160744   57669.0   2293.0     0.173525   \n",
       "1     B  109582   0.921109    0.293763  100937.0   8645.0     0.303718   \n",
       "2     C  100255   0.885093    0.268760   88735.0  11520.0     0.267002   \n",
       "3     D   61390   0.846506    0.164572   51967.0   9423.0     0.156368   \n",
       "4     E   28602   0.805958    0.076675   23052.0   5550.0     0.069363   \n",
       "5     F   10581   0.762026    0.028365    8063.0   2518.0     0.024261   \n",
       "6     G    2656   0.721009    0.007120    1915.0    741.0     0.005762   \n",
       "\n",
       "   prop_n_bad  \n",
       "0    0.006900  \n",
       "1    0.026013  \n",
       "2    0.034664  \n",
       "3    0.028354  \n",
       "4    0.016700  \n",
       "5    0.007577  \n",
       "6    0.002230  "
      ]
     },
     "execution_count": 159,
     "metadata": {},
     "output_type": "execute_result"
    }
   ],
   "source": [
    "#check the density of good and bad variables\n",
    "df1['prop_n_good']=df1['n_good']/df1['n_good'].sum()\n",
    "df1['prop_n_bad']=df1['n_bad']/df1['n_good'].sum()\n",
    "df1"
   ]
  },
  {
   "cell_type": "code",
   "execution_count": 160,
   "metadata": {
    "id": "V6FPvAFOLuU5",
    "outputId": "89a3cccd-e759-43e2-b4f5-1489c7d1f405"
   },
   "outputs": [
    {
     "data": {
      "text/html": [
       "<div>\n",
       "<style scoped>\n",
       "    .dataframe tbody tr th:only-of-type {\n",
       "        vertical-align: middle;\n",
       "    }\n",
       "\n",
       "    .dataframe tbody tr th {\n",
       "        vertical-align: top;\n",
       "    }\n",
       "\n",
       "    .dataframe thead th {\n",
       "        text-align: right;\n",
       "    }\n",
       "</style>\n",
       "<table border=\"1\" class=\"dataframe\">\n",
       "  <thead>\n",
       "    <tr style=\"text-align: right;\">\n",
       "      <th></th>\n",
       "      <th>grade</th>\n",
       "      <th>n_obs</th>\n",
       "      <th>prop_good</th>\n",
       "      <th>prop_n_obs</th>\n",
       "      <th>n_good</th>\n",
       "      <th>n_bad</th>\n",
       "      <th>prop_n_good</th>\n",
       "      <th>prop_n_bad</th>\n",
       "      <th>WoE</th>\n",
       "    </tr>\n",
       "  </thead>\n",
       "  <tbody>\n",
       "    <tr>\n",
       "      <th>0</th>\n",
       "      <td>A</td>\n",
       "      <td>59962</td>\n",
       "      <td>0.961759</td>\n",
       "      <td>0.160744</td>\n",
       "      <td>57669.0</td>\n",
       "      <td>2293.0</td>\n",
       "      <td>0.173525</td>\n",
       "      <td>0.006900</td>\n",
       "      <td>3.224859</td>\n",
       "    </tr>\n",
       "    <tr>\n",
       "      <th>1</th>\n",
       "      <td>B</td>\n",
       "      <td>109582</td>\n",
       "      <td>0.921109</td>\n",
       "      <td>0.293763</td>\n",
       "      <td>100937.0</td>\n",
       "      <td>8645.0</td>\n",
       "      <td>0.303718</td>\n",
       "      <td>0.026013</td>\n",
       "      <td>2.457515</td>\n",
       "    </tr>\n",
       "    <tr>\n",
       "      <th>2</th>\n",
       "      <td>C</td>\n",
       "      <td>100255</td>\n",
       "      <td>0.885093</td>\n",
       "      <td>0.268760</td>\n",
       "      <td>88735.0</td>\n",
       "      <td>11520.0</td>\n",
       "      <td>0.267002</td>\n",
       "      <td>0.034664</td>\n",
       "      <td>2.041570</td>\n",
       "    </tr>\n",
       "    <tr>\n",
       "      <th>3</th>\n",
       "      <td>D</td>\n",
       "      <td>61390</td>\n",
       "      <td>0.846506</td>\n",
       "      <td>0.164572</td>\n",
       "      <td>51967.0</td>\n",
       "      <td>9423.0</td>\n",
       "      <td>0.156368</td>\n",
       "      <td>0.028354</td>\n",
       "      <td>1.707455</td>\n",
       "    </tr>\n",
       "    <tr>\n",
       "      <th>4</th>\n",
       "      <td>E</td>\n",
       "      <td>28602</td>\n",
       "      <td>0.805958</td>\n",
       "      <td>0.076675</td>\n",
       "      <td>23052.0</td>\n",
       "      <td>5550.0</td>\n",
       "      <td>0.069363</td>\n",
       "      <td>0.016700</td>\n",
       "      <td>1.423955</td>\n",
       "    </tr>\n",
       "    <tr>\n",
       "      <th>5</th>\n",
       "      <td>F</td>\n",
       "      <td>10581</td>\n",
       "      <td>0.762026</td>\n",
       "      <td>0.028365</td>\n",
       "      <td>8063.0</td>\n",
       "      <td>2518.0</td>\n",
       "      <td>0.024261</td>\n",
       "      <td>0.007577</td>\n",
       "      <td>1.163821</td>\n",
       "    </tr>\n",
       "    <tr>\n",
       "      <th>6</th>\n",
       "      <td>G</td>\n",
       "      <td>2656</td>\n",
       "      <td>0.721009</td>\n",
       "      <td>0.007120</td>\n",
       "      <td>1915.0</td>\n",
       "      <td>741.0</td>\n",
       "      <td>0.005762</td>\n",
       "      <td>0.002230</td>\n",
       "      <td>0.949472</td>\n",
       "    </tr>\n",
       "  </tbody>\n",
       "</table>\n",
       "</div>"
      ],
      "text/plain": [
       "  grade   n_obs  prop_good  prop_n_obs    n_good    n_bad  prop_n_good  \\\n",
       "0     A   59962   0.961759    0.160744   57669.0   2293.0     0.173525   \n",
       "1     B  109582   0.921109    0.293763  100937.0   8645.0     0.303718   \n",
       "2     C  100255   0.885093    0.268760   88735.0  11520.0     0.267002   \n",
       "3     D   61390   0.846506    0.164572   51967.0   9423.0     0.156368   \n",
       "4     E   28602   0.805958    0.076675   23052.0   5550.0     0.069363   \n",
       "5     F   10581   0.762026    0.028365    8063.0   2518.0     0.024261   \n",
       "6     G    2656   0.721009    0.007120    1915.0    741.0     0.005762   \n",
       "\n",
       "   prop_n_bad       WoE  \n",
       "0    0.006900  3.224859  \n",
       "1    0.026013  2.457515  \n",
       "2    0.034664  2.041570  \n",
       "3    0.028354  1.707455  \n",
       "4    0.016700  1.423955  \n",
       "5    0.007577  1.163821  \n",
       "6    0.002230  0.949472  "
      ]
     },
     "execution_count": 160,
     "metadata": {},
     "output_type": "execute_result"
    }
   ],
   "source": [
    "#calculate the Weight of Evidence(WOE) = In(% of good-events ➗ % of bad-events)\n",
    "\n",
    "df1['WoE']=np.log(df1['prop_n_good']/df1['prop_n_bad'])\n",
    "df1"
   ]
  },
  {
   "cell_type": "code",
   "execution_count": 161,
   "metadata": {
    "id": "MRl4w1UuLuU5",
    "outputId": "a2d6d53c-1260-4eda-b8cc-895363587eef"
   },
   "outputs": [
    {
     "data": {
      "text/html": [
       "<div>\n",
       "<style scoped>\n",
       "    .dataframe tbody tr th:only-of-type {\n",
       "        vertical-align: middle;\n",
       "    }\n",
       "\n",
       "    .dataframe tbody tr th {\n",
       "        vertical-align: top;\n",
       "    }\n",
       "\n",
       "    .dataframe thead th {\n",
       "        text-align: right;\n",
       "    }\n",
       "</style>\n",
       "<table border=\"1\" class=\"dataframe\">\n",
       "  <thead>\n",
       "    <tr style=\"text-align: right;\">\n",
       "      <th></th>\n",
       "      <th>grade</th>\n",
       "      <th>n_obs</th>\n",
       "      <th>prop_good</th>\n",
       "      <th>prop_n_obs</th>\n",
       "      <th>n_good</th>\n",
       "      <th>n_bad</th>\n",
       "      <th>prop_n_good</th>\n",
       "      <th>prop_n_bad</th>\n",
       "      <th>WoE</th>\n",
       "    </tr>\n",
       "  </thead>\n",
       "  <tbody>\n",
       "    <tr>\n",
       "      <th>0</th>\n",
       "      <td>G</td>\n",
       "      <td>2656</td>\n",
       "      <td>0.721009</td>\n",
       "      <td>0.007120</td>\n",
       "      <td>1915.0</td>\n",
       "      <td>741.0</td>\n",
       "      <td>0.005762</td>\n",
       "      <td>0.002230</td>\n",
       "      <td>0.949472</td>\n",
       "    </tr>\n",
       "    <tr>\n",
       "      <th>1</th>\n",
       "      <td>F</td>\n",
       "      <td>10581</td>\n",
       "      <td>0.762026</td>\n",
       "      <td>0.028365</td>\n",
       "      <td>8063.0</td>\n",
       "      <td>2518.0</td>\n",
       "      <td>0.024261</td>\n",
       "      <td>0.007577</td>\n",
       "      <td>1.163821</td>\n",
       "    </tr>\n",
       "    <tr>\n",
       "      <th>2</th>\n",
       "      <td>E</td>\n",
       "      <td>28602</td>\n",
       "      <td>0.805958</td>\n",
       "      <td>0.076675</td>\n",
       "      <td>23052.0</td>\n",
       "      <td>5550.0</td>\n",
       "      <td>0.069363</td>\n",
       "      <td>0.016700</td>\n",
       "      <td>1.423955</td>\n",
       "    </tr>\n",
       "    <tr>\n",
       "      <th>3</th>\n",
       "      <td>D</td>\n",
       "      <td>61390</td>\n",
       "      <td>0.846506</td>\n",
       "      <td>0.164572</td>\n",
       "      <td>51967.0</td>\n",
       "      <td>9423.0</td>\n",
       "      <td>0.156368</td>\n",
       "      <td>0.028354</td>\n",
       "      <td>1.707455</td>\n",
       "    </tr>\n",
       "    <tr>\n",
       "      <th>4</th>\n",
       "      <td>C</td>\n",
       "      <td>100255</td>\n",
       "      <td>0.885093</td>\n",
       "      <td>0.268760</td>\n",
       "      <td>88735.0</td>\n",
       "      <td>11520.0</td>\n",
       "      <td>0.267002</td>\n",
       "      <td>0.034664</td>\n",
       "      <td>2.041570</td>\n",
       "    </tr>\n",
       "    <tr>\n",
       "      <th>5</th>\n",
       "      <td>B</td>\n",
       "      <td>109582</td>\n",
       "      <td>0.921109</td>\n",
       "      <td>0.293763</td>\n",
       "      <td>100937.0</td>\n",
       "      <td>8645.0</td>\n",
       "      <td>0.303718</td>\n",
       "      <td>0.026013</td>\n",
       "      <td>2.457515</td>\n",
       "    </tr>\n",
       "    <tr>\n",
       "      <th>6</th>\n",
       "      <td>A</td>\n",
       "      <td>59962</td>\n",
       "      <td>0.961759</td>\n",
       "      <td>0.160744</td>\n",
       "      <td>57669.0</td>\n",
       "      <td>2293.0</td>\n",
       "      <td>0.173525</td>\n",
       "      <td>0.006900</td>\n",
       "      <td>3.224859</td>\n",
       "    </tr>\n",
       "  </tbody>\n",
       "</table>\n",
       "</div>"
      ],
      "text/plain": [
       "  grade   n_obs  prop_good  prop_n_obs    n_good    n_bad  prop_n_good  \\\n",
       "0     G    2656   0.721009    0.007120    1915.0    741.0     0.005762   \n",
       "1     F   10581   0.762026    0.028365    8063.0   2518.0     0.024261   \n",
       "2     E   28602   0.805958    0.076675   23052.0   5550.0     0.069363   \n",
       "3     D   61390   0.846506    0.164572   51967.0   9423.0     0.156368   \n",
       "4     C  100255   0.885093    0.268760   88735.0  11520.0     0.267002   \n",
       "5     B  109582   0.921109    0.293763  100937.0   8645.0     0.303718   \n",
       "6     A   59962   0.961759    0.160744   57669.0   2293.0     0.173525   \n",
       "\n",
       "   prop_n_bad       WoE  \n",
       "0    0.002230  0.949472  \n",
       "1    0.007577  1.163821  \n",
       "2    0.016700  1.423955  \n",
       "3    0.028354  1.707455  \n",
       "4    0.034664  2.041570  \n",
       "5    0.026013  2.457515  \n",
       "6    0.006900  3.224859  "
      ]
     },
     "execution_count": 161,
     "metadata": {},
     "output_type": "execute_result"
    }
   ],
   "source": [
    "#reset the index of the df1 dataframe and sort the values according to WoE\n",
    "df1= df1.sort_values(['WoE'])\n",
    "df1=df1.reset_index(drop=True)\n",
    "df1"
   ]
  },
  {
   "cell_type": "code",
   "execution_count": 162,
   "metadata": {
    "id": "0FT06fq5LuU6"
   },
   "outputs": [],
   "source": [
    "#calculate the (absolulute) difference for prop_good and WoE columns(for each row) in order to evaluate IV:\n",
    "df1['diff_prop_good'] = df1['prop_good'].diff().abs()\n",
    "df1['diff_WoE']=df1['WoE'].diff().abs()"
   ]
  },
  {
   "cell_type": "code",
   "execution_count": 163,
   "metadata": {
    "id": "QD703eReLuU6",
    "outputId": "2c993b0d-f084-4157-84f0-f5e09b319cfd"
   },
   "outputs": [
    {
     "data": {
      "text/html": [
       "<div>\n",
       "<style scoped>\n",
       "    .dataframe tbody tr th:only-of-type {\n",
       "        vertical-align: middle;\n",
       "    }\n",
       "\n",
       "    .dataframe tbody tr th {\n",
       "        vertical-align: top;\n",
       "    }\n",
       "\n",
       "    .dataframe thead th {\n",
       "        text-align: right;\n",
       "    }\n",
       "</style>\n",
       "<table border=\"1\" class=\"dataframe\">\n",
       "  <thead>\n",
       "    <tr style=\"text-align: right;\">\n",
       "      <th></th>\n",
       "      <th>grade</th>\n",
       "      <th>n_obs</th>\n",
       "      <th>prop_good</th>\n",
       "      <th>prop_n_obs</th>\n",
       "      <th>n_good</th>\n",
       "      <th>n_bad</th>\n",
       "      <th>prop_n_good</th>\n",
       "      <th>prop_n_bad</th>\n",
       "      <th>WoE</th>\n",
       "      <th>diff_prop_good</th>\n",
       "      <th>diff_WoE</th>\n",
       "    </tr>\n",
       "  </thead>\n",
       "  <tbody>\n",
       "    <tr>\n",
       "      <th>0</th>\n",
       "      <td>G</td>\n",
       "      <td>2656</td>\n",
       "      <td>0.721009</td>\n",
       "      <td>0.007120</td>\n",
       "      <td>1915.0</td>\n",
       "      <td>741.0</td>\n",
       "      <td>0.005762</td>\n",
       "      <td>0.002230</td>\n",
       "      <td>0.949472</td>\n",
       "      <td>NaN</td>\n",
       "      <td>NaN</td>\n",
       "    </tr>\n",
       "    <tr>\n",
       "      <th>1</th>\n",
       "      <td>F</td>\n",
       "      <td>10581</td>\n",
       "      <td>0.762026</td>\n",
       "      <td>0.028365</td>\n",
       "      <td>8063.0</td>\n",
       "      <td>2518.0</td>\n",
       "      <td>0.024261</td>\n",
       "      <td>0.007577</td>\n",
       "      <td>1.163821</td>\n",
       "      <td>0.041017</td>\n",
       "      <td>0.214348</td>\n",
       "    </tr>\n",
       "    <tr>\n",
       "      <th>2</th>\n",
       "      <td>E</td>\n",
       "      <td>28602</td>\n",
       "      <td>0.805958</td>\n",
       "      <td>0.076675</td>\n",
       "      <td>23052.0</td>\n",
       "      <td>5550.0</td>\n",
       "      <td>0.069363</td>\n",
       "      <td>0.016700</td>\n",
       "      <td>1.423955</td>\n",
       "      <td>0.043931</td>\n",
       "      <td>0.260134</td>\n",
       "    </tr>\n",
       "    <tr>\n",
       "      <th>3</th>\n",
       "      <td>D</td>\n",
       "      <td>61390</td>\n",
       "      <td>0.846506</td>\n",
       "      <td>0.164572</td>\n",
       "      <td>51967.0</td>\n",
       "      <td>9423.0</td>\n",
       "      <td>0.156368</td>\n",
       "      <td>0.028354</td>\n",
       "      <td>1.707455</td>\n",
       "      <td>0.040548</td>\n",
       "      <td>0.283501</td>\n",
       "    </tr>\n",
       "    <tr>\n",
       "      <th>4</th>\n",
       "      <td>C</td>\n",
       "      <td>100255</td>\n",
       "      <td>0.885093</td>\n",
       "      <td>0.268760</td>\n",
       "      <td>88735.0</td>\n",
       "      <td>11520.0</td>\n",
       "      <td>0.267002</td>\n",
       "      <td>0.034664</td>\n",
       "      <td>2.041570</td>\n",
       "      <td>0.038587</td>\n",
       "      <td>0.334114</td>\n",
       "    </tr>\n",
       "    <tr>\n",
       "      <th>5</th>\n",
       "      <td>B</td>\n",
       "      <td>109582</td>\n",
       "      <td>0.921109</td>\n",
       "      <td>0.293763</td>\n",
       "      <td>100937.0</td>\n",
       "      <td>8645.0</td>\n",
       "      <td>0.303718</td>\n",
       "      <td>0.026013</td>\n",
       "      <td>2.457515</td>\n",
       "      <td>0.036016</td>\n",
       "      <td>0.415946</td>\n",
       "    </tr>\n",
       "    <tr>\n",
       "      <th>6</th>\n",
       "      <td>A</td>\n",
       "      <td>59962</td>\n",
       "      <td>0.961759</td>\n",
       "      <td>0.160744</td>\n",
       "      <td>57669.0</td>\n",
       "      <td>2293.0</td>\n",
       "      <td>0.173525</td>\n",
       "      <td>0.006900</td>\n",
       "      <td>3.224859</td>\n",
       "      <td>0.040650</td>\n",
       "      <td>0.767343</td>\n",
       "    </tr>\n",
       "  </tbody>\n",
       "</table>\n",
       "</div>"
      ],
      "text/plain": [
       "  grade   n_obs  prop_good  prop_n_obs    n_good    n_bad  prop_n_good  \\\n",
       "0     G    2656   0.721009    0.007120    1915.0    741.0     0.005762   \n",
       "1     F   10581   0.762026    0.028365    8063.0   2518.0     0.024261   \n",
       "2     E   28602   0.805958    0.076675   23052.0   5550.0     0.069363   \n",
       "3     D   61390   0.846506    0.164572   51967.0   9423.0     0.156368   \n",
       "4     C  100255   0.885093    0.268760   88735.0  11520.0     0.267002   \n",
       "5     B  109582   0.921109    0.293763  100937.0   8645.0     0.303718   \n",
       "6     A   59962   0.961759    0.160744   57669.0   2293.0     0.173525   \n",
       "\n",
       "   prop_n_bad       WoE  diff_prop_good  diff_WoE  \n",
       "0    0.002230  0.949472             NaN       NaN  \n",
       "1    0.007577  1.163821        0.041017  0.214348  \n",
       "2    0.016700  1.423955        0.043931  0.260134  \n",
       "3    0.028354  1.707455        0.040548  0.283501  \n",
       "4    0.034664  2.041570        0.038587  0.334114  \n",
       "5    0.026013  2.457515        0.036016  0.415946  \n",
       "6    0.006900  3.224859        0.040650  0.767343  "
      ]
     },
     "execution_count": 163,
     "metadata": {},
     "output_type": "execute_result"
    }
   ],
   "source": [
    "df1"
   ]
  },
  {
   "cell_type": "code",
   "execution_count": 164,
   "metadata": {
    "id": "bM7_g0UtLuU6",
    "outputId": "af88869b-1522-420a-bedd-14625cffa083"
   },
   "outputs": [
    {
     "data": {
      "text/html": [
       "<div>\n",
       "<style scoped>\n",
       "    .dataframe tbody tr th:only-of-type {\n",
       "        vertical-align: middle;\n",
       "    }\n",
       "\n",
       "    .dataframe tbody tr th {\n",
       "        vertical-align: top;\n",
       "    }\n",
       "\n",
       "    .dataframe thead th {\n",
       "        text-align: right;\n",
       "    }\n",
       "</style>\n",
       "<table border=\"1\" class=\"dataframe\">\n",
       "  <thead>\n",
       "    <tr style=\"text-align: right;\">\n",
       "      <th></th>\n",
       "      <th>grade</th>\n",
       "      <th>n_obs</th>\n",
       "      <th>prop_good</th>\n",
       "      <th>prop_n_obs</th>\n",
       "      <th>n_good</th>\n",
       "      <th>n_bad</th>\n",
       "      <th>prop_n_good</th>\n",
       "      <th>prop_n_bad</th>\n",
       "      <th>WoE</th>\n",
       "      <th>diff_prop_good</th>\n",
       "      <th>diff_WoE</th>\n",
       "      <th>IV</th>\n",
       "    </tr>\n",
       "  </thead>\n",
       "  <tbody>\n",
       "    <tr>\n",
       "      <th>0</th>\n",
       "      <td>G</td>\n",
       "      <td>2656</td>\n",
       "      <td>0.721009</td>\n",
       "      <td>0.007120</td>\n",
       "      <td>1915.0</td>\n",
       "      <td>741.0</td>\n",
       "      <td>0.005762</td>\n",
       "      <td>0.002230</td>\n",
       "      <td>0.949472</td>\n",
       "      <td>NaN</td>\n",
       "      <td>NaN</td>\n",
       "      <td>2.010485</td>\n",
       "    </tr>\n",
       "    <tr>\n",
       "      <th>1</th>\n",
       "      <td>F</td>\n",
       "      <td>10581</td>\n",
       "      <td>0.762026</td>\n",
       "      <td>0.028365</td>\n",
       "      <td>8063.0</td>\n",
       "      <td>2518.0</td>\n",
       "      <td>0.024261</td>\n",
       "      <td>0.007577</td>\n",
       "      <td>1.163821</td>\n",
       "      <td>0.041017</td>\n",
       "      <td>0.214348</td>\n",
       "      <td>2.010485</td>\n",
       "    </tr>\n",
       "    <tr>\n",
       "      <th>2</th>\n",
       "      <td>E</td>\n",
       "      <td>28602</td>\n",
       "      <td>0.805958</td>\n",
       "      <td>0.076675</td>\n",
       "      <td>23052.0</td>\n",
       "      <td>5550.0</td>\n",
       "      <td>0.069363</td>\n",
       "      <td>0.016700</td>\n",
       "      <td>1.423955</td>\n",
       "      <td>0.043931</td>\n",
       "      <td>0.260134</td>\n",
       "      <td>2.010485</td>\n",
       "    </tr>\n",
       "    <tr>\n",
       "      <th>3</th>\n",
       "      <td>D</td>\n",
       "      <td>61390</td>\n",
       "      <td>0.846506</td>\n",
       "      <td>0.164572</td>\n",
       "      <td>51967.0</td>\n",
       "      <td>9423.0</td>\n",
       "      <td>0.156368</td>\n",
       "      <td>0.028354</td>\n",
       "      <td>1.707455</td>\n",
       "      <td>0.040548</td>\n",
       "      <td>0.283501</td>\n",
       "      <td>2.010485</td>\n",
       "    </tr>\n",
       "    <tr>\n",
       "      <th>4</th>\n",
       "      <td>C</td>\n",
       "      <td>100255</td>\n",
       "      <td>0.885093</td>\n",
       "      <td>0.268760</td>\n",
       "      <td>88735.0</td>\n",
       "      <td>11520.0</td>\n",
       "      <td>0.267002</td>\n",
       "      <td>0.034664</td>\n",
       "      <td>2.041570</td>\n",
       "      <td>0.038587</td>\n",
       "      <td>0.334114</td>\n",
       "      <td>2.010485</td>\n",
       "    </tr>\n",
       "    <tr>\n",
       "      <th>5</th>\n",
       "      <td>B</td>\n",
       "      <td>109582</td>\n",
       "      <td>0.921109</td>\n",
       "      <td>0.293763</td>\n",
       "      <td>100937.0</td>\n",
       "      <td>8645.0</td>\n",
       "      <td>0.303718</td>\n",
       "      <td>0.026013</td>\n",
       "      <td>2.457515</td>\n",
       "      <td>0.036016</td>\n",
       "      <td>0.415946</td>\n",
       "      <td>2.010485</td>\n",
       "    </tr>\n",
       "    <tr>\n",
       "      <th>6</th>\n",
       "      <td>A</td>\n",
       "      <td>59962</td>\n",
       "      <td>0.961759</td>\n",
       "      <td>0.160744</td>\n",
       "      <td>57669.0</td>\n",
       "      <td>2293.0</td>\n",
       "      <td>0.173525</td>\n",
       "      <td>0.006900</td>\n",
       "      <td>3.224859</td>\n",
       "      <td>0.040650</td>\n",
       "      <td>0.767343</td>\n",
       "      <td>2.010485</td>\n",
       "    </tr>\n",
       "  </tbody>\n",
       "</table>\n",
       "</div>"
      ],
      "text/plain": [
       "  grade   n_obs  prop_good  prop_n_obs    n_good    n_bad  prop_n_good  \\\n",
       "0     G    2656   0.721009    0.007120    1915.0    741.0     0.005762   \n",
       "1     F   10581   0.762026    0.028365    8063.0   2518.0     0.024261   \n",
       "2     E   28602   0.805958    0.076675   23052.0   5550.0     0.069363   \n",
       "3     D   61390   0.846506    0.164572   51967.0   9423.0     0.156368   \n",
       "4     C  100255   0.885093    0.268760   88735.0  11520.0     0.267002   \n",
       "5     B  109582   0.921109    0.293763  100937.0   8645.0     0.303718   \n",
       "6     A   59962   0.961759    0.160744   57669.0   2293.0     0.173525   \n",
       "\n",
       "   prop_n_bad       WoE  diff_prop_good  diff_WoE        IV  \n",
       "0    0.002230  0.949472             NaN       NaN  2.010485  \n",
       "1    0.007577  1.163821        0.041017  0.214348  2.010485  \n",
       "2    0.016700  1.423955        0.043931  0.260134  2.010485  \n",
       "3    0.028354  1.707455        0.040548  0.283501  2.010485  \n",
       "4    0.034664  2.041570        0.038587  0.334114  2.010485  \n",
       "5    0.026013  2.457515        0.036016  0.415946  2.010485  \n",
       "6    0.006900  3.224859        0.040650  0.767343  2.010485  "
      ]
     },
     "execution_count": 164,
     "metadata": {},
     "output_type": "execute_result"
    }
   ],
   "source": [
    "#calculate the IV:implied volatility(which will tell us how much we can rely on WOE)\n",
    "\n",
    "df1['IV'] = (df1['prop_n_good'] - df1['prop_n_bad'])*df1['WoE']\n",
    "df1['IV']=df1['IV'].sum()\n",
    "df1"
   ]
  },
  {
   "cell_type": "code",
   "execution_count": 197,
   "metadata": {
    "id": "nuaAfuZSLuU6"
   },
   "outputs": [],
   "source": [
    "#Creating a function for the the data prepation steps to calculate WoE & IV\n",
    "\n",
    "def woe_discrete(df,discrete_variable_name,good_bad_variable_df):\n",
    "    df = pd.concat([df[discrete_variable_name],good_bad_variable_df], axis=1)\n",
    "    df = pd.concat([df.groupby(df.columns.values[0],as_index = False)[df.columns.values[1]].count(),\n",
    "                   df.groupby(df.columns.values[0],as_index = False)[df.columns.values[1]].mean()],axis=1)\n",
    "    df= df.iloc[:,[0,1,3]]\n",
    "    df.columns=[discrete_variable_name,'n_obs','prop_good']\n",
    "    df['prop_n_obs']=df['n_obs']/df['n_obs'].sum()\n",
    "    df['n_good']=df['prop_good']*df['n_obs']\n",
    "    df['n_bad']=(1-df['prop_good'])*df['n_obs']\n",
    "    df['prop_n_good']=df['n_good']/df['n_good'].sum()\n",
    "    df['prop_n_bad']=df['n_bad']/df['n_good'].sum()\n",
    "    #df['WoE']=np.log(df['prop_n_good']/df['prop_n_bad'])\n",
    "    df['WoE'] = np.where(df['prop_n_bad'] != 0,np.log(df['prop_n_good']/df['prop_n_bad']),0)  #handle divide by 0 values\n",
    "    df= df.sort_values(['WoE'])\n",
    "    df=df.reset_index(drop=True)\n",
    "    df['diff_prop_good'] = df['prop_good'].diff().abs()\n",
    "    df['diff_WoE']=df['WoE'].diff().abs()\n",
    "    df['IV'] = (df['prop_n_good'] - df['prop_n_bad'])*df['WoE']\n",
    "    df['IV']=df['IV'].sum()\n",
    "    return df"
   ]
  },
  {
   "cell_type": "code",
   "execution_count": 198,
   "metadata": {
    "id": "HAwed_rsLuU6",
    "outputId": "c7f63ba2-b9f0-4ca7-b1d1-989c27b79233"
   },
   "outputs": [
    {
     "data": {
      "text/html": [
       "<div>\n",
       "<style scoped>\n",
       "    .dataframe tbody tr th:only-of-type {\n",
       "        vertical-align: middle;\n",
       "    }\n",
       "\n",
       "    .dataframe tbody tr th {\n",
       "        vertical-align: top;\n",
       "    }\n",
       "\n",
       "    .dataframe thead th {\n",
       "        text-align: right;\n",
       "    }\n",
       "</style>\n",
       "<table border=\"1\" class=\"dataframe\">\n",
       "  <thead>\n",
       "    <tr style=\"text-align: right;\">\n",
       "      <th></th>\n",
       "      <th>grade</th>\n",
       "      <th>n_obs</th>\n",
       "      <th>prop_good</th>\n",
       "      <th>prop_n_obs</th>\n",
       "      <th>n_good</th>\n",
       "      <th>n_bad</th>\n",
       "      <th>prop_n_good</th>\n",
       "      <th>prop_n_bad</th>\n",
       "      <th>WoE</th>\n",
       "      <th>diff_prop_good</th>\n",
       "      <th>diff_WoE</th>\n",
       "      <th>IV</th>\n",
       "    </tr>\n",
       "  </thead>\n",
       "  <tbody>\n",
       "    <tr>\n",
       "      <th>0</th>\n",
       "      <td>G</td>\n",
       "      <td>2656</td>\n",
       "      <td>0.721009</td>\n",
       "      <td>0.007120</td>\n",
       "      <td>1915.0</td>\n",
       "      <td>741.0</td>\n",
       "      <td>0.005762</td>\n",
       "      <td>0.002230</td>\n",
       "      <td>0.949472</td>\n",
       "      <td>NaN</td>\n",
       "      <td>NaN</td>\n",
       "      <td>2.010485</td>\n",
       "    </tr>\n",
       "    <tr>\n",
       "      <th>1</th>\n",
       "      <td>F</td>\n",
       "      <td>10581</td>\n",
       "      <td>0.762026</td>\n",
       "      <td>0.028365</td>\n",
       "      <td>8063.0</td>\n",
       "      <td>2518.0</td>\n",
       "      <td>0.024261</td>\n",
       "      <td>0.007577</td>\n",
       "      <td>1.163821</td>\n",
       "      <td>0.041017</td>\n",
       "      <td>0.214348</td>\n",
       "      <td>2.010485</td>\n",
       "    </tr>\n",
       "    <tr>\n",
       "      <th>2</th>\n",
       "      <td>E</td>\n",
       "      <td>28602</td>\n",
       "      <td>0.805958</td>\n",
       "      <td>0.076675</td>\n",
       "      <td>23052.0</td>\n",
       "      <td>5550.0</td>\n",
       "      <td>0.069363</td>\n",
       "      <td>0.016700</td>\n",
       "      <td>1.423955</td>\n",
       "      <td>0.043931</td>\n",
       "      <td>0.260134</td>\n",
       "      <td>2.010485</td>\n",
       "    </tr>\n",
       "    <tr>\n",
       "      <th>3</th>\n",
       "      <td>D</td>\n",
       "      <td>61390</td>\n",
       "      <td>0.846506</td>\n",
       "      <td>0.164572</td>\n",
       "      <td>51967.0</td>\n",
       "      <td>9423.0</td>\n",
       "      <td>0.156368</td>\n",
       "      <td>0.028354</td>\n",
       "      <td>1.707455</td>\n",
       "      <td>0.040548</td>\n",
       "      <td>0.283501</td>\n",
       "      <td>2.010485</td>\n",
       "    </tr>\n",
       "    <tr>\n",
       "      <th>4</th>\n",
       "      <td>C</td>\n",
       "      <td>100255</td>\n",
       "      <td>0.885093</td>\n",
       "      <td>0.268760</td>\n",
       "      <td>88735.0</td>\n",
       "      <td>11520.0</td>\n",
       "      <td>0.267002</td>\n",
       "      <td>0.034664</td>\n",
       "      <td>2.041570</td>\n",
       "      <td>0.038587</td>\n",
       "      <td>0.334114</td>\n",
       "      <td>2.010485</td>\n",
       "    </tr>\n",
       "    <tr>\n",
       "      <th>5</th>\n",
       "      <td>B</td>\n",
       "      <td>109582</td>\n",
       "      <td>0.921109</td>\n",
       "      <td>0.293763</td>\n",
       "      <td>100937.0</td>\n",
       "      <td>8645.0</td>\n",
       "      <td>0.303718</td>\n",
       "      <td>0.026013</td>\n",
       "      <td>2.457515</td>\n",
       "      <td>0.036016</td>\n",
       "      <td>0.415946</td>\n",
       "      <td>2.010485</td>\n",
       "    </tr>\n",
       "    <tr>\n",
       "      <th>6</th>\n",
       "      <td>A</td>\n",
       "      <td>59962</td>\n",
       "      <td>0.961759</td>\n",
       "      <td>0.160744</td>\n",
       "      <td>57669.0</td>\n",
       "      <td>2293.0</td>\n",
       "      <td>0.173525</td>\n",
       "      <td>0.006900</td>\n",
       "      <td>3.224859</td>\n",
       "      <td>0.040650</td>\n",
       "      <td>0.767343</td>\n",
       "      <td>2.010485</td>\n",
       "    </tr>\n",
       "  </tbody>\n",
       "</table>\n",
       "</div>"
      ],
      "text/plain": [
       "  grade   n_obs  prop_good  prop_n_obs    n_good    n_bad  prop_n_good  \\\n",
       "0     G    2656   0.721009    0.007120    1915.0    741.0     0.005762   \n",
       "1     F   10581   0.762026    0.028365    8063.0   2518.0     0.024261   \n",
       "2     E   28602   0.805958    0.076675   23052.0   5550.0     0.069363   \n",
       "3     D   61390   0.846506    0.164572   51967.0   9423.0     0.156368   \n",
       "4     C  100255   0.885093    0.268760   88735.0  11520.0     0.267002   \n",
       "5     B  109582   0.921109    0.293763  100937.0   8645.0     0.303718   \n",
       "6     A   59962   0.961759    0.160744   57669.0   2293.0     0.173525   \n",
       "\n",
       "   prop_n_bad       WoE  diff_prop_good  diff_WoE        IV  \n",
       "0    0.002230  0.949472             NaN       NaN  2.010485  \n",
       "1    0.007577  1.163821        0.041017  0.214348  2.010485  \n",
       "2    0.016700  1.423955        0.043931  0.260134  2.010485  \n",
       "3    0.028354  1.707455        0.040548  0.283501  2.010485  \n",
       "4    0.034664  2.041570        0.038587  0.334114  2.010485  \n",
       "5    0.026013  2.457515        0.036016  0.415946  2.010485  \n",
       "6    0.006900  3.224859        0.040650  0.767343  2.010485  "
      ]
     },
     "execution_count": 198,
     "metadata": {},
     "output_type": "execute_result"
    }
   ],
   "source": [
    "#applying the function on 'grade' column:\n",
    "df_temp = woe_discrete(X_train, 'grade', y_train)\n",
    "df_temp"
   ]
  },
  {
   "cell_type": "markdown",
   "metadata": {
    "id": "Z3DjqbqOLuU6"
   },
   "source": [
    "##### Visualizing Results"
   ]
  },
  {
   "cell_type": "code",
   "execution_count": 199,
   "metadata": {
    "id": "9C4MBCROLuU6"
   },
   "outputs": [],
   "source": [
    "#import the visualization libraries:\n",
    "import matplotlib.pyplot as plt\n",
    "import seaborn as sns\n",
    "sns.set()"
   ]
  },
  {
   "cell_type": "code",
   "execution_count": 200,
   "metadata": {
    "id": "0TXVPObrLuU7"
   },
   "outputs": [],
   "source": [
    "#function for plotting of WoE:\n",
    "\n",
    "def plot_by_woe(df_WoE,rotation_of_x_axis_labels=0):\n",
    "    x=np.array(df_WoE.iloc[:,0].apply(str))\n",
    "    y=df_WoE['WoE']\n",
    "    plt.figure(figsize=(18,6))\n",
    "    plt.plot(x,y,marker = 'o',linestyle='--',color='k')\n",
    "    plt.xlabel(df_WoE.columns[0])\n",
    "    plt.ylabel('weight of evidence')\n",
    "    plt.title(str('Weight of Evidence by ')+df_WoE.columns[0])\n",
    "    plt.xticks(rotation=rotation_of_x_axis_labels)"
   ]
  },
  {
   "cell_type": "markdown",
   "metadata": {
    "id": "BJ0g7K-7Vs5h"
   },
   "source": [
    "**High WoE means the borrower chance to pay the loan on time is high:**"
   ]
  },
  {
   "cell_type": "code",
   "execution_count": 201,
   "metadata": {
    "id": "5_xc-mTeLuU7",
    "outputId": "4fa8501e-fe6a-4b55-83e1-488df3c14cfc"
   },
   "outputs": [
    {
     "data": {
      "image/png": "[encoded data removed]",
      "text/plain": [
       "<Figure size 1800x600 with 1 Axes>"
      ]
     },
     "metadata": {},
     "output_type": "display_data"
    }
   ],
   "source": [
    "#pass the dataframe into the plot_by_woe function\n",
    "plot_by_woe(df_temp)"
   ]
  },
  {
   "cell_type": "markdown",
   "metadata": {
    "id": "d8pgSYSJLuU7"
   },
   "source": [
    "Preprocessing Discrete Variables:Creating Dummy Variable,part1"
   ]
  },
  {
   "cell_type": "code",
   "execution_count": 202,
   "metadata": {
    "id": "HdJkR7xLLuU7",
    "outputId": "9d2ba1f6-a760-4c36-fada-c2756f1e56fc"
   },
   "outputs": [
    {
     "data": {
      "text/html": [
       "<div>\n",
       "<style scoped>\n",
       "    .dataframe tbody tr th:only-of-type {\n",
       "        vertical-align: middle;\n",
       "    }\n",
       "\n",
       "    .dataframe tbody tr th {\n",
       "        vertical-align: top;\n",
       "    }\n",
       "\n",
       "    .dataframe thead th {\n",
       "        text-align: right;\n",
       "    }\n",
       "</style>\n",
       "<table border=\"1\" class=\"dataframe\">\n",
       "  <thead>\n",
       "    <tr style=\"text-align: right;\">\n",
       "      <th></th>\n",
       "      <th>home_ownership</th>\n",
       "      <th>n_obs</th>\n",
       "      <th>prop_good</th>\n",
       "      <th>prop_n_obs</th>\n",
       "      <th>n_good</th>\n",
       "      <th>n_bad</th>\n",
       "      <th>prop_n_good</th>\n",
       "      <th>prop_n_bad</th>\n",
       "      <th>WoE</th>\n",
       "      <th>diff_prop_good</th>\n",
       "      <th>diff_WoE</th>\n",
       "      <th>IV</th>\n",
       "    </tr>\n",
       "  </thead>\n",
       "  <tbody>\n",
       "    <tr>\n",
       "      <th>0</th>\n",
       "      <td>ANY</td>\n",
       "      <td>1</td>\n",
       "      <td>1.000000</td>\n",
       "      <td>0.000003</td>\n",
       "      <td>1.0</td>\n",
       "      <td>0.0</td>\n",
       "      <td>0.000003</td>\n",
       "      <td>0.000000</td>\n",
       "      <td>0.000000</td>\n",
       "      <td>NaN</td>\n",
       "      <td>NaN</td>\n",
       "      <td>1.855124</td>\n",
       "    </tr>\n",
       "    <tr>\n",
       "      <th>1</th>\n",
       "      <td>OTHER</td>\n",
       "      <td>145</td>\n",
       "      <td>0.800000</td>\n",
       "      <td>0.000389</td>\n",
       "      <td>116.0</td>\n",
       "      <td>29.0</td>\n",
       "      <td>0.000349</td>\n",
       "      <td>0.000087</td>\n",
       "      <td>1.386294</td>\n",
       "      <td>0.200000</td>\n",
       "      <td>1.386294</td>\n",
       "      <td>1.855124</td>\n",
       "    </tr>\n",
       "    <tr>\n",
       "      <th>2</th>\n",
       "      <td>RENT</td>\n",
       "      <td>150727</td>\n",
       "      <td>0.874183</td>\n",
       "      <td>0.404064</td>\n",
       "      <td>131763.0</td>\n",
       "      <td>18964.0</td>\n",
       "      <td>0.396473</td>\n",
       "      <td>0.057062</td>\n",
       "      <td>1.938462</td>\n",
       "      <td>0.074183</td>\n",
       "      <td>0.552168</td>\n",
       "      <td>1.855124</td>\n",
       "    </tr>\n",
       "    <tr>\n",
       "      <th>3</th>\n",
       "      <td>NONE</td>\n",
       "      <td>40</td>\n",
       "      <td>0.875000</td>\n",
       "      <td>0.000107</td>\n",
       "      <td>35.0</td>\n",
       "      <td>5.0</td>\n",
       "      <td>0.000105</td>\n",
       "      <td>0.000015</td>\n",
       "      <td>1.945910</td>\n",
       "      <td>0.000817</td>\n",
       "      <td>0.007448</td>\n",
       "      <td>1.855124</td>\n",
       "    </tr>\n",
       "    <tr>\n",
       "      <th>4</th>\n",
       "      <td>OWN</td>\n",
       "      <td>33522</td>\n",
       "      <td>0.891444</td>\n",
       "      <td>0.089865</td>\n",
       "      <td>29883.0</td>\n",
       "      <td>3639.0</td>\n",
       "      <td>0.089917</td>\n",
       "      <td>0.010950</td>\n",
       "      <td>2.105581</td>\n",
       "      <td>0.016444</td>\n",
       "      <td>0.159671</td>\n",
       "      <td>1.855124</td>\n",
       "    </tr>\n",
       "    <tr>\n",
       "      <th>5</th>\n",
       "      <td>MORTGAGE</td>\n",
       "      <td>188593</td>\n",
       "      <td>0.904275</td>\n",
       "      <td>0.505573</td>\n",
       "      <td>170540.0</td>\n",
       "      <td>18053.0</td>\n",
       "      <td>0.513152</td>\n",
       "      <td>0.054321</td>\n",
       "      <td>2.245658</td>\n",
       "      <td>0.012831</td>\n",
       "      <td>0.140077</td>\n",
       "      <td>1.855124</td>\n",
       "    </tr>\n",
       "  </tbody>\n",
       "</table>\n",
       "</div>"
      ],
      "text/plain": [
       "  home_ownership   n_obs  prop_good  prop_n_obs    n_good    n_bad  \\\n",
       "0            ANY       1   1.000000    0.000003       1.0      0.0   \n",
       "1          OTHER     145   0.800000    0.000389     116.0     29.0   \n",
       "2           RENT  150727   0.874183    0.404064  131763.0  18964.0   \n",
       "3           NONE      40   0.875000    0.000107      35.0      5.0   \n",
       "4            OWN   33522   0.891444    0.089865   29883.0   3639.0   \n",
       "5       MORTGAGE  188593   0.904275    0.505573  170540.0  18053.0   \n",
       "\n",
       "   prop_n_good  prop_n_bad       WoE  diff_prop_good  diff_WoE        IV  \n",
       "0     0.000003    0.000000  0.000000             NaN       NaN  1.855124  \n",
       "1     0.000349    0.000087  1.386294        0.200000  1.386294  1.855124  \n",
       "2     0.396473    0.057062  1.938462        0.074183  0.552168  1.855124  \n",
       "3     0.000105    0.000015  1.945910        0.000817  0.007448  1.855124  \n",
       "4     0.089917    0.010950  2.105581        0.016444  0.159671  1.855124  \n",
       "5     0.513152    0.054321  2.245658        0.012831  0.140077  1.855124  "
      ]
     },
     "execution_count": 202,
     "metadata": {},
     "output_type": "execute_result"
    }
   ],
   "source": [
    "#Check the WoE for 'home_ownership' and visualize the result using woe plot\n",
    "df_temp_ho = woe_discrete(X_train, 'home_ownership', y_train)\n",
    "df_temp_ho"
   ]
  },
  {
   "cell_type": "code",
   "execution_count": 203,
   "metadata": {
    "id": "P825wd3gLuU7",
    "outputId": "c695a1d3-cda2-4aef-d975-0c02cb5747bf"
   },
   "outputs": [
    {
     "data": {
      "image/png": "[encoded data removed]",
      "text/plain": [
       "<Figure size 1800x600 with 1 Axes>"
      ]
     },
     "metadata": {},
     "output_type": "display_data"
    }
   ],
   "source": [
    "#plot the woe for 'home_ownersip'\n",
    "plot_by_woe(df_temp_ho)"
   ]
  },
  {
   "cell_type": "code",
   "execution_count": 204,
   "metadata": {
    "id": "TJYPwp08LuU8"
   },
   "outputs": [],
   "source": [
    "#add the binary values of values 'RENT','OTHER','NONE','ANY' as they have low WoE values\n",
    "df_inputs_prepr['home_ownership:RENT_OTHER_NONE_ANY'] = sum([df_inputs_prepr['home_ownership:RENT'],df_inputs_prepr['home_ownership:OTHER'],\n",
    "                                                           df_inputs_prepr['home_ownership:NONE'],df_inputs_prepr['home_ownership:ANY']])"
   ]
  },
  {
   "cell_type": "markdown",
   "metadata": {
    "id": "TPlXtmSOLuU8"
   },
   "source": [
    "PREPROCESSING DISCRETE VARRIABLES:DUMMMY VARRIABLES"
   ]
  },
  {
   "cell_type": "code",
   "execution_count": 215,
   "metadata": {
    "id": "gAWdbMekLuU8",
    "outputId": "9eb4a16e-dc55-4892-b541-27fa3b3bf173"
   },
   "outputs": [
    {
     "data": {
      "text/plain": [
       "array(['OK', 'CA', 'VA', 'OH', 'NC', 'MN', 'FL', 'TX', 'AL', 'NY', 'KY',\n",
       "       'MI', 'GA', 'WA', 'NV', 'PA', 'SC', 'MD', 'SD', 'TN', 'NJ', 'NH',\n",
       "       'IL', 'WI', 'AZ', 'MA', 'VT', 'RI', 'HI', 'LA', 'AK', 'MS', 'MT',\n",
       "       'NM', 'KS', 'IN', 'CT', 'DE', 'OR', 'AR', 'MO', 'DC', 'CO', 'UT',\n",
       "       'WV', 'WY', 'NE', 'ID', 'IA', 'ME'], dtype=object)"
      ]
     },
     "execution_count": 215,
     "metadata": {},
     "output_type": "execute_result"
    }
   ],
   "source": [
    "#check the unique values in addr_state(df_inputs_prepr = X_train)\n",
    "df_inputs_prepr['addr_state'].unique()"
   ]
  },
  {
   "cell_type": "code",
   "execution_count": null,
   "metadata": {
    "id": "eegPXdlrLuU8",
    "outputId": "ba8a2a01-a728-4403-f421-82a9bacc47ea"
   },
   "outputs": [],
   "source": [
    "#apply the function woe_discrete on 'addr_state'\n",
    "df_temp_as = woe_discrete(X_train, 'addr_state', y_train)\n",
    "df_temp_as"
   ]
  },
  {
   "cell_type": "code",
   "execution_count": 274,
   "metadata": {},
   "outputs": [
    {
     "name": "stdout",
     "output_type": "stream",
     "text": [
      "h\n"
     ]
    }
   ],
   "source": [
    "\n",
    "bins = np.linspace(df_temp_as['WoE'].min(),df_temp_as['WoE'].max(),20)\n",
    "df_temp_as['binned_values'] = np.digitize(df_temp_as['WoE'].values, bins=bins)\n",
    "if(not(df_temp_as[df_temp_as['binned_values']== 1].empty)):\n",
    "    print('h')"
   ]
  },
  {
   "cell_type": "code",
   "execution_count": 208,
   "metadata": {
    "id": "NJFGOQfTLuU8",
    "outputId": "e7596c98-68bf-4f9e-c8c5-bb36a603e219"
   },
   "outputs": [
    {
     "data": {
      "image/png": "[encoded data removed]",
      "text/plain": [
       "<Figure size 1800x600 with 1 Axes>"
      ]
     },
     "metadata": {},
     "output_type": "display_data"
    }
   ],
   "source": [
    "#plot the woe_plot\n",
    "plot_by_woe(df_temp_as)"
   ]
  },
  {
   "cell_type": "code",
   "execution_count": null,
   "metadata": {
    "id": "tFN-0TlsLuU8"
   },
   "outputs": [],
   "source": [
    "#adding the state 'ND' if it is not present in columns and make it zero if not present\n",
    "if['addr_state:ND'] in df_inputs_prepr.columns.values:\n",
    "    pass\n",
    "else:\n",
    "    df_inputs_prepr['addr_state:ND']=0"
   ]
  },
  {
   "cell_type": "code",
   "execution_count": 209,
   "metadata": {
    "id": "bZ0dfmMELuU9",
    "outputId": "d7df34ad-f4ea-4fb5-a2c5-3bac59bee398"
   },
   "outputs": [
    {
     "data": {
      "image/png": "[encoded data removed]",
      "text/plain": [
       "<Figure size 1800x600 with 1 Axes>"
      ]
     },
     "metadata": {},
     "output_type": "display_data"
    }
   ],
   "source": [
    "#plot the woe_plot from 2nd row- IA onwards for which we have significan WoE value\n",
    "plot_by_woe(df_temp_as.iloc[2:-2,:])"
   ]
  },
  {
   "cell_type": "code",
   "execution_count": 211,
   "metadata": {
    "id": "0jB7RfMaLuU9",
    "outputId": "5adb216a-43c6-4486-b2b2-a2cfda64c96e"
   },
   "outputs": [
    {
     "data": {
      "image/png": "[encoded data removed]",
      "text/plain": [
       "<Figure size 1800x600 with 1 Axes>"
      ]
     },
     "metadata": {},
     "output_type": "display_data"
    }
   ],
   "source": [
    "#woe_plot for values whose WoE values differs at large to get the clear picture\n",
    "plot_by_woe(df_temp_as.iloc[6:-6,:])"
   ]
  },
  {
   "cell_type": "code",
   "execution_count": 318,
   "metadata": {},
   "outputs": [],
   "source": [
    "states_list = df_temp_as[df_temp_as['binned_values']== 16]['addr_state']#.astype(str))#transform(lambda x : '_'.join(x))\n",
    "state_col = ('addr_state:'+ (df_temp_as[df_temp_as['binned_values']== 16]['addr_state']).astype(str)).tolist()\n",
    "col_name = 'addr_state_'+ states_list.str.cat(sep='_')\n",
    "# len(state_col)\n",
    "# for state in np.arange(len(state_col)):\n",
    "#     val += [df_inputs_prepr[state_col]]\n",
    "    \n",
    "#state_col\n",
    "df2 = pd.DataFrame()\n",
    "df2[col_name] = df_inputs_prepr[state_col].sum(axis = 1)"
   ]
  },
  {
   "cell_type": "code",
   "execution_count": 319,
   "metadata": {},
   "outputs": [
    {
     "data": {
      "text/html": [
       "<div>\n",
       "<style scoped>\n",
       "    .dataframe tbody tr th:only-of-type {\n",
       "        vertical-align: middle;\n",
       "    }\n",
       "\n",
       "    .dataframe tbody tr th {\n",
       "        vertical-align: top;\n",
       "    }\n",
       "\n",
       "    .dataframe thead th {\n",
       "        text-align: right;\n",
       "    }\n",
       "</style>\n",
       "<table border=\"1\" class=\"dataframe\">\n",
       "  <thead>\n",
       "    <tr style=\"text-align: right;\">\n",
       "      <th></th>\n",
       "      <th>addr_state_AL_RI_NM_NC_OK_LA_VA_SD_NY_NJ_MD_CA_MO_TN_ID_AZ_MI_AR_PA_UT_OH</th>\n",
       "    </tr>\n",
       "  </thead>\n",
       "  <tbody>\n",
       "    <tr>\n",
       "      <th>403678</th>\n",
       "      <td>1</td>\n",
       "    </tr>\n",
       "    <tr>\n",
       "      <th>241492</th>\n",
       "      <td>1</td>\n",
       "    </tr>\n",
       "    <tr>\n",
       "      <th>15864</th>\n",
       "      <td>1</td>\n",
       "    </tr>\n",
       "    <tr>\n",
       "      <th>320277</th>\n",
       "      <td>1</td>\n",
       "    </tr>\n",
       "    <tr>\n",
       "      <th>299829</th>\n",
       "      <td>1</td>\n",
       "    </tr>\n",
       "    <tr>\n",
       "      <th>...</th>\n",
       "      <td>...</td>\n",
       "    </tr>\n",
       "    <tr>\n",
       "      <th>73349</th>\n",
       "      <td>0</td>\n",
       "    </tr>\n",
       "    <tr>\n",
       "      <th>371403</th>\n",
       "      <td>0</td>\n",
       "    </tr>\n",
       "    <tr>\n",
       "      <th>312201</th>\n",
       "      <td>1</td>\n",
       "    </tr>\n",
       "    <tr>\n",
       "      <th>267336</th>\n",
       "      <td>1</td>\n",
       "    </tr>\n",
       "    <tr>\n",
       "      <th>128037</th>\n",
       "      <td>0</td>\n",
       "    </tr>\n",
       "  </tbody>\n",
       "</table>\n",
       "<p>373028 rows × 1 columns</p>\n",
       "</div>"
      ],
      "text/plain": [
       "        addr_state_AL_RI_NM_NC_OK_LA_VA_SD_NY_NJ_MD_CA_MO_TN_ID_AZ_MI_AR_PA_UT_OH\n",
       "403678                                                  1                        \n",
       "241492                                                  1                        \n",
       "15864                                                   1                        \n",
       "320277                                                  1                        \n",
       "299829                                                  1                        \n",
       "...                                                   ...                        \n",
       "73349                                                   0                        \n",
       "371403                                                  0                        \n",
       "312201                                                  1                        \n",
       "267336                                                  1                        \n",
       "128037                                                  0                        \n",
       "\n",
       "[373028 rows x 1 columns]"
      ]
     },
     "execution_count": 319,
     "metadata": {},
     "output_type": "execute_result"
    }
   ],
   "source": [
    "df2"
   ]
  },
  {
   "cell_type": "code",
   "execution_count": 275,
   "metadata": {},
   "outputs": [
    {
     "data": {
      "text/html": [
       "<div>\n",
       "<style scoped>\n",
       "    .dataframe tbody tr th:only-of-type {\n",
       "        vertical-align: middle;\n",
       "    }\n",
       "\n",
       "    .dataframe tbody tr th {\n",
       "        vertical-align: top;\n",
       "    }\n",
       "\n",
       "    .dataframe thead th {\n",
       "        text-align: right;\n",
       "    }\n",
       "</style>\n",
       "<table border=\"1\" class=\"dataframe\">\n",
       "  <thead>\n",
       "    <tr style=\"text-align: right;\">\n",
       "      <th></th>\n",
       "      <th>addr_state</th>\n",
       "      <th>n_obs</th>\n",
       "      <th>prop_good</th>\n",
       "      <th>prop_n_obs</th>\n",
       "      <th>n_good</th>\n",
       "      <th>n_bad</th>\n",
       "      <th>prop_n_good</th>\n",
       "      <th>prop_n_bad</th>\n",
       "      <th>WoE</th>\n",
       "      <th>diff_prop_good</th>\n",
       "      <th>diff_WoE</th>\n",
       "      <th>IV</th>\n",
       "      <th>binned_values</th>\n",
       "    </tr>\n",
       "  </thead>\n",
       "  <tbody>\n",
       "    <tr>\n",
       "      <th>0</th>\n",
       "      <td>NE</td>\n",
       "      <td>13</td>\n",
       "      <td>0.384615</td>\n",
       "      <td>0.000035</td>\n",
       "      <td>5.0</td>\n",
       "      <td>8.0</td>\n",
       "      <td>0.000015</td>\n",
       "      <td>0.000024</td>\n",
       "      <td>-0.470004</td>\n",
       "      <td>NaN</td>\n",
       "      <td>NaN</td>\n",
       "      <td>1.850527</td>\n",
       "      <td>1</td>\n",
       "    </tr>\n",
       "    <tr>\n",
       "      <th>1</th>\n",
       "      <td>ME</td>\n",
       "      <td>3</td>\n",
       "      <td>1.000000</td>\n",
       "      <td>0.000008</td>\n",
       "      <td>3.0</td>\n",
       "      <td>0.0</td>\n",
       "      <td>0.000009</td>\n",
       "      <td>0.000000</td>\n",
       "      <td>0.000000</td>\n",
       "      <td>0.615385</td>\n",
       "      <td>0.470004</td>\n",
       "      <td>1.850527</td>\n",
       "      <td>3</td>\n",
       "    </tr>\n",
       "    <tr>\n",
       "      <th>2</th>\n",
       "      <td>IA</td>\n",
       "      <td>13</td>\n",
       "      <td>0.769231</td>\n",
       "      <td>0.000035</td>\n",
       "      <td>10.0</td>\n",
       "      <td>3.0</td>\n",
       "      <td>0.000030</td>\n",
       "      <td>0.000009</td>\n",
       "      <td>1.203973</td>\n",
       "      <td>0.230769</td>\n",
       "      <td>1.203973</td>\n",
       "      <td>1.850527</td>\n",
       "      <td>11</td>\n",
       "    </tr>\n",
       "    <tr>\n",
       "      <th>3</th>\n",
       "      <td>NV</td>\n",
       "      <td>5269</td>\n",
       "      <td>0.865060</td>\n",
       "      <td>0.014125</td>\n",
       "      <td>4558.0</td>\n",
       "      <td>711.0</td>\n",
       "      <td>0.013715</td>\n",
       "      <td>0.002139</td>\n",
       "      <td>1.857967</td>\n",
       "      <td>0.095829</td>\n",
       "      <td>0.653994</td>\n",
       "      <td>1.850527</td>\n",
       "      <td>15</td>\n",
       "    </tr>\n",
       "    <tr>\n",
       "      <th>4</th>\n",
       "      <td>HI</td>\n",
       "      <td>2005</td>\n",
       "      <td>0.868828</td>\n",
       "      <td>0.005375</td>\n",
       "      <td>1742.0</td>\n",
       "      <td>263.0</td>\n",
       "      <td>0.005242</td>\n",
       "      <td>0.000791</td>\n",
       "      <td>1.890635</td>\n",
       "      <td>0.003768</td>\n",
       "      <td>0.032668</td>\n",
       "      <td>1.850527</td>\n",
       "      <td>15</td>\n",
       "    </tr>\n",
       "    <tr>\n",
       "      <th>5</th>\n",
       "      <td>FL</td>\n",
       "      <td>25257</td>\n",
       "      <td>0.874926</td>\n",
       "      <td>0.067708</td>\n",
       "      <td>22098.0</td>\n",
       "      <td>3159.0</td>\n",
       "      <td>0.066493</td>\n",
       "      <td>0.009505</td>\n",
       "      <td>1.945232</td>\n",
       "      <td>0.006098</td>\n",
       "      <td>0.054596</td>\n",
       "      <td>1.850527</td>\n",
       "      <td>15</td>\n",
       "    </tr>\n",
       "    <tr>\n",
       "      <th>6</th>\n",
       "      <td>AL</td>\n",
       "      <td>4685</td>\n",
       "      <td>0.877481</td>\n",
       "      <td>0.012559</td>\n",
       "      <td>4111.0</td>\n",
       "      <td>574.0</td>\n",
       "      <td>0.012370</td>\n",
       "      <td>0.001727</td>\n",
       "      <td>1.968792</td>\n",
       "      <td>0.002556</td>\n",
       "      <td>0.023561</td>\n",
       "      <td>1.850527</td>\n",
       "      <td>16</td>\n",
       "    </tr>\n",
       "    <tr>\n",
       "      <th>7</th>\n",
       "      <td>RI</td>\n",
       "      <td>1613</td>\n",
       "      <td>0.880347</td>\n",
       "      <td>0.004324</td>\n",
       "      <td>1420.0</td>\n",
       "      <td>193.0</td>\n",
       "      <td>0.004273</td>\n",
       "      <td>0.000581</td>\n",
       "      <td>1.995722</td>\n",
       "      <td>0.002866</td>\n",
       "      <td>0.026930</td>\n",
       "      <td>1.850527</td>\n",
       "      <td>16</td>\n",
       "    </tr>\n",
       "    <tr>\n",
       "      <th>8</th>\n",
       "      <td>NM</td>\n",
       "      <td>2049</td>\n",
       "      <td>0.882870</td>\n",
       "      <td>0.005493</td>\n",
       "      <td>1809.0</td>\n",
       "      <td>240.0</td>\n",
       "      <td>0.005443</td>\n",
       "      <td>0.000722</td>\n",
       "      <td>2.019891</td>\n",
       "      <td>0.002523</td>\n",
       "      <td>0.024169</td>\n",
       "      <td>1.850527</td>\n",
       "      <td>16</td>\n",
       "    </tr>\n",
       "    <tr>\n",
       "      <th>9</th>\n",
       "      <td>NC</td>\n",
       "      <td>10172</td>\n",
       "      <td>0.883110</td>\n",
       "      <td>0.027269</td>\n",
       "      <td>8983.0</td>\n",
       "      <td>1189.0</td>\n",
       "      <td>0.027030</td>\n",
       "      <td>0.003578</td>\n",
       "      <td>2.022221</td>\n",
       "      <td>0.000241</td>\n",
       "      <td>0.002331</td>\n",
       "      <td>1.850527</td>\n",
       "      <td>16</td>\n",
       "    </tr>\n",
       "    <tr>\n",
       "      <th>10</th>\n",
       "      <td>OK</td>\n",
       "      <td>3312</td>\n",
       "      <td>0.883152</td>\n",
       "      <td>0.008879</td>\n",
       "      <td>2925.0</td>\n",
       "      <td>387.0</td>\n",
       "      <td>0.008801</td>\n",
       "      <td>0.001164</td>\n",
       "      <td>2.022625</td>\n",
       "      <td>0.000042</td>\n",
       "      <td>0.000404</td>\n",
       "      <td>1.850527</td>\n",
       "      <td>16</td>\n",
       "    </tr>\n",
       "    <tr>\n",
       "      <th>11</th>\n",
       "      <td>LA</td>\n",
       "      <td>4445</td>\n",
       "      <td>0.883690</td>\n",
       "      <td>0.011916</td>\n",
       "      <td>3928.0</td>\n",
       "      <td>517.0</td>\n",
       "      <td>0.011819</td>\n",
       "      <td>0.001556</td>\n",
       "      <td>2.027843</td>\n",
       "      <td>0.000537</td>\n",
       "      <td>0.005218</td>\n",
       "      <td>1.850527</td>\n",
       "      <td>16</td>\n",
       "    </tr>\n",
       "    <tr>\n",
       "      <th>12</th>\n",
       "      <td>VA</td>\n",
       "      <td>11349</td>\n",
       "      <td>0.883955</td>\n",
       "      <td>0.030424</td>\n",
       "      <td>10032.0</td>\n",
       "      <td>1317.0</td>\n",
       "      <td>0.030186</td>\n",
       "      <td>0.003963</td>\n",
       "      <td>2.030424</td>\n",
       "      <td>0.000265</td>\n",
       "      <td>0.002581</td>\n",
       "      <td>1.850527</td>\n",
       "      <td>16</td>\n",
       "    </tr>\n",
       "    <tr>\n",
       "      <th>13</th>\n",
       "      <td>SD</td>\n",
       "      <td>785</td>\n",
       "      <td>0.884076</td>\n",
       "      <td>0.002104</td>\n",
       "      <td>694.0</td>\n",
       "      <td>91.0</td>\n",
       "      <td>0.002088</td>\n",
       "      <td>0.000274</td>\n",
       "      <td>2.031612</td>\n",
       "      <td>0.000122</td>\n",
       "      <td>0.001189</td>\n",
       "      <td>1.850527</td>\n",
       "      <td>16</td>\n",
       "    </tr>\n",
       "    <tr>\n",
       "      <th>14</th>\n",
       "      <td>NY</td>\n",
       "      <td>32217</td>\n",
       "      <td>0.884316</td>\n",
       "      <td>0.086366</td>\n",
       "      <td>28490.0</td>\n",
       "      <td>3727.0</td>\n",
       "      <td>0.085726</td>\n",
       "      <td>0.011214</td>\n",
       "      <td>2.033950</td>\n",
       "      <td>0.000239</td>\n",
       "      <td>0.002337</td>\n",
       "      <td>1.850527</td>\n",
       "      <td>16</td>\n",
       "    </tr>\n",
       "    <tr>\n",
       "      <th>15</th>\n",
       "      <td>NJ</td>\n",
       "      <td>14447</td>\n",
       "      <td>0.885236</td>\n",
       "      <td>0.038729</td>\n",
       "      <td>12789.0</td>\n",
       "      <td>1658.0</td>\n",
       "      <td>0.038482</td>\n",
       "      <td>0.004989</td>\n",
       "      <td>2.042973</td>\n",
       "      <td>0.000920</td>\n",
       "      <td>0.009024</td>\n",
       "      <td>1.850527</td>\n",
       "      <td>16</td>\n",
       "    </tr>\n",
       "    <tr>\n",
       "      <th>16</th>\n",
       "      <td>MD</td>\n",
       "      <td>8759</td>\n",
       "      <td>0.885489</td>\n",
       "      <td>0.023481</td>\n",
       "      <td>7756.0</td>\n",
       "      <td>1003.0</td>\n",
       "      <td>0.023338</td>\n",
       "      <td>0.003018</td>\n",
       "      <td>2.045471</td>\n",
       "      <td>0.000254</td>\n",
       "      <td>0.002498</td>\n",
       "      <td>1.850527</td>\n",
       "      <td>16</td>\n",
       "    </tr>\n",
       "    <tr>\n",
       "      <th>17</th>\n",
       "      <td>CA</td>\n",
       "      <td>57098</td>\n",
       "      <td>0.886178</td>\n",
       "      <td>0.153066</td>\n",
       "      <td>50599.0</td>\n",
       "      <td>6499.0</td>\n",
       "      <td>0.152252</td>\n",
       "      <td>0.019555</td>\n",
       "      <td>2.052283</td>\n",
       "      <td>0.000689</td>\n",
       "      <td>0.006812</td>\n",
       "      <td>1.850527</td>\n",
       "      <td>16</td>\n",
       "    </tr>\n",
       "    <tr>\n",
       "      <th>18</th>\n",
       "      <td>MO</td>\n",
       "      <td>6018</td>\n",
       "      <td>0.886507</td>\n",
       "      <td>0.016133</td>\n",
       "      <td>5335.0</td>\n",
       "      <td>683.0</td>\n",
       "      <td>0.016053</td>\n",
       "      <td>0.002055</td>\n",
       "      <td>2.055549</td>\n",
       "      <td>0.000329</td>\n",
       "      <td>0.003266</td>\n",
       "      <td>1.850527</td>\n",
       "      <td>16</td>\n",
       "    </tr>\n",
       "    <tr>\n",
       "      <th>19</th>\n",
       "      <td>TN</td>\n",
       "      <td>4839</td>\n",
       "      <td>0.886960</td>\n",
       "      <td>0.012972</td>\n",
       "      <td>4292.0</td>\n",
       "      <td>547.0</td>\n",
       "      <td>0.012915</td>\n",
       "      <td>0.001646</td>\n",
       "      <td>2.060059</td>\n",
       "      <td>0.000453</td>\n",
       "      <td>0.004510</td>\n",
       "      <td>1.850527</td>\n",
       "      <td>16</td>\n",
       "    </tr>\n",
       "    <tr>\n",
       "      <th>20</th>\n",
       "      <td>ID</td>\n",
       "      <td>9</td>\n",
       "      <td>0.888889</td>\n",
       "      <td>0.000024</td>\n",
       "      <td>8.0</td>\n",
       "      <td>1.0</td>\n",
       "      <td>0.000024</td>\n",
       "      <td>0.000003</td>\n",
       "      <td>2.079442</td>\n",
       "      <td>0.001929</td>\n",
       "      <td>0.019382</td>\n",
       "      <td>1.850527</td>\n",
       "      <td>16</td>\n",
       "    </tr>\n",
       "    <tr>\n",
       "      <th>21</th>\n",
       "      <td>AZ</td>\n",
       "      <td>8556</td>\n",
       "      <td>0.889434</td>\n",
       "      <td>0.022937</td>\n",
       "      <td>7610.0</td>\n",
       "      <td>946.0</td>\n",
       "      <td>0.022898</td>\n",
       "      <td>0.002846</td>\n",
       "      <td>2.084976</td>\n",
       "      <td>0.000545</td>\n",
       "      <td>0.005534</td>\n",
       "      <td>1.850527</td>\n",
       "      <td>16</td>\n",
       "    </tr>\n",
       "    <tr>\n",
       "      <th>22</th>\n",
       "      <td>MI</td>\n",
       "      <td>9234</td>\n",
       "      <td>0.889864</td>\n",
       "      <td>0.024754</td>\n",
       "      <td>8217.0</td>\n",
       "      <td>1017.0</td>\n",
       "      <td>0.024725</td>\n",
       "      <td>0.003060</td>\n",
       "      <td>2.089348</td>\n",
       "      <td>0.000429</td>\n",
       "      <td>0.004372</td>\n",
       "      <td>1.850527</td>\n",
       "      <td>16</td>\n",
       "    </tr>\n",
       "    <tr>\n",
       "      <th>23</th>\n",
       "      <td>AR</td>\n",
       "      <td>2792</td>\n",
       "      <td>0.890759</td>\n",
       "      <td>0.007485</td>\n",
       "      <td>2487.0</td>\n",
       "      <td>305.0</td>\n",
       "      <td>0.007483</td>\n",
       "      <td>0.000918</td>\n",
       "      <td>2.098521</td>\n",
       "      <td>0.000896</td>\n",
       "      <td>0.009173</td>\n",
       "      <td>1.850527</td>\n",
       "      <td>16</td>\n",
       "    </tr>\n",
       "    <tr>\n",
       "      <th>24</th>\n",
       "      <td>PA</td>\n",
       "      <td>13161</td>\n",
       "      <td>0.890890</td>\n",
       "      <td>0.035282</td>\n",
       "      <td>11725.0</td>\n",
       "      <td>1436.0</td>\n",
       "      <td>0.035280</td>\n",
       "      <td>0.004321</td>\n",
       "      <td>2.099862</td>\n",
       "      <td>0.000130</td>\n",
       "      <td>0.001341</td>\n",
       "      <td>1.850527</td>\n",
       "      <td>16</td>\n",
       "    </tr>\n",
       "    <tr>\n",
       "      <th>25</th>\n",
       "      <td>UT</td>\n",
       "      <td>2714</td>\n",
       "      <td>0.890936</td>\n",
       "      <td>0.007276</td>\n",
       "      <td>2418.0</td>\n",
       "      <td>296.0</td>\n",
       "      <td>0.007276</td>\n",
       "      <td>0.000891</td>\n",
       "      <td>2.100337</td>\n",
       "      <td>0.000046</td>\n",
       "      <td>0.000475</td>\n",
       "      <td>1.850527</td>\n",
       "      <td>16</td>\n",
       "    </tr>\n",
       "    <tr>\n",
       "      <th>26</th>\n",
       "      <td>OH</td>\n",
       "      <td>12151</td>\n",
       "      <td>0.891614</td>\n",
       "      <td>0.032574</td>\n",
       "      <td>10834.0</td>\n",
       "      <td>1317.0</td>\n",
       "      <td>0.032599</td>\n",
       "      <td>0.003963</td>\n",
       "      <td>2.107333</td>\n",
       "      <td>0.000678</td>\n",
       "      <td>0.006996</td>\n",
       "      <td>1.850527</td>\n",
       "      <td>16</td>\n",
       "    </tr>\n",
       "    <tr>\n",
       "      <th>27</th>\n",
       "      <td>MN</td>\n",
       "      <td>6497</td>\n",
       "      <td>0.892412</td>\n",
       "      <td>0.017417</td>\n",
       "      <td>5798.0</td>\n",
       "      <td>699.0</td>\n",
       "      <td>0.017446</td>\n",
       "      <td>0.002103</td>\n",
       "      <td>2.115618</td>\n",
       "      <td>0.000798</td>\n",
       "      <td>0.008285</td>\n",
       "      <td>1.850527</td>\n",
       "      <td>17</td>\n",
       "    </tr>\n",
       "    <tr>\n",
       "      <th>28</th>\n",
       "      <td>IN</td>\n",
       "      <td>5173</td>\n",
       "      <td>0.892519</td>\n",
       "      <td>0.013868</td>\n",
       "      <td>4617.0</td>\n",
       "      <td>556.0</td>\n",
       "      <td>0.013892</td>\n",
       "      <td>0.001673</td>\n",
       "      <td>2.116732</td>\n",
       "      <td>0.000107</td>\n",
       "      <td>0.001115</td>\n",
       "      <td>1.850527</td>\n",
       "      <td>17</td>\n",
       "    </tr>\n",
       "    <tr>\n",
       "      <th>29</th>\n",
       "      <td>KY</td>\n",
       "      <td>3594</td>\n",
       "      <td>0.894268</td>\n",
       "      <td>0.009635</td>\n",
       "      <td>3214.0</td>\n",
       "      <td>380.0</td>\n",
       "      <td>0.009671</td>\n",
       "      <td>0.001143</td>\n",
       "      <td>2.135100</td>\n",
       "      <td>0.001749</td>\n",
       "      <td>0.018368</td>\n",
       "      <td>1.850527</td>\n",
       "      <td>17</td>\n",
       "    </tr>\n",
       "    <tr>\n",
       "      <th>30</th>\n",
       "      <td>DE</td>\n",
       "      <td>1016</td>\n",
       "      <td>0.895669</td>\n",
       "      <td>0.002724</td>\n",
       "      <td>910.0</td>\n",
       "      <td>106.0</td>\n",
       "      <td>0.002738</td>\n",
       "      <td>0.000319</td>\n",
       "      <td>2.150006</td>\n",
       "      <td>0.001401</td>\n",
       "      <td>0.014905</td>\n",
       "      <td>1.850527</td>\n",
       "      <td>17</td>\n",
       "    </tr>\n",
       "    <tr>\n",
       "      <th>31</th>\n",
       "      <td>MA</td>\n",
       "      <td>8842</td>\n",
       "      <td>0.896630</td>\n",
       "      <td>0.023703</td>\n",
       "      <td>7928.0</td>\n",
       "      <td>914.0</td>\n",
       "      <td>0.023855</td>\n",
       "      <td>0.002750</td>\n",
       "      <td>2.160326</td>\n",
       "      <td>0.000960</td>\n",
       "      <td>0.010320</td>\n",
       "      <td>1.850527</td>\n",
       "      <td>17</td>\n",
       "    </tr>\n",
       "    <tr>\n",
       "      <th>32</th>\n",
       "      <td>GA</td>\n",
       "      <td>11954</td>\n",
       "      <td>0.897106</td>\n",
       "      <td>0.032046</td>\n",
       "      <td>10724.0</td>\n",
       "      <td>1230.0</td>\n",
       "      <td>0.032268</td>\n",
       "      <td>0.003701</td>\n",
       "      <td>2.165470</td>\n",
       "      <td>0.000476</td>\n",
       "      <td>0.005145</td>\n",
       "      <td>1.850527</td>\n",
       "      <td>17</td>\n",
       "    </tr>\n",
       "    <tr>\n",
       "      <th>33</th>\n",
       "      <td>WA</td>\n",
       "      <td>8387</td>\n",
       "      <td>0.897341</td>\n",
       "      <td>0.022484</td>\n",
       "      <td>7526.0</td>\n",
       "      <td>861.0</td>\n",
       "      <td>0.022646</td>\n",
       "      <td>0.002591</td>\n",
       "      <td>2.168024</td>\n",
       "      <td>0.000236</td>\n",
       "      <td>0.002554</td>\n",
       "      <td>1.850527</td>\n",
       "      <td>17</td>\n",
       "    </tr>\n",
       "    <tr>\n",
       "      <th>34</th>\n",
       "      <td>WI</td>\n",
       "      <td>4685</td>\n",
       "      <td>0.897545</td>\n",
       "      <td>0.012559</td>\n",
       "      <td>4205.0</td>\n",
       "      <td>480.0</td>\n",
       "      <td>0.012653</td>\n",
       "      <td>0.001444</td>\n",
       "      <td>2.170243</td>\n",
       "      <td>0.000204</td>\n",
       "      <td>0.002219</td>\n",
       "      <td>1.850527</td>\n",
       "      <td>17</td>\n",
       "    </tr>\n",
       "    <tr>\n",
       "      <th>35</th>\n",
       "      <td>OR</td>\n",
       "      <td>4813</td>\n",
       "      <td>0.900686</td>\n",
       "      <td>0.012903</td>\n",
       "      <td>4335.0</td>\n",
       "      <td>478.0</td>\n",
       "      <td>0.013044</td>\n",
       "      <td>0.001438</td>\n",
       "      <td>2.204866</td>\n",
       "      <td>0.003140</td>\n",
       "      <td>0.034623</td>\n",
       "      <td>1.850527</td>\n",
       "      <td>17</td>\n",
       "    </tr>\n",
       "    <tr>\n",
       "      <th>36</th>\n",
       "      <td>TX</td>\n",
       "      <td>29148</td>\n",
       "      <td>0.904968</td>\n",
       "      <td>0.078139</td>\n",
       "      <td>26378.0</td>\n",
       "      <td>2770.0</td>\n",
       "      <td>0.079371</td>\n",
       "      <td>0.008335</td>\n",
       "      <td>2.253683</td>\n",
       "      <td>0.004282</td>\n",
       "      <td>0.048817</td>\n",
       "      <td>1.850527</td>\n",
       "      <td>17</td>\n",
       "    </tr>\n",
       "    <tr>\n",
       "      <th>37</th>\n",
       "      <td>IL</td>\n",
       "      <td>15001</td>\n",
       "      <td>0.905273</td>\n",
       "      <td>0.040214</td>\n",
       "      <td>13580.0</td>\n",
       "      <td>1421.0</td>\n",
       "      <td>0.040862</td>\n",
       "      <td>0.004276</td>\n",
       "      <td>2.257237</td>\n",
       "      <td>0.000305</td>\n",
       "      <td>0.003554</td>\n",
       "      <td>1.850527</td>\n",
       "      <td>17</td>\n",
       "    </tr>\n",
       "    <tr>\n",
       "      <th>38</th>\n",
       "      <td>CT</td>\n",
       "      <td>5801</td>\n",
       "      <td>0.907947</td>\n",
       "      <td>0.015551</td>\n",
       "      <td>5267.0</td>\n",
       "      <td>534.0</td>\n",
       "      <td>0.015848</td>\n",
       "      <td>0.001607</td>\n",
       "      <td>2.288820</td>\n",
       "      <td>0.002674</td>\n",
       "      <td>0.031583</td>\n",
       "      <td>1.850527</td>\n",
       "      <td>18</td>\n",
       "    </tr>\n",
       "    <tr>\n",
       "      <th>39</th>\n",
       "      <td>AK</td>\n",
       "      <td>1036</td>\n",
       "      <td>0.909266</td>\n",
       "      <td>0.002777</td>\n",
       "      <td>942.0</td>\n",
       "      <td>94.0</td>\n",
       "      <td>0.002834</td>\n",
       "      <td>0.000283</td>\n",
       "      <td>2.304710</td>\n",
       "      <td>0.001320</td>\n",
       "      <td>0.015890</td>\n",
       "      <td>1.850527</td>\n",
       "      <td>18</td>\n",
       "    </tr>\n",
       "    <tr>\n",
       "      <th>40</th>\n",
       "      <td>SC</td>\n",
       "      <td>4474</td>\n",
       "      <td>0.909700</td>\n",
       "      <td>0.011994</td>\n",
       "      <td>4070.0</td>\n",
       "      <td>404.0</td>\n",
       "      <td>0.012247</td>\n",
       "      <td>0.001216</td>\n",
       "      <td>2.309983</td>\n",
       "      <td>0.000434</td>\n",
       "      <td>0.005273</td>\n",
       "      <td>1.850527</td>\n",
       "      <td>18</td>\n",
       "    </tr>\n",
       "    <tr>\n",
       "      <th>41</th>\n",
       "      <td>CO</td>\n",
       "      <td>7791</td>\n",
       "      <td>0.910409</td>\n",
       "      <td>0.020886</td>\n",
       "      <td>7093.0</td>\n",
       "      <td>698.0</td>\n",
       "      <td>0.021343</td>\n",
       "      <td>0.002100</td>\n",
       "      <td>2.318645</td>\n",
       "      <td>0.000709</td>\n",
       "      <td>0.008661</td>\n",
       "      <td>1.850527</td>\n",
       "      <td>18</td>\n",
       "    </tr>\n",
       "    <tr>\n",
       "      <th>42</th>\n",
       "      <td>KS</td>\n",
       "      <td>3338</td>\n",
       "      <td>0.911025</td>\n",
       "      <td>0.008948</td>\n",
       "      <td>3041.0</td>\n",
       "      <td>297.0</td>\n",
       "      <td>0.009150</td>\n",
       "      <td>0.000894</td>\n",
       "      <td>2.326210</td>\n",
       "      <td>0.000615</td>\n",
       "      <td>0.007565</td>\n",
       "      <td>1.850527</td>\n",
       "      <td>18</td>\n",
       "    </tr>\n",
       "    <tr>\n",
       "      <th>43</th>\n",
       "      <td>MT</td>\n",
       "      <td>1085</td>\n",
       "      <td>0.911521</td>\n",
       "      <td>0.002909</td>\n",
       "      <td>989.0</td>\n",
       "      <td>96.0</td>\n",
       "      <td>0.002976</td>\n",
       "      <td>0.000289</td>\n",
       "      <td>2.332346</td>\n",
       "      <td>0.000496</td>\n",
       "      <td>0.006137</td>\n",
       "      <td>1.850527</td>\n",
       "      <td>18</td>\n",
       "    </tr>\n",
       "    <tr>\n",
       "      <th>44</th>\n",
       "      <td>NH</td>\n",
       "      <td>1779</td>\n",
       "      <td>0.912872</td>\n",
       "      <td>0.004769</td>\n",
       "      <td>1624.0</td>\n",
       "      <td>155.0</td>\n",
       "      <td>0.004887</td>\n",
       "      <td>0.000466</td>\n",
       "      <td>2.349222</td>\n",
       "      <td>0.001352</td>\n",
       "      <td>0.016876</td>\n",
       "      <td>1.850527</td>\n",
       "      <td>18</td>\n",
       "    </tr>\n",
       "    <tr>\n",
       "      <th>45</th>\n",
       "      <td>MS</td>\n",
       "      <td>975</td>\n",
       "      <td>0.914872</td>\n",
       "      <td>0.002614</td>\n",
       "      <td>892.0</td>\n",
       "      <td>83.0</td>\n",
       "      <td>0.002684</td>\n",
       "      <td>0.000250</td>\n",
       "      <td>2.374626</td>\n",
       "      <td>0.001999</td>\n",
       "      <td>0.025403</td>\n",
       "      <td>1.850527</td>\n",
       "      <td>18</td>\n",
       "    </tr>\n",
       "    <tr>\n",
       "      <th>46</th>\n",
       "      <td>VT</td>\n",
       "      <td>732</td>\n",
       "      <td>0.915301</td>\n",
       "      <td>0.001962</td>\n",
       "      <td>670.0</td>\n",
       "      <td>62.0</td>\n",
       "      <td>0.002016</td>\n",
       "      <td>0.000187</td>\n",
       "      <td>2.380143</td>\n",
       "      <td>0.000429</td>\n",
       "      <td>0.005518</td>\n",
       "      <td>1.850527</td>\n",
       "      <td>18</td>\n",
       "    </tr>\n",
       "    <tr>\n",
       "      <th>47</th>\n",
       "      <td>WV</td>\n",
       "      <td>1931</td>\n",
       "      <td>0.924909</td>\n",
       "      <td>0.005177</td>\n",
       "      <td>1786.0</td>\n",
       "      <td>145.0</td>\n",
       "      <td>0.005374</td>\n",
       "      <td>0.000436</td>\n",
       "      <td>2.511000</td>\n",
       "      <td>0.009609</td>\n",
       "      <td>0.130857</td>\n",
       "      <td>1.850527</td>\n",
       "      <td>19</td>\n",
       "    </tr>\n",
       "    <tr>\n",
       "      <th>48</th>\n",
       "      <td>WY</td>\n",
       "      <td>902</td>\n",
       "      <td>0.930155</td>\n",
       "      <td>0.002418</td>\n",
       "      <td>839.0</td>\n",
       "      <td>63.0</td>\n",
       "      <td>0.002525</td>\n",
       "      <td>0.000190</td>\n",
       "      <td>2.589076</td>\n",
       "      <td>0.005246</td>\n",
       "      <td>0.078076</td>\n",
       "      <td>1.850527</td>\n",
       "      <td>19</td>\n",
       "    </tr>\n",
       "    <tr>\n",
       "      <th>49</th>\n",
       "      <td>DC</td>\n",
       "      <td>1109</td>\n",
       "      <td>0.930568</td>\n",
       "      <td>0.002973</td>\n",
       "      <td>1032.0</td>\n",
       "      <td>77.0</td>\n",
       "      <td>0.003105</td>\n",
       "      <td>0.000232</td>\n",
       "      <td>2.595449</td>\n",
       "      <td>0.000413</td>\n",
       "      <td>0.006373</td>\n",
       "      <td>1.850527</td>\n",
       "      <td>20</td>\n",
       "    </tr>\n",
       "  </tbody>\n",
       "</table>\n",
       "</div>"
      ],
      "text/plain": [
       "   addr_state  n_obs  prop_good  prop_n_obs   n_good   n_bad  prop_n_good  \\\n",
       "0          NE     13   0.384615    0.000035      5.0     8.0     0.000015   \n",
       "1          ME      3   1.000000    0.000008      3.0     0.0     0.000009   \n",
       "2          IA     13   0.769231    0.000035     10.0     3.0     0.000030   \n",
       "3          NV   5269   0.865060    0.014125   4558.0   711.0     0.013715   \n",
       "4          HI   2005   0.868828    0.005375   1742.0   263.0     0.005242   \n",
       "5          FL  25257   0.874926    0.067708  22098.0  3159.0     0.066493   \n",
       "6          AL   4685   0.877481    0.012559   4111.0   574.0     0.012370   \n",
       "7          RI   1613   0.880347    0.004324   1420.0   193.0     0.004273   \n",
       "8          NM   2049   0.882870    0.005493   1809.0   240.0     0.005443   \n",
       "9          NC  10172   0.883110    0.027269   8983.0  1189.0     0.027030   \n",
       "10         OK   3312   0.883152    0.008879   2925.0   387.0     0.008801   \n",
       "11         LA   4445   0.883690    0.011916   3928.0   517.0     0.011819   \n",
       "12         VA  11349   0.883955    0.030424  10032.0  1317.0     0.030186   \n",
       "13         SD    785   0.884076    0.002104    694.0    91.0     0.002088   \n",
       "14         NY  32217   0.884316    0.086366  28490.0  3727.0     0.085726   \n",
       "15         NJ  14447   0.885236    0.038729  12789.0  1658.0     0.038482   \n",
       "16         MD   8759   0.885489    0.023481   7756.0  1003.0     0.023338   \n",
       "17         CA  57098   0.886178    0.153066  50599.0  6499.0     0.152252   \n",
       "18         MO   6018   0.886507    0.016133   5335.0   683.0     0.016053   \n",
       "19         TN   4839   0.886960    0.012972   4292.0   547.0     0.012915   \n",
       "20         ID      9   0.888889    0.000024      8.0     1.0     0.000024   \n",
       "21         AZ   8556   0.889434    0.022937   7610.0   946.0     0.022898   \n",
       "22         MI   9234   0.889864    0.024754   8217.0  1017.0     0.024725   \n",
       "23         AR   2792   0.890759    0.007485   2487.0   305.0     0.007483   \n",
       "24         PA  13161   0.890890    0.035282  11725.0  1436.0     0.035280   \n",
       "25         UT   2714   0.890936    0.007276   2418.0   296.0     0.007276   \n",
       "26         OH  12151   0.891614    0.032574  10834.0  1317.0     0.032599   \n",
       "27         MN   6497   0.892412    0.017417   5798.0   699.0     0.017446   \n",
       "28         IN   5173   0.892519    0.013868   4617.0   556.0     0.013892   \n",
       "29         KY   3594   0.894268    0.009635   3214.0   380.0     0.009671   \n",
       "30         DE   1016   0.895669    0.002724    910.0   106.0     0.002738   \n",
       "31         MA   8842   0.896630    0.023703   7928.0   914.0     0.023855   \n",
       "32         GA  11954   0.897106    0.032046  10724.0  1230.0     0.032268   \n",
       "33         WA   8387   0.897341    0.022484   7526.0   861.0     0.022646   \n",
       "34         WI   4685   0.897545    0.012559   4205.0   480.0     0.012653   \n",
       "35         OR   4813   0.900686    0.012903   4335.0   478.0     0.013044   \n",
       "36         TX  29148   0.904968    0.078139  26378.0  2770.0     0.079371   \n",
       "37         IL  15001   0.905273    0.040214  13580.0  1421.0     0.040862   \n",
       "38         CT   5801   0.907947    0.015551   5267.0   534.0     0.015848   \n",
       "39         AK   1036   0.909266    0.002777    942.0    94.0     0.002834   \n",
       "40         SC   4474   0.909700    0.011994   4070.0   404.0     0.012247   \n",
       "41         CO   7791   0.910409    0.020886   7093.0   698.0     0.021343   \n",
       "42         KS   3338   0.911025    0.008948   3041.0   297.0     0.009150   \n",
       "43         MT   1085   0.911521    0.002909    989.0    96.0     0.002976   \n",
       "44         NH   1779   0.912872    0.004769   1624.0   155.0     0.004887   \n",
       "45         MS    975   0.914872    0.002614    892.0    83.0     0.002684   \n",
       "46         VT    732   0.915301    0.001962    670.0    62.0     0.002016   \n",
       "47         WV   1931   0.924909    0.005177   1786.0   145.0     0.005374   \n",
       "48         WY    902   0.930155    0.002418    839.0    63.0     0.002525   \n",
       "49         DC   1109   0.930568    0.002973   1032.0    77.0     0.003105   \n",
       "\n",
       "    prop_n_bad       WoE  diff_prop_good  diff_WoE        IV  binned_values  \n",
       "0     0.000024 -0.470004             NaN       NaN  1.850527              1  \n",
       "1     0.000000  0.000000        0.615385  0.470004  1.850527              3  \n",
       "2     0.000009  1.203973        0.230769  1.203973  1.850527             11  \n",
       "3     0.002139  1.857967        0.095829  0.653994  1.850527             15  \n",
       "4     0.000791  1.890635        0.003768  0.032668  1.850527             15  \n",
       "5     0.009505  1.945232        0.006098  0.054596  1.850527             15  \n",
       "6     0.001727  1.968792        0.002556  0.023561  1.850527             16  \n",
       "7     0.000581  1.995722        0.002866  0.026930  1.850527             16  \n",
       "8     0.000722  2.019891        0.002523  0.024169  1.850527             16  \n",
       "9     0.003578  2.022221        0.000241  0.002331  1.850527             16  \n",
       "10    0.001164  2.022625        0.000042  0.000404  1.850527             16  \n",
       "11    0.001556  2.027843        0.000537  0.005218  1.850527             16  \n",
       "12    0.003963  2.030424        0.000265  0.002581  1.850527             16  \n",
       "13    0.000274  2.031612        0.000122  0.001189  1.850527             16  \n",
       "14    0.011214  2.033950        0.000239  0.002337  1.850527             16  \n",
       "15    0.004989  2.042973        0.000920  0.009024  1.850527             16  \n",
       "16    0.003018  2.045471        0.000254  0.002498  1.850527             16  \n",
       "17    0.019555  2.052283        0.000689  0.006812  1.850527             16  \n",
       "18    0.002055  2.055549        0.000329  0.003266  1.850527             16  \n",
       "19    0.001646  2.060059        0.000453  0.004510  1.850527             16  \n",
       "20    0.000003  2.079442        0.001929  0.019382  1.850527             16  \n",
       "21    0.002846  2.084976        0.000545  0.005534  1.850527             16  \n",
       "22    0.003060  2.089348        0.000429  0.004372  1.850527             16  \n",
       "23    0.000918  2.098521        0.000896  0.009173  1.850527             16  \n",
       "24    0.004321  2.099862        0.000130  0.001341  1.850527             16  \n",
       "25    0.000891  2.100337        0.000046  0.000475  1.850527             16  \n",
       "26    0.003963  2.107333        0.000678  0.006996  1.850527             16  \n",
       "27    0.002103  2.115618        0.000798  0.008285  1.850527             17  \n",
       "28    0.001673  2.116732        0.000107  0.001115  1.850527             17  \n",
       "29    0.001143  2.135100        0.001749  0.018368  1.850527             17  \n",
       "30    0.000319  2.150006        0.001401  0.014905  1.850527             17  \n",
       "31    0.002750  2.160326        0.000960  0.010320  1.850527             17  \n",
       "32    0.003701  2.165470        0.000476  0.005145  1.850527             17  \n",
       "33    0.002591  2.168024        0.000236  0.002554  1.850527             17  \n",
       "34    0.001444  2.170243        0.000204  0.002219  1.850527             17  \n",
       "35    0.001438  2.204866        0.003140  0.034623  1.850527             17  \n",
       "36    0.008335  2.253683        0.004282  0.048817  1.850527             17  \n",
       "37    0.004276  2.257237        0.000305  0.003554  1.850527             17  \n",
       "38    0.001607  2.288820        0.002674  0.031583  1.850527             18  \n",
       "39    0.000283  2.304710        0.001320  0.015890  1.850527             18  \n",
       "40    0.001216  2.309983        0.000434  0.005273  1.850527             18  \n",
       "41    0.002100  2.318645        0.000709  0.008661  1.850527             18  \n",
       "42    0.000894  2.326210        0.000615  0.007565  1.850527             18  \n",
       "43    0.000289  2.332346        0.000496  0.006137  1.850527             18  \n",
       "44    0.000466  2.349222        0.001352  0.016876  1.850527             18  \n",
       "45    0.000250  2.374626        0.001999  0.025403  1.850527             18  \n",
       "46    0.000187  2.380143        0.000429  0.005518  1.850527             18  \n",
       "47    0.000436  2.511000        0.009609  0.130857  1.850527             19  \n",
       "48    0.000190  2.589076        0.005246  0.078076  1.850527             19  \n",
       "49    0.000232  2.595449        0.000413  0.006373  1.850527             20  "
      ]
     },
     "execution_count": 275,
     "metadata": {},
     "output_type": "execute_result"
    }
   ],
   "source": [
    "df_temp_as"
   ]
  },
  {
   "cell_type": "code",
   "execution_count": null,
   "metadata": {},
   "outputs": [],
   "source": [
    "# we have multiple states with different WoE values, let's make it simple and bin them\n",
    "#create 10 bins\n",
    "bins = np.linspace(df_temp_as['WoE'].min(),df_temp_as['WoE'].max(),20)\n",
    "df_temp_as['binned_values'] = np.digitize(df_temp_as['WoE'].values, bins=bins)\n",
    "for i in arange(1,20)\n",
    "if(not(df_temp_as[df_temp_as['binned_values']== i].empty)):\n",
    "    states_list = df_temp_as[df_temp_as['binned_values']== i]['addr_state'] #series object\n",
    "    all_col_name = 'addr_state_'+ state_list.str.cat(sep='_')\n",
    "    state_col = ('addr_state:'+ (df_temp_as[df_temp_as['binned_values']== i]['addr_state']).astype(str)).tolist()\n",
    "    df_inputs_prepr[state_col] = df_inputs_prepr[state_col].sum(axis = 1)"
   ]
  },
  {
   "cell_type": "code",
   "execution_count": null,
   "metadata": {
    "id": "EN3Vgcy1LuU9"
   },
   "outputs": [],
   "source": [
    "#alternatively, we can simply add the WoE values for states with similar WoE values by checking manually\n",
    "\n",
    "\n",
    "df_inputs_prepr['addr_state:ME_NE_IA_NC_FL_HI_AL']=sum([df_inputs_prepr['addr_state:ME'],df_inputs_prepr['addr_state:IA'],\n",
    "                                                       df_inputs_prepr['addr_state:NE'],df_inputs_prepr['addr_state:NC'],\n",
    "                                                       df_inputs_prepr['addr_state:FL'],df_inputs_prepr['addr_state:HI'], \n",
    "                                                       df_inputs_prepr['addr_state:AL']])\n",
    "\n",
    "df_inputs_prepr['addr_state:NM_VA']=sum([df_inputs_prepr['addr_state:NM'],df_inputs_prepr['addr_state:VA']])\n",
    "\n",
    "df_inputs_prepr['addr_state:OK_TN_MO_LA_MD_NC']=sum([df_inputs_prepr['addr_state:OK'],df_inputs_prepr['addr_state:TN'],\n",
    "                                                       df_inputs_prepr['addr_state:MO'],df_inputs_prepr['addr_state:LA'],\n",
    "                                                       df_inputs_prepr['addr_state:MD'],df_inputs_prepr['addr_state:NC']])\n",
    "\n",
    "\n",
    "df_inputs_prepr['addr_state:UT_KY_AZ_NJ']=sum([df_inputs_prepr['addr_state:UT'],df_inputs_prepr['addr_state:KY'],\n",
    "                                                       df_inputs_prepr['addr_state:AZ'],df_inputs_prepr['addr_state:NJ']])\n",
    "\n",
    "\n",
    "df_inputs_prepr['addr_state:AR_MI_PA_OH_MN']=sum([df_inputs_prepr['addr_state:AR'],df_inputs_prepr['addr_state:MI'],\n",
    "                                                       df_inputs_prepr['addr_state:PA'],df_inputs_prepr['addr_state:OH'],\n",
    "                                                       df_inputs_prepr['addr_state:MN']])\n",
    "\n",
    "df_inputs_prepr['addr_state:RI_MA_DE_SD_IN']=sum([df_inputs_prepr['addr_state:RI'],df_inputs_prepr['addr_state:MA'],\n",
    "                                                       df_inputs_prepr['addr_state:DE'],df_inputs_prepr['addr_state:SD'],\n",
    "                                                       df_inputs_prepr['addr_state:IN']])\n",
    "\n",
    "df_inputs_prepr['addr_state:GA_WA_OR']=sum([df_inputs_prepr['addr_state:GA'],df_inputs_prepr['addr_state:WA'],\n",
    "                                                       df_inputs_prepr['addr_state:OR']])\n",
    "\n",
    "df_inputs_prepr['addr_state:WI_MT']=sum([df_inputs_prepr['addr_state:WI'],df_inputs_prepr['addr_state:MT']])\n",
    "\n",
    "\n",
    "df_inputs_prepr['addr_state:IL_CT']=sum([df_inputs_prepr['addr_state:IL'],df_inputs_prepr['addr_state:CT']])\n",
    "\n",
    "df_inputs_prepr['addr_state:KS_SC_CO_VT_AK_MS']=sum([df_inputs_prepr['addr_state:KS'],df_inputs_prepr['addr_state:SC'],\n",
    "                                                       df_inputs_prepr['addr_state:CO'],df_inputs_prepr['addr_state:VT'],\n",
    "                                                       df_inputs_prepr['addr_state:AK'],df_inputs_prepr['addr_state:MS']])\n",
    "\n",
    "\n",
    "df_inputs_prepr['addr_state:WV_NH_WY_DC_ME_ID']=sum([df_inputs_prepr['addr_state:WV'],df_inputs_prepr['addr_state:NH'],\n",
    "                                                       df_inputs_prepr['addr_state:WY'],df_inputs_prepr['addr_state:DC'],\n",
    "                                                       df_inputs_prepr['addr_state:ME'],df_inputs_prepr['addr_state:ID']])"
   ]
  },
  {
   "cell_type": "code",
   "execution_count": null,
   "metadata": {
    "id": "stkdmPGPLuU9",
    "outputId": "601c5b6f-795e-4607-818d-b85782765b38"
   },
   "outputs": [],
   "source": [
    "#check the unique values of verification_status column\n"
   ]
  },
  {
   "cell_type": "code",
   "execution_count": null,
   "metadata": {
    "id": "Z9T9xC5ALuU-",
    "outputId": "7f271d10-b499-4317-c047-3de1bcbf5190"
   },
   "outputs": [],
   "source": [
    "#apply the woe_discrete function\n"
   ]
  },
  {
   "cell_type": "code",
   "execution_count": null,
   "metadata": {
    "id": "QZBhAHXtLuU-",
    "outputId": "c12f46d4-1746-4aaa-c006-139f5c3eedaf"
   },
   "outputs": [],
   "source": [
    "#plot the woe plot\n"
   ]
  },
  {
   "cell_type": "code",
   "execution_count": null,
   "metadata": {
    "id": "zXmryyVfLuU_",
    "outputId": "47506170-c1e9-4eaa-e77d-fab6a20bed0d"
   },
   "outputs": [],
   "source": [
    "#check the unique values of 'purpose'\n"
   ]
  },
  {
   "cell_type": "code",
   "execution_count": null,
   "metadata": {
    "id": "prZ95Qv7LuU_",
    "outputId": "eebfa1ad-2794-47d9-c0f7-7dc53d289539"
   },
   "outputs": [],
   "source": [
    "#apply the woe_discrete on 'purpose'\n"
   ]
  },
  {
   "cell_type": "code",
   "execution_count": null,
   "metadata": {
    "id": "EDJffsjcLuU_",
    "outputId": "b8259eb4-9e01-4e4e-d262-9f65e3a04759"
   },
   "outputs": [],
   "source": [
    "#plot the woe plot\n"
   ]
  },
  {
   "cell_type": "code",
   "execution_count": null,
   "metadata": {
    "id": "UOXH1HazLuVA"
   },
   "outputs": [],
   "source": [
    "#make all the similar woe values in one column\n",
    "\n",
    "df_inputs_prepr['purpose:educ_sm_b_wedd_ren_en_mov_house']=sum([df_inputs_prepr['purpose:small_business'],df_inputs_prepr['purpose:educational'],\n",
    "                                                               df_inputs_prepr['purpose:renewable_energy'],df_inputs_prepr['purpose:moving'],\n",
    "                                  -                              df_inputs_prepr['purpose:house'],df_inputs_prepr['purpose:other'],\n",
    "                                                               df_inputs_prepr['purpose:medical'],df_inputs_prepr['purpose:wedding'],\n",
    "                                                               df_inputs_prepr['purpose:vacation'],df_inputs_prepr['purpose:debt_consolidation'],\n",
    "                                                               df_inputs_prepr['purpose:home_improvement'],df_inputs_prepr['purpose:major_purchase'],\n",
    "                                                               df_inputs_prepr['purpose:car'],df_inputs_prepr['purpose:credit_card']])"
   ]
  },
  {
   "cell_type": "code",
   "execution_count": null,
   "metadata": {
    "id": "KZRf0qmtLuVA",
    "outputId": "069a68d3-12f2-4e96-d9e6-22ba5944d01e"
   },
   "outputs": [],
   "source": [
    "#check the 'initial_list_status' unique values\n"
   ]
  },
  {
   "cell_type": "code",
   "execution_count": null,
   "metadata": {
    "id": "w9sXs6AxLuVA",
    "outputId": "cfe62c4f-e9b5-427a-93a6-8dd0ecf06eda"
   },
   "outputs": [],
   "source": [
    "#apply the woe_discrete function\n"
   ]
  },
  {
   "cell_type": "code",
   "execution_count": null,
   "metadata": {
    "id": "_Ky0oIRnLuVA",
    "outputId": "faef51b2-5947-47f3-cfd1-382fcf036247"
   },
   "outputs": [],
   "source": [
    "#plot the woe plot\n"
   ]
  },
  {
   "cell_type": "markdown",
   "metadata": {
    "id": "d6vc3EufLuVA"
   },
   "source": [
    "PREPROCESSING CONTINUOUS VARIABLES:AUTOMATING CALCULATIONS AND VISUALIZING RESULTS"
   ]
  },
  {
   "cell_type": "code",
   "execution_count": null,
   "metadata": {
    "id": "xDcMBkGzLuVA"
   },
   "outputs": [],
   "source": [
    "#Earlier we defined a function for categorical values\n",
    "\n",
    "#Now, this is the function for preprocessing of continuous variables\n",
    "\n",
    "def woe_continuous(df,discrete_variable_name,good_bad_variable_df):\n",
    "    df = pd.concat([df[discrete_variable_name],good_bad_variable_df], axis=1)\n",
    "    df = pd.concat([df.groupby(df.columns.values[0],as_index = False)[df.columns.values[1]].count(),\n",
    "                   df.groupby(df.columns.values[0],as_index = False)[df.columns.values[1]].mean()],axis=1)\n",
    "    df= df.iloc[:,[0,1,3]]\n",
    "    df.columns=[df1.columns.values[0],'n_obs','prop_good']\n",
    "    df['prop_n_obs']=df['n_obs']/df['n_obs'].sum()\n",
    "    df['n_good']=df['prop_good']*df['n_obs']\n",
    "    df['n_bad']=(1-df['prop_good'])*df['n_obs']\n",
    "    df['prop_n_good']=df['n_good']/df['n_good'].sum()\n",
    "    df['prop_n_bad']=df['n_bad']/df['n_good'].sum()\n",
    "    df['WoE']=np.log(df['prop_n_good']/df['prop_n_bad'])\n",
    "    df['diff_prop_good'] = df['prop_good'].diff().abs()\n",
    "    df['diff_WoE']=df['WoE'].diff().abs()\n",
    "    df['IV'] = df['prop_n_good'] - df['prop_n_bad']*df['WoE']\n",
    "    df['IV']=df['IV'].sum()\n",
    "    return df"
   ]
  },
  {
   "cell_type": "markdown",
   "metadata": {
    "id": "IhzreGIbLuVB"
   },
   "source": [
    "PREPROCESSING CONTNUOUS VARIABLES:CREATING DUMMY VARIABLES"
   ]
  },
  {
   "cell_type": "code",
   "execution_count": null,
   "metadata": {
    "id": "ZQYNP1C8LuVB",
    "outputId": "c86047e7-41d4-4894-e827-9151aeb99aa0"
   },
   "outputs": [],
   "source": [
    "#check the 'term_int' unique values\n"
   ]
  },
  {
   "cell_type": "code",
   "execution_count": null,
   "metadata": {
    "id": "F8LAyU7gLuVB",
    "outputId": "cd5a0fa7-ba5b-4444-adb0-a4402c895af3"
   },
   "outputs": [],
   "source": [
    "#apply the woe_continuous function\n"
   ]
  },
  {
   "cell_type": "code",
   "execution_count": null,
   "metadata": {
    "id": "2JuHXDykLuVB",
    "outputId": "9e2e1e07-84db-4a62-db7c-836afd58dfe6"
   },
   "outputs": [],
   "source": [
    "#plot the woe plot\n"
   ]
  },
  {
   "cell_type": "code",
   "execution_count": null,
   "metadata": {
    "id": "GrpTwu7OLuVB"
   },
   "outputs": [],
   "source": [
    "#Convert it into binary encoded format by putting 1 and 0 inplace\n",
    "\n",
    "df_inputs_prepr['term:36']=np.where((df_inputs_prepr['term_int'] ==36),1,0)\n",
    "df_inputs_prepr['term:60']=np.where((df_inputs_prepr['term_int']==60),1,0)"
   ]
  },
  {
   "cell_type": "code",
   "execution_count": null,
   "metadata": {
    "id": "mDX3D395LuVB",
    "outputId": "1001ff8f-a3c7-44b2-e4eb-d607947b3bb2"
   },
   "outputs": [],
   "source": [
    "#check the unique values of 'emp_length_int' column\n"
   ]
  },
  {
   "cell_type": "code",
   "execution_count": null,
   "metadata": {
    "id": "Ur6gzu3wLuVC",
    "outputId": "1540b386-af34-4c41-f342-03427731e222"
   },
   "outputs": [],
   "source": [
    "#apply the woe_continuous function\n"
   ]
  },
  {
   "cell_type": "code",
   "execution_count": null,
   "metadata": {
    "id": "fKhraarJLuVC",
    "outputId": "d728e804-3012-4c14-e5a2-978840478752"
   },
   "outputs": [],
   "source": [
    "#plot the woe plot\n"
   ]
  },
  {
   "cell_type": "code",
   "execution_count": null,
   "metadata": {
    "id": "YzHbU4UmLuVC"
   },
   "outputs": [],
   "source": [
    "##Convert it into binary encoded format by putting 1 and 0 inplace for WoE values that are close to each other\n",
    "\n",
    "df_inputs_prepr['emp_length:0']=np.where(df_inputs_prepr['emp_length_int'].isin([0]),1,0)\n",
    "df_inputs_prepr['emp_length:1']=np.where(df_inputs_prepr['emp_length_int'].isin([1]),1,0)\n",
    "df_inputs_prepr['emp_length:2-4']=np.where(df_inputs_prepr['emp_length_int'].isin(range(2,5)),1,0)\n",
    "df_inputs_prepr['emp_length:5-6']=np.where(df_inputs_prepr['emp_length_int'].isin(range(5,7)),1,0)\n",
    "df_inputs_prepr['emp_length:7-9']=np.where(df_inputs_prepr['emp_length_int'].isin(range(7,10)),1,0)\n",
    "df_inputs_prepr['emp_length:10']=np.where(df_inputs_prepr['emp_length_int'].isin([10]),1,0)"
   ]
  },
  {
   "cell_type": "code",
   "execution_count": null,
   "metadata": {
    "id": "shrTCPSULuVC",
    "outputId": "04868cd0-45dd-45ed-a96a-e9d15ccdd0f2"
   },
   "outputs": [],
   "source": [
    "#check the unique values in 'mths_since_issued_date' column\n"
   ]
  },
  {
   "cell_type": "code",
   "execution_count": null,
   "metadata": {
    "id": "-fpDIJS4LuVC"
   },
   "outputs": [],
   "source": [
    "#apply the cut function defined in pandas so that we get a range divided values for continous variable\n",
    "\n",
    "df_inputs_prepr['mths_since_issued_date_factor']=pd.cut(df_inputs_prepr['mths_since_issued_date'],50)"
   ]
  },
  {
   "cell_type": "code",
   "execution_count": null,
   "metadata": {
    "id": "11L6-O3HLuVC",
    "outputId": "a01368c3-0ea3-4111-ef6a-82d5081f5155"
   },
   "outputs": [],
   "source": [
    "#check how the buckets are divided\n",
    "df_inputs_prepr['mths_since_issued_date_factor']"
   ]
  },
  {
   "cell_type": "code",
   "execution_count": null,
   "metadata": {
    "id": "K-heC6bbLuVC",
    "outputId": "cf7ce369-19d5-4918-ed54-b9ab61ba3909"
   },
   "outputs": [],
   "source": [
    "#apply the woe_continuous function\n",
    "df_temp=woe_continuous(df_inputs_prepr,'mths_since_issued_date_factor',df_targets_prepr)\n",
    "df_temp"
   ]
  },
  {
   "cell_type": "code",
   "execution_count": null,
   "metadata": {
    "id": "EVY1BrGRLuVD",
    "outputId": "b8ad1049-c903-4fa5-f3bd-1e174a047f96"
   },
   "outputs": [],
   "source": [
    "#plot the woe plot\n",
    "plot_by_woe(df_temp,90)"
   ]
  },
  {
   "cell_type": "code",
   "execution_count": null,
   "metadata": {
    "id": "htS6CjQJLuVD",
    "outputId": "c5fa6880-f1f7-4078-bf3c-b511ad285263"
   },
   "outputs": [],
   "source": [
    "#more variation of woe plot\n",
    "plot_by_woe(df_temp.iloc[3:,:],90)"
   ]
  },
  {
   "cell_type": "code",
   "execution_count": null,
   "metadata": {
    "id": "70zXWSxfLuVD"
   },
   "outputs": [],
   "source": [
    "###Convert it into binary encoded format by putting 1 and 0 inplace for WoE values that are close to each other\n",
    "\n",
    "df_inputs_prepr['mths_since_issued_date:<38']=np.where(df_inputs_prepr['mths_since_issued_date'].isin(range(38)),1,0)\n",
    "df_inputs_prepr['mths_since_issued_date:38-39']=np.where(df_inputs_prepr['mths_since_issued_date'].isin(range(38,40)),1,0)\n",
    "df_inputs_prepr['mths_since_issued_date:40-41']=np.where(df_inputs_prepr['mths_since_issued_date'].isin(range(40,42)),1,0)\n",
    "df_inputs_prepr['mths_since_issued_date:42-48']=np.where(df_inputs_prepr['mths_since_issued_date'].isin(range(42,49)),1,0)\n",
    "df_inputs_prepr['mths_since_issued_date:49-52']=np.where(df_inputs_prepr['mths_since_issued_date'].isin(range(49,53)),1,0)\n",
    "df_inputs_prepr['mths_since_issued_date:53-64']=np.where(df_inputs_prepr['mths_since_issued_date'].isin(range(53,65)),1,0)\n",
    "df_inputs_prepr['mths_since_issued_date:65-84']=np.where(df_inputs_prepr['mths_since_issued_date'].isin(range(65,85)),1,0)\n",
    "df_inputs_prepr['mths_since_issued_date:>84']=np.where(df_inputs_prepr['mths_since_issued_date'].isin(range(85,int(df_inputs_prepr['mths_since_issued_date'].max()))),1,0)"
   ]
  },
  {
   "cell_type": "code",
   "execution_count": null,
   "metadata": {
    "id": "3OpS0lJCLuVD"
   },
   "outputs": [],
   "source": [
    "#apply the cut function on 'int_rate_factor'\n"
   ]
  },
  {
   "cell_type": "code",
   "execution_count": null,
   "metadata": {
    "id": "hefOcLCxLuVD",
    "outputId": "30408b79-dc29-4004-ef0d-11c00ff21e23"
   },
   "outputs": [],
   "source": [
    "#apply the woe_continuos function\n"
   ]
  },
  {
   "cell_type": "code",
   "execution_count": null,
   "metadata": {
    "id": "AdW-keRiLuVD",
    "outputId": "e2e76203-9ca8-454d-c79c-24ce90fb57ef"
   },
   "outputs": [],
   "source": [
    "#plot the woe plot\n"
   ]
  },
  {
   "cell_type": "code",
   "execution_count": null,
   "metadata": {
    "id": "Ra7wTcTILuVD"
   },
   "outputs": [],
   "source": [
    "###Convert it into binary encoded format by putting 1 and 0 inplace for WoE values that are close to each other\n",
    "\n",
    "df_inputs_prepr['int_rate:<9.548']=np.where((df_inputs_prepr['int_rate']<= 0.548),1,0)\n",
    "df_inputs_prepr['int_rate:9.548-12.025']=np.where((df_inputs_prepr['int_rate']>9.548)&(df_inputs_prepr['int_rate']<=12.025),1,0)\n",
    "df_inputs_prepr['int_rate:12.025-15.74']=np.where((df_inputs_prepr['int_rate']>12.025)&(df_inputs_prepr['int_rate']<=15.74),1,0)\n",
    "df_inputs_prepr['int_rate:15.74-20.281']=np.where((df_inputs_prepr['int_rate']>15.74)&(df_inputs_prepr['int_rate']<=20.281),1,0)\n",
    "df_inputs_prepr['int_rate:20.281']=np.where((df_inputs_prepr['int_rate']>20.281),1,0)\n",
    "\n"
   ]
  },
  {
   "cell_type": "markdown",
   "metadata": {
    "id": "7ltV5euZ_J-r"
   },
   "source": [
    "# **We will be repeating the similar steps for all continuous variables:**\n",
    "\n",
    "**1.Apply the cut function if unique values are many**\n",
    "\n",
    "**2.apply the woe_continuos function**\n",
    "\n",
    "**3.plot the woe_plot**\n",
    "\n",
    "**4.Convert it into binary encoded format by putting 1 and 0 inplace for WoE values that are close to each other**"
   ]
  },
  {
   "cell_type": "code",
   "execution_count": null,
   "metadata": {
    "id": "Csv8MI8BLuVE",
    "outputId": "21273417-c9b8-47f0-d92c-51f8be104565"
   },
   "outputs": [],
   "source": [
    "#prepossing of 'funded_amt_factor'\n",
    "\n",
    "df_inputs_prepr['funded_amnt_factor']=pd.cut(df_inputs_prepr['funded_amnt'],50)\n"
   ]
  },
  {
   "cell_type": "code",
   "execution_count": null,
   "metadata": {
    "id": "7uAVLnw9LuVE",
    "outputId": "bdbb6f4a-ca43-4ffb-9bd1-41d8628438a2"
   },
   "outputs": [],
   "source": [
    "#plot the woe_plot\n",
    "plot_by_woe(df_temp,90)"
   ]
  },
  {
   "cell_type": "code",
   "execution_count": null,
   "metadata": {
    "id": "s21QU4N-LuVE"
   },
   "outputs": [],
   "source": [
    "#convert the 'mths_since_earliest_cr_line' to float\n",
    "df_inputs_prepr['mths_since_earliest_cr_line']="
   ]
  },
  {
   "cell_type": "code",
   "execution_count": null,
   "metadata": {
    "id": "wq-4mhJULuVE"
   },
   "outputs": [],
   "source": [
    "#apply the cut function on 'mths_since_earliest_cr_line'\n",
    "df_inputs_prepr['mths_since_earliest_cr_line_factor']="
   ]
  },
  {
   "cell_type": "code",
   "execution_count": null,
   "metadata": {
    "id": "-Y6KqPEoLuVE",
    "outputId": "2e3af9ae-c3c8-47ab-d0ea-174caf233698"
   },
   "outputs": [],
   "source": [
    "#check the 'mths_since_earliest_cr_line_factor'\n"
   ]
  },
  {
   "cell_type": "code",
   "execution_count": null,
   "metadata": {
    "id": "ChWtD1kELuVE",
    "outputId": "ec7f58a8-f487-46b0-8fea-3da8a6780340"
   },
   "outputs": [],
   "source": [
    "#apply the woe_continuos function\n"
   ]
  },
  {
   "cell_type": "code",
   "execution_count": null,
   "metadata": {
    "id": "PBEJYnY8LuVE",
    "outputId": "51341435-c670-468b-c13f-b30c7a23ef33"
   },
   "outputs": [],
   "source": [
    "#plot the woe_plot\n"
   ]
  },
  {
   "cell_type": "code",
   "execution_count": null,
   "metadata": {
    "id": "CjExirOsLuVE",
    "outputId": "4a036927-b1c2-4267-80ae-27ef65debb33"
   },
   "outputs": [],
   "source": [
    "#plot for df_temp.iloc[3:,:],90\n",
    "plot_by_woe(df_temp.iloc[3:,:],90)"
   ]
  },
  {
   "cell_type": "code",
   "execution_count": null,
   "metadata": {
    "id": "skUALYHgLuVF"
   },
   "outputs": [],
   "source": [
    "###Convert it into binary encoded format by putting 1 and 0 inplace for WoE values that are close to each other\n",
    "\n",
    "df_inputs_prepr['mths_since_earliest_cr_line:<140']=\n",
    "df_inputs_prepr['mths_since_earliest_cr_line:140-239']=\n",
    "df_inputs_prepr['mths_since_earliest_cr_line:240-339']=\n",
    "df_inputs_prepr['mths_since_earliest_cr_line:340-439']=\n",
    "df_inputs_prepr['mths_since_earliest_cr_line:440-539']=\n",
    "df_inputs_prepr['mths_since_earliest_cr_line:540-600']=\n",
    "df_inputs_prepr['mths_since_earliest_cr_line:>600']="
   ]
  },
  {
   "cell_type": "code",
   "execution_count": null,
   "metadata": {
    "id": "grr_IgzxLuVF",
    "outputId": "523eba94-0560-403b-f24e-7bd5453d0c1a"
   },
   "outputs": [],
   "source": [
    "#check the 'installment' unique values\n"
   ]
  },
  {
   "cell_type": "code",
   "execution_count": null,
   "metadata": {
    "id": "LxG0Zyr5LuVG",
    "outputId": "2bbe2f85-dde3-4311-a974-65c0ca9af7b7"
   },
   "outputs": [],
   "source": [
    "#apply the cut function and woe_continuos function on 'installment'\n"
   ]
  },
  {
   "cell_type": "code",
   "execution_count": null,
   "metadata": {
    "id": "-KD70_U6LuVG",
    "outputId": "b633075a-f392-4cfe-f699-9633c6a9f97e"
   },
   "outputs": [],
   "source": [
    "#plot the woe_plot\n"
   ]
  },
  {
   "cell_type": "code",
   "execution_count": null,
   "metadata": {
    "id": "Mv2yBF5bLuVG"
   },
   "outputs": [],
   "source": [
    "#check the 'deling_2yrs' column\n",
    "df_inputs_prepr['delinq_2yrs']="
   ]
  },
  {
   "cell_type": "code",
   "execution_count": null,
   "metadata": {
    "id": "Tn6hKX6zLuVG"
   },
   "outputs": [],
   "source": [
    "#apply the cut function\n",
    "df_inputs_prepr['delinq_2yrs_factors']="
   ]
  },
  {
   "cell_type": "code",
   "execution_count": null,
   "metadata": {
    "id": "mJc5BzAULuVG",
    "outputId": "b119c707-8855-4ec2-eddb-a5413f2d23fa"
   },
   "outputs": [],
   "source": [
    "#apply the woe_continuos function\n"
   ]
  },
  {
   "cell_type": "code",
   "execution_count": null,
   "metadata": {
    "id": "-Db1zDoZLuVG",
    "outputId": "82d6ab3e-deb2-4cb0-c476-31b80a806c01"
   },
   "outputs": [],
   "source": [
    "#plot the woe_plot\n"
   ]
  },
  {
   "cell_type": "code",
   "execution_count": null,
   "metadata": {
    "id": "DIQXj_w7LuVH"
   },
   "outputs": [],
   "source": [
    "###Convert it into binary encoded format by putting 1 and 0 inplace for WoE values that are close to each other\n",
    "\n",
    "df_inputs_prepr['delinq_2yrs:0']=\n",
    "df_inputs_prepr['delinq_2yrs:0-3']=\n",
    "df_inputs_prepr['delinq_2yrs:3-7']=\n",
    "df_inputs_prepr['delinq_2yrs:7-9']=\n",
    "df_inputs_prepr['delinq_2yrs:9-11']=\n",
    "df_inputs_prepr['delinq_2yrs:11-12']=\n",
    "df_inputs_prepr['delinq_2yrs:12-18']=\n",
    "df_inputs_prepr['delinq_2yrs:>18']="
   ]
  },
  {
   "cell_type": "code",
   "execution_count": null,
   "metadata": {
    "id": "WHO_hOYsLuVH"
   },
   "outputs": [],
   "source": [
    "#check the 'inq_last_6mths' column\n",
    "df_inputs_prepr['inq_last_6mths']="
   ]
  },
  {
   "cell_type": "code",
   "execution_count": null,
   "metadata": {
    "id": "ty1QUDm1LuVH",
    "outputId": "3633782e-843d-475f-da9b-4e58897e71d3"
   },
   "outputs": [],
   "source": [
    "#apply the woe_continuos function\n"
   ]
  },
  {
   "cell_type": "code",
   "execution_count": null,
   "metadata": {
    "id": "66MeDXu0LuVH",
    "outputId": "f9488cb3-12e3-4164-f242-3d9ba78e81ed"
   },
   "outputs": [],
   "source": [
    "#plot the woe_plot\n"
   ]
  },
  {
   "cell_type": "code",
   "execution_count": null,
   "metadata": {
    "id": "D0OuGoRdLuVI"
   },
   "outputs": [],
   "source": [
    "###Convert it into binary encoded format by putting 1 and 0 inplace for WoE values that are close to each other\n",
    "\n",
    "df_inputs_prepr['inq_last_6mths:0']=\n",
    "df_inputs_prepr['inq_last_6mths:0-3']=\n",
    "df_inputs_prepr['inq_last_6mths:3-7']=\n",
    "df_inputs_prepr['inq_last_6mths:7-9']=\n",
    "df_inputs_prepr['inq_last_6mths:9-11']=\n",
    "df_inputs_prepr['inq_last_6mths:11-12']=\n",
    "df_inputs_prepr['inq_last_6mths:12-18']=\n",
    "df_inputs_prepr['inq_last_6mths:18']="
   ]
  },
  {
   "cell_type": "code",
   "execution_count": null,
   "metadata": {
    "id": "pYvO4e9zLuVI",
    "outputId": "ff2ac66c-d9ca-498a-9aee-593f53f0f957"
   },
   "outputs": [],
   "source": [
    "#convert the 'open_acc' into float and then apply the woe_continuos function\n",
    "\n",
    "df_inputs_prepr['open_acc']=\n",
    "df_temp=woe_continuous(df_inputs_prepr,'open_acc',df_targets_prepr)\n"
   ]
  },
  {
   "cell_type": "code",
   "execution_count": null,
   "metadata": {
    "id": "saFt0zivLuVI",
    "outputId": "41f582bb-7538-4912-a9ea-b54f5e58e655"
   },
   "outputs": [],
   "source": [
    "#plot the woe_plot\n"
   ]
  },
  {
   "cell_type": "code",
   "execution_count": null,
   "metadata": {
    "id": "Rv2qGPARLuVJ"
   },
   "outputs": [],
   "source": [
    "###Convert it into binary encoded format by putting 1 and 0 inplace for WoE values that are close to each other\n",
    "df_inputs_prepr['open_acc:=0']=\n",
    "df_inputs_prepr['open_acc:0-1']=\n",
    "df_inputs_prepr['open_acc:1-4']=\n",
    "df_inputs_prepr['open_acc:4-28']=\n",
    "df_inputs_prepr['open_acc:28-35']=\n",
    "df_inputs_prepr['open_acc:35-45']=\n",
    "df_inputs_prepr['open_acc:>45']="
   ]
  },
  {
   "cell_type": "code",
   "execution_count": null,
   "metadata": {
    "id": "GTkPYhHtLuVJ"
   },
   "outputs": [],
   "source": [
    "#convert the 'pub_rec' into float\n",
    "df_inputs_prepr['pub_rec']="
   ]
  },
  {
   "cell_type": "code",
   "execution_count": null,
   "metadata": {
    "id": "RcIcHqnpLuVJ",
    "outputId": "2268d8a0-31fe-494f-b049-2c5b796952a8"
   },
   "outputs": [],
   "source": [
    "#apply the woe_continuos function\n"
   ]
  },
  {
   "cell_type": "code",
   "execution_count": null,
   "metadata": {
    "id": "Y-vuEoZwLuVJ",
    "outputId": "bf057c30-da27-41b7-91e8-142f80832398"
   },
   "outputs": [],
   "source": [
    "#plot the woe_plot\n"
   ]
  },
  {
   "cell_type": "code",
   "execution_count": null,
   "metadata": {
    "id": "GMAHrl2pLuVJ"
   },
   "outputs": [],
   "source": [
    "###Convert it into binary encoded format by putting 1 and 0 inplace for WoE values that are close to each other\n",
    "df_inputs_prepr['pub_rec:0-3']=\n",
    "df_inputs_prepr['pub_rec:3-6']=\n",
    "df_inputs_prepr['pub_rec:6-8']=\n",
    "df_inputs_prepr['pub_rec:8']="
   ]
  },
  {
   "cell_type": "code",
   "execution_count": null,
   "metadata": {
    "id": "DEhbEFd-LuVJ"
   },
   "outputs": [],
   "source": [
    "#convert the 'total_acc' into float\n",
    "df_inputs_prepr['total_acc']="
   ]
  },
  {
   "cell_type": "code",
   "execution_count": null,
   "metadata": {
    "id": "b8J47dXVLuVJ"
   },
   "outputs": [],
   "source": [
    "#apply the cut function to create buckets of continuos variables\n",
    "df_inputs_prepr['total_acc_fac']=pd.cut(df_inputs_prepr['total_acc'],50)"
   ]
  },
  {
   "cell_type": "code",
   "execution_count": null,
   "metadata": {
    "id": "87zPKy3lLuVK",
    "outputId": "134a52ed-a8b6-49ef-f8fc-f6b7affb58e3"
   },
   "outputs": [],
   "source": [
    "#apply the woe_continuos function\n"
   ]
  },
  {
   "cell_type": "code",
   "execution_count": null,
   "metadata": {
    "id": "8sOPwf9_LuVK",
    "outputId": "e91f884e-3e61-47e3-8dcf-5466e0e3d3b8"
   },
   "outputs": [],
   "source": [
    "#plot the woe_plot\n"
   ]
  },
  {
   "cell_type": "code",
   "execution_count": null,
   "metadata": {
    "id": "LpttOf-ULuVK"
   },
   "outputs": [],
   "source": [
    "###Convert it into binary encoded format by putting 1 and 0 inplace for WoE values that are close to each other\n",
    "\n",
    "df_inputs_prepr['total_acc:<0']=\n",
    "df_inputs_prepr['total_acc:0-4']=\n",
    "df_inputs_prepr['total_acc:4-62']=\n",
    "df_inputs_prepr['total_acc:62-72']=\n",
    "df_inputs_prepr['total_acc:72-85']=\n",
    "df_inputs_prepr['total_acc:>85']="
   ]
  },
  {
   "cell_type": "code",
   "execution_count": null,
   "metadata": {
    "id": "QQJGo3lsLuVK"
   },
   "outputs": [],
   "source": [
    "#convert the 'acc_now_delinq' into float type\n",
    "df_inputs_prepr['acc_now_delinq']="
   ]
  },
  {
   "cell_type": "code",
   "execution_count": null,
   "metadata": {
    "id": "LT8LZM9eLuVK",
    "outputId": "3825ac64-5ff5-4811-86c5-33e6f4560b87"
   },
   "outputs": [],
   "source": [
    "#apply the woe_continuos function\n"
   ]
  },
  {
   "cell_type": "code",
   "execution_count": null,
   "metadata": {
    "id": "baAIZHtaLuVK",
    "outputId": "c7fd892e-1eb9-4e8b-9259-e821c4ca3c56"
   },
   "outputs": [],
   "source": [
    "#plot the woe_plot\n"
   ]
  },
  {
   "cell_type": "code",
   "execution_count": null,
   "metadata": {
    "id": "vuFKZHKuLuVK"
   },
   "outputs": [],
   "source": [
    "###Convert it into binary encoded format by putting 1 and 0 inplace for WoE values that are close to each other\n",
    "\n",
    "df_inputs_prepr['acc_now_delinq:<0']=\n",
    "df_inputs_prepr['acc_now_delinq:0-1']=\n",
    "df_inputs_prepr['acc_now_delinq:1-2']=\n",
    "df_inputs_prepr['acc_now_delinq:2-3']=\n",
    "df_inputs_prepr['acc_now_delinq:3-5']=\n",
    "df_inputs_prepr['acc_now_delinq:>5']="
   ]
  },
  {
   "cell_type": "code",
   "execution_count": null,
   "metadata": {
    "id": "wrO0NMwjLuVK"
   },
   "outputs": [],
   "source": [
    "#For 'total_rev_hi_lim' column take only those values which are less than 80000\n",
    "\n",
    "df_inputs_prepr_temp=df_inputs_prepr.loc[df_inputs_prepr['total_rev_hi_lim']<= 80000,:]"
   ]
  },
  {
   "cell_type": "code",
   "execution_count": null,
   "metadata": {
    "id": "xF3A5D_bLuVK",
    "outputId": "6747252c-993a-4560-f436-a7870c11515d"
   },
   "outputs": [],
   "source": [
    "#apply the cut and woe_continuos function\n",
    "df_inputs_prepr['total_rev_hi_lim_factor']=pd.cut(df_inputs_prepr_temp['total_rev_hi_lim'],50)\n",
    "df_temp=woe_continuous(df_inputs_prepr,'total_rev_hi_lim_factor',df_targets_prepr)\n",
    "df_temp"
   ]
  },
  {
   "cell_type": "code",
   "execution_count": null,
   "metadata": {
    "id": "yW_tV3nPLuVL",
    "outputId": "5d9af631-1a52-45ff-b0e6-991ccefdbb23"
   },
   "outputs": [],
   "source": [
    "#plot the woe_plot\n"
   ]
  },
  {
   "cell_type": "code",
   "execution_count": null,
   "metadata": {
    "id": "X3BhprSELuVL"
   },
   "outputs": [],
   "source": [
    "###Convert it into binary encoded format by putting 1 and 0 inplace for WoE values that are close to each other\n",
    "\n",
    "df_inputs_prepr['total_rev_hi_lim:<=5k']=\n",
    "df_inputs_prepr['total_rev_hi_lim:5k_10k']=\n",
    "df_inputs_prepr['total_rev_hi_lim:10k_20k']=\n",
    "df_inputs_prepr['total_rev_hi_lim:20k_30k']=\n",
    "df_inputs_prepr['total_rev_hi_lim:30k_40k']=\n",
    "df_inputs_prepr['total_rev_hi_lim:40k_50k']=\n",
    "df_inputs_prepr['total_rev_hi_lim:50k_65k']=\n",
    "df_inputs_prepr['total_rev_hi_lim:65k_80k']=\n",
    "df_inputs_prepr['total_rev_hi_lim:>80k']=\n"
   ]
  },
  {
   "cell_type": "code",
   "execution_count": null,
   "metadata": {
    "id": "00-71b7nLuVL",
    "outputId": "c1b3026e-39dc-4d6c-8b74-85b53a0669ec"
   },
   "outputs": [],
   "source": [
    "#apply the cut and woe_contionus function on 'annual_inc'\n",
    "\n",
    "df_inputs_prepr['annual_inc_factor']=pd.cut(df_inputs_prepr['annual_inc'],100)\n",
    "df_temp=woe_continuous(df_inputs_prepr,'annual_inc_factor',df_targets_prepr)\n",
    "df_temp"
   ]
  },
  {
   "cell_type": "markdown",
   "metadata": {
    "id": "ItZ0TfqmDM75"
   },
   "source": [
    "As we can see higher values in annual_inc has very less observation so we will take only those annual income which are less than 140000"
   ]
  },
  {
   "cell_type": "code",
   "execution_count": null,
   "metadata": {
    "id": "NUUlJU1cLuVL"
   },
   "outputs": [],
   "source": [
    "#take only those observations which are less than 140000\n",
    "df_inputs_prepr_temp=df_inputs_prepr.loc[df_inputs_prepr['annual_inc']<= 140000,:]"
   ]
  },
  {
   "cell_type": "code",
   "execution_count": null,
   "metadata": {
    "id": "iv7Ip2fYLuVL",
    "outputId": "36c33394-bdf4-4c30-f5f6-6df289382af4"
   },
   "outputs": [],
   "source": [
    "#apply the cut and woe_contionus function on 'annual_inc'\n"
   ]
  },
  {
   "cell_type": "code",
   "execution_count": null,
   "metadata": {
    "id": "OHxEBiBTLuVL",
    "outputId": "69adddc6-8cdd-4d99-cd20-9a726078f77e"
   },
   "outputs": [],
   "source": [
    "#plot the woe_plot\n"
   ]
  },
  {
   "cell_type": "code",
   "execution_count": null,
   "metadata": {
    "id": "gGz9IdOpLuVL"
   },
   "outputs": [],
   "source": [
    "###Convert it into binary encoded format by putting 1 and 0 inplace for WoE values that are close to each other\n",
    "\n",
    "df_inputs_prepr['annual_inc:<20k']=\n",
    "df_inputs_prepr['annual_inc:20k-30k']=\n",
    "df_inputs_prepr['annual_inc:30k-40k']=\n",
    "df_inputs_prepr['annual_inc:40k-50k']=\n",
    "df_inputs_prepr['annual_inc:50k-60k']=\n",
    "df_inputs_prepr['annual_inc:60k-70k']=\n",
    "df_inputs_prepr['annual_inc:70k-80k']=\n",
    "df_inputs_prepr['annual_inc:80k-90k']=\n",
    "df_inputs_prepr['annual_inc:90k-100k']=\n",
    "df_inputs_prepr['annual_inc:100k-120k']=\n",
    "df_inputs_prepr['annual_inc:120k-140k']=\n",
    "df_inputs_prepr['annual_inc:>140k']="
   ]
  },
  {
   "cell_type": "code",
   "execution_count": null,
   "metadata": {
    "id": "TvvYEwTbLuVM",
    "outputId": "1ef5d2dc-e116-4227-f56e-ed9c977fad0a"
   },
   "outputs": [],
   "source": [
    "#'mths_since_last_delinq' has null values so take only the notnull values\n",
    "df_inputs_prepr_temp=df_inputs_prepr[pd.notnull(df_inputs_prepr['mths_since_last_delinq'])]\n",
    "\n",
    "#apply the cut and woe_continuos function on 'mths_since_last_delinq'\n"
   ]
  },
  {
   "cell_type": "code",
   "execution_count": null,
   "metadata": {
    "id": "7zGapbvVLuVM",
    "outputId": "82423a53-a445-4b5a-8056-42c5b54bf210"
   },
   "outputs": [],
   "source": [
    "#plot the woe_plot\n"
   ]
  },
  {
   "cell_type": "code",
   "execution_count": null,
   "metadata": {
    "id": "zQPL-lZmLuVM"
   },
   "outputs": [],
   "source": [
    "###Convert it into binary encoded format by putting 1 and 0 inplace for WoE values that are close to each other\n",
    "\n",
    "df_inputs_prepr['mths_since_last_delinq:Missing']=\n",
    "df_inputs_prepr['mths_since_last_delinq:0-3']=\n",
    "df_inputs_prepr['mths_since_last_delinq:4-30']=\n",
    "df_inputs_prepr['mths_since_last_delinq:31-56']=\n",
    "df_inputs_prepr['mths_since_last_delinq:>=57']="
   ]
  },
  {
   "cell_type": "code",
   "execution_count": null,
   "metadata": {
    "id": "psb5FsZTLuVM"
   },
   "outputs": [],
   "source": [
    "#apply the cut function on 'dti_factor'\n",
    "df_inputs_prepr['dti_factor']=pd.cut(df_inputs_prepr['dti'],50)"
   ]
  },
  {
   "cell_type": "code",
   "execution_count": null,
   "metadata": {
    "id": "xBPgjudSLuVM",
    "outputId": "74dfeb33-2690-4c42-9315-c55f3660b194"
   },
   "outputs": [],
   "source": [
    "#apply the woe_continuos function\n"
   ]
  },
  {
   "cell_type": "code",
   "execution_count": null,
   "metadata": {
    "id": "T8pfSSUPLuVM",
    "outputId": "bdd2833b-5473-43ae-e67b-cb906a63f467"
   },
   "outputs": [],
   "source": [
    "#plot the woe_plot\n"
   ]
  },
  {
   "cell_type": "code",
   "execution_count": null,
   "metadata": {
    "id": "RoRQjgIxLuVM"
   },
   "outputs": [],
   "source": [
    "###Convert it into binary encoded format by putting 1 and 0 inplace for WoE values that are close to each other\n",
    "\n",
    "df_inputs_prepr['dti:<5']=\n",
    "df_inputs_prepr['dti:5-10']=\n",
    "df_inputs_prepr['dti:10-15']=\n",
    "df_inputs_prepr['dti:15-20']=\n",
    "df_inputs_prepr['dti:20-25']=\n",
    "df_inputs_prepr['dti:25-30']=\n",
    "df_inputs_prepr['dti:30-35']=\n",
    "df_inputs_prepr['dti:35-40']=\n",
    "df_inputs_prepr['dti:>40']="
   ]
  },
  {
   "cell_type": "code",
   "execution_count": null,
   "metadata": {
    "id": "Q_YSenIoLuVN",
    "outputId": "b5deb381-8cff-4b73-b342-2f27343e9440"
   },
   "outputs": [],
   "source": [
    "#'mths_since_last_record' has null values so take only the notnull values\n",
    "df_inputs_prepr_temp=df_inputs_prepr[pd.notnull(df_inputs_prepr['mths_since_last_record'])]\n",
    "\n",
    "#apply the cut function\n",
    "df_inputs_prepr_temp['mths_since_last_record']=pd.cut(df_inputs_prepr_temp['mths_since_last_record'],50)\n"
   ]
  },
  {
   "cell_type": "code",
   "execution_count": null,
   "metadata": {
    "id": "IWG_wV9nLuVN",
    "outputId": "3880d8f5-16f3-430b-cba4-b8e6a23cd9a7"
   },
   "outputs": [],
   "source": [
    "#apply the woe_continuos function\n",
    "\n"
   ]
  },
  {
   "cell_type": "code",
   "execution_count": null,
   "metadata": {
    "id": "yul3Mr8wLuVN",
    "outputId": "a316c4ff-e54d-4bd7-e25e-8bf2719fb91f"
   },
   "outputs": [],
   "source": [
    "#plot the woe_plot\n"
   ]
  },
  {
   "cell_type": "code",
   "execution_count": null,
   "metadata": {
    "id": "55DJgc9hLuVN"
   },
   "outputs": [],
   "source": [
    "###Convert it into binary encoded format by putting 1 and 0 inplace for WoE values that are close to each other\n",
    "\n",
    "df_inputs_prepr['mths_since_last_record:Missing']=\n",
    "df_inputs_prepr['mths_since_last_record:0-90']=\n",
    "df_inputs_prepr['mths_since_last_record:90-120']=\n",
    "df_inputs_prepr['mths_since_last_record:120-127']=\n",
    "df_inputs_prepr['mths_since_last_record:>=127']="
   ]
  },
  {
   "cell_type": "code",
   "execution_count": null,
   "metadata": {
    "id": "tVv-FH_mErJT"
   },
   "outputs": [],
   "source": [
    "#assigning the dataframe into a new variable\n",
    "loan_data_inputs_train= df_inputs_prepr"
   ]
  },
  {
   "cell_type": "code",
   "execution_count": null,
   "metadata": {
    "id": "m4PWypR1ErMB",
    "outputId": "f2b2e165-3dcf-4a45-9371-ef25e4e4f01b"
   },
   "outputs": [],
   "source": [
    "loan_data_inputs_train.shape"
   ]
  },
  {
   "cell_type": "code",
   "execution_count": null,
   "metadata": {
    "id": "btT5gfjzErOs",
    "outputId": "8d798261-5ef8-4a05-ed83-9b7f110188b4"
   },
   "outputs": [],
   "source": [
    "load_ds_targets_train.shape"
   ]
  },
  {
   "cell_type": "code",
   "execution_count": null,
   "metadata": {
    "id": "uFKEmiQILuVO"
   },
   "outputs": [],
   "source": [
    "loan_data_inputs_test= df_inputs_prepr"
   ]
  },
  {
   "cell_type": "code",
   "execution_count": null,
   "metadata": {
    "id": "6uC85zKZLuVO",
    "outputId": "6ca47cd2-742a-4285-d519-5acfb848df30"
   },
   "outputs": [],
   "source": [
    "loan_data_inputs_test.shape"
   ]
  },
  {
   "cell_type": "code",
   "execution_count": null,
   "metadata": {
    "id": "HsBISy6NLuVO",
    "outputId": "931f50e4-9b2d-425d-fbd7-ebbff7c94e4c"
   },
   "outputs": [],
   "source": [
    "load_ds_targets_test.shape"
   ]
  },
  {
   "cell_type": "code",
   "execution_count": null,
   "metadata": {
    "id": "GH03c1GPLuVO"
   },
   "outputs": [],
   "source": [
    "#import the preprosess dataframe into a new csv file\n",
    "\n",
    "loan_data_inputs_train.to_csv('loan_data_inputs_train.csv')\n",
    "load_ds_targets_train.to_csv('loan_data_targets_train.csv')\n",
    "\n",
    "loan_data_inputs_test.to_csv('loan_data_inputs_test.csv')\n",
    "load_ds_targets_test.to_csv('loan_data_targets_test.csv')"
   ]
  },
  {
   "cell_type": "code",
   "execution_count": null,
   "metadata": {
    "id": "1ss1NcZ0LuVO"
   },
   "outputs": [],
   "source": []
  }
 ],
 "metadata": {
  "colab": {
   "provenance": []
  },
  "kernelspec": {
   "display_name": "Python 3 (ipykernel)",
   "language": "python",
   "name": "python3"
  },
  "language_info": {
   "codemirror_mode": {
    "name": "ipython",
    "version": 3
   },
   "file_extension": ".py",
   "mimetype": "text/x-python",
   "name": "python",
   "nbconvert_exporter": "python",
   "pygments_lexer": "ipython3",
   "version": "3.10.9"
  }
 },
 "nbformat": 4,
 "nbformat_minor": 4
}
